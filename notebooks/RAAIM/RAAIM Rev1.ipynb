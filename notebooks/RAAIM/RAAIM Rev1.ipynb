{
 "cells": [
  {
   "cell_type": "markdown",
   "metadata": {},
   "source": [
    "# ............................................................................................................................................"
   ]
  },
  {
   "cell_type": "markdown",
   "metadata": {},
   "source": [
    "# Welcome to the RAAIM"
   ]
  },
  {
   "cell_type": "markdown",
   "metadata": {},
   "source": [
    "Use shift + enter to run a code block or move to the next text block.\n",
    "\n",
    "Run the next block of code to intialize the program.\n",
    "\n",
    "* If you run into a \"C:\\Users\\labuser\\AppData\\Local\\Enthought\\Canopy\\User\\lib\\site-packages\\pandas\\io\\excel.py:626 error\", simply ignore it! The program will still be able to run."
   ]
  },
  {
   "cell_type": "code",
   "execution_count": 5,
   "metadata": {
    "collapsed": false,
    "jupyter": {
     "outputs_hidden": false
    }
   },
   "outputs": [
    {
     "name": "stdout",
     "output_type": "stream",
     "text": [
      "RAAIM Ready for Analysis\n"
     ]
    }
   ],
   "source": [
    "import numpy as np\n",
    "import scipy\n",
    "from scipy import spatial\n",
    "import pandas as pd\n",
    "import matplotlib.pyplot as plt\n",
    "from pandas import Series, DataFrame\n",
    "import time as t\n",
    "from PIL import Image\n",
    "import sys\n",
    "import os, errno\n",
    "import matplotlib.patches as patches\n",
    "from pandas.plotting import autocorrelation_plot\n",
    "\n",
    "def mkdir_p(path):\n",
    "    try:\n",
    "        os.makedirs(path)\n",
    "    except OSError as exc: # Python >2.5\n",
    "        if exc.errno == errno.EEXIST and os.path.isdir(path):\n",
    "            pass\n",
    "        else: raise\n",
    "\n",
    "def load_RAAIM(folder, original):\n",
    "    data = pd.read_csv(r'%s/ROI normalized_edited.txt' %(folder), index_col= 'time(s)', sep='\\t')\n",
    "    print \"Loaded 'ROI normalized_edited.txt'\"\n",
    "    \n",
    "    roi_param = pd.read_csv(r'%s/Parameter List.txt' %(folder), index_col='ROI', sep='\\t')\n",
    "    print \"Loaded 'Parameter List.txt'\"\n",
    "    \n",
    "    im = Image.open(r'%s/rgb.png' %(folder)) #MUST BE RGB\n",
    "    print \"Loaded 'rgb.png'\"\n",
    "    \n",
    "    del data['Unnamed: 0'] #lc_pro outputs a weird blank column named this everytime. I don't know why, but it does. this line deletes it safely.\n",
    "    roi_loc, roi_x, roi_y, data = lcpro_param_parse(roi_param, data , original = original)\n",
    "    print \"Configured Data\"\n",
    "    \n",
    "    events_x, events_y = get_events(data = data, roi_param = roi_param)\n",
    "    print \"LCPro events extracted\"\n",
    "    \n",
    "    path = folder +\"/plots\"\n",
    "    mkdir_p(path)\n",
    "    print \"Made plots folder\"\n",
    "    \n",
    "    return data, roi_param, im, roi_loc, roi_x, roi_y, events_x, events_y\n",
    "    \n",
    "def lcpro_param_parse(roi_param, data , original):\n",
    "    '''\n",
    "    This function takes the Dataframe created by opening the 'Parameter List.txt' from LC_Pro. \n",
    "    '''\n",
    "    roi_loc = roi_param[['X', 'Y']]\n",
    "    roi_loc.drop_duplicates(inplace= True)\n",
    "    roi_x = roi_loc['X'].tolist()\n",
    "    roi_y = roi_loc['Y'].tolist()\n",
    "    new_index = []\n",
    "    for i in np.arange(len(roi_loc.index)):\n",
    "        foo = int(roi_loc.index[i])\n",
    "        new_index.append('Roi'+str(foo))\n",
    "    roi_loc = DataFrame({'x':roi_x, 'y':roi_y}, index= new_index)\n",
    "    \n",
    "    if len(data.columns) != len(new_index) and original == True:\n",
    "        sys.exit(\"The number of ROIs in the data file is not equal to the number of ROIs in the parameter file. That doesn't seem right, so I quit the function for you. Make sure you are loading the correct files, please.\")\n",
    "    \n",
    "    if original == False:\n",
    "        data = data[roi_loc.index]\n",
    "    \n",
    "    truth = (data.columns == roi_loc.index).tolist()\n",
    "    \n",
    "    if truth.count(True) != len(data.columns):\n",
    "        sys.exit(\"The names on data and roi_loc are not identical. This will surely break everything later, so I shut down the program. Try loading these files again.\")\n",
    "    \n",
    "    return roi_loc, roi_x, roi_y, data\n",
    "\n",
    "def get_events(data, roi_param):\n",
    "    '''\n",
    "    extract the events from the roi_parameter list. It returns them as a pair of dictionaries.\n",
    "    '''\n",
    "    new_index = []\n",
    "    for i in np.arange(len(roi_param.index)):\n",
    "        new_index.append('Roi'+str(roi_param.index[i]))\n",
    "    roi_events = DataFrame(index= new_index)\n",
    "    roi_events_time = roi_param['Time(s)'].tolist()\n",
    "    roi_events_amp = roi_param['Amp(F/F0)'].tolist()\n",
    "    roi_events['Time'] = roi_events_time\n",
    "    roi_events['Amp'] = roi_events_amp\n",
    "    \n",
    "    events_x = {}\n",
    "    events_y = {}\n",
    "    for label in data.columns:\n",
    "        events_x[label] = []\n",
    "        events_y[label] = []\n",
    "\n",
    "    for i in np.arange(len(roi_events.index)):\n",
    "        key = roi_events.index[i]\n",
    "        events_x[key].append(roi_events.iloc[i,0])\n",
    "        events_y[key].append(roi_events.iloc[i,1])\n",
    "        \n",
    "    return events_x, events_y\n",
    "\n",
    "def cross_correlation(data, r):\n",
    "    '''\n",
    "    This function calculated the cross correlation between each ROI pair and returns a dataframe with NxN+1  values.\n",
    "    it also includes a column that contains the number of friends each ROI has.\n",
    "    lastly, it creates a dictionary where the keys are the roi names and names of each roi's friends are stored as a list. by defalut, each roi is at least friends with itself.\n",
    "    this file can be saved out as a CSV later.\n",
    "    '''\n",
    "    \n",
    "    data_corr = data.corr()\n",
    "    ls = (data_corr[data_corr>r].count())\n",
    "    data_corr['Number of Friends'] = ls\n",
    "    cols = data_corr.columns.tolist()\n",
    "    cols = cols[-1:] + cols[:-1]\n",
    "    data_corr = data_corr[cols]\n",
    "    \n",
    "    friend_names = {}\n",
    "    temp_cor = data.corr()\n",
    "    correlation_summary = DataFrame()\n",
    "    \n",
    "    for label, column in temp_cor.iteritems():\n",
    "        friend_names[label] = column[column>r].index.tolist()\n",
    "        friends = column[column>r]\n",
    "        summary = friends.describe()\n",
    "        correlation_summary[label] = np.round(summary, 3)\n",
    "\n",
    "    return data_corr, friend_names, correlation_summary\n",
    "\n",
    "def distance_matrix(roi_x, roi_y , roi_loc , d):\n",
    "    '''\n",
    "    This function calculates the euclidean distance between each ROI pair. It returns a dataframe with these distances.\n",
    "    it also includes a column that contains the number of neighbors each ROI has.\n",
    "    the files can be saved out as a CSV later.\n",
    "    It also returns the list of the (x,y) tuple for each roi.\n",
    "    '''\n",
    "    loc_tup = []\n",
    "    for i in np.arange(len(roi_x)):\n",
    "        loc_tup.append((roi_x[i], roi_y[i]))\n",
    "    \n",
    "    roi_dist = DataFrame(data = (scipy.spatial.distance.cdist(loc_tup, loc_tup, 'euclidean')), index = roi_loc.index, columns= roi_loc.index)\n",
    "    roi_dist_f = roi_dist\n",
    "    \n",
    "    neighbor_names = {}\n",
    "    distance_summary = DataFrame()\n",
    "    \n",
    "    for label, column in roi_dist.iteritems():\n",
    "        neighbor_names[label] = column[column<=d].index.tolist()\n",
    "        neighbors = column[column<=d]\n",
    "        summary = neighbors.describe()\n",
    "        distance_summary[label] = np.round(summary, 3)\n",
    "\n",
    "    ls = (roi_dist[roi_dist<=d].count())\n",
    "    roi_dist_f['Number of Neighbors'] = ls\n",
    "    cols = roi_dist_f.columns.tolist()\n",
    "    cols = cols[-1:] + cols[:-1]\n",
    "    roi_dist_f = roi_dist_f[cols]\n",
    "    \n",
    "    return roi_dist_f, loc_tup, neighbor_names, distance_summary\n",
    "\n",
    "def friend_dist(data_corr, roi_dist, friend_names, r, d):\n",
    "    '''\n",
    "    calculates distance information about each roi's friends.\n",
    "    returns a dataframe with Distance Sum, number of friends, and mean distance. mean dist = distance sum/number of fiends\n",
    "    '''\n",
    "    roi_friend_dist = DataFrame(index = data_corr.index)\n",
    "    #roi_friend_dist['Distance sum'] = (roi_dist[data_corr>r].sum())\n",
    "    roi_friend_dist['Number of Friends'] = (data_corr[data_corr>r].count())\n",
    "    roi_friend_dist['Mean Dist'] = (roi_dist[data_corr>r].mean())\n",
    "    roi_friend_dist['Std Dist'] = (roi_dist[data_corr>r].std())\n",
    "    \n",
    "    perc_friends_are_neighbors = Series(index = roi_dist.index) #empty series\n",
    "    for key in friend_names:\n",
    "        temp_series = roi_dist.loc[key, friend_names[key]]\n",
    "        count = temp_series[temp_series<=d].count()\n",
    "        perc_friends_are_neighbors[key] = count\n",
    "    roi_friend_dist['Number of Friends that are Neighbors'] = perc_friends_are_neighbors\n",
    "    roi_friend_dist['Percentage of Friends that are Neighbors'] = (roi_friend_dist['Number of Friends that are Neighbors']/roi_friend_dist['Number of Friends'])*100\n",
    "    \n",
    "    return roi_friend_dist\n",
    "\n",
    "def neighbor_corr(roi_dist, data_corr, neighbor_names, r, d):\n",
    "    '''\n",
    "    Calculates correlation information about each roi's neighbors.\n",
    "    returns dataframe with corr of neighbors, corr of neighbors that are friends, percent of neighbors that are friends\n",
    "    '''\n",
    "    \n",
    "    roi_neighbor_corr = DataFrame(index = roi_dist.index)\n",
    "    roi_neighbor_corr['Number of Neighbors'] = (roi_dist[roi_dist<=d].count())\n",
    "    roi_neighbor_corr['Mean Correlation'] = (data_corr[roi_dist<=d].mean())\n",
    "    roi_neighbor_corr['Std Correlation'] = (data_corr[roi_dist<=d].std())\n",
    "    \n",
    "    perc_neighbors_are_friends = Series(index = roi_dist.index)\n",
    "    for key in neighbor_names:\n",
    "        temp_series = data_corr.loc[key, neighbor_names[key]]\n",
    "        count = temp_series[temp_series>r].count()\n",
    "        perc_neighbors_are_friends[key] = count\n",
    "    roi_neighbor_corr['Number of Neighbors that are Friends'] = perc_neighbors_are_friends\n",
    "    roi_neighbor_corr['Percentage of Neighbors that are Friends'] = (roi_neighbor_corr['Number of Neighbors that are Friends']/roi_neighbor_corr['Number of Neighbors'])*100\n",
    "    \n",
    "    return roi_neighbor_corr\n",
    "\n",
    "def onpick(event):\n",
    "    '''\n",
    "    allows us to click on an roi and print in the notebook it's name.\n",
    "    '''\n",
    "    ind = event.ind\n",
    "    ind = ind[0]\n",
    "    print('Roi selected =', roi_loc.index[ind])\n",
    "    \n",
    "def all_roi_2d(roi_loc , im , s=6):\n",
    "    '''\n",
    "    makes a scatter plot of each roi overlayed on an uploaded image. when you click on an roi, it prints the name of the roi\n",
    "    for some reason, it takes two clicks to start printing. Not sure why\n",
    "    '''\n",
    "    fig, ax = plt.subplots()\n",
    "    col = ax.scatter(roi_loc.x, roi_loc.y, s=s, edgecolor = 'k', linewidth ='1',color = 'y', marker =\"o\", alpha = 0.75, picker = True)\n",
    "    fig.canvas.mpl_connect('pick_event', onpick)\n",
    "\n",
    "    width, height = im.size\n",
    "    plt.xlim(xmin=0, xmax=width)\n",
    "    plt.ylim(ymin = 0, ymax = height)\n",
    "    plt.title('All LC_Pro ROIs')\n",
    "    plt.imshow(im)\n",
    "    plt.show()\n",
    "    \n",
    "def friend_roi_2d(data_corr , friend_names, roi_loc, r, d, roi, just_friends, s = 6):\n",
    "    temp_series_list = data_corr[roi].tolist()\n",
    "    temp_series = data_corr[roi]\n",
    "    temp_ls = temp_series[friend_names[roi]]\n",
    "\n",
    "    fig, ax = plt.subplots()\n",
    "    if just_friends == False:\n",
    "        plt.scatter(roi_loc.x, roi_loc.y, s = s, label = 'other objects', edgecolor = 'k', linewidth ='1',c= temp_series_list,cmap=plt.cm.spectral , marker =\"o\", alpha = 1)\n",
    "        plt.colorbar()\n",
    "        plt.clim(-1,1)\n",
    "\n",
    "        \n",
    "    if just_friends == True:    \n",
    "        plt.scatter(roi_loc.x, roi_loc.y, s = s, label = 'other objects', edgecolor = 'k', linewidth ='1',color= 'w' , marker =\"o\", alpha = 0.25)\n",
    "        plt.scatter(roi_loc.x[friend_names[roi]], roi_loc.y[friend_names[roi]], label = 'Friends', s=s, edgecolor = 'k', linewidth ='1',c =temp_ls, cmap=plt.cm.spectral , marker =\"o\", alpha = 1)\n",
    "        plt.colorbar()\n",
    "        plt.clim(r,1)\n",
    "        \n",
    "    plt.scatter(roi_loc.x[roi], roi_loc.y[roi], label = roi, s=(s+25), edgecolor = 'k', marker =\"o\", alpha = 1, color = 'w')\n",
    "    neighborhood = patches.Circle(xy = (roi_loc.x[roi], roi_loc.y[roi]), radius=d, fill = False, color= 'w', lw = 1, ls = 'solid')\n",
    "    ax.add_artist(neighborhood)\n",
    "    \n",
    "    width, height = im.size\n",
    "    plt.xlim(xmin=0, xmax=width)\n",
    "    plt.ylim(ymin = 0, ymax = height)\n",
    "    plt.title(roi)\n",
    "    plt.imshow(im)\n",
    "    #plt.legend(loc = 'center left')\n",
    "\n",
    "    #plt.show()\n",
    "    plt.savefig(r'%s/friend_2d(r=%s)(d=%s).png' %(folder,r,d))\n",
    "    \n",
    "def all_roi_line_pdfs(dataframe, num_rois, ymin, ymax, events_x, events_y, folder):\n",
    "    \n",
    "    for r in np.arange(num_rois):\n",
    "        \n",
    "        plt.figure()\n",
    "        plt.xlabel('Time (s)')\n",
    "        plt.ylabel('Intensity')\n",
    "        plt.title(dataframe.columns[r])\n",
    "        plt.ylim(ymin = ymin, ymax = ymax)\n",
    "        plt.xlim(xmin= dataframe.index[0], xmax = dataframe.index[-1])\n",
    "        plt.plot(dataframe.index, dataframe.ix[:,r], color = [np.random.random(), np.random.random(), np.random.random()])\n",
    "        plt.plot(events_x[dataframe.columns[r]], events_y[dataframe.columns[r]],  marker = \"^\", color=\"y\", linestyle= \"None\")\n",
    "        \n",
    "        plt.savefig(r'%s/plots/%s.pdf' %(folder,dataframe.columns[r]))\n",
    "        plt.close()\n",
    "        \n",
    "def roi_line_plot(roi, dataframe, events_x, events_y, ymin, ymax):\n",
    "    \n",
    "    plt.figure()\n",
    "    plt.xlabel('Time (s)')\n",
    "    plt.ylabel('Intensity')\n",
    "    plt.title(roi)\n",
    "    plt.ylim(ymin = ymin, ymax = ymax)\n",
    "    plt.xlim(xmin= dataframe.index[0], xmax = dataframe.index[-1])\n",
    "    plt.plot(dataframe.index, dataframe.ix[:,roi], color = 'k')\n",
    "    plt.plot(events_x[roi], events_y[roi],  marker = \"^\", color=\"y\", linestyle= \"None\")\n",
    "\n",
    "    plt.show()\n",
    "    \n",
    "    \n",
    "def friend_roi_line(data, friend_names, roi, folder):\n",
    "    plt.figure()\n",
    "    plt.plot(data.index, data[friend_names[roi]], color = '#FF6600')\n",
    "    plt.plot(data.index, data[roi], color = 'k',)\n",
    "    plt.ylim(ymin = 0, ymax = max(data.max()))\n",
    "    plt.title(roi)\n",
    "\n",
    "    #plt.show()\n",
    "    plt.savefig(r'%s/friend_line(r=%s)(d=%s).png' %(folder,r,d))\n",
    "    \n",
    "def friend_roi_line_average(data, friend_names, roi):\n",
    "    roi_average = data[friend_names[roi]].mean(1)\n",
    "    roi_std = data[friend_names[roi]].std(1)\n",
    "    print \"the average of the std of each point is\", round(np.mean(roi_std),4), \"for\", roi, \"and its friends.\"\n",
    "\n",
    "    plt.figure()\n",
    "    plt.plot(data[friend_names[roi]].mean(1))\n",
    "    plt.ylim(ymin = 0, ymax = max(data.max()))\n",
    "    plt.title('Average of '+roi+' and its friends')\n",
    "    plt.show()\n",
    "\n",
    "def boxandwhiskers(roi, flavor,data_corr, roi_dist, r, d):\n",
    "    '''\n",
    "    Returns the box and whiskers plot of a named ROI's friends or neighbors.\n",
    "    \n",
    "    '''\n",
    "    if flavor == 'corr':\n",
    "        temp_series = data_corr[roi]\n",
    "        temp_series = temp_series[temp_series>r]\n",
    "        plt.boxplot(temp_series)\n",
    "        plt.ylim(ymin = r*0.85, ymax = 1.1)\n",
    "        plt.xticks(np.arange(1),roi)\n",
    "        plt.title(roi)\n",
    "        plt.text(0.55,r,temp_series.describe())\n",
    "        plt.ylabel('Correlation (r)')\n",
    "        plt.show()\n",
    "        \n",
    "    \n",
    "    elif flavor == 'dist':\n",
    "        temp_series = roi_dist[roi]\n",
    "        temp_series = temp_series[temp_series<=d]\n",
    "        plt.boxplot(temp_series)\n",
    "        plt.ylim(ymin = -3, ymax = d*1.25)\n",
    "        plt.xticks(np.arange(1),roi)\n",
    "        plt.title(roi)\n",
    "        plt.text(0.55,d*0.5,temp_series.describe())\n",
    "        plt.ylabel('Distance (pixels)')\n",
    "        plt.show()\n",
    "        \n",
    "        \n",
    "    else:\n",
    "        print \"ERROR: flavor must be set to either 'corr' or 'dist'.\"        \n",
    "        \n",
    "print \"RAAIM Ready for Analysis\""
   ]
  },
  {
   "cell_type": "markdown",
   "metadata": {},
   "source": [
    "# I. Begin User Input"
   ]
  },
  {
   "cell_type": "markdown",
   "metadata": {},
   "source": [
    "This whole notebook is especially formated for LC_pro outputs. This means that the load functions and wrappers expect that certain columns are in exactly the right locations and labels are formatted a certain way. This author does not expect other types of files to be handled properly (as in: will probably fail). "
   ]
  },
  {
   "cell_type": "markdown",
   "metadata": {},
   "source": [
    "## ------------------------------- An Important note about saving!  -------------------------------"
   ]
  },
  {
   "cell_type": "markdown",
   "metadata": {},
   "source": [
    "This notebook is brutal and will mercilessly **save over exsisting files of the same name without warning!**\n",
    "\n",
    "You can manually change the name of the saved file one way: \n",
    "\n",
    "Change part of the text portion of the VARIBLE.to_csv(r'%s/**OBJECT**.csv' %(folder)). you can change **OBJECT** to whatever you want. go nuts. \n",
    "\n",
    "Remember, only you can keep all your files organized and named properly. I'm just here to help. Use a naming convention that is simple and easy to understand/remember. You can totally move ALL of these files to anywhere once you've run this analysis. It won't break stuff."
   ]
  },
  {
   "cell_type": "markdown",
   "metadata": {},
   "source": [
    "## ------------------------------------------------------------------------------------------------------"
   ]
  },
  {
   "cell_type": "markdown",
   "metadata": {},
   "source": [
    "## A. Declare Your Folder"
   ]
  },
  {
   "cell_type": "markdown",
   "metadata": {},
   "source": [
    "Change the following string below to the location of the folder where your data is. You will also save all of your data in this folder. Must be full path name and not end in a /.\n",
    "\n",
    "**Example:**\n",
    "\n",
    "\"/Users/abigaildobyns/Desktop/RAAIM\""
   ]
  },
  {
   "cell_type": "code",
   "execution_count": 38,
   "metadata": {
    "collapsed": false,
    "jupyter": {
     "outputs_hidden": false
    }
   },
   "outputs": [
    {
     "name": "stdout",
     "output_type": "stream",
     "text": [
      "Loaded 'ROI normalized_edited.txt'\n",
      "Loaded 'Parameter List.txt'\n",
      "Loaded 'rgb.png'\n",
      "Configured Data\n",
      "LCPro events extracted\n",
      "Made plots folder\n"
     ]
    },
    {
     "name": "stderr",
     "output_type": "stream",
     "text": [
      "/Users/devinwilson/anaconda3/envs/RAAIM/lib/python2.7/site-packages/ipykernel_launcher.py:50: SettingWithCopyWarning: \n",
      "A value is trying to be set on a copy of a slice from a DataFrame\n",
      "\n",
      "See the caveats in the documentation: http://pandas.pydata.org/pandas-docs/stable/indexing.html#indexing-view-versus-copy\n"
     ]
    },
    {
     "data": {
      "text/html": [
       "<div>\n",
       "<style scoped>\n",
       "    .dataframe tbody tr th:only-of-type {\n",
       "        vertical-align: middle;\n",
       "    }\n",
       "\n",
       "    .dataframe tbody tr th {\n",
       "        vertical-align: top;\n",
       "    }\n",
       "\n",
       "    .dataframe thead th {\n",
       "        text-align: right;\n",
       "    }\n",
       "</style>\n",
       "<table border=\"1\" class=\"dataframe\">\n",
       "  <thead>\n",
       "    <tr style=\"text-align: right;\">\n",
       "      <th></th>\n",
       "      <th>Number of Friends</th>\n",
       "      <th>Mean Dist</th>\n",
       "      <th>Percentage of Friends that are Neighbors</th>\n",
       "    </tr>\n",
       "  </thead>\n",
       "  <tbody>\n",
       "    <tr>\n",
       "      <th>count</th>\n",
       "      <td>32.000000</td>\n",
       "      <td>32.000000</td>\n",
       "      <td>32.000000</td>\n",
       "    </tr>\n",
       "    <tr>\n",
       "      <th>mean</th>\n",
       "      <td>7.312500</td>\n",
       "      <td>109.469739</td>\n",
       "      <td>58.873002</td>\n",
       "    </tr>\n",
       "    <tr>\n",
       "      <th>std</th>\n",
       "      <td>5.012484</td>\n",
       "      <td>77.139566</td>\n",
       "      <td>33.541475</td>\n",
       "    </tr>\n",
       "    <tr>\n",
       "      <th>min</th>\n",
       "      <td>1.000000</td>\n",
       "      <td>0.000000</td>\n",
       "      <td>7.142857</td>\n",
       "    </tr>\n",
       "    <tr>\n",
       "      <th>25%</th>\n",
       "      <td>2.000000</td>\n",
       "      <td>40.133585</td>\n",
       "      <td>28.246753</td>\n",
       "    </tr>\n",
       "    <tr>\n",
       "      <th>50%</th>\n",
       "      <td>6.500000</td>\n",
       "      <td>121.791521</td>\n",
       "      <td>55.844156</td>\n",
       "    </tr>\n",
       "    <tr>\n",
       "      <th>75%</th>\n",
       "      <td>12.250000</td>\n",
       "      <td>151.753690</td>\n",
       "      <td>100.000000</td>\n",
       "    </tr>\n",
       "    <tr>\n",
       "      <th>max</th>\n",
       "      <td>14.000000</td>\n",
       "      <td>271.889154</td>\n",
       "      <td>100.000000</td>\n",
       "    </tr>\n",
       "  </tbody>\n",
       "</table>\n",
       "</div>"
      ],
      "text/plain": [
       "       Number of Friends   Mean Dist  Percentage of Friends that are Neighbors\n",
       "count          32.000000   32.000000                                 32.000000\n",
       "mean            7.312500  109.469739                                 58.873002\n",
       "std             5.012484   77.139566                                 33.541475\n",
       "min             1.000000    0.000000                                  7.142857\n",
       "25%             2.000000   40.133585                                 28.246753\n",
       "50%             6.500000  121.791521                                 55.844156\n",
       "75%            12.250000  151.753690                                100.000000\n",
       "max            14.000000  271.889154                                100.000000"
      ]
     },
     "execution_count": 38,
     "metadata": {},
     "output_type": "execute_result"
    },
    {
     "data": {
      "image/png": "[encoded data removed]",
      "text/plain": [
       "<Figure size 432x288 with 1 Axes>"
      ]
     },
     "metadata": {
      "needs_background": "light"
     },
     "output_type": "display_data"
    }
   ],
   "source": [
    "folder = r'/Users/devinwilson/Documents/lab_docs/data/MCA_FILES/FH_data/2019-10-14/FH2_MCA-Ctrl/Ctrl-2_2019_10_14__15_35_38/LCPro_c-d-r-Ctrl-2_2019_10_14__15_35_38/c-d-r-Ctrl-2_2019_10_14__15_35_38.tif Output'\n",
    "data, roi_param, im, roi_loc, roi_x, roi_y, events_x, events_y = load_RAAIM(folder=folder, original=False)\n",
    "roi = 'Roi114'\n",
    "\n",
    "r = .8 #set r value, must be -1<= r <=1\n",
    "d = 100 # set the maximum distance from an ROI that is the threshold for neighborhood\n",
    "data_corr, friend_names, correlation_summary = cross_correlation(data, r)\n",
    "data_corr.to_csv(r'%s/xcor(r=%s)(d=%s).csv' %(folder,r,d))\n",
    "correlation_summary.to_csv(r'%s/xcor_summary(r=%s)(d=%s).csv'%(folder,r,d))\n",
    "roi_dist, loc_tup, neighbor_names, distance_summary = distance_matrix(roi_x, roi_y , roi_loc , d)\n",
    "roi_dist.to_csv(r'%s/dist_matrix(r=%s)(d=%s).csv' %(folder,r,d))\n",
    "distance_summary.to_csv(r'%s/dist_summary(r=%s)(d=%s).csv' %(folder,r,d))\n",
    "friend_distances = friend_dist(data_corr, roi_dist, friend_names, r, d)\n",
    "friend_dist_sum = friend_distances.describe()\n",
    "friend_distances.to_csv(r'%s/friend_distances(r=%s)(d=%s).csv' %(folder,r,d))\n",
    "friend_dist_sum.to_csv(r'%s/friend_distances_summary(r=%s)(d=%s).csv' %(folder,r,d))\n",
    "neighbor_correlation = neighbor_corr(roi_dist, data_corr, neighbor_names, r, d)\n",
    "neighbor_corr_sum = neighbor_correlation.describe()\n",
    "neighbor_correlation.to_csv(r'%s/neighbor_correlation(r=%s)(d=%s).csv' %(folder,r,d))\n",
    "neighbor_corr_sum.to_csv(r'%s/neighbor_correlation_summary(r=%s)(d=%s).csv' %(folder,r,d))\n",
    "\n",
    "friend_roi_line(data, friend_names, roi = roi, folder = folder)\n",
    "#fig1.savefig(r'%s/friend_line.png' %(folder))\n",
    "#friend_roi_2d(data_corr , friend_names, roi_loc, r, d, roi = roi, just_friends = True, s = 100)\n",
    "#fig2.savefig(r'%s/friend_2d.png' %(folder))\n",
    "\n",
    "#friend_roi_line.to_png(r'%s/line_plot_with_friends.png' %(folder))\n",
    "\n",
    "#all_roi_line_pdfs(data, num_rois = len(data.columns), ymin = 0, ymax=max(data.max()), events_x = events_x, events_y = events_y, folder = folder)\n",
    "\n",
    "friend_dist_sum[['Number of Friends', 'Mean Dist', 'Percentage of Friends that are Neighbors']]\n",
    "\n",
    "#neighbor_corr_sum[['Number of Neighbors', 'Percentage of Neighbors that are Friends']]"
   ]
  },
  {
   "cell_type": "markdown",
   "metadata": {},
   "source": [
    "## B. Load"
   ]
  },
  {
   "cell_type": "markdown",
   "metadata": {},
   "source": [
    "Use the following block below to load your data. There should be three files in this folder:\n",
    "\n",
    "1. 'ROI normalized.txt'\n",
    "\n",
    "2. 'Parameter List_edit.txt'\n",
    "\n",
    "3. 'rbg.png'\n",
    "\n",
    "There should be no headers (other than column names) in the text files. the text files can be either .txt or .csv. if you have problems loading them, make sure that the data is not corrupted, it is in the correct file type, the delimiter is correct, and the file path is correct. \n",
    "\n",
    "the image still can be just a random frame or the averaged or compressed stack. it must be convered to RGB and saved as .png."
   ]
  },
  {
   "cell_type": "markdown",
   "metadata": {},
   "source": [
    "###### if you get a *SettingWithCopyWarning*,  **Don't worry, that's normal**. I know that you are setting with a copy. It's on purpose"
   ]
  },
  {
   "cell_type": "code",
   "execution_count": 39,
   "metadata": {
    "collapsed": false,
    "jupyter": {
     "outputs_hidden": false
    }
   },
   "outputs": [
    {
     "name": "stdout",
     "output_type": "stream",
     "text": [
      "Loaded 'ROI normalized_edited.txt'\n",
      "Loaded 'Parameter List.txt'\n",
      "Loaded 'rgb.png'\n",
      "Configured Data\n",
      "LCPro events extracted\n",
      "Made plots folder\n"
     ]
    },
    {
     "name": "stderr",
     "output_type": "stream",
     "text": [
      "/Users/devinwilson/anaconda3/envs/RAAIM/lib/python2.7/site-packages/ipykernel_launcher.py:50: SettingWithCopyWarning: \n",
      "A value is trying to be set on a copy of a slice from a DataFrame\n",
      "\n",
      "See the caveats in the documentation: http://pandas.pydata.org/pandas-docs/stable/indexing.html#indexing-view-versus-copy\n"
     ]
    }
   ],
   "source": [
    "data, roi_param, im, roi_loc, roi_x, roi_y, events_x, events_y = load_RAAIM(folder=folder, original=False)"
   ]
  },
  {
   "cell_type": "markdown",
   "metadata": {},
   "source": [
    "###### Use the two cells below to check that the data and roi_loc dataframes look as expected."
   ]
  },
  {
   "cell_type": "code",
   "execution_count": 40,
   "metadata": {
    "collapsed": false,
    "jupyter": {
     "outputs_hidden": false
    }
   },
   "outputs": [
    {
     "data": {
      "text/html": [
       "<div>\n",
       "<style scoped>\n",
       "    .dataframe tbody tr th:only-of-type {\n",
       "        vertical-align: middle;\n",
       "    }\n",
       "\n",
       "    .dataframe tbody tr th {\n",
       "        vertical-align: top;\n",
       "    }\n",
       "\n",
       "    .dataframe thead th {\n",
       "        text-align: right;\n",
       "    }\n",
       "</style>\n",
       "<table border=\"1\" class=\"dataframe\">\n",
       "  <thead>\n",
       "    <tr style=\"text-align: right;\">\n",
       "      <th></th>\n",
       "      <th>Roi5</th>\n",
       "      <th>Roi6</th>\n",
       "      <th>Roi15</th>\n",
       "      <th>Roi19</th>\n",
       "      <th>Roi27</th>\n",
       "      <th>Roi33</th>\n",
       "      <th>Roi34</th>\n",
       "      <th>Roi38</th>\n",
       "      <th>Roi40</th>\n",
       "      <th>Roi41</th>\n",
       "      <th>...</th>\n",
       "      <th>Roi99</th>\n",
       "      <th>Roi101</th>\n",
       "      <th>Roi102</th>\n",
       "      <th>Roi104</th>\n",
       "      <th>Roi105</th>\n",
       "      <th>Roi106</th>\n",
       "      <th>Roi109</th>\n",
       "      <th>Roi110</th>\n",
       "      <th>Roi114</th>\n",
       "      <th>Roi116</th>\n",
       "    </tr>\n",
       "    <tr>\n",
       "      <th>time(s)</th>\n",
       "      <th></th>\n",
       "      <th></th>\n",
       "      <th></th>\n",
       "      <th></th>\n",
       "      <th></th>\n",
       "      <th></th>\n",
       "      <th></th>\n",
       "      <th></th>\n",
       "      <th></th>\n",
       "      <th></th>\n",
       "      <th></th>\n",
       "      <th></th>\n",
       "      <th></th>\n",
       "      <th></th>\n",
       "      <th></th>\n",
       "      <th></th>\n",
       "      <th></th>\n",
       "      <th></th>\n",
       "      <th></th>\n",
       "      <th></th>\n",
       "      <th></th>\n",
       "    </tr>\n",
       "  </thead>\n",
       "  <tbody>\n",
       "    <tr>\n",
       "      <th>0.78125</th>\n",
       "      <td>2.620224</td>\n",
       "      <td>0.251947</td>\n",
       "      <td>0.211130</td>\n",
       "      <td>0.513077</td>\n",
       "      <td>2.125092</td>\n",
       "      <td>0.376865</td>\n",
       "      <td>0.197267</td>\n",
       "      <td>0.302833</td>\n",
       "      <td>0.969093</td>\n",
       "      <td>0.210966</td>\n",
       "      <td>...</td>\n",
       "      <td>0.338571</td>\n",
       "      <td>0.509335</td>\n",
       "      <td>0.339280</td>\n",
       "      <td>0.532168</td>\n",
       "      <td>0.522212</td>\n",
       "      <td>0.264232</td>\n",
       "      <td>0.327995</td>\n",
       "      <td>0.326493</td>\n",
       "      <td>0.693070</td>\n",
       "      <td>0.454631</td>\n",
       "    </tr>\n",
       "    <tr>\n",
       "      <th>1.56250</th>\n",
       "      <td>2.741485</td>\n",
       "      <td>0.238511</td>\n",
       "      <td>0.217939</td>\n",
       "      <td>0.498997</td>\n",
       "      <td>2.238903</td>\n",
       "      <td>0.361619</td>\n",
       "      <td>0.181952</td>\n",
       "      <td>0.272411</td>\n",
       "      <td>1.006831</td>\n",
       "      <td>0.178539</td>\n",
       "      <td>...</td>\n",
       "      <td>0.348793</td>\n",
       "      <td>0.454160</td>\n",
       "      <td>0.264723</td>\n",
       "      <td>0.545290</td>\n",
       "      <td>0.456916</td>\n",
       "      <td>0.265985</td>\n",
       "      <td>0.332409</td>\n",
       "      <td>0.319855</td>\n",
       "      <td>0.720959</td>\n",
       "      <td>0.418662</td>\n",
       "    </tr>\n",
       "    <tr>\n",
       "      <th>2.34375</th>\n",
       "      <td>2.351116</td>\n",
       "      <td>0.234667</td>\n",
       "      <td>0.234119</td>\n",
       "      <td>0.515198</td>\n",
       "      <td>2.145107</td>\n",
       "      <td>0.361207</td>\n",
       "      <td>0.209928</td>\n",
       "      <td>0.264018</td>\n",
       "      <td>0.874238</td>\n",
       "      <td>0.181455</td>\n",
       "      <td>...</td>\n",
       "      <td>0.369388</td>\n",
       "      <td>0.483755</td>\n",
       "      <td>0.362001</td>\n",
       "      <td>0.529739</td>\n",
       "      <td>0.543271</td>\n",
       "      <td>0.202455</td>\n",
       "      <td>0.308904</td>\n",
       "      <td>0.245148</td>\n",
       "      <td>0.804370</td>\n",
       "      <td>0.406812</td>\n",
       "    </tr>\n",
       "    <tr>\n",
       "      <th>3.12500</th>\n",
       "      <td>2.507655</td>\n",
       "      <td>0.251759</td>\n",
       "      <td>0.233245</td>\n",
       "      <td>0.442483</td>\n",
       "      <td>2.253231</td>\n",
       "      <td>0.390800</td>\n",
       "      <td>0.190623</td>\n",
       "      <td>0.272600</td>\n",
       "      <td>1.032233</td>\n",
       "      <td>0.169756</td>\n",
       "      <td>...</td>\n",
       "      <td>0.376051</td>\n",
       "      <td>0.520010</td>\n",
       "      <td>0.330814</td>\n",
       "      <td>0.516245</td>\n",
       "      <td>0.563739</td>\n",
       "      <td>0.258694</td>\n",
       "      <td>0.289299</td>\n",
       "      <td>0.292965</td>\n",
       "      <td>0.709514</td>\n",
       "      <td>0.490479</td>\n",
       "    </tr>\n",
       "    <tr>\n",
       "      <th>3.90625</th>\n",
       "      <td>2.236394</td>\n",
       "      <td>0.261216</td>\n",
       "      <td>0.226433</td>\n",
       "      <td>0.508572</td>\n",
       "      <td>2.459208</td>\n",
       "      <td>0.356694</td>\n",
       "      <td>0.215344</td>\n",
       "      <td>0.276345</td>\n",
       "      <td>1.025055</td>\n",
       "      <td>0.191520</td>\n",
       "      <td>...</td>\n",
       "      <td>0.337904</td>\n",
       "      <td>0.484117</td>\n",
       "      <td>0.305443</td>\n",
       "      <td>0.539754</td>\n",
       "      <td>0.597522</td>\n",
       "      <td>0.258295</td>\n",
       "      <td>0.291637</td>\n",
       "      <td>0.268189</td>\n",
       "      <td>0.752082</td>\n",
       "      <td>0.399221</td>\n",
       "    </tr>\n",
       "  </tbody>\n",
       "</table>\n",
       "<p>5 rows × 32 columns</p>\n",
       "</div>"
      ],
      "text/plain": [
       "             Roi5      Roi6     Roi15     Roi19     Roi27     Roi33     Roi34  \\\n",
       "time(s)                                                                         \n",
       "0.78125  2.620224  0.251947  0.211130  0.513077  2.125092  0.376865  0.197267   \n",
       "1.56250  2.741485  0.238511  0.217939  0.498997  2.238903  0.361619  0.181952   \n",
       "2.34375  2.351116  0.234667  0.234119  0.515198  2.145107  0.361207  0.209928   \n",
       "3.12500  2.507655  0.251759  0.233245  0.442483  2.253231  0.390800  0.190623   \n",
       "3.90625  2.236394  0.261216  0.226433  0.508572  2.459208  0.356694  0.215344   \n",
       "\n",
       "            Roi38     Roi40     Roi41  ...     Roi99    Roi101    Roi102  \\\n",
       "time(s)                                ...                                 \n",
       "0.78125  0.302833  0.969093  0.210966  ...  0.338571  0.509335  0.339280   \n",
       "1.56250  0.272411  1.006831  0.178539  ...  0.348793  0.454160  0.264723   \n",
       "2.34375  0.264018  0.874238  0.181455  ...  0.369388  0.483755  0.362001   \n",
       "3.12500  0.272600  1.032233  0.169756  ...  0.376051  0.520010  0.330814   \n",
       "3.90625  0.276345  1.025055  0.191520  ...  0.337904  0.484117  0.305443   \n",
       "\n",
       "           Roi104    Roi105    Roi106    Roi109    Roi110    Roi114    Roi116  \n",
       "time(s)                                                                        \n",
       "0.78125  0.532168  0.522212  0.264232  0.327995  0.326493  0.693070  0.454631  \n",
       "1.56250  0.545290  0.456916  0.265985  0.332409  0.319855  0.720959  0.418662  \n",
       "2.34375  0.529739  0.543271  0.202455  0.308904  0.245148  0.804370  0.406812  \n",
       "3.12500  0.516245  0.563739  0.258694  0.289299  0.292965  0.709514  0.490479  \n",
       "3.90625  0.539754  0.597522  0.258295  0.291637  0.268189  0.752082  0.399221  \n",
       "\n",
       "[5 rows x 32 columns]"
      ]
     },
     "execution_count": 40,
     "metadata": {},
     "output_type": "execute_result"
    }
   ],
   "source": [
    "data.head()"
   ]
  },
  {
   "cell_type": "code",
   "execution_count": 41,
   "metadata": {
    "collapsed": false,
    "jupyter": {
     "outputs_hidden": false
    }
   },
   "outputs": [
    {
     "data": {
      "text/html": [
       "<div>\n",
       "<style scoped>\n",
       "    .dataframe tbody tr th:only-of-type {\n",
       "        vertical-align: middle;\n",
       "    }\n",
       "\n",
       "    .dataframe tbody tr th {\n",
       "        vertical-align: top;\n",
       "    }\n",
       "\n",
       "    .dataframe thead th {\n",
       "        text-align: right;\n",
       "    }\n",
       "</style>\n",
       "<table border=\"1\" class=\"dataframe\">\n",
       "  <thead>\n",
       "    <tr style=\"text-align: right;\">\n",
       "      <th></th>\n",
       "      <th>x</th>\n",
       "      <th>y</th>\n",
       "    </tr>\n",
       "  </thead>\n",
       "  <tbody>\n",
       "    <tr>\n",
       "      <th>Roi5</th>\n",
       "      <td>348</td>\n",
       "      <td>46</td>\n",
       "    </tr>\n",
       "    <tr>\n",
       "      <th>Roi6</th>\n",
       "      <td>267</td>\n",
       "      <td>49</td>\n",
       "    </tr>\n",
       "    <tr>\n",
       "      <th>Roi15</th>\n",
       "      <td>410</td>\n",
       "      <td>31</td>\n",
       "    </tr>\n",
       "    <tr>\n",
       "      <th>Roi19</th>\n",
       "      <td>364</td>\n",
       "      <td>88</td>\n",
       "    </tr>\n",
       "    <tr>\n",
       "      <th>Roi27</th>\n",
       "      <td>19</td>\n",
       "      <td>34</td>\n",
       "    </tr>\n",
       "  </tbody>\n",
       "</table>\n",
       "</div>"
      ],
      "text/plain": [
       "         x   y\n",
       "Roi5   348  46\n",
       "Roi6   267  49\n",
       "Roi15  410  31\n",
       "Roi19  364  88\n",
       "Roi27   19  34"
      ]
     },
     "execution_count": 41,
     "metadata": {},
     "output_type": "execute_result"
    }
   ],
   "source": [
    "roi_loc.head()"
   ]
  },
  {
   "cell_type": "markdown",
   "metadata": {},
   "source": [
    "# II. Analysis"
   ]
  },
  {
   "cell_type": "markdown",
   "metadata": {},
   "source": [
    "## A. Cross Correlation Matrix (friends)"
   ]
  },
  {
   "cell_type": "markdown",
   "metadata": {},
   "source": [
    "Set your r value to your threshold for significant cross correlation. This value will be used is all later calculation. If you change it, you must rerun ALL cells following to update the change."
   ]
  },
  {
   "cell_type": "code",
   "execution_count": 42,
   "metadata": {
    "collapsed": false,
    "jupyter": {
     "outputs_hidden": false
    }
   },
   "outputs": [],
   "source": [
    "r = 0.8 #set r value, must be -1<= r <=1"
   ]
  },
  {
   "cell_type": "code",
   "execution_count": 43,
   "metadata": {
    "collapsed": false,
    "jupyter": {
     "outputs_hidden": false
    }
   },
   "outputs": [
    {
     "data": {
      "text/html": [
       "<div>\n",
       "<style scoped>\n",
       "    .dataframe tbody tr th:only-of-type {\n",
       "        vertical-align: middle;\n",
       "    }\n",
       "\n",
       "    .dataframe tbody tr th {\n",
       "        vertical-align: top;\n",
       "    }\n",
       "\n",
       "    .dataframe thead th {\n",
       "        text-align: right;\n",
       "    }\n",
       "</style>\n",
       "<table border=\"1\" class=\"dataframe\">\n",
       "  <thead>\n",
       "    <tr style=\"text-align: right;\">\n",
       "      <th></th>\n",
       "      <th>Number of Friends</th>\n",
       "      <th>Roi5</th>\n",
       "      <th>Roi6</th>\n",
       "      <th>Roi15</th>\n",
       "      <th>Roi19</th>\n",
       "      <th>Roi27</th>\n",
       "      <th>Roi33</th>\n",
       "      <th>Roi34</th>\n",
       "      <th>Roi38</th>\n",
       "      <th>Roi40</th>\n",
       "      <th>...</th>\n",
       "      <th>Roi99</th>\n",
       "      <th>Roi101</th>\n",
       "      <th>Roi102</th>\n",
       "      <th>Roi104</th>\n",
       "      <th>Roi105</th>\n",
       "      <th>Roi106</th>\n",
       "      <th>Roi109</th>\n",
       "      <th>Roi110</th>\n",
       "      <th>Roi114</th>\n",
       "      <th>Roi116</th>\n",
       "    </tr>\n",
       "  </thead>\n",
       "  <tbody>\n",
       "    <tr>\n",
       "      <th>Roi5</th>\n",
       "      <td>1</td>\n",
       "      <td>1.000000</td>\n",
       "      <td>-0.836754</td>\n",
       "      <td>-0.794665</td>\n",
       "      <td>-0.802212</td>\n",
       "      <td>0.319125</td>\n",
       "      <td>-0.561554</td>\n",
       "      <td>-0.831351</td>\n",
       "      <td>-0.674545</td>\n",
       "      <td>0.051576</td>\n",
       "      <td>...</td>\n",
       "      <td>-0.732488</td>\n",
       "      <td>-0.664171</td>\n",
       "      <td>-0.848982</td>\n",
       "      <td>-0.794568</td>\n",
       "      <td>-0.691593</td>\n",
       "      <td>-0.654333</td>\n",
       "      <td>-0.820282</td>\n",
       "      <td>-0.837769</td>\n",
       "      <td>-0.566857</td>\n",
       "      <td>-0.529907</td>\n",
       "    </tr>\n",
       "    <tr>\n",
       "      <th>Roi6</th>\n",
       "      <td>13</td>\n",
       "      <td>-0.836754</td>\n",
       "      <td>1.000000</td>\n",
       "      <td>0.884331</td>\n",
       "      <td>0.833599</td>\n",
       "      <td>-0.622142</td>\n",
       "      <td>0.434025</td>\n",
       "      <td>0.965141</td>\n",
       "      <td>0.783755</td>\n",
       "      <td>-0.372531</td>\n",
       "      <td>...</td>\n",
       "      <td>0.939771</td>\n",
       "      <td>0.628186</td>\n",
       "      <td>0.977754</td>\n",
       "      <td>0.971368</td>\n",
       "      <td>0.790479</td>\n",
       "      <td>0.678521</td>\n",
       "      <td>0.984595</td>\n",
       "      <td>0.986308</td>\n",
       "      <td>0.477782</td>\n",
       "      <td>0.570393</td>\n",
       "    </tr>\n",
       "    <tr>\n",
       "      <th>Roi15</th>\n",
       "      <td>11</td>\n",
       "      <td>-0.794665</td>\n",
       "      <td>0.884331</td>\n",
       "      <td>1.000000</td>\n",
       "      <td>0.825946</td>\n",
       "      <td>-0.638055</td>\n",
       "      <td>0.532283</td>\n",
       "      <td>0.932123</td>\n",
       "      <td>0.687525</td>\n",
       "      <td>-0.363464</td>\n",
       "      <td>...</td>\n",
       "      <td>0.742073</td>\n",
       "      <td>0.642910</td>\n",
       "      <td>0.879410</td>\n",
       "      <td>0.784349</td>\n",
       "      <td>0.553398</td>\n",
       "      <td>0.594430</td>\n",
       "      <td>0.856692</td>\n",
       "      <td>0.853898</td>\n",
       "      <td>0.354424</td>\n",
       "      <td>0.670925</td>\n",
       "    </tr>\n",
       "    <tr>\n",
       "      <th>Roi19</th>\n",
       "      <td>12</td>\n",
       "      <td>-0.802212</td>\n",
       "      <td>0.833599</td>\n",
       "      <td>0.825946</td>\n",
       "      <td>1.000000</td>\n",
       "      <td>-0.358856</td>\n",
       "      <td>0.839497</td>\n",
       "      <td>0.747646</td>\n",
       "      <td>0.391347</td>\n",
       "      <td>0.045034</td>\n",
       "      <td>...</td>\n",
       "      <td>0.730143</td>\n",
       "      <td>0.939719</td>\n",
       "      <td>0.910785</td>\n",
       "      <td>0.756930</td>\n",
       "      <td>0.408254</td>\n",
       "      <td>0.290608</td>\n",
       "      <td>0.858062</td>\n",
       "      <td>0.762778</td>\n",
       "      <td>0.338480</td>\n",
       "      <td>0.257299</td>\n",
       "    </tr>\n",
       "    <tr>\n",
       "      <th>Roi27</th>\n",
       "      <td>2</td>\n",
       "      <td>0.319125</td>\n",
       "      <td>-0.622142</td>\n",
       "      <td>-0.638055</td>\n",
       "      <td>-0.358856</td>\n",
       "      <td>1.000000</td>\n",
       "      <td>-0.024279</td>\n",
       "      <td>-0.685059</td>\n",
       "      <td>-0.724403</td>\n",
       "      <td>0.674790</td>\n",
       "      <td>...</td>\n",
       "      <td>-0.510707</td>\n",
       "      <td>-0.137659</td>\n",
       "      <td>-0.523304</td>\n",
       "      <td>-0.529907</td>\n",
       "      <td>-0.514124</td>\n",
       "      <td>-0.623540</td>\n",
       "      <td>-0.537333</td>\n",
       "      <td>-0.617515</td>\n",
       "      <td>-0.130630</td>\n",
       "      <td>-0.735822</td>\n",
       "    </tr>\n",
       "  </tbody>\n",
       "</table>\n",
       "<p>5 rows × 33 columns</p>\n",
       "</div>"
      ],
      "text/plain": [
       "       Number of Friends      Roi5      Roi6     Roi15     Roi19     Roi27  \\\n",
       "Roi5                   1  1.000000 -0.836754 -0.794665 -0.802212  0.319125   \n",
       "Roi6                  13 -0.836754  1.000000  0.884331  0.833599 -0.622142   \n",
       "Roi15                 11 -0.794665  0.884331  1.000000  0.825946 -0.638055   \n",
       "Roi19                 12 -0.802212  0.833599  0.825946  1.000000 -0.358856   \n",
       "Roi27                  2  0.319125 -0.622142 -0.638055 -0.358856  1.000000   \n",
       "\n",
       "          Roi33     Roi34     Roi38     Roi40  ...     Roi99    Roi101  \\\n",
       "Roi5  -0.561554 -0.831351 -0.674545  0.051576  ... -0.732488 -0.664171   \n",
       "Roi6   0.434025  0.965141  0.783755 -0.372531  ...  0.939771  0.628186   \n",
       "Roi15  0.532283  0.932123  0.687525 -0.363464  ...  0.742073  0.642910   \n",
       "Roi19  0.839497  0.747646  0.391347  0.045034  ...  0.730143  0.939719   \n",
       "Roi27 -0.024279 -0.685059 -0.724403  0.674790  ... -0.510707 -0.137659   \n",
       "\n",
       "         Roi102    Roi104    Roi105    Roi106    Roi109    Roi110    Roi114  \\\n",
       "Roi5  -0.848982 -0.794568 -0.691593 -0.654333 -0.820282 -0.837769 -0.566857   \n",
       "Roi6   0.977754  0.971368  0.790479  0.678521  0.984595  0.986308  0.477782   \n",
       "Roi15  0.879410  0.784349  0.553398  0.594430  0.856692  0.853898  0.354424   \n",
       "Roi19  0.910785  0.756930  0.408254  0.290608  0.858062  0.762778  0.338480   \n",
       "Roi27 -0.523304 -0.529907 -0.514124 -0.623540 -0.537333 -0.617515 -0.130630   \n",
       "\n",
       "         Roi116  \n",
       "Roi5  -0.529907  \n",
       "Roi6   0.570393  \n",
       "Roi15  0.670925  \n",
       "Roi19  0.257299  \n",
       "Roi27 -0.735822  \n",
       "\n",
       "[5 rows x 33 columns]"
      ]
     },
     "execution_count": 43,
     "metadata": {},
     "output_type": "execute_result"
    }
   ],
   "source": [
    "data_corr, friend_names, correlation_summary = cross_correlation(data, r)\n",
    "data_corr.head()"
   ]
  },
  {
   "cell_type": "markdown",
   "metadata": {},
   "source": [
    "### - Cross Correlation Matrix Summary"
   ]
  },
  {
   "cell_type": "code",
   "execution_count": 44,
   "metadata": {
    "collapsed": false,
    "jupyter": {
     "outputs_hidden": false
    }
   },
   "outputs": [
    {
     "data": {
      "text/html": [
       "<div>\n",
       "<style scoped>\n",
       "    .dataframe tbody tr th:only-of-type {\n",
       "        vertical-align: middle;\n",
       "    }\n",
       "\n",
       "    .dataframe tbody tr th {\n",
       "        vertical-align: top;\n",
       "    }\n",
       "\n",
       "    .dataframe thead th {\n",
       "        text-align: right;\n",
       "    }\n",
       "</style>\n",
       "<table border=\"1\" class=\"dataframe\">\n",
       "  <thead>\n",
       "    <tr style=\"text-align: right;\">\n",
       "      <th></th>\n",
       "      <th>Roi5</th>\n",
       "      <th>Roi6</th>\n",
       "      <th>Roi15</th>\n",
       "      <th>Roi19</th>\n",
       "      <th>Roi27</th>\n",
       "      <th>Roi33</th>\n",
       "      <th>Roi34</th>\n",
       "      <th>Roi38</th>\n",
       "      <th>Roi40</th>\n",
       "      <th>Roi41</th>\n",
       "      <th>...</th>\n",
       "      <th>Roi99</th>\n",
       "      <th>Roi101</th>\n",
       "      <th>Roi102</th>\n",
       "      <th>Roi104</th>\n",
       "      <th>Roi105</th>\n",
       "      <th>Roi106</th>\n",
       "      <th>Roi109</th>\n",
       "      <th>Roi110</th>\n",
       "      <th>Roi114</th>\n",
       "      <th>Roi116</th>\n",
       "    </tr>\n",
       "  </thead>\n",
       "  <tbody>\n",
       "    <tr>\n",
       "      <th>count</th>\n",
       "      <td>1.0</td>\n",
       "      <td>13.000</td>\n",
       "      <td>11.000</td>\n",
       "      <td>12.000</td>\n",
       "      <td>2.000</td>\n",
       "      <td>5.000</td>\n",
       "      <td>13.000</td>\n",
       "      <td>7.000</td>\n",
       "      <td>2.000</td>\n",
       "      <td>14.000</td>\n",
       "      <td>...</td>\n",
       "      <td>11.000</td>\n",
       "      <td>6.000</td>\n",
       "      <td>14.000</td>\n",
       "      <td>12.000</td>\n",
       "      <td>7.000</td>\n",
       "      <td>4.000</td>\n",
       "      <td>14.000</td>\n",
       "      <td>13.000</td>\n",
       "      <td>1.0</td>\n",
       "      <td>4.000</td>\n",
       "    </tr>\n",
       "    <tr>\n",
       "      <th>mean</th>\n",
       "      <td>1.0</td>\n",
       "      <td>0.949</td>\n",
       "      <td>0.875</td>\n",
       "      <td>0.897</td>\n",
       "      <td>0.950</td>\n",
       "      <td>0.930</td>\n",
       "      <td>0.923</td>\n",
       "      <td>0.901</td>\n",
       "      <td>0.937</td>\n",
       "      <td>0.942</td>\n",
       "      <td>...</td>\n",
       "      <td>0.931</td>\n",
       "      <td>0.943</td>\n",
       "      <td>0.946</td>\n",
       "      <td>0.943</td>\n",
       "      <td>0.883</td>\n",
       "      <td>0.929</td>\n",
       "      <td>0.941</td>\n",
       "      <td>0.943</td>\n",
       "      <td>1.0</td>\n",
       "      <td>0.909</td>\n",
       "    </tr>\n",
       "    <tr>\n",
       "      <th>std</th>\n",
       "      <td>NaN</td>\n",
       "      <td>0.055</td>\n",
       "      <td>0.053</td>\n",
       "      <td>0.064</td>\n",
       "      <td>0.070</td>\n",
       "      <td>0.066</td>\n",
       "      <td>0.052</td>\n",
       "      <td>0.064</td>\n",
       "      <td>0.090</td>\n",
       "      <td>0.052</td>\n",
       "      <td>...</td>\n",
       "      <td>0.047</td>\n",
       "      <td>0.035</td>\n",
       "      <td>0.041</td>\n",
       "      <td>0.058</td>\n",
       "      <td>0.064</td>\n",
       "      <td>0.073</td>\n",
       "      <td>0.061</td>\n",
       "      <td>0.054</td>\n",
       "      <td>NaN</td>\n",
       "      <td>0.074</td>\n",
       "    </tr>\n",
       "    <tr>\n",
       "      <th>min</th>\n",
       "      <td>1.0</td>\n",
       "      <td>0.834</td>\n",
       "      <td>0.803</td>\n",
       "      <td>0.817</td>\n",
       "      <td>0.900</td>\n",
       "      <td>0.839</td>\n",
       "      <td>0.803</td>\n",
       "      <td>0.840</td>\n",
       "      <td>0.873</td>\n",
       "      <td>0.842</td>\n",
       "      <td>...</td>\n",
       "      <td>0.827</td>\n",
       "      <td>0.896</td>\n",
       "      <td>0.873</td>\n",
       "      <td>0.818</td>\n",
       "      <td>0.803</td>\n",
       "      <td>0.838</td>\n",
       "      <td>0.809</td>\n",
       "      <td>0.847</td>\n",
       "      <td>1.0</td>\n",
       "      <td>0.838</td>\n",
       "    </tr>\n",
       "    <tr>\n",
       "      <th>25%</th>\n",
       "      <td>1.0</td>\n",
       "      <td>0.940</td>\n",
       "      <td>0.851</td>\n",
       "      <td>0.838</td>\n",
       "      <td>0.925</td>\n",
       "      <td>0.888</td>\n",
       "      <td>0.898</td>\n",
       "      <td>0.854</td>\n",
       "      <td>0.905</td>\n",
       "      <td>0.897</td>\n",
       "      <td>...</td>\n",
       "      <td>0.925</td>\n",
       "      <td>0.926</td>\n",
       "      <td>0.922</td>\n",
       "      <td>0.935</td>\n",
       "      <td>0.847</td>\n",
       "      <td>0.886</td>\n",
       "      <td>0.907</td>\n",
       "      <td>0.929</td>\n",
       "      <td>1.0</td>\n",
       "      <td>0.855</td>\n",
       "    </tr>\n",
       "    <tr>\n",
       "      <th>50%</th>\n",
       "      <td>1.0</td>\n",
       "      <td>0.971</td>\n",
       "      <td>0.871</td>\n",
       "      <td>0.896</td>\n",
       "      <td>0.950</td>\n",
       "      <td>0.943</td>\n",
       "      <td>0.930</td>\n",
       "      <td>0.869</td>\n",
       "      <td>0.937</td>\n",
       "      <td>0.967</td>\n",
       "      <td>...</td>\n",
       "      <td>0.940</td>\n",
       "      <td>0.941</td>\n",
       "      <td>0.950</td>\n",
       "      <td>0.967</td>\n",
       "      <td>0.861</td>\n",
       "      <td>0.938</td>\n",
       "      <td>0.969</td>\n",
       "      <td>0.969</td>\n",
       "      <td>1.0</td>\n",
       "      <td>0.900</td>\n",
       "    </tr>\n",
       "    <tr>\n",
       "      <th>75%</th>\n",
       "      <td>1.0</td>\n",
       "      <td>0.985</td>\n",
       "      <td>0.882</td>\n",
       "      <td>0.944</td>\n",
       "      <td>0.975</td>\n",
       "      <td>0.980</td>\n",
       "      <td>0.965</td>\n",
       "      <td>0.946</td>\n",
       "      <td>0.968</td>\n",
       "      <td>0.982</td>\n",
       "      <td>...</td>\n",
       "      <td>0.954</td>\n",
       "      <td>0.953</td>\n",
       "      <td>0.986</td>\n",
       "      <td>0.978</td>\n",
       "      <td>0.910</td>\n",
       "      <td>0.981</td>\n",
       "      <td>0.984</td>\n",
       "      <td>0.978</td>\n",
       "      <td>1.0</td>\n",
       "      <td>0.954</td>\n",
       "    </tr>\n",
       "    <tr>\n",
       "      <th>max</th>\n",
       "      <td>1.0</td>\n",
       "      <td>1.000</td>\n",
       "      <td>1.000</td>\n",
       "      <td>1.000</td>\n",
       "      <td>1.000</td>\n",
       "      <td>1.000</td>\n",
       "      <td>1.000</td>\n",
       "      <td>1.000</td>\n",
       "      <td>1.000</td>\n",
       "      <td>1.000</td>\n",
       "      <td>...</td>\n",
       "      <td>1.000</td>\n",
       "      <td>1.000</td>\n",
       "      <td>1.000</td>\n",
       "      <td>1.000</td>\n",
       "      <td>1.000</td>\n",
       "      <td>1.000</td>\n",
       "      <td>1.000</td>\n",
       "      <td>1.000</td>\n",
       "      <td>1.0</td>\n",
       "      <td>1.000</td>\n",
       "    </tr>\n",
       "  </tbody>\n",
       "</table>\n",
       "<p>8 rows × 32 columns</p>\n",
       "</div>"
      ],
      "text/plain": [
       "       Roi5    Roi6   Roi15   Roi19  Roi27  Roi33   Roi34  Roi38  Roi40  \\\n",
       "count   1.0  13.000  11.000  12.000  2.000  5.000  13.000  7.000  2.000   \n",
       "mean    1.0   0.949   0.875   0.897  0.950  0.930   0.923  0.901  0.937   \n",
       "std     NaN   0.055   0.053   0.064  0.070  0.066   0.052  0.064  0.090   \n",
       "min     1.0   0.834   0.803   0.817  0.900  0.839   0.803  0.840  0.873   \n",
       "25%     1.0   0.940   0.851   0.838  0.925  0.888   0.898  0.854  0.905   \n",
       "50%     1.0   0.971   0.871   0.896  0.950  0.943   0.930  0.869  0.937   \n",
       "75%     1.0   0.985   0.882   0.944  0.975  0.980   0.965  0.946  0.968   \n",
       "max     1.0   1.000   1.000   1.000  1.000  1.000   1.000  1.000  1.000   \n",
       "\n",
       "        Roi41  ...   Roi99  Roi101  Roi102  Roi104  Roi105  Roi106  Roi109  \\\n",
       "count  14.000  ...  11.000   6.000  14.000  12.000   7.000   4.000  14.000   \n",
       "mean    0.942  ...   0.931   0.943   0.946   0.943   0.883   0.929   0.941   \n",
       "std     0.052  ...   0.047   0.035   0.041   0.058   0.064   0.073   0.061   \n",
       "min     0.842  ...   0.827   0.896   0.873   0.818   0.803   0.838   0.809   \n",
       "25%     0.897  ...   0.925   0.926   0.922   0.935   0.847   0.886   0.907   \n",
       "50%     0.967  ...   0.940   0.941   0.950   0.967   0.861   0.938   0.969   \n",
       "75%     0.982  ...   0.954   0.953   0.986   0.978   0.910   0.981   0.984   \n",
       "max     1.000  ...   1.000   1.000   1.000   1.000   1.000   1.000   1.000   \n",
       "\n",
       "       Roi110  Roi114  Roi116  \n",
       "count  13.000     1.0   4.000  \n",
       "mean    0.943     1.0   0.909  \n",
       "std     0.054     NaN   0.074  \n",
       "min     0.847     1.0   0.838  \n",
       "25%     0.929     1.0   0.855  \n",
       "50%     0.969     1.0   0.900  \n",
       "75%     0.978     1.0   0.954  \n",
       "max     1.000     1.0   1.000  \n",
       "\n",
       "[8 rows x 32 columns]"
      ]
     },
     "execution_count": 44,
     "metadata": {},
     "output_type": "execute_result"
    }
   ],
   "source": [
    "correlation_summary"
   ]
  },
  {
   "cell_type": "markdown",
   "metadata": {},
   "source": [
    "#### Like what you see? save the cross correlation file with the below code"
   ]
  },
  {
   "cell_type": "code",
   "execution_count": 45,
   "metadata": {
    "collapsed": false,
    "jupyter": {
     "outputs_hidden": false
    }
   },
   "outputs": [],
   "source": [
    "data_corr.to_csv(r'%s/xcor.csv' %(folder))\n",
    "correlation_summary.to_csv(r'%s/xcor_summary.csv'%(folder))"
   ]
  },
  {
   "cell_type": "markdown",
   "metadata": {},
   "source": [
    "## B. Distance Matrix (neighbors)"
   ]
  },
  {
   "cell_type": "markdown",
   "metadata": {},
   "source": [
    "Set your d value to your threshold for significant distance. This value will be used is all later calculation. If you change it, you must rerun ALL cells following to update the change."
   ]
  },
  {
   "cell_type": "code",
   "execution_count": 46,
   "metadata": {
    "collapsed": false,
    "jupyter": {
     "outputs_hidden": false
    }
   },
   "outputs": [],
   "source": [
    "d = 100 # set the maximum distance from an ROI that is the threshold for neighborhood"
   ]
  },
  {
   "cell_type": "code",
   "execution_count": 47,
   "metadata": {
    "collapsed": false,
    "jupyter": {
     "outputs_hidden": false
    }
   },
   "outputs": [
    {
     "data": {
      "text/html": [
       "<div>\n",
       "<style scoped>\n",
       "    .dataframe tbody tr th:only-of-type {\n",
       "        vertical-align: middle;\n",
       "    }\n",
       "\n",
       "    .dataframe tbody tr th {\n",
       "        vertical-align: top;\n",
       "    }\n",
       "\n",
       "    .dataframe thead th {\n",
       "        text-align: right;\n",
       "    }\n",
       "</style>\n",
       "<table border=\"1\" class=\"dataframe\">\n",
       "  <thead>\n",
       "    <tr style=\"text-align: right;\">\n",
       "      <th></th>\n",
       "      <th>Number of Neighbors</th>\n",
       "      <th>Roi5</th>\n",
       "      <th>Roi6</th>\n",
       "      <th>Roi15</th>\n",
       "      <th>Roi19</th>\n",
       "      <th>Roi27</th>\n",
       "      <th>Roi33</th>\n",
       "      <th>Roi34</th>\n",
       "      <th>Roi38</th>\n",
       "      <th>Roi40</th>\n",
       "      <th>...</th>\n",
       "      <th>Roi99</th>\n",
       "      <th>Roi101</th>\n",
       "      <th>Roi102</th>\n",
       "      <th>Roi104</th>\n",
       "      <th>Roi105</th>\n",
       "      <th>Roi106</th>\n",
       "      <th>Roi109</th>\n",
       "      <th>Roi110</th>\n",
       "      <th>Roi114</th>\n",
       "      <th>Roi116</th>\n",
       "    </tr>\n",
       "  </thead>\n",
       "  <tbody>\n",
       "    <tr>\n",
       "      <th>Roi5</th>\n",
       "      <td>13</td>\n",
       "      <td>0.000000</td>\n",
       "      <td>81.055537</td>\n",
       "      <td>63.788714</td>\n",
       "      <td>44.944410</td>\n",
       "      <td>329.218772</td>\n",
       "      <td>66.573268</td>\n",
       "      <td>69.634761</td>\n",
       "      <td>188.098379</td>\n",
       "      <td>277.751688</td>\n",
       "      <td>...</td>\n",
       "      <td>89.442719</td>\n",
       "      <td>250.049995</td>\n",
       "      <td>75.166482</td>\n",
       "      <td>154.828938</td>\n",
       "      <td>230.152124</td>\n",
       "      <td>112.587744</td>\n",
       "      <td>66.030296</td>\n",
       "      <td>82.758685</td>\n",
       "      <td>70.830784</td>\n",
       "      <td>36.674242</td>\n",
       "    </tr>\n",
       "    <tr>\n",
       "      <th>Roi6</th>\n",
       "      <td>6</td>\n",
       "      <td>81.055537</td>\n",
       "      <td>0.000000</td>\n",
       "      <td>144.128415</td>\n",
       "      <td>104.546640</td>\n",
       "      <td>248.453215</td>\n",
       "      <td>142.442971</td>\n",
       "      <td>150.083310</td>\n",
       "      <td>110.385687</td>\n",
       "      <td>197.311936</td>\n",
       "      <td>...</td>\n",
       "      <td>166.643332</td>\n",
       "      <td>169.189243</td>\n",
       "      <td>140.769315</td>\n",
       "      <td>89.810912</td>\n",
       "      <td>150.266430</td>\n",
       "      <td>192.898937</td>\n",
       "      <td>129.468143</td>\n",
       "      <td>149.308406</td>\n",
       "      <td>43.829214</td>\n",
       "      <td>83.648072</td>\n",
       "    </tr>\n",
       "    <tr>\n",
       "      <th>Roi15</th>\n",
       "      <td>15</td>\n",
       "      <td>63.788714</td>\n",
       "      <td>144.128415</td>\n",
       "      <td>0.000000</td>\n",
       "      <td>73.246160</td>\n",
       "      <td>391.011509</td>\n",
       "      <td>21.840330</td>\n",
       "      <td>6.000000</td>\n",
       "      <td>247.729691</td>\n",
       "      <td>341.298989</td>\n",
       "      <td>...</td>\n",
       "      <td>30.805844</td>\n",
       "      <td>312.160215</td>\n",
       "      <td>73.164199</td>\n",
       "      <td>217.082933</td>\n",
       "      <td>291.109945</td>\n",
       "      <td>48.836462</td>\n",
       "      <td>73.054774</td>\n",
       "      <td>75.166482</td>\n",
       "      <td>124.779806</td>\n",
       "      <td>72.124892</td>\n",
       "    </tr>\n",
       "    <tr>\n",
       "      <th>Roi19</th>\n",
       "      <td>14</td>\n",
       "      <td>44.944410</td>\n",
       "      <td>104.546640</td>\n",
       "      <td>73.246160</td>\n",
       "      <td>0.000000</td>\n",
       "      <td>349.200515</td>\n",
       "      <td>87.658428</td>\n",
       "      <td>77.155687</td>\n",
       "      <td>214.888343</td>\n",
       "      <td>291.015464</td>\n",
       "      <td>...</td>\n",
       "      <td>104.019229</td>\n",
       "      <td>270.120344</td>\n",
       "      <td>36.249138</td>\n",
       "      <td>155.331903</td>\n",
       "      <td>253.475837</td>\n",
       "      <td>114.856432</td>\n",
       "      <td>25.059928</td>\n",
       "      <td>44.777226</td>\n",
       "      <td>109.603832</td>\n",
       "      <td>81.320354</td>\n",
       "    </tr>\n",
       "    <tr>\n",
       "      <th>Roi27</th>\n",
       "      <td>6</td>\n",
       "      <td>329.218772</td>\n",
       "      <td>248.453215</td>\n",
       "      <td>391.011509</td>\n",
       "      <td>349.200515</td>\n",
       "      <td>0.000000</td>\n",
       "      <td>385.747327</td>\n",
       "      <td>397.011335</td>\n",
       "      <td>145.670862</td>\n",
       "      <td>74.276510</td>\n",
       "      <td>...</td>\n",
       "      <td>409.957315</td>\n",
       "      <td>79.309520</td>\n",
       "      <td>384.246015</td>\n",
       "      <td>211.293635</td>\n",
       "      <td>100.603181</td>\n",
       "      <td>439.163978</td>\n",
       "      <td>372.887382</td>\n",
       "      <td>392.657612</td>\n",
       "      <td>269.072481</td>\n",
       "      <td>322.893171</td>\n",
       "    </tr>\n",
       "  </tbody>\n",
       "</table>\n",
       "<p>5 rows × 33 columns</p>\n",
       "</div>"
      ],
      "text/plain": [
       "       Number of Neighbors        Roi5        Roi6       Roi15       Roi19  \\\n",
       "Roi5                    13    0.000000   81.055537   63.788714   44.944410   \n",
       "Roi6                     6   81.055537    0.000000  144.128415  104.546640   \n",
       "Roi15                   15   63.788714  144.128415    0.000000   73.246160   \n",
       "Roi19                   14   44.944410  104.546640   73.246160    0.000000   \n",
       "Roi27                    6  329.218772  248.453215  391.011509  349.200515   \n",
       "\n",
       "            Roi27       Roi33       Roi34       Roi38       Roi40  ...  \\\n",
       "Roi5   329.218772   66.573268   69.634761  188.098379  277.751688  ...   \n",
       "Roi6   248.453215  142.442971  150.083310  110.385687  197.311936  ...   \n",
       "Roi15  391.011509   21.840330    6.000000  247.729691  341.298989  ...   \n",
       "Roi19  349.200515   87.658428   77.155687  214.888343  291.015464  ...   \n",
       "Roi27    0.000000  385.747327  397.011335  145.670862   74.276510  ...   \n",
       "\n",
       "            Roi99      Roi101      Roi102      Roi104      Roi105      Roi106  \\\n",
       "Roi5    89.442719  250.049995   75.166482  154.828938  230.152124  112.587744   \n",
       "Roi6   166.643332  169.189243  140.769315   89.810912  150.266430  192.898937   \n",
       "Roi15   30.805844  312.160215   73.164199  217.082933  291.109945   48.836462   \n",
       "Roi19  104.019229  270.120344   36.249138  155.331903  253.475837  114.856432   \n",
       "Roi27  409.957315   79.309520  384.246015  211.293635  100.603181  439.163978   \n",
       "\n",
       "           Roi109      Roi110      Roi114      Roi116  \n",
       "Roi5    66.030296   82.758685   70.830784   36.674242  \n",
       "Roi6   129.468143  149.308406   43.829214   83.648072  \n",
       "Roi15   73.054774   75.166482  124.779806   72.124892  \n",
       "Roi19   25.059928   44.777226  109.603832   81.320354  \n",
       "Roi27  372.887382  392.657612  269.072481  322.893171  \n",
       "\n",
       "[5 rows x 33 columns]"
      ]
     },
     "execution_count": 47,
     "metadata": {},
     "output_type": "execute_result"
    }
   ],
   "source": [
    "roi_dist, loc_tup, neighbor_names, distance_summary = distance_matrix(roi_x, roi_y , roi_loc , d)\n",
    "roi_dist.head()"
   ]
  },
  {
   "cell_type": "markdown",
   "metadata": {},
   "source": [
    "### - Distance Matrix Summary"
   ]
  },
  {
   "cell_type": "code",
   "execution_count": 48,
   "metadata": {
    "collapsed": false,
    "jupyter": {
     "outputs_hidden": false
    }
   },
   "outputs": [
    {
     "data": {
      "text/html": [
       "<div>\n",
       "<style scoped>\n",
       "    .dataframe tbody tr th:only-of-type {\n",
       "        vertical-align: middle;\n",
       "    }\n",
       "\n",
       "    .dataframe tbody tr th {\n",
       "        vertical-align: top;\n",
       "    }\n",
       "\n",
       "    .dataframe thead th {\n",
       "        text-align: right;\n",
       "    }\n",
       "</style>\n",
       "<table border=\"1\" class=\"dataframe\">\n",
       "  <thead>\n",
       "    <tr style=\"text-align: right;\">\n",
       "      <th></th>\n",
       "      <th>Roi5</th>\n",
       "      <th>Roi6</th>\n",
       "      <th>Roi15</th>\n",
       "      <th>Roi19</th>\n",
       "      <th>Roi27</th>\n",
       "      <th>Roi33</th>\n",
       "      <th>Roi34</th>\n",
       "      <th>Roi38</th>\n",
       "      <th>Roi40</th>\n",
       "      <th>Roi41</th>\n",
       "      <th>...</th>\n",
       "      <th>Roi99</th>\n",
       "      <th>Roi101</th>\n",
       "      <th>Roi102</th>\n",
       "      <th>Roi104</th>\n",
       "      <th>Roi105</th>\n",
       "      <th>Roi106</th>\n",
       "      <th>Roi109</th>\n",
       "      <th>Roi110</th>\n",
       "      <th>Roi114</th>\n",
       "      <th>Roi116</th>\n",
       "    </tr>\n",
       "  </thead>\n",
       "  <tbody>\n",
       "    <tr>\n",
       "      <th>count</th>\n",
       "      <td>13.000</td>\n",
       "      <td>6.000</td>\n",
       "      <td>15.000</td>\n",
       "      <td>14.000</td>\n",
       "      <td>6.000</td>\n",
       "      <td>14.000</td>\n",
       "      <td>15.000</td>\n",
       "      <td>6.000</td>\n",
       "      <td>8.000</td>\n",
       "      <td>8.000</td>\n",
       "      <td>...</td>\n",
       "      <td>9.000</td>\n",
       "      <td>8.000</td>\n",
       "      <td>13.000</td>\n",
       "      <td>3.000</td>\n",
       "      <td>7.000</td>\n",
       "      <td>9.000</td>\n",
       "      <td>13.000</td>\n",
       "      <td>14.000</td>\n",
       "      <td>5.000</td>\n",
       "      <td>10.000</td>\n",
       "    </tr>\n",
       "    <tr>\n",
       "      <th>mean</th>\n",
       "      <td>61.956</td>\n",
       "      <td>56.815</td>\n",
       "      <td>53.893</td>\n",
       "      <td>54.849</td>\n",
       "      <td>60.347</td>\n",
       "      <td>60.124</td>\n",
       "      <td>54.096</td>\n",
       "      <td>47.811</td>\n",
       "      <td>60.262</td>\n",
       "      <td>51.340</td>\n",
       "      <td>...</td>\n",
       "      <td>42.023</td>\n",
       "      <td>42.597</td>\n",
       "      <td>46.061</td>\n",
       "      <td>45.965</td>\n",
       "      <td>35.916</td>\n",
       "      <td>44.938</td>\n",
       "      <td>45.316</td>\n",
       "      <td>52.235</td>\n",
       "      <td>51.003</td>\n",
       "      <td>64.926</td>\n",
       "    </tr>\n",
       "    <tr>\n",
       "      <th>std</th>\n",
       "      <td>23.603</td>\n",
       "      <td>34.631</td>\n",
       "      <td>26.806</td>\n",
       "      <td>27.365</td>\n",
       "      <td>31.696</td>\n",
       "      <td>31.658</td>\n",
       "      <td>27.849</td>\n",
       "      <td>36.041</td>\n",
       "      <td>26.495</td>\n",
       "      <td>31.856</td>\n",
       "      <td>...</td>\n",
       "      <td>29.834</td>\n",
       "      <td>27.757</td>\n",
       "      <td>30.448</td>\n",
       "      <td>44.943</td>\n",
       "      <td>25.048</td>\n",
       "      <td>34.089</td>\n",
       "      <td>29.961</td>\n",
       "      <td>32.452</td>\n",
       "      <td>32.805</td>\n",
       "      <td>28.450</td>\n",
       "    </tr>\n",
       "    <tr>\n",
       "      <th>min</th>\n",
       "      <td>0.000</td>\n",
       "      <td>0.000</td>\n",
       "      <td>0.000</td>\n",
       "      <td>0.000</td>\n",
       "      <td>0.000</td>\n",
       "      <td>0.000</td>\n",
       "      <td>0.000</td>\n",
       "      <td>0.000</td>\n",
       "      <td>0.000</td>\n",
       "      <td>0.000</td>\n",
       "      <td>...</td>\n",
       "      <td>0.000</td>\n",
       "      <td>0.000</td>\n",
       "      <td>0.000</td>\n",
       "      <td>0.000</td>\n",
       "      <td>0.000</td>\n",
       "      <td>0.000</td>\n",
       "      <td>0.000</td>\n",
       "      <td>0.000</td>\n",
       "      <td>0.000</td>\n",
       "      <td>0.000</td>\n",
       "    </tr>\n",
       "    <tr>\n",
       "      <th>25%</th>\n",
       "      <td>58.523</td>\n",
       "      <td>42.865</td>\n",
       "      <td>39.821</td>\n",
       "      <td>38.381</td>\n",
       "      <td>56.532</td>\n",
       "      <td>31.270</td>\n",
       "      <td>35.342</td>\n",
       "      <td>21.203</td>\n",
       "      <td>60.581</td>\n",
       "      <td>26.547</td>\n",
       "      <td>...</td>\n",
       "      <td>27.731</td>\n",
       "      <td>24.460</td>\n",
       "      <td>18.788</td>\n",
       "      <td>24.042</td>\n",
       "      <td>22.076</td>\n",
       "      <td>22.136</td>\n",
       "      <td>19.925</td>\n",
       "      <td>25.077</td>\n",
       "      <td>43.829</td>\n",
       "      <td>56.250</td>\n",
       "    </tr>\n",
       "    <tr>\n",
       "      <th>50%</th>\n",
       "      <td>66.573</td>\n",
       "      <td>62.442</td>\n",
       "      <td>69.029</td>\n",
       "      <td>62.356</td>\n",
       "      <td>73.761</td>\n",
       "      <td>64.787</td>\n",
       "      <td>69.635</td>\n",
       "      <td>53.600</td>\n",
       "      <td>65.246</td>\n",
       "      <td>59.489</td>\n",
       "      <td>...</td>\n",
       "      <td>30.806</td>\n",
       "      <td>43.613</td>\n",
       "      <td>45.651</td>\n",
       "      <td>48.083</td>\n",
       "      <td>33.615</td>\n",
       "      <td>42.953</td>\n",
       "      <td>44.385</td>\n",
       "      <td>53.334</td>\n",
       "      <td>54.000</td>\n",
       "      <td>75.005</td>\n",
       "    </tr>\n",
       "    <tr>\n",
       "      <th>75%</th>\n",
       "      <td>75.166</td>\n",
       "      <td>83.000</td>\n",
       "      <td>73.109</td>\n",
       "      <td>76.178</td>\n",
       "      <td>78.051</td>\n",
       "      <td>88.157</td>\n",
       "      <td>75.521</td>\n",
       "      <td>68.844</td>\n",
       "      <td>75.008</td>\n",
       "      <td>71.114</td>\n",
       "      <td>...</td>\n",
       "      <td>55.946</td>\n",
       "      <td>63.198</td>\n",
       "      <td>73.164</td>\n",
       "      <td>68.947</td>\n",
       "      <td>48.221</td>\n",
       "      <td>55.317</td>\n",
       "      <td>70.859</td>\n",
       "      <td>75.643</td>\n",
       "      <td>70.831</td>\n",
       "      <td>83.066</td>\n",
       "    </tr>\n",
       "    <tr>\n",
       "      <th>max</th>\n",
       "      <td>89.443</td>\n",
       "      <td>89.811</td>\n",
       "      <td>81.253</td>\n",
       "      <td>87.658</td>\n",
       "      <td>84.291</td>\n",
       "      <td>96.005</td>\n",
       "      <td>80.062</td>\n",
       "      <td>95.336</td>\n",
       "      <td>85.615</td>\n",
       "      <td>95.189</td>\n",
       "      <td>...</td>\n",
       "      <td>89.443</td>\n",
       "      <td>79.310</td>\n",
       "      <td>93.263</td>\n",
       "      <td>89.811</td>\n",
       "      <td>77.201</td>\n",
       "      <td>99.323</td>\n",
       "      <td>91.782</td>\n",
       "      <td>99.323</td>\n",
       "      <td>86.354</td>\n",
       "      <td>93.520</td>\n",
       "    </tr>\n",
       "  </tbody>\n",
       "</table>\n",
       "<p>8 rows × 32 columns</p>\n",
       "</div>"
      ],
      "text/plain": [
       "         Roi5    Roi6   Roi15   Roi19   Roi27   Roi33   Roi34   Roi38   Roi40  \\\n",
       "count  13.000   6.000  15.000  14.000   6.000  14.000  15.000   6.000   8.000   \n",
       "mean   61.956  56.815  53.893  54.849  60.347  60.124  54.096  47.811  60.262   \n",
       "std    23.603  34.631  26.806  27.365  31.696  31.658  27.849  36.041  26.495   \n",
       "min     0.000   0.000   0.000   0.000   0.000   0.000   0.000   0.000   0.000   \n",
       "25%    58.523  42.865  39.821  38.381  56.532  31.270  35.342  21.203  60.581   \n",
       "50%    66.573  62.442  69.029  62.356  73.761  64.787  69.635  53.600  65.246   \n",
       "75%    75.166  83.000  73.109  76.178  78.051  88.157  75.521  68.844  75.008   \n",
       "max    89.443  89.811  81.253  87.658  84.291  96.005  80.062  95.336  85.615   \n",
       "\n",
       "        Roi41  ...   Roi99  Roi101  Roi102  Roi104  Roi105  Roi106  Roi109  \\\n",
       "count   8.000  ...   9.000   8.000  13.000   3.000   7.000   9.000  13.000   \n",
       "mean   51.340  ...  42.023  42.597  46.061  45.965  35.916  44.938  45.316   \n",
       "std    31.856  ...  29.834  27.757  30.448  44.943  25.048  34.089  29.961   \n",
       "min     0.000  ...   0.000   0.000   0.000   0.000   0.000   0.000   0.000   \n",
       "25%    26.547  ...  27.731  24.460  18.788  24.042  22.076  22.136  19.925   \n",
       "50%    59.489  ...  30.806  43.613  45.651  48.083  33.615  42.953  44.385   \n",
       "75%    71.114  ...  55.946  63.198  73.164  68.947  48.221  55.317  70.859   \n",
       "max    95.189  ...  89.443  79.310  93.263  89.811  77.201  99.323  91.782   \n",
       "\n",
       "       Roi110  Roi114  Roi116  \n",
       "count  14.000   5.000  10.000  \n",
       "mean   52.235  51.003  64.926  \n",
       "std    32.452  32.805  28.450  \n",
       "min     0.000   0.000   0.000  \n",
       "25%    25.077  43.829  56.250  \n",
       "50%    53.334  54.000  75.005  \n",
       "75%    75.643  70.831  83.066  \n",
       "max    99.323  86.354  93.520  \n",
       "\n",
       "[8 rows x 32 columns]"
      ]
     },
     "execution_count": 48,
     "metadata": {},
     "output_type": "execute_result"
    }
   ],
   "source": [
    "distance_summary"
   ]
  },
  {
   "cell_type": "markdown",
   "metadata": {},
   "source": [
    "#### Like what you see? save the distance matrix file with the below code"
   ]
  },
  {
   "cell_type": "code",
   "execution_count": 49,
   "metadata": {
    "collapsed": false,
    "jupyter": {
     "outputs_hidden": false
    }
   },
   "outputs": [],
   "source": [
    "roi_dist.to_csv(r'%s/dist_matrix.csv' %(folder))\n",
    "distance_summary.to_csv(r'%s/dist_summary.csv' %(folder))"
   ]
  },
  {
   "cell_type": "markdown",
   "metadata": {},
   "source": [
    "## C. Friends in terms of Neighbors"
   ]
  },
  {
   "cell_type": "markdown",
   "metadata": {},
   "source": [
    "the following function returns a table of the following values:\n",
    "\n",
    "**Distance Sum**: the sum of the distances from each roi to its friends\n",
    "\n",
    "**Friend Number**: the number of friends that each roi has (not including itself)\n",
    "\n",
    "**Rel Dist**: The cummulative distance / number of friends"
   ]
  },
  {
   "cell_type": "code",
   "execution_count": 50,
   "metadata": {
    "collapsed": false,
    "jupyter": {
     "outputs_hidden": false
    }
   },
   "outputs": [
    {
     "data": {
      "text/html": [
       "<div>\n",
       "<style scoped>\n",
       "    .dataframe tbody tr th:only-of-type {\n",
       "        vertical-align: middle;\n",
       "    }\n",
       "\n",
       "    .dataframe tbody tr th {\n",
       "        vertical-align: top;\n",
       "    }\n",
       "\n",
       "    .dataframe thead th {\n",
       "        text-align: right;\n",
       "    }\n",
       "</style>\n",
       "<table border=\"1\" class=\"dataframe\">\n",
       "  <thead>\n",
       "    <tr style=\"text-align: right;\">\n",
       "      <th></th>\n",
       "      <th>Number of Friends</th>\n",
       "      <th>Mean Dist</th>\n",
       "      <th>Std Dist</th>\n",
       "      <th>Number of Friends that are Neighbors</th>\n",
       "      <th>Percentage of Friends that are Neighbors</th>\n",
       "    </tr>\n",
       "  </thead>\n",
       "  <tbody>\n",
       "    <tr>\n",
       "      <th>Roi5</th>\n",
       "      <td>1</td>\n",
       "      <td>0.000000</td>\n",
       "      <td>NaN</td>\n",
       "      <td>1.0</td>\n",
       "      <td>100.000000</td>\n",
       "    </tr>\n",
       "    <tr>\n",
       "      <th>Roi6</th>\n",
       "      <td>13</td>\n",
       "      <td>144.672377</td>\n",
       "      <td>60.749996</td>\n",
       "      <td>2.0</td>\n",
       "      <td>15.384615</td>\n",
       "    </tr>\n",
       "    <tr>\n",
       "      <th>Roi15</th>\n",
       "      <td>11</td>\n",
       "      <td>88.431832</td>\n",
       "      <td>81.926749</td>\n",
       "      <td>9.0</td>\n",
       "      <td>81.818182</td>\n",
       "    </tr>\n",
       "    <tr>\n",
       "      <th>Roi19</th>\n",
       "      <td>12</td>\n",
       "      <td>121.926790</td>\n",
       "      <td>110.447969</td>\n",
       "      <td>6.0</td>\n",
       "      <td>50.000000</td>\n",
       "    </tr>\n",
       "    <tr>\n",
       "      <th>Roi27</th>\n",
       "      <td>2</td>\n",
       "      <td>36.623080</td>\n",
       "      <td>51.792857</td>\n",
       "      <td>2.0</td>\n",
       "      <td>100.000000</td>\n",
       "    </tr>\n",
       "  </tbody>\n",
       "</table>\n",
       "</div>"
      ],
      "text/plain": [
       "       Number of Friends   Mean Dist    Std Dist  \\\n",
       "Roi5                   1    0.000000         NaN   \n",
       "Roi6                  13  144.672377   60.749996   \n",
       "Roi15                 11   88.431832   81.926749   \n",
       "Roi19                 12  121.926790  110.447969   \n",
       "Roi27                  2   36.623080   51.792857   \n",
       "\n",
       "       Number of Friends that are Neighbors  \\\n",
       "Roi5                                    1.0   \n",
       "Roi6                                    2.0   \n",
       "Roi15                                   9.0   \n",
       "Roi19                                   6.0   \n",
       "Roi27                                   2.0   \n",
       "\n",
       "       Percentage of Friends that are Neighbors  \n",
       "Roi5                                 100.000000  \n",
       "Roi6                                  15.384615  \n",
       "Roi15                                 81.818182  \n",
       "Roi19                                 50.000000  \n",
       "Roi27                                100.000000  "
      ]
     },
     "execution_count": 50,
     "metadata": {},
     "output_type": "execute_result"
    }
   ],
   "source": [
    "friend_distances = friend_dist(data_corr, roi_dist, friend_names, r, d)\n",
    "friend_distances.head()"
   ]
  },
  {
   "cell_type": "markdown",
   "metadata": {},
   "source": [
    "### - Friends in terms of Neighbors Summary"
   ]
  },
  {
   "cell_type": "code",
   "execution_count": 51,
   "metadata": {
    "collapsed": false,
    "jupyter": {
     "outputs_hidden": false
    }
   },
   "outputs": [
    {
     "data": {
      "text/html": [
       "<div>\n",
       "<style scoped>\n",
       "    .dataframe tbody tr th:only-of-type {\n",
       "        vertical-align: middle;\n",
       "    }\n",
       "\n",
       "    .dataframe tbody tr th {\n",
       "        vertical-align: top;\n",
       "    }\n",
       "\n",
       "    .dataframe thead th {\n",
       "        text-align: right;\n",
       "    }\n",
       "</style>\n",
       "<table border=\"1\" class=\"dataframe\">\n",
       "  <thead>\n",
       "    <tr style=\"text-align: right;\">\n",
       "      <th></th>\n",
       "      <th>Number of Friends</th>\n",
       "      <th>Mean Dist</th>\n",
       "      <th>Std Dist</th>\n",
       "      <th>Number of Friends that are Neighbors</th>\n",
       "      <th>Percentage of Friends that are Neighbors</th>\n",
       "    </tr>\n",
       "  </thead>\n",
       "  <tbody>\n",
       "    <tr>\n",
       "      <th>count</th>\n",
       "      <td>32.000000</td>\n",
       "      <td>32.000000</td>\n",
       "      <td>28.000000</td>\n",
       "      <td>32.000000</td>\n",
       "      <td>32.000000</td>\n",
       "    </tr>\n",
       "    <tr>\n",
       "      <th>mean</th>\n",
       "      <td>7.312500</td>\n",
       "      <td>109.469739</td>\n",
       "      <td>96.949580</td>\n",
       "      <td>3.250000</td>\n",
       "      <td>58.873002</td>\n",
       "    </tr>\n",
       "    <tr>\n",
       "      <th>std</th>\n",
       "      <td>5.012484</td>\n",
       "      <td>77.139566</td>\n",
       "      <td>39.974938</td>\n",
       "      <td>2.565277</td>\n",
       "      <td>33.541475</td>\n",
       "    </tr>\n",
       "    <tr>\n",
       "      <th>min</th>\n",
       "      <td>1.000000</td>\n",
       "      <td>0.000000</td>\n",
       "      <td>8.276473</td>\n",
       "      <td>1.000000</td>\n",
       "      <td>7.142857</td>\n",
       "    </tr>\n",
       "    <tr>\n",
       "      <th>25%</th>\n",
       "      <td>2.000000</td>\n",
       "      <td>40.133585</td>\n",
       "      <td>71.134868</td>\n",
       "      <td>1.000000</td>\n",
       "      <td>28.246753</td>\n",
       "    </tr>\n",
       "    <tr>\n",
       "      <th>50%</th>\n",
       "      <td>6.500000</td>\n",
       "      <td>121.791521</td>\n",
       "      <td>109.663522</td>\n",
       "      <td>2.000000</td>\n",
       "      <td>55.844156</td>\n",
       "    </tr>\n",
       "    <tr>\n",
       "      <th>75%</th>\n",
       "      <td>12.250000</td>\n",
       "      <td>151.753690</td>\n",
       "      <td>126.595328</td>\n",
       "      <td>5.250000</td>\n",
       "      <td>100.000000</td>\n",
       "    </tr>\n",
       "    <tr>\n",
       "      <th>max</th>\n",
       "      <td>14.000000</td>\n",
       "      <td>271.889154</td>\n",
       "      <td>157.675769</td>\n",
       "      <td>9.000000</td>\n",
       "      <td>100.000000</td>\n",
       "    </tr>\n",
       "  </tbody>\n",
       "</table>\n",
       "</div>"
      ],
      "text/plain": [
       "       Number of Friends   Mean Dist    Std Dist  \\\n",
       "count          32.000000   32.000000   28.000000   \n",
       "mean            7.312500  109.469739   96.949580   \n",
       "std             5.012484   77.139566   39.974938   \n",
       "min             1.000000    0.000000    8.276473   \n",
       "25%             2.000000   40.133585   71.134868   \n",
       "50%             6.500000  121.791521  109.663522   \n",
       "75%            12.250000  151.753690  126.595328   \n",
       "max            14.000000  271.889154  157.675769   \n",
       "\n",
       "       Number of Friends that are Neighbors  \\\n",
       "count                             32.000000   \n",
       "mean                               3.250000   \n",
       "std                                2.565277   \n",
       "min                                1.000000   \n",
       "25%                                1.000000   \n",
       "50%                                2.000000   \n",
       "75%                                5.250000   \n",
       "max                                9.000000   \n",
       "\n",
       "       Percentage of Friends that are Neighbors  \n",
       "count                                 32.000000  \n",
       "mean                                  58.873002  \n",
       "std                                   33.541475  \n",
       "min                                    7.142857  \n",
       "25%                                   28.246753  \n",
       "50%                                   55.844156  \n",
       "75%                                  100.000000  \n",
       "max                                  100.000000  "
      ]
     },
     "execution_count": 51,
     "metadata": {},
     "output_type": "execute_result"
    }
   ],
   "source": [
    "friend_dist_sum = friend_distances.describe()\n",
    "friend_dist_sum"
   ]
  },
  {
   "cell_type": "markdown",
   "metadata": {},
   "source": [
    "#### Like what you see? save the friend distances file with the below code"
   ]
  },
  {
   "cell_type": "code",
   "execution_count": 52,
   "metadata": {
    "collapsed": false,
    "jupyter": {
     "outputs_hidden": false
    }
   },
   "outputs": [],
   "source": [
    "friend_distances.to_csv(r'%s/friend_distances.csv' %(folder))\n",
    "friend_dist_sum.to_csv(r'%s/friend_distances_summary.csv' %(folder))"
   ]
  },
  {
   "cell_type": "markdown",
   "metadata": {},
   "source": [
    "## D. Neighbors in terms of Friends"
   ]
  },
  {
   "cell_type": "markdown",
   "metadata": {},
   "source": [
    "This section has yet to be built. Will talk with Sean Wilson about values that make the most sense. here. perhaps number of neightbors and average r value?"
   ]
  },
  {
   "cell_type": "code",
   "execution_count": 53,
   "metadata": {
    "collapsed": false,
    "jupyter": {
     "outputs_hidden": false
    }
   },
   "outputs": [
    {
     "data": {
      "text/html": [
       "<div>\n",
       "<style scoped>\n",
       "    .dataframe tbody tr th:only-of-type {\n",
       "        vertical-align: middle;\n",
       "    }\n",
       "\n",
       "    .dataframe tbody tr th {\n",
       "        vertical-align: top;\n",
       "    }\n",
       "\n",
       "    .dataframe thead th {\n",
       "        text-align: right;\n",
       "    }\n",
       "</style>\n",
       "<table border=\"1\" class=\"dataframe\">\n",
       "  <thead>\n",
       "    <tr style=\"text-align: right;\">\n",
       "      <th></th>\n",
       "      <th>Number of Neighbors</th>\n",
       "      <th>Mean Correlation</th>\n",
       "      <th>Std Correlation</th>\n",
       "      <th>Number of Neighbors that are Friends</th>\n",
       "      <th>Percentage of Neighbors that are Friends</th>\n",
       "    </tr>\n",
       "  </thead>\n",
       "  <tbody>\n",
       "    <tr>\n",
       "      <th>Roi5</th>\n",
       "      <td>13</td>\n",
       "      <td>-0.612007</td>\n",
       "      <td>0.497990</td>\n",
       "      <td>1.0</td>\n",
       "      <td>7.692308</td>\n",
       "    </tr>\n",
       "    <tr>\n",
       "      <th>Roi6</th>\n",
       "      <td>6</td>\n",
       "      <td>0.363960</td>\n",
       "      <td>0.693186</td>\n",
       "      <td>2.0</td>\n",
       "      <td>33.333333</td>\n",
       "    </tr>\n",
       "    <tr>\n",
       "      <th>Roi15</th>\n",
       "      <td>15</td>\n",
       "      <td>0.674189</td>\n",
       "      <td>0.431659</td>\n",
       "      <td>9.0</td>\n",
       "      <td>60.000000</td>\n",
       "    </tr>\n",
       "    <tr>\n",
       "      <th>Roi19</th>\n",
       "      <td>14</td>\n",
       "      <td>0.468348</td>\n",
       "      <td>0.583556</td>\n",
       "      <td>6.0</td>\n",
       "      <td>42.857143</td>\n",
       "    </tr>\n",
       "    <tr>\n",
       "      <th>Roi27</th>\n",
       "      <td>6</td>\n",
       "      <td>0.241386</td>\n",
       "      <td>0.696458</td>\n",
       "      <td>2.0</td>\n",
       "      <td>33.333333</td>\n",
       "    </tr>\n",
       "  </tbody>\n",
       "</table>\n",
       "</div>"
      ],
      "text/plain": [
       "       Number of Neighbors  Mean Correlation  Std Correlation  \\\n",
       "Roi5                    13         -0.612007         0.497990   \n",
       "Roi6                     6          0.363960         0.693186   \n",
       "Roi15                   15          0.674189         0.431659   \n",
       "Roi19                   14          0.468348         0.583556   \n",
       "Roi27                    6          0.241386         0.696458   \n",
       "\n",
       "       Number of Neighbors that are Friends  \\\n",
       "Roi5                                    1.0   \n",
       "Roi6                                    2.0   \n",
       "Roi15                                   9.0   \n",
       "Roi19                                   6.0   \n",
       "Roi27                                   2.0   \n",
       "\n",
       "       Percentage of Neighbors that are Friends  \n",
       "Roi5                                   7.692308  \n",
       "Roi6                                  33.333333  \n",
       "Roi15                                 60.000000  \n",
       "Roi19                                 42.857143  \n",
       "Roi27                                 33.333333  "
      ]
     },
     "execution_count": 53,
     "metadata": {},
     "output_type": "execute_result"
    }
   ],
   "source": [
    "neighbor_correlation = neighbor_corr(roi_dist, data_corr, neighbor_names, r, d)\n",
    "neighbor_correlation.head()"
   ]
  },
  {
   "cell_type": "markdown",
   "metadata": {},
   "source": [
    "### - Neighbors in terms of Friends Summary"
   ]
  },
  {
   "cell_type": "code",
   "execution_count": 54,
   "metadata": {
    "collapsed": false,
    "jupyter": {
     "outputs_hidden": false
    }
   },
   "outputs": [
    {
     "data": {
      "text/html": [
       "<div>\n",
       "<style scoped>\n",
       "    .dataframe tbody tr th:only-of-type {\n",
       "        vertical-align: middle;\n",
       "    }\n",
       "\n",
       "    .dataframe tbody tr th {\n",
       "        vertical-align: top;\n",
       "    }\n",
       "\n",
       "    .dataframe thead th {\n",
       "        text-align: right;\n",
       "    }\n",
       "</style>\n",
       "<table border=\"1\" class=\"dataframe\">\n",
       "  <thead>\n",
       "    <tr style=\"text-align: right;\">\n",
       "      <th></th>\n",
       "      <th>Number of Neighbors</th>\n",
       "      <th>Mean Correlation</th>\n",
       "      <th>Std Correlation</th>\n",
       "      <th>Number of Neighbors that are Friends</th>\n",
       "      <th>Percentage of Neighbors that are Friends</th>\n",
       "    </tr>\n",
       "  </thead>\n",
       "  <tbody>\n",
       "    <tr>\n",
       "      <th>count</th>\n",
       "      <td>32.000000</td>\n",
       "      <td>32.000000</td>\n",
       "      <td>32.000000</td>\n",
       "      <td>32.000000</td>\n",
       "      <td>32.000000</td>\n",
       "    </tr>\n",
       "    <tr>\n",
       "      <th>mean</th>\n",
       "      <td>9.062500</td>\n",
       "      <td>0.375409</td>\n",
       "      <td>0.520864</td>\n",
       "      <td>3.250000</td>\n",
       "      <td>34.783368</td>\n",
       "    </tr>\n",
       "    <tr>\n",
       "      <th>std</th>\n",
       "      <td>3.697754</td>\n",
       "      <td>0.273120</td>\n",
       "      <td>0.106029</td>\n",
       "      <td>2.565277</td>\n",
       "      <td>18.651607</td>\n",
       "    </tr>\n",
       "    <tr>\n",
       "      <th>min</th>\n",
       "      <td>3.000000</td>\n",
       "      <td>-0.612007</td>\n",
       "      <td>0.205312</td>\n",
       "      <td>1.000000</td>\n",
       "      <td>7.692308</td>\n",
       "    </tr>\n",
       "    <tr>\n",
       "      <th>25%</th>\n",
       "      <td>6.000000</td>\n",
       "      <td>0.267707</td>\n",
       "      <td>0.463279</td>\n",
       "      <td>1.000000</td>\n",
       "      <td>22.222222</td>\n",
       "    </tr>\n",
       "    <tr>\n",
       "      <th>50%</th>\n",
       "      <td>8.500000</td>\n",
       "      <td>0.442750</td>\n",
       "      <td>0.534290</td>\n",
       "      <td>2.000000</td>\n",
       "      <td>33.333333</td>\n",
       "    </tr>\n",
       "    <tr>\n",
       "      <th>75%</th>\n",
       "      <td>13.000000</td>\n",
       "      <td>0.512017</td>\n",
       "      <td>0.588439</td>\n",
       "      <td>5.250000</td>\n",
       "      <td>45.476190</td>\n",
       "    </tr>\n",
       "    <tr>\n",
       "      <th>max</th>\n",
       "      <td>15.000000</td>\n",
       "      <td>0.798182</td>\n",
       "      <td>0.696458</td>\n",
       "      <td>9.000000</td>\n",
       "      <td>75.000000</td>\n",
       "    </tr>\n",
       "  </tbody>\n",
       "</table>\n",
       "</div>"
      ],
      "text/plain": [
       "       Number of Neighbors  Mean Correlation  Std Correlation  \\\n",
       "count            32.000000         32.000000        32.000000   \n",
       "mean              9.062500          0.375409         0.520864   \n",
       "std               3.697754          0.273120         0.106029   \n",
       "min               3.000000         -0.612007         0.205312   \n",
       "25%               6.000000          0.267707         0.463279   \n",
       "50%               8.500000          0.442750         0.534290   \n",
       "75%              13.000000          0.512017         0.588439   \n",
       "max              15.000000          0.798182         0.696458   \n",
       "\n",
       "       Number of Neighbors that are Friends  \\\n",
       "count                             32.000000   \n",
       "mean                               3.250000   \n",
       "std                                2.565277   \n",
       "min                                1.000000   \n",
       "25%                                1.000000   \n",
       "50%                                2.000000   \n",
       "75%                                5.250000   \n",
       "max                                9.000000   \n",
       "\n",
       "       Percentage of Neighbors that are Friends  \n",
       "count                                 32.000000  \n",
       "mean                                  34.783368  \n",
       "std                                   18.651607  \n",
       "min                                    7.692308  \n",
       "25%                                   22.222222  \n",
       "50%                                   33.333333  \n",
       "75%                                   45.476190  \n",
       "max                                   75.000000  "
      ]
     },
     "execution_count": 54,
     "metadata": {},
     "output_type": "execute_result"
    }
   ],
   "source": [
    "neighbor_corr_sum = neighbor_correlation.describe()\n",
    "neighbor_corr_sum"
   ]
  },
  {
   "cell_type": "markdown",
   "metadata": {},
   "source": [
    "#### Like what you see? save the neighbor correlation file with the below code"
   ]
  },
  {
   "cell_type": "code",
   "execution_count": 55,
   "metadata": {
    "collapsed": false,
    "jupyter": {
     "outputs_hidden": false
    }
   },
   "outputs": [],
   "source": [
    "neighbor_correlation.to_csv(r'%s/neighbor_correlation.csv' %(folder))\n",
    "neighbor_corr_sum.to_csv(r'%s/neighbor_correlation_summary.csv' %(folder))"
   ]
  },
  {
   "cell_type": "markdown",
   "metadata": {},
   "source": [
    "# III. Resulting Plots"
   ]
  },
  {
   "cell_type": "markdown",
   "metadata": {},
   "source": [
    "## A. 2d Plots"
   ]
  },
  {
   "cell_type": "markdown",
   "metadata": {},
   "source": [
    "### - All Roi overlay with name calling"
   ]
  },
  {
   "cell_type": "markdown",
   "metadata": {},
   "source": [
    "For some reason, you have to click on the first cell twice. but be assured, it is working. set the object size with s. default is s = 6\n",
    "\n",
    "Save this plot from the pop up graph window."
   ]
  },
  {
   "cell_type": "code",
   "execution_count": 56,
   "metadata": {
    "collapsed": false,
    "jupyter": {
     "outputs_hidden": false
    }
   },
   "outputs": [
    {
     "data": {
      "image/png": "[encoded data removed]",
      "text/plain": [
       "<Figure size 432x288 with 1 Axes>"
      ]
     },
     "metadata": {
      "needs_background": "light"
     },
     "output_type": "display_data"
    }
   ],
   "source": [
    "all_roi_2d(roi_loc , im , s=100)"
   ]
  },
  {
   "cell_type": "markdown",
   "metadata": {},
   "source": [
    "### - Select Roi and Friends plot"
   ]
  },
  {
   "cell_type": "markdown",
   "metadata": {},
   "source": [
    "Call a 2d plot with each roi on it. Choose an roi by name (ex: 'Roi35') to see it's relationship to all other rois. The named roi will be in white. All other roi's will be colored by its r value. \n",
    "\n",
    "when just_friends = True, only friends who meet the r threshold will be shown and all others will be gray. when just_friends = False, all rois will be colored based on r value.\n",
    "\n",
    "Save this plot from the pop up graph window."
   ]
  },
  {
   "cell_type": "code",
   "execution_count": 86,
   "metadata": {
    "collapsed": false,
    "jupyter": {
     "outputs_hidden": false
    }
   },
   "outputs": [
    {
     "ename": "TypeError",
     "evalue": "list indices must be integers, not str",
     "output_type": "error",
     "traceback": [
      "\u001b[0;31m---------------------------------------------------------------------------\u001b[0m",
      "\u001b[0;31mTypeError\u001b[0m                                 Traceback (most recent call last)",
      "\u001b[0;32m<ipython-input-86-0ee9bc6dac36>\u001b[0m in \u001b[0;36m<module>\u001b[0;34m()\u001b[0m\n\u001b[1;32m     36\u001b[0m     \u001b[0mplt\u001b[0m\u001b[0;34m.\u001b[0m\u001b[0msavefig\u001b[0m\u001b[0;34m(\u001b[0m\u001b[0;34mr'%s/friend_2d(r=%s)(d=%s).png'\u001b[0m \u001b[0;34m%\u001b[0m\u001b[0;34m(\u001b[0m\u001b[0mfolder\u001b[0m\u001b[0;34m,\u001b[0m\u001b[0mr\u001b[0m\u001b[0;34m,\u001b[0m\u001b[0md\u001b[0m\u001b[0;34m)\u001b[0m\u001b[0;34m)\u001b[0m\u001b[0;34m\u001b[0m\u001b[0m\n\u001b[1;32m     37\u001b[0m \u001b[0;34m\u001b[0m\u001b[0m\n\u001b[0;32m---> 38\u001b[0;31m \u001b[0mfriend_roi_2d\u001b[0m\u001b[0;34m(\u001b[0m\u001b[0mdata_corr\u001b[0m \u001b[0;34m,\u001b[0m \u001b[0mfriend_names\u001b[0m\u001b[0;34m,\u001b[0m \u001b[0mroi_loc\u001b[0m\u001b[0;34m,\u001b[0m \u001b[0mr\u001b[0m\u001b[0;34m,\u001b[0m \u001b[0md\u001b[0m\u001b[0;34m,\u001b[0m \u001b[0mroi\u001b[0m \u001b[0;34m=\u001b[0m \u001b[0;34m'Roi114'\u001b[0m\u001b[0;34m,\u001b[0m \u001b[0mjust_friends\u001b[0m \u001b[0;34m=\u001b[0m \u001b[0mTrue\u001b[0m\u001b[0;34m,\u001b[0m \u001b[0ms\u001b[0m \u001b[0;34m=\u001b[0m \u001b[0;36m25\u001b[0m\u001b[0;34m)\u001b[0m\u001b[0;34m\u001b[0m\u001b[0m\n\u001b[0m",
      "\u001b[0;32m<ipython-input-86-0ee9bc6dac36>\u001b[0m in \u001b[0;36mfriend_roi_2d\u001b[0;34m(data_corr, friend_names, roi_loc, r, d, roi, just_friends, s)\u001b[0m\n\u001b[1;32m      4\u001b[0m     \u001b[0mtemp_series_list\u001b[0m \u001b[0;34m=\u001b[0m \u001b[0mdata_corr\u001b[0m\u001b[0;34m[\u001b[0m\u001b[0mroi\u001b[0m\u001b[0;34m]\u001b[0m\u001b[0;34m.\u001b[0m\u001b[0mtolist\u001b[0m\u001b[0;34m(\u001b[0m\u001b[0;34m)\u001b[0m\u001b[0;34m\u001b[0m\u001b[0m\n\u001b[1;32m      5\u001b[0m     \u001b[0mtemp_series\u001b[0m \u001b[0;34m=\u001b[0m \u001b[0mdata_corr\u001b[0m\u001b[0;34m[\u001b[0m\u001b[0mroi\u001b[0m\u001b[0;34m]\u001b[0m\u001b[0;34m\u001b[0m\u001b[0m\n\u001b[0;32m----> 6\u001b[0;31m     \u001b[0mtemp_ls\u001b[0m \u001b[0;34m=\u001b[0m \u001b[0mtemp_series\u001b[0m\u001b[0;34m[\u001b[0m\u001b[0mfriend_names\u001b[0m\u001b[0;34m[\u001b[0m\u001b[0mroi\u001b[0m\u001b[0;34m]\u001b[0m\u001b[0;34m]\u001b[0m\u001b[0;34m\u001b[0m\u001b[0m\n\u001b[0m\u001b[1;32m      7\u001b[0m \u001b[0;34m\u001b[0m\u001b[0m\n\u001b[1;32m      8\u001b[0m     \u001b[0;32mdef\u001b[0m \u001b[0mextract_integer_from_string\u001b[0m\u001b[0;34m(\u001b[0m\u001b[0ms\u001b[0m\u001b[0;34m)\u001b[0m\u001b[0;34m:\u001b[0m\u001b[0;34m\u001b[0m\u001b[0m\n",
      "\u001b[0;31mTypeError\u001b[0m: list indices must be integers, not str"
     ]
    }
   ],
   "source": [
    "def friend_roi_2d(data_corr , friend_names, roi_loc, r, d, roi, just_friends, s = 6):\n",
    "    temp_series_list = data_corr[roi].tolist()\n",
    "    temp_series = data_corr[roi]\n",
    "    temp_ls = temp_series[friend_names[roi]]\n",
    "\n",
    "    fig, ax = plt.subplots()\n",
    "    if just_friends == False:\n",
    "        plt.scatter(roi_loc.x, roi_loc.y, s = s, label = 'other objects', edgecolor = 'k', linewidth ='1',c= temp_series_list,cmap=plt.cm.spectral , marker =\"o\", alpha = 1)\n",
    "        plt.colorbar()\n",
    "        plt.clim(-1,1)\n",
    "\n",
    "        \n",
    "    if just_friends == True:    \n",
    "        plt.scatter(roi_loc.x, roi_loc.y, s = s, label = 'other objects', edgecolor = 'k', linewidth ='1',color= 'w' , marker =\"o\", alpha = 0.25)\n",
    "        plt.scatter(roi_loc.x[friend_names[roi]], roi_loc.y[friend_names[roi]], label = 'Friends', s=s, edgecolor = 'k', linewidth ='1',c =temp_ls, cmap=plt.cm.spectral , marker =\"o\", alpha = 1)\n",
    "        plt.colorbar()\n",
    "        plt.clim(r,1)\n",
    "        \n",
    "    plt.scatter(roi_loc.x[roi], roi_loc.y[roi], label = roi, s=(s+25), edgecolor = 'k', marker =\"o\", alpha = 1, color = 'w')\n",
    "    neighborhood = patches.Circle(xy = (roi_loc.x[roi], roi_loc.y[roi]), radius=d, fill = False, color= 'w', lw = 1, ls = 'solid')\n",
    "    ax.add_artist(neighborhood)\n",
    "    \n",
    "    width, height = im.size\n",
    "    plt.xlim(xmin=0, xmax=width)\n",
    "    plt.ylim(ymin = 0, ymax = height)\n",
    "    plt.title(roi)\n",
    "    plt.imshow(im)\n",
    "    #plt.legend(loc = 'center left')\n",
    "\n",
    "    #plt.show()\n",
    "    plt.savefig(r'%s/friend_2d(r=%s)(d=%s).png' %(folder,r,d))\n",
    "    \n",
    "friend_roi_2d(data_corr , friend_names, roi_loc, r, d, roi = 'Roi114', just_friends = True, s = 25)"
   ]
  },
  {
   "cell_type": "markdown",
   "metadata": {},
   "source": [
    "## B. Line Plots"
   ]
  },
  {
   "cell_type": "markdown",
   "metadata": {},
   "source": [
    "All line plots are scaled the same: 0 to the maximum value in the entire dataframe."
   ]
  },
  {
   "cell_type": "markdown",
   "metadata": {},
   "source": [
    "### - Line Plots for all ROIs"
   ]
  },
  {
   "cell_type": "markdown",
   "metadata": {},
   "source": [
    "Use all_roi_line_pdfs to plot each ROI as its own pdf. Each plot is randomly assigned a color. You cannot disable this feature.\n",
    "\n",
    "you can easily consolidate all of these into a single pdf using adobe or another preview program."
   ]
  },
  {
   "cell_type": "code",
   "execution_count": 58,
   "metadata": {
    "collapsed": false,
    "jupyter": {
     "outputs_hidden": false
    }
   },
   "outputs": [
    {
     "name": "stderr",
     "output_type": "stream",
     "text": [
      "/Users/devinwilson/anaconda3/envs/RAAIM/lib/python2.7/site-packages/ipykernel_launcher.py:264: DeprecationWarning: \n",
      ".ix is deprecated. Please use\n",
      ".loc for label based indexing or\n",
      ".iloc for positional indexing\n",
      "\n",
      "See the documentation here:\n",
      "http://pandas.pydata.org/pandas-docs/stable/indexing.html#ix-indexer-is-deprecated\n"
     ]
    }
   ],
   "source": [
    "all_roi_line_pdfs(data, num_rois = len(data.columns), ymin = 0, ymax=max(data.max()), events_x = events_x, events_y = events_y, folder = folder)"
   ]
  },
  {
   "cell_type": "markdown",
   "metadata": {},
   "source": [
    "### - Line Plot for only one ROI"
   ]
  },
  {
   "cell_type": "markdown",
   "metadata": {},
   "source": [
    "Use roi_line_plot to call an ROI and get its plot. It includes the overlay of the LCPro events"
   ]
  },
  {
   "cell_type": "code",
   "execution_count": 60,
   "metadata": {
    "collapsed": false,
    "jupyter": {
     "outputs_hidden": false
    }
   },
   "outputs": [
    {
     "name": "stderr",
     "output_type": "stream",
     "text": [
      "/Users/devinwilson/anaconda3/envs/RAAIM/lib/python2.7/site-packages/ipykernel_launcher.py:278: DeprecationWarning: \n",
      ".ix is deprecated. Please use\n",
      ".loc for label based indexing or\n",
      ".iloc for positional indexing\n",
      "\n",
      "See the documentation here:\n",
      "http://pandas.pydata.org/pandas-docs/stable/indexing.html#ix-indexer-is-deprecated\n"
     ]
    },
    {
     "data": {
      "image/png": "[encoded data removed]",
      "text/plain": [
       "<Figure size 432x288 with 1 Axes>"
      ]
     },
     "metadata": {
      "needs_background": "light"
     },
     "output_type": "display_data"
    }
   ],
   "source": [
    "roi_line_plot(roi = 'Roi114', dataframe = data, events_x = events_x, events_y=events_y, ymin = 0, ymax=max(data.max()))"
   ]
  },
  {
   "cell_type": "markdown",
   "metadata": {},
   "source": [
    "### - Stacked line plot of an ROI and its friends"
   ]
  },
  {
   "cell_type": "markdown",
   "metadata": {},
   "source": [
    "Call an roi by name (ex: 'Roi35') to get a line plot of it and its friends. Save this plot from the pop up graph window."
   ]
  },
  {
   "cell_type": "code",
   "execution_count": 69,
   "metadata": {
    "collapsed": false,
    "jupyter": {
     "outputs_hidden": false
    }
   },
   "outputs": [
    {
     "ename": "TypeError",
     "evalue": "list indices must be integers, not str",
     "output_type": "error",
     "traceback": [
      "\u001b[0;31m---------------------------------------------------------------------------\u001b[0m",
      "\u001b[0;31mTypeError\u001b[0m                                 Traceback (most recent call last)",
      "\u001b[0;32m<ipython-input-69-2e35804134d3>\u001b[0m in \u001b[0;36m<module>\u001b[0;34m()\u001b[0m\n\u001b[0;32m----> 1\u001b[0;31m \u001b[0mfriend_roi_line\u001b[0m\u001b[0;34m(\u001b[0m\u001b[0mdata\u001b[0m\u001b[0;34m,\u001b[0m \u001b[0mfriend_names\u001b[0m\u001b[0;34m,\u001b[0m \u001b[0mroi\u001b[0m \u001b[0;34m=\u001b[0m \u001b[0;34m'Roi114'\u001b[0m\u001b[0;34m,\u001b[0m \u001b[0mfolder\u001b[0m \u001b[0;34m=\u001b[0m \u001b[0mfolder\u001b[0m\u001b[0;34m)\u001b[0m\u001b[0;34m\u001b[0m\u001b[0m\n\u001b[0m",
      "\u001b[0;32m<ipython-input-5-d00faa7232a2>\u001b[0m in \u001b[0;36mfriend_roi_line\u001b[0;34m(data, friend_names, roi, folder)\u001b[0m\n\u001b[1;32m    284\u001b[0m \u001b[0;32mdef\u001b[0m \u001b[0mfriend_roi_line\u001b[0m\u001b[0;34m(\u001b[0m\u001b[0mdata\u001b[0m\u001b[0;34m,\u001b[0m \u001b[0mfriend_names\u001b[0m\u001b[0;34m,\u001b[0m \u001b[0mroi\u001b[0m\u001b[0;34m,\u001b[0m \u001b[0mfolder\u001b[0m\u001b[0;34m)\u001b[0m\u001b[0;34m:\u001b[0m\u001b[0;34m\u001b[0m\u001b[0m\n\u001b[1;32m    285\u001b[0m     \u001b[0mplt\u001b[0m\u001b[0;34m.\u001b[0m\u001b[0mfigure\u001b[0m\u001b[0;34m(\u001b[0m\u001b[0;34m)\u001b[0m\u001b[0;34m\u001b[0m\u001b[0m\n\u001b[0;32m--> 286\u001b[0;31m     \u001b[0mplt\u001b[0m\u001b[0;34m.\u001b[0m\u001b[0mplot\u001b[0m\u001b[0;34m(\u001b[0m\u001b[0mdata\u001b[0m\u001b[0;34m.\u001b[0m\u001b[0mindex\u001b[0m\u001b[0;34m,\u001b[0m \u001b[0mdata\u001b[0m\u001b[0;34m[\u001b[0m\u001b[0mfriend_names\u001b[0m\u001b[0;34m[\u001b[0m\u001b[0mroi\u001b[0m\u001b[0;34m]\u001b[0m\u001b[0;34m]\u001b[0m\u001b[0;34m,\u001b[0m \u001b[0mcolor\u001b[0m \u001b[0;34m=\u001b[0m \u001b[0;34m'#FF6600'\u001b[0m\u001b[0;34m)\u001b[0m\u001b[0;34m\u001b[0m\u001b[0m\n\u001b[0m\u001b[1;32m    287\u001b[0m     \u001b[0mplt\u001b[0m\u001b[0;34m.\u001b[0m\u001b[0mplot\u001b[0m\u001b[0;34m(\u001b[0m\u001b[0mdata\u001b[0m\u001b[0;34m.\u001b[0m\u001b[0mindex\u001b[0m\u001b[0;34m,\u001b[0m \u001b[0mdata\u001b[0m\u001b[0;34m[\u001b[0m\u001b[0mroi\u001b[0m\u001b[0;34m]\u001b[0m\u001b[0;34m,\u001b[0m \u001b[0mcolor\u001b[0m \u001b[0;34m=\u001b[0m \u001b[0;34m'k'\u001b[0m\u001b[0;34m,\u001b[0m\u001b[0;34m)\u001b[0m\u001b[0;34m\u001b[0m\u001b[0m\n\u001b[1;32m    288\u001b[0m     \u001b[0mplt\u001b[0m\u001b[0;34m.\u001b[0m\u001b[0mylim\u001b[0m\u001b[0;34m(\u001b[0m\u001b[0mymin\u001b[0m \u001b[0;34m=\u001b[0m \u001b[0;36m0\u001b[0m\u001b[0;34m,\u001b[0m \u001b[0mymax\u001b[0m \u001b[0;34m=\u001b[0m \u001b[0mmax\u001b[0m\u001b[0;34m(\u001b[0m\u001b[0mdata\u001b[0m\u001b[0;34m.\u001b[0m\u001b[0mmax\u001b[0m\u001b[0;34m(\u001b[0m\u001b[0;34m)\u001b[0m\u001b[0;34m)\u001b[0m\u001b[0;34m)\u001b[0m\u001b[0;34m\u001b[0m\u001b[0m\n",
      "\u001b[0;31mTypeError\u001b[0m: list indices must be integers, not str"
     ]
    },
    {
     "data": {
      "text/plain": [
       "<Figure size 432x288 with 0 Axes>"
      ]
     },
     "metadata": {},
     "output_type": "display_data"
    }
   ],
   "source": [
    "friend_roi_line(data, friend_names, roi = 'Roi114', folder = folder)"
   ]
  },
  {
   "cell_type": "markdown",
   "metadata": {},
   "source": [
    "### - Average line plot of an ROI and its friends"
   ]
  },
  {
   "cell_type": "markdown",
   "metadata": {},
   "source": [
    "Call an roi by name (ex: 'Roi35') to get a line plot of the average of it and its friends. the average standard error for each point is printed below once the plot is closed. Save this plot from the pop up graph window."
   ]
  },
  {
   "cell_type": "code",
   "execution_count": 66,
   "metadata": {
    "collapsed": false,
    "jupyter": {
     "outputs_hidden": false
    }
   },
   "outputs": [
    {
     "ename": "TypeError",
     "evalue": "list indices must be integers, not str",
     "output_type": "error",
     "traceback": [
      "\u001b[0;31m---------------------------------------------------------------------------\u001b[0m",
      "\u001b[0;31mTypeError\u001b[0m                                 Traceback (most recent call last)",
      "\u001b[0;32m<ipython-input-66-662b1a607ea5>\u001b[0m in \u001b[0;36m<module>\u001b[0;34m()\u001b[0m\n\u001b[0;32m----> 1\u001b[0;31m \u001b[0mfriend_roi_line_average\u001b[0m\u001b[0;34m(\u001b[0m\u001b[0mdata\u001b[0m\u001b[0;34m,\u001b[0m \u001b[0mfriend_names\u001b[0m\u001b[0;34m,\u001b[0m \u001b[0mroi\u001b[0m \u001b[0;34m=\u001b[0m \u001b[0;34m'Roi114'\u001b[0m\u001b[0;34m)\u001b[0m\u001b[0;34m\u001b[0m\u001b[0m\n\u001b[0m",
      "\u001b[0;32m<ipython-input-5-d00faa7232a2>\u001b[0m in \u001b[0;36mfriend_roi_line_average\u001b[0;34m(data, friend_names, roi)\u001b[0m\n\u001b[1;32m    293\u001b[0m \u001b[0;34m\u001b[0m\u001b[0m\n\u001b[1;32m    294\u001b[0m \u001b[0;32mdef\u001b[0m \u001b[0mfriend_roi_line_average\u001b[0m\u001b[0;34m(\u001b[0m\u001b[0mdata\u001b[0m\u001b[0;34m,\u001b[0m \u001b[0mfriend_names\u001b[0m\u001b[0;34m,\u001b[0m \u001b[0mroi\u001b[0m\u001b[0;34m)\u001b[0m\u001b[0;34m:\u001b[0m\u001b[0;34m\u001b[0m\u001b[0m\n\u001b[0;32m--> 295\u001b[0;31m     \u001b[0mroi_average\u001b[0m \u001b[0;34m=\u001b[0m \u001b[0mdata\u001b[0m\u001b[0;34m[\u001b[0m\u001b[0mfriend_names\u001b[0m\u001b[0;34m[\u001b[0m\u001b[0mroi\u001b[0m\u001b[0;34m]\u001b[0m\u001b[0;34m]\u001b[0m\u001b[0;34m.\u001b[0m\u001b[0mmean\u001b[0m\u001b[0;34m(\u001b[0m\u001b[0;36m1\u001b[0m\u001b[0;34m)\u001b[0m\u001b[0;34m\u001b[0m\u001b[0m\n\u001b[0m\u001b[1;32m    296\u001b[0m     \u001b[0mroi_std\u001b[0m \u001b[0;34m=\u001b[0m \u001b[0mdata\u001b[0m\u001b[0;34m[\u001b[0m\u001b[0mfriend_names\u001b[0m\u001b[0;34m[\u001b[0m\u001b[0mroi\u001b[0m\u001b[0;34m]\u001b[0m\u001b[0;34m]\u001b[0m\u001b[0;34m.\u001b[0m\u001b[0mstd\u001b[0m\u001b[0;34m(\u001b[0m\u001b[0;36m1\u001b[0m\u001b[0;34m)\u001b[0m\u001b[0;34m\u001b[0m\u001b[0m\n\u001b[1;32m    297\u001b[0m     \u001b[0;32mprint\u001b[0m \u001b[0;34m\"the average of the std of each point is\"\u001b[0m\u001b[0;34m,\u001b[0m \u001b[0mround\u001b[0m\u001b[0;34m(\u001b[0m\u001b[0mnp\u001b[0m\u001b[0;34m.\u001b[0m\u001b[0mmean\u001b[0m\u001b[0;34m(\u001b[0m\u001b[0mroi_std\u001b[0m\u001b[0;34m)\u001b[0m\u001b[0;34m,\u001b[0m\u001b[0;36m4\u001b[0m\u001b[0;34m)\u001b[0m\u001b[0;34m,\u001b[0m \u001b[0;34m\"for\"\u001b[0m\u001b[0;34m,\u001b[0m \u001b[0mroi\u001b[0m\u001b[0;34m,\u001b[0m \u001b[0;34m\"and its friends.\"\u001b[0m\u001b[0;34m\u001b[0m\u001b[0m\n",
      "\u001b[0;31mTypeError\u001b[0m: list indices must be integers, not str"
     ]
    }
   ],
   "source": [
    "friend_roi_line_average(data, friend_names, roi = 'Roi114')"
   ]
  },
  {
   "cell_type": "markdown",
   "metadata": {},
   "source": [
    "### - Autocorrelation Plot"
   ]
  },
  {
   "cell_type": "code",
   "execution_count": 67,
   "metadata": {
    "collapsed": false,
    "jupyter": {
     "outputs_hidden": false
    }
   },
   "outputs": [
    {
     "data": {
      "image/png": "[encoded data removed]",
      "text/plain": [
       "<Figure size 432x288 with 1 Axes>"
      ]
     },
     "metadata": {
      "needs_background": "light"
     },
     "output_type": "display_data"
    }
   ],
   "source": [
    "roi = 'Roi114'\n",
    "\n",
    "autocorrelation_plot(data[roi])\n",
    "plt.title(roi)\n",
    "plt.show()"
   ]
  },
  {
   "cell_type": "markdown",
   "metadata": {},
   "source": [
    "## C. Box and Whister Plots"
   ]
  },
  {
   "cell_type": "markdown",
   "metadata": {},
   "source": [
    "Call an ROI and see the distribution of either its friends' correlations or neighbors' distances.\n",
    "\n",
    "Choose which metrc to use by changing flavor to either 'dist' or 'corr'"
   ]
  },
  {
   "cell_type": "code",
   "execution_count": 76,
   "metadata": {
    "collapsed": false,
    "jupyter": {
     "outputs_hidden": false
    }
   },
   "outputs": [
    {
     "data": {
      "image/png": "[encoded data removed]",
      "text/plain": [
       "<Figure size 432x288 with 1 Axes>"
      ]
     },
     "metadata": {
      "needs_background": "light"
     },
     "output_type": "display_data"
    }
   ],
   "source": [
    "boxandwhiskers(roi = 'Roi103', flavor = 'corr', data_corr = data_corr, roi_dist = roi_dist, r = r, d = d)"
   ]
  },
  {
   "cell_type": "markdown",
   "metadata": {},
   "source": [
    "# End"
   ]
  },
  {
   "cell_type": "markdown",
   "metadata": {},
   "source": [
    "# ............................................................................................................................................"
   ]
  },
  {
   "cell_type": "markdown",
   "metadata": {},
   "source": [
    "## [ Run the next cells of code if you want to randomize the dataset ]"
   ]
  },
  {
   "cell_type": "code",
   "execution_count": null,
   "metadata": {
    "collapsed": false,
    "jupyter": {
     "outputs_hidden": false
    }
   },
   "outputs": [],
   "source": [
    "import random\n",
    "\n",
    "def shuffle(x):\n",
    "    random.shuffle(x)\n",
    "    return x\n",
    "\n",
    "for label, column in data.iteritems():\n",
    "    tempcol = data[label].tolist()\n",
    "    randcol = shuffle(tempcol)  #shuffle the list of values in the column\n",
    "    data[label] = randcol #write over the original list with randomized list"
   ]
  },
  {
   "cell_type": "markdown",
   "metadata": {},
   "source": [
    "### Check that the dataset set is indeed randomized! Compare this table to the table under the header \"(b) Load\""
   ]
  },
  {
   "cell_type": "code",
   "execution_count": null,
   "metadata": {
    "collapsed": false,
    "jupyter": {
     "outputs_hidden": false
    }
   },
   "outputs": [],
   "source": [
    "data.head()"
   ]
  },
  {
   "cell_type": "markdown",
   "metadata": {},
   "source": [
    "### Now, go to analysis and it will run the program with the randomized data. (SKIP I. User Input) "
   ]
  },
  {
   "cell_type": "markdown",
   "metadata": {},
   "source": [
    "# ............................................................................................................................................"
   ]
  },
  {
   "cell_type": "code",
   "execution_count": null,
   "metadata": {},
   "outputs": [],
   "source": []
  },
  {
   "cell_type": "code",
   "execution_count": null,
   "metadata": {},
   "outputs": [],
   "source": []
  }
 ],
 "metadata": {
  "celltoolbar": "Edit Metadata",
  "kernelspec": {
   "display_name": "py2.7",
   "language": "python",
   "name": "raaim"
  },
  "language_info": {
   "codemirror_mode": {
    "name": "ipython",
    "version": 2
   },
   "file_extension": ".py",
   "mimetype": "text/x-python",
   "name": "python",
   "nbconvert_exporter": "python",
   "pygments_lexer": "ipython2",
   "version": "2.7.18"
  }
 },
 "nbformat": 4,
 "nbformat_minor": 5
}
