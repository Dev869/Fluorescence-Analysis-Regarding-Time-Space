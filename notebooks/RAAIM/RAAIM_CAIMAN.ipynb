{
 "cells": [
  {
   "cell_type": "markdown",
   "id": "cce3a14c",
   "metadata": {},
   "source": [
    "# ............................................................................................................................................"
   ]
  },
  {
   "cell_type": "markdown",
   "id": "e6a62599",
   "metadata": {},
   "source": [
    "# Welcome to the RAAIM"
   ]
  },
  {
   "cell_type": "markdown",
   "id": "c0f3c380",
   "metadata": {},
   "source": [
    "Use shift + enter to run a code block or move to the next text block.\n",
    "\n",
    "Run the next block of code to intialize the program.\n",
    "\n",
    "* If you run into a \"C:\\Users\\labuser\\AppData\\Local\\Enthought\\Canopy\\User\\lib\\site-packages\\pandas\\io\\excel.py:626 error\", simply ignore it! The program will still be able to run."
   ]
  },
  {
   "cell_type": "code",
   "execution_count": 25,
   "id": "672c0d6f",
   "metadata": {
    "collapsed": false,
    "jupyter": {
     "outputs_hidden": false
    }
   },
   "outputs": [
    {
     "name": "stdout",
     "output_type": "stream",
     "text": [
      "RAAIM Ready for Analysis\n"
     ]
    }
   ],
   "source": [
    "import numpy as np\n",
    "import glob\n",
    "import scipy\n",
    "from scipy import spatial\n",
    "import pandas as pd\n",
    "import matplotlib.pyplot as plt\n",
    "from pandas import Series, DataFrame\n",
    "import time as t\n",
    "from PIL import Image\n",
    "import sys\n",
    "import os, errno\n",
    "import matplotlib.patches as patches\n",
    "from pandas.plotting import autocorrelation_plot\n",
    "\n",
    "\n",
    "\n",
    "def mkdir_p(path):\n",
    "    try:\n",
    "        os.makedirs(path)\n",
    "    except OSError as exc: # Python >2.5\n",
    "        if exc.errno == errno.EEXIST and os.path.isdir(path):\n",
    "            pass\n",
    "        else: raise\n",
    "\n",
    "import os\n",
    "import glob\n",
    "import pandas as pd\n",
    "from PIL import Image\n",
    "import numpy as np\n",
    "\n",
    "def load_RAAIM(folder, original=False):\n",
    "    data = None\n",
    "    roi_param = None\n",
    "    im = None\n",
    "    events_x = None\n",
    "    events_y = None\n",
    "\n",
    "    # Define patterns and find matching files\n",
    "    pattern_deltaF = os.path.join(folder, '*delta_F_spikes.txt')\n",
    "    pattern_S = os.path.join(folder, '*S_spikes.txt')\n",
    "    pattern_png = os.path.join(folder, '*pretty_plot.png')\n",
    "\n",
    "    files_deltaF = glob.glob(pattern_deltaF)\n",
    "    files_S = glob.glob(pattern_S)\n",
    "    files_png = glob.glob(pattern_png)\n",
    "\n",
    "    # Load delta_F_spikes.txt\n",
    "    if files_deltaF:\n",
    "        file_to_read = files_deltaF[0]\n",
    "        try:\n",
    "            data = pd.read_csv(file_to_read, index_col='time(s)', sep='\\t')\n",
    "            print \"Loaded 'delta_F_spikes.txt'\"\n",
    "        except Exception as e:\n",
    "            print \"Error loading 'delta_F_spikes.txt': {}\".format(e)\n",
    "\n",
    "    # Load S_spikes.txt\n",
    "    if files_S:\n",
    "        file_to_read = files_S[0]\n",
    "        try:\n",
    "            if data is None:\n",
    "                data = pd.read_csv(file_to_read, index_col='time(s)', sep='\\t')\n",
    "            roi_param = pd.read_csv(file_to_read, index_col='ROI', sep='\\t')\n",
    "            print \"Loaded 'S_spikes.txt'\"\n",
    "        except Exception as e:\n",
    "            print \"Error loading 'S_spikes.txt': {}\".format(e)\n",
    "\n",
    "    # Load pretty_plot.png\n",
    "    if files_png:\n",
    "        file_to_read = files_png[0]\n",
    "        try:\n",
    "            im = Image.open(file_to_read)  # MUST BE RGB\n",
    "            print \"Loaded 'pretty_plot.png'\"\n",
    "        except Exception as e:\n",
    "            print \"Error loading 'pretty_plot.png': {}\".format(e)\n",
    "\n",
    "    # Process data\n",
    "    if data is not None and 'Unnamed: 0' in data.columns:\n",
    "        del data['Unnamed: 0']\n",
    "\n",
    "    if data is not None and roi_param is not None:\n",
    "        try:\n",
    "            roi_loc, roi_x, roi_y, data = lcpro_param_parse(roi_param, data, original=original)\n",
    "            print \"Configured Data\"\n",
    "\n",
    "            events_x, events_y = get_events(data=data, roi_param=roi_param)\n",
    "            print \"LCPro events extracted\"\n",
    "        except Exception as e:\n",
    "            print \"Error processing data: {}\".format(e)\n",
    "    else:\n",
    "        print \"Unable to process data: data or roi_param is missing\"\n",
    "        roi_loc, roi_x, roi_y = None, None, None\n",
    "\n",
    "    # Create plots folder\n",
    "    path = os.path.join(folder, \"plots\")\n",
    "    try:\n",
    "        mkdir_p(path)\n",
    "        print \"Made plots folder\"\n",
    "    except Exception as e:\n",
    "        print \"Error creating plots folder: {}\".format(e)\n",
    "\n",
    "    return data, roi_param, im, roi_loc, roi_x, roi_y, events_x, events_y\n",
    "\n",
    "# Helper function to create directory if it doesn't exist (mkdir -p equivalent)\n",
    "def mkdir_p(path):\n",
    "    try:\n",
    "        os.makedirs(path)\n",
    "    except OSError as exc:\n",
    "        if exc.errno == errno.EEXIST and os.path.isdir(path):\n",
    "            pass\n",
    "        else:\n",
    "            raise\n",
    "    \n",
    "def lcpro_param_parse(roi_param, data , original):\n",
    "    '''\n",
    "    This function takes the Dataframe created by opening the 'Parameter List.txt' from LC_Pro. \n",
    "    '''\n",
    "    roi_loc = roi_param[['X', 'Y']]\n",
    "    roi_loc.drop_duplicates(inplace= True)\n",
    "    roi_x = roi_loc['X'].tolist()\n",
    "    roi_y = roi_loc['Y'].tolist()\n",
    "    new_index = []\n",
    "    for i in np.arange(len(roi_loc.index)):\n",
    "        foo = int(roi_loc.index[i])\n",
    "        new_index.append('Roi'+str(foo))\n",
    "    roi_loc = DataFrame({'x':roi_x, 'y':roi_y}, index= new_index)\n",
    "    \n",
    "    if len(data.columns) != len(new_index) and original == True:\n",
    "        sys.exit(\"The number of ROIs in the data file is not equal to the number of ROIs in the parameter file. That doesn't seem right, so I quit the function for you. Make sure you are loading the correct files, please.\")\n",
    "    \n",
    "    if original == False:\n",
    "        data = data[roi_loc.index]\n",
    "    \n",
    "    truth = (data.columns == roi_loc.index).tolist()\n",
    "    \n",
    "    if truth.count(True) != len(data.columns):\n",
    "        sys.exit(\"The names on data and roi_loc are not identical. This will surely break everything later, so I shut down the program. Try loading these files again.\")\n",
    "    \n",
    "    return roi_loc, roi_x, roi_y, data\n",
    "\n",
    "def get_events(data, roi_param):\n",
    "    '''\n",
    "    extract the events from the roi_parameter list. It returns them as a pair of dictionaries.\n",
    "    '''\n",
    "    new_index = []\n",
    "    for i in np.arange(len(roi_param.index)):\n",
    "        new_index.append('Roi'+str(roi_param.index[i]))\n",
    "    roi_events = DataFrame(index= new_index)\n",
    "    roi_events_time = roi_param['Time(s)'].tolist()\n",
    "    roi_events_amp = roi_param['Amp(F/F0)'].tolist()\n",
    "    roi_events['Time'] = roi_events_time\n",
    "    roi_events['Amp'] = roi_events_amp\n",
    "    \n",
    "    events_x = {}\n",
    "    events_y = {}\n",
    "    for label in data.columns:\n",
    "        events_x[label] = []\n",
    "        events_y[label] = []\n",
    "\n",
    "    for i in np.arange(len(roi_events.index)):\n",
    "        key = roi_events.index[i]\n",
    "        events_x[key].append(roi_events.iloc[i,0])\n",
    "        events_y[key].append(roi_events.iloc[i,1])\n",
    "        \n",
    "    return events_x, events_y\n",
    "\n",
    "def cross_correlation(data, r):\n",
    "    '''\n",
    "    This function calculated the cross elation between each ROI pair and returns a dataframe with NxN+1  values.\n",
    "    it also includes a column that contains the number of friends each ROI has.\n",
    "    lastly, it creates a dictionary where the keys are the roi names and names of each roi's friends are stored as a list. by defalut, each roi is at least friends with itself.\n",
    "    this file can be saved out as a CSV later.\n",
    "    '''\n",
    "    \n",
    "    data_corr = data.corr()\n",
    "    ls = (data_corr[data_corr>r].count())\n",
    "    data_corr['Number of Friends'] = ls\n",
    "    cols = data_corr.columns.tolist()\n",
    "    cols = cols[-1:] + cols[:-1]\n",
    "    data_corr = data_corr[cols]\n",
    "    \n",
    "    friend_names = {}\n",
    "    temp_cor = data.corr()\n",
    "    correlation_summary = DataFrame()\n",
    "    \n",
    "    for label, column in temp_cor.iteritems():\n",
    "        friend_names[label] = column[column>r].index.tolist()\n",
    "        friends = column[column>r]\n",
    "        summary = friends.describe()\n",
    "        correlation_summary[label] = np.round(summary, 3)\n",
    "\n",
    "    return data_corr, friend_names, correlation_summary\n",
    "\n",
    "def distance_matrix(roi_x, roi_y , roi_loc , d):\n",
    "    '''\n",
    "    This function calculates the euclidean distance between each ROI pair. It returns a dataframe with these distances.\n",
    "    it also includes a column that contains the number of neighbors each ROI has.\n",
    "    the files can be saved out as a CSV later.\n",
    "    It also returns the list of the (x,y) tuple for each roi.\n",
    "    '''\n",
    "    loc_tup = []\n",
    "    for i in np.arange(len(roi_x)):\n",
    "        loc_tup.append((roi_x[i], roi_y[i]))\n",
    "    \n",
    "    roi_dist = DataFrame(data = (scipy.spatial.distance.cdist(loc_tup, loc_tup, 'euclidean')), index = roi_loc.index, columns= roi_loc.index)\n",
    "    roi_dist_f = roi_dist\n",
    "    \n",
    "    neighbor_names = {}\n",
    "    distance_summary = DataFrame()\n",
    "    \n",
    "    for label, column in roi_dist.iteritems():\n",
    "        neighbor_names[label] = column[column<=d].index.tolist()\n",
    "        neighbors = column[column<=d]\n",
    "        summary = neighbors.describe()\n",
    "        distance_summary[label] = np.round(summary, 3)\n",
    "\n",
    "    ls = (roi_dist[roi_dist<=d].count())\n",
    "    roi_dist_f['Number of Neighbors'] = ls\n",
    "    cols = roi_dist_f.columns.tolist()\n",
    "    cols = cols[-1:] + cols[:-1]\n",
    "    roi_dist_f = roi_dist_f[cols]\n",
    "    \n",
    "    return roi_dist_f, loc_tup, neighbor_names, distance_summary\n",
    "\n",
    "def friend_dist(data_corr, roi_dist, friend_names, r, d):\n",
    "    '''\n",
    "    calculates distance information about each roi's friends.\n",
    "    returns a dataframe with Distance Sum, number of friends, and mean distance. mean dist = distance sum/number of fiends\n",
    "    '''\n",
    "    roi_friend_dist = DataFrame(index = data_corr.index)\n",
    "    #roi_friend_dist['Distance sum'] = (roi_dist[data_corr>r].sum())\n",
    "    roi_friend_dist['Number of Friends'] = (data_corr[data_corr>r].count())\n",
    "    roi_friend_dist['Mean Dist'] = (roi_dist[data_corr>r].mean())\n",
    "    roi_friend_dist['Std Dist'] = (roi_dist[data_corr>r].std())\n",
    "    \n",
    "    perc_friends_are_neighbors = Series(index = roi_dist.index) #empty series\n",
    "    for key in friend_names:\n",
    "        temp_series = roi_dist.loc[key, friend_names[key]]\n",
    "        count = temp_series[temp_series<=d].count()\n",
    "        perc_friends_are_neighbors[key] = count\n",
    "    roi_friend_dist['Number of Friends that are Neighbors'] = perc_friends_are_neighbors\n",
    "    roi_friend_dist['Percentage of Friends that are Neighbors'] = (roi_friend_dist['Number of Friends that are Neighbors']/roi_friend_dist['Number of Friends'])*100\n",
    "    \n",
    "    return roi_friend_dist\n",
    "\n",
    "def neighbor_corr(roi_dist, data_corr, neighbor_names, r, d):\n",
    "    '''\n",
    "    Calculates correlation information about each roi's neighbors.\n",
    "    returns dataframe with corr of neighbors, corr of neighbors that are friends, percent of neighbors that are friends\n",
    "    '''\n",
    "    \n",
    "    roi_neighbor_corr = DataFrame(index = roi_dist.index)\n",
    "    roi_neighbor_corr['Number of Neighbors'] = (roi_dist[roi_dist<=d].count())\n",
    "    roi_neighbor_corr['Mean Correlation'] = (data_corr[roi_dist<=d].mean())\n",
    "    roi_neighbor_corr['Std Correlation'] = (data_corr[roi_dist<=d].std())\n",
    "    \n",
    "    perc_neighbors_are_friends = Series(index = roi_dist.index)\n",
    "    for key in neighbor_names:\n",
    "        temp_series = data_corr.loc[key, neighbor_names[key]]\n",
    "        count = temp_series[temp_series>r].count()\n",
    "        perc_neighbors_are_friends[key] = count\n",
    "    roi_neighbor_corr['Number of Neighbors that are Friends'] = perc_neighbors_are_friends\n",
    "    roi_neighbor_corr['Percentage of Neighbors that are Friends'] = (roi_neighbor_corr['Number of Neighbors that are Friends']/roi_neighbor_corr['Number of Neighbors'])*100\n",
    "    \n",
    "    return roi_neighbor_corr\n",
    "\n",
    "def onpick(event):\n",
    "    '''\n",
    "    allows us to click on an roi and print in the notebook it's name.\n",
    "    '''\n",
    "    ind = event.ind\n",
    "    ind = ind[0]\n",
    "    print('Roi selected =', roi_loc.index[ind])\n",
    "    \n",
    "def all_roi_2d(roi_loc , im , s=6):\n",
    "    '''\n",
    "    makes a scatter plot of each roi overlayed on an uploaded image. when you click on an roi, it prints the name of the roi\n",
    "    for some reason, it takes two clicks to start printing. Not sure why\n",
    "    '''\n",
    "    fig, ax = plt.subplots()\n",
    "    col = ax.scatter(roi_loc.x, roi_loc.y, s=s, edgecolor = 'k', linewidth ='1',color = 'y', marker =\"o\", alpha = 0.75, picker = True)\n",
    "    fig.canvas.mpl_connect('pick_event', onpick)\n",
    "\n",
    "    width, height = im.size\n",
    "    plt.xlim(xmin=0, xmax=width)\n",
    "    plt.ylim(ymin = 0, ymax = height)\n",
    "    plt.title('All LC_Pro ROIs')\n",
    "    plt.imshow(im)\n",
    "    plt.show()\n",
    "    \n",
    "def friend_roi_2d(data_corr , friend_names, roi_loc, r, d, roi, just_friends, s = 6):\n",
    "    temp_series_list = data_corr[roi].tolist()\n",
    "    temp_series = data_corr[roi]\n",
    "    temp_ls = temp_series[friend_names[roi]]\n",
    "\n",
    "    fig, ax = plt.subplots()\n",
    "    if just_friends == False:\n",
    "        plt.scatter(roi_loc.x, roi_loc.y, s = s, label = 'other objects', edgecolor = 'k', linewidth ='1',c= temp_series_list,cmap=plt.cm.spectral , marker =\"o\", alpha = 1)\n",
    "        plt.colorbar()\n",
    "        plt.clim(-1,1)\n",
    "\n",
    "        \n",
    "    if just_friends == True:    \n",
    "        plt.scatter(roi_loc.x, roi_loc.y, s = s, label = 'other objects', edgecolor = 'k', linewidth ='1',color= 'w' , marker =\"o\", alpha = 0.25)\n",
    "        plt.scatter(roi_loc.x[friend_names[roi]], roi_loc.y[friend_names[roi]], label = 'Friends', s=s, edgecolor = 'k', linewidth ='1',c =temp_ls, cmap=plt.cm.spectral , marker =\"o\", alpha = 1)\n",
    "        plt.colorbar()\n",
    "        plt.clim(r,1)\n",
    "        \n",
    "    plt.scatter(roi_loc.x[roi], roi_loc.y[roi], label = roi, s=(s+25), edgecolor = 'k', marker =\"o\", alpha = 1, color = 'w')\n",
    "    neighborhood = patches.Circle(xy = (roi_loc.x[roi], roi_loc.y[roi]), radius=d, fill = False, color= 'w', lw = 1, ls = 'solid')\n",
    "    ax.add_artist(neighborhood)\n",
    "    \n",
    "    width, height = im.size\n",
    "    plt.xlim(xmin=0, xmax=width)\n",
    "    plt.ylim(ymin = 0, ymax = height)\n",
    "    plt.title(roi)\n",
    "    plt.imshow(im)\n",
    "    #plt.legend(loc = 'center left')\n",
    "\n",
    "    #plt.show()\n",
    "    plt.savefig(r'%s/friend_2d(r=%s)(d=%s).png' %(folder,r,d))\n",
    "    \n",
    "def all_roi_line_pdfs(dataframe, num_rois, ymin, ymax, events_x, events_y, folder):\n",
    "    \n",
    "    for r in np.arange(num_rois):\n",
    "        \n",
    "        plt.figure()\n",
    "        plt.xlabel('Time (s)')\n",
    "        plt.ylabel('Intensity')\n",
    "        plt.title(dataframe.columns[r])\n",
    "        plt.ylim(ymin = ymin, ymax = ymax)\n",
    "        plt.xlim(xmin= dataframe.index[0], xmax = dataframe.index[-1])\n",
    "        plt.plot(dataframe.index, dataframe.ix[:,r], color = [np.random.random(), np.random.random(), np.random.random()])\n",
    "        plt.plot(events_x[dataframe.columns[r]], events_y[dataframe.columns[r]],  marker = \"^\", color=\"y\", linestyle= \"None\")\n",
    "        \n",
    "        plt.savefig(r'%s/plots/%s.pdf' %(folder,dataframe.columns[r]))\n",
    "        plt.close()\n",
    "        \n",
    "def roi_line_plot(roi, dataframe, events_x, events_y, ymin, ymax):\n",
    "    \n",
    "    plt.figure()\n",
    "    plt.xlabel('Time (s)')\n",
    "    plt.ylabel('Intensity')\n",
    "    plt.title(roi)\n",
    "    plt.ylim(ymin = ymin, ymax = ymax)\n",
    "    plt.xlim(xmin= dataframe.index[0], xmax = dataframe.index[-1])\n",
    "    plt.plot(dataframe.index, dataframe.ix[:,roi], color = 'k')\n",
    "    plt.plot(events_x[roi], events_y[roi],  marker = \"^\", color=\"y\", linestyle= \"None\")\n",
    "\n",
    "    plt.show()\n",
    "    \n",
    "    \n",
    "def friend_roi_line(data, friend_names, roi, folder):\n",
    "    plt.figure()\n",
    "    plt.plot(data.index, data[friend_names[roi]], color = '#FF6600')\n",
    "    plt.plot(data.index, data[roi], color = 'k',)\n",
    "    plt.ylim(ymin = 0, ymax = max(data.max()))\n",
    "    plt.title(roi)\n",
    "\n",
    "    #plt.show()\n",
    "    plt.savefig(r'%s/friend_line(r=%s)(d=%s).png' %(folder,r,d))\n",
    "    \n",
    "def friend_roi_line_average(data, friend_names, roi):\n",
    "    roi_average = data[friend_names[roi]].mean(1)\n",
    "    roi_std = data[friend_names[roi]].std(1)\n",
    "    print \"the average of the std of each point is\", round(np.mean(roi_std),4), \"for\", roi, \"and its friends.\"\n",
    "\n",
    "    plt.figure()\n",
    "    plt.plot(data[friend_names[roi]].mean(1))\n",
    "    plt.ylim(ymin = 0, ymax = max(data.max()))\n",
    "    plt.title('Average of '+roi+' and its friends')\n",
    "    plt.show()\n",
    "\n",
    "def boxandwhiskers(roi, flavor,data_corr, roi_dist, r, d):\n",
    "    '''\n",
    "    Returns the box and whiskers plot of a named ROI's friends or neighbors.\n",
    "    \n",
    "    '''\n",
    "    if flavor == 'corr':\n",
    "        temp_series = data_corr[roi]\n",
    "        temp_series = temp_series[temp_series>r]\n",
    "        plt.boxplot(temp_series)\n",
    "        plt.ylim(ymin = r*0.85, ymax = 1.1)\n",
    "        plt.xticks(np.arange(1),roi)\n",
    "        plt.title(roi)\n",
    "        plt.text(0.55,r,temp_series.describe())\n",
    "        plt.ylabel('Correlation (r)')\n",
    "        plt.show()\n",
    "        \n",
    "    \n",
    "    elif flavor == 'dist':\n",
    "        temp_series = roi_dist[roi]\n",
    "        temp_series = temp_series[temp_series<=d]\n",
    "        plt.boxplot(temp_series)\n",
    "        plt.ylim(ymin = -3, ymax = d*1.25)\n",
    "        plt.xticks(np.arange(1),roi)\n",
    "        plt.title(roi)\n",
    "        plt.text(0.55,d*0.5,temp_series.describe())\n",
    "        plt.ylabel('Distance (pixels)')\n",
    "        plt.show()\n",
    "        \n",
    "        \n",
    "    else:\n",
    "        print \"ERROR: flavor must be set to either 'corr' or 'dist'.\"        \n",
    "        \n",
    "print \"RAAIM Ready for Analysis\""
   ]
  },
  {
   "cell_type": "markdown",
   "id": "0cba840c",
   "metadata": {},
   "source": [
    "# I. Begin User Input"
   ]
  },
  {
   "cell_type": "markdown",
   "id": "f8ebd6af",
   "metadata": {},
   "source": [
    "This whole notebook is especially formated for LC_pro outputs. This means that the load functions and wrappers expect that certain columns are in exactly the right locations and labels are formatted a certain way. This author does not expect other types of files to be handled properly (as in: will probably fail). "
   ]
  },
  {
   "cell_type": "markdown",
   "id": "706ff179",
   "metadata": {},
   "source": [
    "## ------------------------------- An Important note about saving!  -------------------------------"
   ]
  },
  {
   "cell_type": "markdown",
   "id": "662f9ae9",
   "metadata": {},
   "source": [
    "This notebook is brutal and will mercilessly **save over exsisting files of the same name without warning!**\n",
    "\n",
    "You can manually change the name of the saved file one way: \n",
    "\n",
    "Change part of the text portion of the VARIBLE.to_csv(r'%s/**OBJECT**.csv' %(folder)). you can change **OBJECT** to whatever you want. go nuts. \n",
    "\n",
    "Remember, only you can keep all your files organized and named properly. I'm just here to help. Use a naming convention that is simple and easy to understand/remember. You can totally move ALL of these files to anywhere once you've run this analysis. It won't break stuff."
   ]
  },
  {
   "cell_type": "markdown",
   "id": "2153121f",
   "metadata": {},
   "source": [
    "## ------------------------------------------------------------------------------------------------------"
   ]
  },
  {
   "cell_type": "markdown",
   "id": "9b2277a9",
   "metadata": {},
   "source": [
    "## A. Declare Your Folder"
   ]
  },
  {
   "cell_type": "markdown",
   "id": "7bc2a1f6",
   "metadata": {},
   "source": [
    "Change the following string below to the location of the folder where your data is. You will also save all of your data in this folder. Must be full path name and not end in a /.\n",
    "\n",
    "**Example:**\n",
    "\n",
    "\"/Users/abigaildobyns/Desktop/RAAIM\""
   ]
  },
  {
   "cell_type": "code",
   "execution_count": 26,
   "id": "b3d1ad08",
   "metadata": {
    "collapsed": false,
    "jupyter": {
     "outputs_hidden": false
    }
   },
   "outputs": [
    {
     "name": "stdout",
     "output_type": "stream",
     "text": [
      "Unable to process data: data or roi_param is missing\n",
      "Made plots folder\n"
     ]
    },
    {
     "ename": "AttributeError",
     "evalue": "'NoneType' object has no attribute 'corr'",
     "output_type": "error",
     "traceback": [
      "\u001b[0;31m---------------------------------------------------------------------------\u001b[0m",
      "\u001b[0;31mAttributeError\u001b[0m                            Traceback (most recent call last)",
      "\u001b[0;32m<ipython-input-26-dd879d4e19fc>\u001b[0m in \u001b[0;36m<module>\u001b[0;34m()\u001b[0m\n\u001b[1;32m      5\u001b[0m \u001b[0mr\u001b[0m \u001b[0;34m=\u001b[0m \u001b[0;36m.8\u001b[0m \u001b[0;31m#set r value, must be -1<= r <=1\u001b[0m\u001b[0;34m\u001b[0m\u001b[0m\n\u001b[1;32m      6\u001b[0m \u001b[0md\u001b[0m \u001b[0;34m=\u001b[0m \u001b[0;36m100\u001b[0m \u001b[0;31m# set the maximum distance from an ROI that is the threshold for neighborhood\u001b[0m\u001b[0;34m\u001b[0m\u001b[0m\n\u001b[0;32m----> 7\u001b[0;31m \u001b[0mdata_corr\u001b[0m\u001b[0;34m,\u001b[0m \u001b[0mfriend_names\u001b[0m\u001b[0;34m,\u001b[0m \u001b[0mcorrelation_summary\u001b[0m \u001b[0;34m=\u001b[0m \u001b[0mcross_correlation\u001b[0m\u001b[0;34m(\u001b[0m\u001b[0mdata\u001b[0m\u001b[0;34m,\u001b[0m \u001b[0mr\u001b[0m\u001b[0;34m)\u001b[0m\u001b[0;34m\u001b[0m\u001b[0m\n\u001b[0m\u001b[1;32m      8\u001b[0m \u001b[0mdata_corr\u001b[0m\u001b[0;34m.\u001b[0m\u001b[0mto_csv\u001b[0m\u001b[0;34m(\u001b[0m\u001b[0;34mr'%s/xcor(r=%s)(d=%s).csv'\u001b[0m \u001b[0;34m%\u001b[0m\u001b[0;34m(\u001b[0m\u001b[0mfolder\u001b[0m\u001b[0;34m,\u001b[0m\u001b[0mr\u001b[0m\u001b[0;34m,\u001b[0m\u001b[0md\u001b[0m\u001b[0;34m)\u001b[0m\u001b[0;34m)\u001b[0m\u001b[0;34m\u001b[0m\u001b[0m\n\u001b[1;32m      9\u001b[0m \u001b[0mcorrelation_summary\u001b[0m\u001b[0;34m.\u001b[0m\u001b[0mto_csv\u001b[0m\u001b[0;34m(\u001b[0m\u001b[0;34mr'%s/xcor_summary(r=%s)(d=%s).csv'\u001b[0m\u001b[0;34m%\u001b[0m\u001b[0;34m(\u001b[0m\u001b[0mfolder\u001b[0m\u001b[0;34m,\u001b[0m\u001b[0mr\u001b[0m\u001b[0;34m,\u001b[0m\u001b[0md\u001b[0m\u001b[0;34m)\u001b[0m\u001b[0;34m)\u001b[0m\u001b[0;34m\u001b[0m\u001b[0m\n",
      "\u001b[0;32m<ipython-input-25-d2e967e754be>\u001b[0m in \u001b[0;36mcross_correlation\u001b[0;34m(data, r)\u001b[0m\n\u001b[1;32m    172\u001b[0m     '''\n\u001b[1;32m    173\u001b[0m \u001b[0;34m\u001b[0m\u001b[0m\n\u001b[0;32m--> 174\u001b[0;31m     \u001b[0mdata_corr\u001b[0m \u001b[0;34m=\u001b[0m \u001b[0mdata\u001b[0m\u001b[0;34m.\u001b[0m\u001b[0mcorr\u001b[0m\u001b[0;34m(\u001b[0m\u001b[0;34m)\u001b[0m\u001b[0;34m\u001b[0m\u001b[0m\n\u001b[0m\u001b[1;32m    175\u001b[0m     \u001b[0mls\u001b[0m \u001b[0;34m=\u001b[0m \u001b[0;34m(\u001b[0m\u001b[0mdata_corr\u001b[0m\u001b[0;34m[\u001b[0m\u001b[0mdata_corr\u001b[0m\u001b[0;34m>\u001b[0m\u001b[0mr\u001b[0m\u001b[0;34m]\u001b[0m\u001b[0;34m.\u001b[0m\u001b[0mcount\u001b[0m\u001b[0;34m(\u001b[0m\u001b[0;34m)\u001b[0m\u001b[0;34m)\u001b[0m\u001b[0;34m\u001b[0m\u001b[0m\n\u001b[1;32m    176\u001b[0m     \u001b[0mdata_corr\u001b[0m\u001b[0;34m[\u001b[0m\u001b[0;34m'Number of Friends'\u001b[0m\u001b[0;34m]\u001b[0m \u001b[0;34m=\u001b[0m \u001b[0mls\u001b[0m\u001b[0;34m\u001b[0m\u001b[0m\n",
      "\u001b[0;31mAttributeError\u001b[0m: 'NoneType' object has no attribute 'corr'"
     ]
    }
   ],
   "source": [
    "folder = r'/Users/devinwilson/Documents/lab_docs/calcium_project/calcium_analysis_software/Fluoresence_Associations_Regarding_Time_Space(FARTS)/outputs/ctrl normoxic'\n",
    "data, roi_param, im, roi_loc, roi_x, roi_y, events_x, events_y = load_RAAIM(folder=folder, original=False)\n",
    "roi = 'Roi103'\n",
    "\n",
    "r = .8 #set r value, must be -1<= r <=1\n",
    "d = 100 # set the maximum distance from an ROI that is the threshold for neighborhood\n",
    "data_corr, friend_names, correlation_summary = cross_correlation(data, r)\n",
    "data_corr.to_csv(r'%s/xcor(r=%s)(d=%s).csv' %(folder,r,d))\n",
    "correlation_summary.to_csv(r'%s/xcor_summary(r=%s)(d=%s).csv'%(folder,r,d))\n",
    "roi_dist, loc_tup, neighbor_names, distance_summary = distance_matrix(roi_x, roi_y , roi_loc , d)\n",
    "roi_dist.to_csv(r'%s/dist_matrix(r=%s)(d=%s).csv' %(folder,r,d))\n",
    "distance_summary.to_csv(r'%s/dist_summary(r=%s)(d=%s).csv' %(folder,r,d))\n",
    "friend_distances = friend_dist(data_corr, roi_dist, friend_names, r, d)\n",
    "friend_dist_sum = friend_distances.describe()\n",
    "friend_distances.to_csv(r'%s/friend_distances(r=%s)(d=%s).csv' %(folder,r,d))\n",
    "friend_dist_sum.to_csv(r'%s/friend_distances_summary(r=%s)(d=%s).csv' %(folder,r,d))\n",
    "neighbor_correlation = neighbor_corr(roi_dist, data_corr, neighbor_names, r, d)\n",
    "neighbor_corr_sum = neighbor_correlation.describe()\n",
    "neighbor_correlation.to_csv(r'%s/neighbor_correlation(r=%s)(d=%s).csv' %(folder,r,d))\n",
    "neighbor_corr_sum.to_csv(r'%s/neighbor_correlation_summary(r=%s)(d=%s).csv' %(folder,r,d))\n",
    "\n",
    "friend_roi_line(data, friend_names, roi = roi, folder = folder)\n",
    "#fig1.savefig(r'%s/friend_line.png' %(folder))\n",
    "#friend_roi_2d(data_corr , friend_names, roi_loc, r, d, roi = roi, just_friends = True, s = 100)\n",
    "#fig2.savefig(r'%s/friend_2d.png' %(folder))\n",
    "\n",
    "#friend_roi_line.to_png(r'%s/line_plot_with_friends.png' %(folder))\n",
    "\n",
    "#all_roi_line_pdfs(data, num_rois = len(data.columns), ymin = 0, ymax=max(data.max()), events_x = events_x, events_y = events_y, folder = folder)\n",
    "\n",
    "friend_dist_sum[['Number of Friends', 'Mean Dist', 'Percentage of Friends that are Neighbors']]\n",
    "\n",
    "#neighbor_corr_sum[['Number of Neighbors', 'Percentage of Neighbors that are Friends']]"
   ]
  },
  {
   "cell_type": "code",
   "execution_count": null,
   "id": "3516f077",
   "metadata": {},
   "outputs": [],
   "source": []
  },
  {
   "cell_type": "markdown",
   "id": "78f9de1c",
   "metadata": {},
   "source": [
    "## B. Load"
   ]
  },
  {
   "cell_type": "markdown",
   "id": "3e56b6b9",
   "metadata": {},
   "source": [
    "Use the following block below to load your data. There should be three files in this folder:\n",
    "\n",
    "1. 'ROI normalized.txt'\n",
    "\n",
    "2. 'Parameter List_edit.txt'\n",
    "\n",
    "3. 'rbg.png'\n",
    "\n",
    "There should be no headers (other than column names) in the text files. the text files can be either .txt or .csv. if you have problems loading them, make sure that the data is not corrupted, it is in the correct file type, the delimiter is correct, and the file path is correct. \n",
    "\n",
    "the image still can be just a random frame or the averaged or compressed stack. it must be convered to RGB and saved as .png."
   ]
  },
  {
   "cell_type": "markdown",
   "id": "f4a4f918",
   "metadata": {},
   "source": [
    "###### if you get a *SettingWithCopyWarning*,  **Don't worry, that's normal**. I know that you are setting with a copy. It's on purpose"
   ]
  },
  {
   "cell_type": "code",
   "execution_count": 5,
   "id": "92bb4f24",
   "metadata": {
    "collapsed": false,
    "jupyter": {
     "outputs_hidden": false
    }
   },
   "outputs": [
    {
     "name": "stdout",
     "output_type": "stream",
     "text": [
      "Loaded 'ROI normalized_edited.txt'\n",
      "Loaded 'Parameter List.txt'\n",
      "Loaded 'rgb.png'\n",
      "Configured Data\n",
      "LCPro events extracted\n",
      "Made plots folder\n"
     ]
    },
    {
     "name": "stderr",
     "output_type": "stream",
     "text": [
      "/Users/devinwilson/anaconda3/envs/RAAIM/lib/python2.7/site-packages/ipykernel_launcher.py:51: SettingWithCopyWarning: \n",
      "A value is trying to be set on a copy of a slice from a DataFrame\n",
      "\n",
      "See the caveats in the documentation: http://pandas.pydata.org/pandas-docs/stable/indexing.html#indexing-view-versus-copy\n"
     ]
    }
   ],
   "source": [
    "data, roi_param, im, roi_loc, roi_x, roi_y, events_x, events_y = load_RAAIM(folder=folder, original=False)"
   ]
  },
  {
   "cell_type": "markdown",
   "id": "a22bed78",
   "metadata": {},
   "source": [
    "###### Use the two cells below to check that the data and roi_loc dataframes look as expected."
   ]
  },
  {
   "cell_type": "code",
   "execution_count": 6,
   "id": "f1542bfa",
   "metadata": {
    "collapsed": false,
    "jupyter": {
     "outputs_hidden": false
    }
   },
   "outputs": [
    {
     "data": {
      "text/html": [
       "<div>\n",
       "<style scoped>\n",
       "    .dataframe tbody tr th:only-of-type {\n",
       "        vertical-align: middle;\n",
       "    }\n",
       "\n",
       "    .dataframe tbody tr th {\n",
       "        vertical-align: top;\n",
       "    }\n",
       "\n",
       "    .dataframe thead th {\n",
       "        text-align: right;\n",
       "    }\n",
       "</style>\n",
       "<table border=\"1\" class=\"dataframe\">\n",
       "  <thead>\n",
       "    <tr style=\"text-align: right;\">\n",
       "      <th></th>\n",
       "      <th>Roi4</th>\n",
       "      <th>Roi5</th>\n",
       "      <th>Roi39</th>\n",
       "      <th>Roi60</th>\n",
       "      <th>Roi61</th>\n",
       "      <th>Roi62</th>\n",
       "      <th>Roi80</th>\n",
       "      <th>Roi83</th>\n",
       "    </tr>\n",
       "    <tr>\n",
       "      <th>time(s)</th>\n",
       "      <th></th>\n",
       "      <th></th>\n",
       "      <th></th>\n",
       "      <th></th>\n",
       "      <th></th>\n",
       "      <th></th>\n",
       "      <th></th>\n",
       "      <th></th>\n",
       "    </tr>\n",
       "  </thead>\n",
       "  <tbody>\n",
       "    <tr>\n",
       "      <th>0.78125</th>\n",
       "      <td>1.000962</td>\n",
       "      <td>1.258611</td>\n",
       "      <td>1.240211</td>\n",
       "      <td>1.083883</td>\n",
       "      <td>1.210127</td>\n",
       "      <td>1.224678</td>\n",
       "      <td>1.284743</td>\n",
       "      <td>1.000962</td>\n",
       "    </tr>\n",
       "    <tr>\n",
       "      <th>1.56250</th>\n",
       "      <td>1.108821</td>\n",
       "      <td>1.239945</td>\n",
       "      <td>1.283727</td>\n",
       "      <td>1.059305</td>\n",
       "      <td>1.162425</td>\n",
       "      <td>1.206822</td>\n",
       "      <td>1.293907</td>\n",
       "      <td>1.108821</td>\n",
       "    </tr>\n",
       "    <tr>\n",
       "      <th>2.34375</th>\n",
       "      <td>0.997200</td>\n",
       "      <td>1.220253</td>\n",
       "      <td>1.924616</td>\n",
       "      <td>1.090403</td>\n",
       "      <td>1.181474</td>\n",
       "      <td>1.192668</td>\n",
       "      <td>1.447421</td>\n",
       "      <td>0.997200</td>\n",
       "    </tr>\n",
       "    <tr>\n",
       "      <th>3.12500</th>\n",
       "      <td>1.047403</td>\n",
       "      <td>1.227780</td>\n",
       "      <td>1.640534</td>\n",
       "      <td>1.061719</td>\n",
       "      <td>1.153526</td>\n",
       "      <td>1.200101</td>\n",
       "      <td>1.675468</td>\n",
       "      <td>1.047403</td>\n",
       "    </tr>\n",
       "    <tr>\n",
       "      <th>3.90625</th>\n",
       "      <td>0.991038</td>\n",
       "      <td>1.244094</td>\n",
       "      <td>1.522567</td>\n",
       "      <td>1.075764</td>\n",
       "      <td>1.172015</td>\n",
       "      <td>1.174646</td>\n",
       "      <td>1.621645</td>\n",
       "      <td>0.991038</td>\n",
       "    </tr>\n",
       "  </tbody>\n",
       "</table>\n",
       "</div>"
      ],
      "text/plain": [
       "             Roi4      Roi5     Roi39     Roi60     Roi61     Roi62     Roi80  \\\n",
       "time(s)                                                                         \n",
       "0.78125  1.000962  1.258611  1.240211  1.083883  1.210127  1.224678  1.284743   \n",
       "1.56250  1.108821  1.239945  1.283727  1.059305  1.162425  1.206822  1.293907   \n",
       "2.34375  0.997200  1.220253  1.924616  1.090403  1.181474  1.192668  1.447421   \n",
       "3.12500  1.047403  1.227780  1.640534  1.061719  1.153526  1.200101  1.675468   \n",
       "3.90625  0.991038  1.244094  1.522567  1.075764  1.172015  1.174646  1.621645   \n",
       "\n",
       "            Roi83  \n",
       "time(s)            \n",
       "0.78125  1.000962  \n",
       "1.56250  1.108821  \n",
       "2.34375  0.997200  \n",
       "3.12500  1.047403  \n",
       "3.90625  0.991038  "
      ]
     },
     "execution_count": 6,
     "metadata": {},
     "output_type": "execute_result"
    }
   ],
   "source": [
    "data.head()"
   ]
  },
  {
   "cell_type": "code",
   "execution_count": 7,
   "id": "90ed77f7",
   "metadata": {
    "collapsed": false,
    "jupyter": {
     "outputs_hidden": false
    }
   },
   "outputs": [
    {
     "data": {
      "text/html": [
       "<div>\n",
       "<style scoped>\n",
       "    .dataframe tbody tr th:only-of-type {\n",
       "        vertical-align: middle;\n",
       "    }\n",
       "\n",
       "    .dataframe tbody tr th {\n",
       "        vertical-align: top;\n",
       "    }\n",
       "\n",
       "    .dataframe thead th {\n",
       "        text-align: right;\n",
       "    }\n",
       "</style>\n",
       "<table border=\"1\" class=\"dataframe\">\n",
       "  <thead>\n",
       "    <tr style=\"text-align: right;\">\n",
       "      <th></th>\n",
       "      <th>x</th>\n",
       "      <th>y</th>\n",
       "    </tr>\n",
       "  </thead>\n",
       "  <tbody>\n",
       "    <tr>\n",
       "      <th>Roi4</th>\n",
       "      <td>284</td>\n",
       "      <td>30</td>\n",
       "    </tr>\n",
       "    <tr>\n",
       "      <th>Roi5</th>\n",
       "      <td>287</td>\n",
       "      <td>47</td>\n",
       "    </tr>\n",
       "    <tr>\n",
       "      <th>Roi39</th>\n",
       "      <td>40</td>\n",
       "      <td>202</td>\n",
       "    </tr>\n",
       "    <tr>\n",
       "      <th>Roi60</th>\n",
       "      <td>342</td>\n",
       "      <td>37</td>\n",
       "    </tr>\n",
       "    <tr>\n",
       "      <th>Roi61</th>\n",
       "      <td>314</td>\n",
       "      <td>52</td>\n",
       "    </tr>\n",
       "  </tbody>\n",
       "</table>\n",
       "</div>"
      ],
      "text/plain": [
       "         x    y\n",
       "Roi4   284   30\n",
       "Roi5   287   47\n",
       "Roi39   40  202\n",
       "Roi60  342   37\n",
       "Roi61  314   52"
      ]
     },
     "execution_count": 7,
     "metadata": {},
     "output_type": "execute_result"
    }
   ],
   "source": [
    "roi_loc.head()"
   ]
  },
  {
   "cell_type": "markdown",
   "id": "1467295b",
   "metadata": {},
   "source": [
    "# II. Analysis"
   ]
  },
  {
   "cell_type": "markdown",
   "id": "8bb8ca2c",
   "metadata": {},
   "source": [
    "## A. Cross Correlation Matrix (friends)"
   ]
  },
  {
   "cell_type": "markdown",
   "id": "1de3923d",
   "metadata": {},
   "source": [
    "Set your r value to your threshold for significant cross correlation. This value will be used is all later calculation. If you change it, you must rerun ALL cells following to update the change."
   ]
  },
  {
   "cell_type": "code",
   "execution_count": 8,
   "id": "b03c8add",
   "metadata": {
    "collapsed": false,
    "jupyter": {
     "outputs_hidden": false
    }
   },
   "outputs": [],
   "source": [
    "r = 0.8 #set r value, must be -1<= r <=1"
   ]
  },
  {
   "cell_type": "code",
   "execution_count": 9,
   "id": "0fc59739",
   "metadata": {
    "collapsed": false,
    "jupyter": {
     "outputs_hidden": false
    }
   },
   "outputs": [
    {
     "data": {
      "text/html": [
       "<div>\n",
       "<style scoped>\n",
       "    .dataframe tbody tr th:only-of-type {\n",
       "        vertical-align: middle;\n",
       "    }\n",
       "\n",
       "    .dataframe tbody tr th {\n",
       "        vertical-align: top;\n",
       "    }\n",
       "\n",
       "    .dataframe thead th {\n",
       "        text-align: right;\n",
       "    }\n",
       "</style>\n",
       "<table border=\"1\" class=\"dataframe\">\n",
       "  <thead>\n",
       "    <tr style=\"text-align: right;\">\n",
       "      <th></th>\n",
       "      <th>Number of Friends</th>\n",
       "      <th>Roi4</th>\n",
       "      <th>Roi5</th>\n",
       "      <th>Roi39</th>\n",
       "      <th>Roi60</th>\n",
       "      <th>Roi61</th>\n",
       "      <th>Roi62</th>\n",
       "      <th>Roi80</th>\n",
       "      <th>Roi83</th>\n",
       "    </tr>\n",
       "  </thead>\n",
       "  <tbody>\n",
       "    <tr>\n",
       "      <th>Roi4</th>\n",
       "      <td>2</td>\n",
       "      <td>1.000000</td>\n",
       "      <td>0.365759</td>\n",
       "      <td>0.186958</td>\n",
       "      <td>0.428444</td>\n",
       "      <td>0.424055</td>\n",
       "      <td>0.403853</td>\n",
       "      <td>0.118421</td>\n",
       "      <td>1.000000</td>\n",
       "    </tr>\n",
       "    <tr>\n",
       "      <th>Roi5</th>\n",
       "      <td>2</td>\n",
       "      <td>0.365759</td>\n",
       "      <td>1.000000</td>\n",
       "      <td>0.662918</td>\n",
       "      <td>0.563420</td>\n",
       "      <td>0.524013</td>\n",
       "      <td>0.968551</td>\n",
       "      <td>0.560085</td>\n",
       "      <td>0.369609</td>\n",
       "    </tr>\n",
       "    <tr>\n",
       "      <th>Roi39</th>\n",
       "      <td>2</td>\n",
       "      <td>0.186958</td>\n",
       "      <td>0.662918</td>\n",
       "      <td>1.000000</td>\n",
       "      <td>0.208880</td>\n",
       "      <td>0.218527</td>\n",
       "      <td>0.581692</td>\n",
       "      <td>0.918664</td>\n",
       "      <td>0.189917</td>\n",
       "    </tr>\n",
       "    <tr>\n",
       "      <th>Roi60</th>\n",
       "      <td>2</td>\n",
       "      <td>0.428444</td>\n",
       "      <td>0.563420</td>\n",
       "      <td>0.208880</td>\n",
       "      <td>1.000000</td>\n",
       "      <td>0.927890</td>\n",
       "      <td>0.619030</td>\n",
       "      <td>0.132356</td>\n",
       "      <td>0.431532</td>\n",
       "    </tr>\n",
       "    <tr>\n",
       "      <th>Roi61</th>\n",
       "      <td>2</td>\n",
       "      <td>0.424055</td>\n",
       "      <td>0.524013</td>\n",
       "      <td>0.218527</td>\n",
       "      <td>0.927890</td>\n",
       "      <td>1.000000</td>\n",
       "      <td>0.591899</td>\n",
       "      <td>0.144896</td>\n",
       "      <td>0.427139</td>\n",
       "    </tr>\n",
       "  </tbody>\n",
       "</table>\n",
       "</div>"
      ],
      "text/plain": [
       "       Number of Friends      Roi4      Roi5     Roi39     Roi60     Roi61  \\\n",
       "Roi4                   2  1.000000  0.365759  0.186958  0.428444  0.424055   \n",
       "Roi5                   2  0.365759  1.000000  0.662918  0.563420  0.524013   \n",
       "Roi39                  2  0.186958  0.662918  1.000000  0.208880  0.218527   \n",
       "Roi60                  2  0.428444  0.563420  0.208880  1.000000  0.927890   \n",
       "Roi61                  2  0.424055  0.524013  0.218527  0.927890  1.000000   \n",
       "\n",
       "          Roi62     Roi80     Roi83  \n",
       "Roi4   0.403853  0.118421  1.000000  \n",
       "Roi5   0.968551  0.560085  0.369609  \n",
       "Roi39  0.581692  0.918664  0.189917  \n",
       "Roi60  0.619030  0.132356  0.431532  \n",
       "Roi61  0.591899  0.144896  0.427139  "
      ]
     },
     "execution_count": 9,
     "metadata": {},
     "output_type": "execute_result"
    }
   ],
   "source": [
    "data_corr, friend_names, correlation_summary = cross_correlation(data, r)\n",
    "data_corr.head()"
   ]
  },
  {
   "cell_type": "markdown",
   "id": "7b82f1ed",
   "metadata": {},
   "source": [
    "### - Cross Correlation Matrix Summary"
   ]
  },
  {
   "cell_type": "code",
   "execution_count": 10,
   "id": "778b8ff8",
   "metadata": {
    "collapsed": false,
    "jupyter": {
     "outputs_hidden": false
    }
   },
   "outputs": [
    {
     "data": {
      "text/html": [
       "<div>\n",
       "<style scoped>\n",
       "    .dataframe tbody tr th:only-of-type {\n",
       "        vertical-align: middle;\n",
       "    }\n",
       "\n",
       "    .dataframe tbody tr th {\n",
       "        vertical-align: top;\n",
       "    }\n",
       "\n",
       "    .dataframe thead th {\n",
       "        text-align: right;\n",
       "    }\n",
       "</style>\n",
       "<table border=\"1\" class=\"dataframe\">\n",
       "  <thead>\n",
       "    <tr style=\"text-align: right;\">\n",
       "      <th></th>\n",
       "      <th>Roi4</th>\n",
       "      <th>Roi5</th>\n",
       "      <th>Roi39</th>\n",
       "      <th>Roi60</th>\n",
       "      <th>Roi61</th>\n",
       "      <th>Roi62</th>\n",
       "      <th>Roi80</th>\n",
       "      <th>Roi83</th>\n",
       "    </tr>\n",
       "  </thead>\n",
       "  <tbody>\n",
       "    <tr>\n",
       "      <th>count</th>\n",
       "      <td>2.0</td>\n",
       "      <td>2.000</td>\n",
       "      <td>2.000</td>\n",
       "      <td>2.000</td>\n",
       "      <td>2.000</td>\n",
       "      <td>2.000</td>\n",
       "      <td>2.000</td>\n",
       "      <td>2.0</td>\n",
       "    </tr>\n",
       "    <tr>\n",
       "      <th>mean</th>\n",
       "      <td>1.0</td>\n",
       "      <td>0.984</td>\n",
       "      <td>0.959</td>\n",
       "      <td>0.964</td>\n",
       "      <td>0.964</td>\n",
       "      <td>0.984</td>\n",
       "      <td>0.959</td>\n",
       "      <td>1.0</td>\n",
       "    </tr>\n",
       "    <tr>\n",
       "      <th>std</th>\n",
       "      <td>0.0</td>\n",
       "      <td>0.022</td>\n",
       "      <td>0.058</td>\n",
       "      <td>0.051</td>\n",
       "      <td>0.051</td>\n",
       "      <td>0.022</td>\n",
       "      <td>0.058</td>\n",
       "      <td>0.0</td>\n",
       "    </tr>\n",
       "    <tr>\n",
       "      <th>min</th>\n",
       "      <td>1.0</td>\n",
       "      <td>0.969</td>\n",
       "      <td>0.919</td>\n",
       "      <td>0.928</td>\n",
       "      <td>0.928</td>\n",
       "      <td>0.969</td>\n",
       "      <td>0.919</td>\n",
       "      <td>1.0</td>\n",
       "    </tr>\n",
       "    <tr>\n",
       "      <th>25%</th>\n",
       "      <td>1.0</td>\n",
       "      <td>0.976</td>\n",
       "      <td>0.939</td>\n",
       "      <td>0.946</td>\n",
       "      <td>0.946</td>\n",
       "      <td>0.976</td>\n",
       "      <td>0.939</td>\n",
       "      <td>1.0</td>\n",
       "    </tr>\n",
       "    <tr>\n",
       "      <th>50%</th>\n",
       "      <td>1.0</td>\n",
       "      <td>0.984</td>\n",
       "      <td>0.959</td>\n",
       "      <td>0.964</td>\n",
       "      <td>0.964</td>\n",
       "      <td>0.984</td>\n",
       "      <td>0.959</td>\n",
       "      <td>1.0</td>\n",
       "    </tr>\n",
       "    <tr>\n",
       "      <th>75%</th>\n",
       "      <td>1.0</td>\n",
       "      <td>0.992</td>\n",
       "      <td>0.980</td>\n",
       "      <td>0.982</td>\n",
       "      <td>0.982</td>\n",
       "      <td>0.992</td>\n",
       "      <td>0.980</td>\n",
       "      <td>1.0</td>\n",
       "    </tr>\n",
       "    <tr>\n",
       "      <th>max</th>\n",
       "      <td>1.0</td>\n",
       "      <td>1.000</td>\n",
       "      <td>1.000</td>\n",
       "      <td>1.000</td>\n",
       "      <td>1.000</td>\n",
       "      <td>1.000</td>\n",
       "      <td>1.000</td>\n",
       "      <td>1.0</td>\n",
       "    </tr>\n",
       "  </tbody>\n",
       "</table>\n",
       "</div>"
      ],
      "text/plain": [
       "       Roi4   Roi5  Roi39  Roi60  Roi61  Roi62  Roi80  Roi83\n",
       "count   2.0  2.000  2.000  2.000  2.000  2.000  2.000    2.0\n",
       "mean    1.0  0.984  0.959  0.964  0.964  0.984  0.959    1.0\n",
       "std     0.0  0.022  0.058  0.051  0.051  0.022  0.058    0.0\n",
       "min     1.0  0.969  0.919  0.928  0.928  0.969  0.919    1.0\n",
       "25%     1.0  0.976  0.939  0.946  0.946  0.976  0.939    1.0\n",
       "50%     1.0  0.984  0.959  0.964  0.964  0.984  0.959    1.0\n",
       "75%     1.0  0.992  0.980  0.982  0.982  0.992  0.980    1.0\n",
       "max     1.0  1.000  1.000  1.000  1.000  1.000  1.000    1.0"
      ]
     },
     "execution_count": 10,
     "metadata": {},
     "output_type": "execute_result"
    }
   ],
   "source": [
    "correlation_summary"
   ]
  },
  {
   "cell_type": "markdown",
   "id": "62d60d0b",
   "metadata": {},
   "source": [
    "#### Like what you see? save the cross correlation file with the below code"
   ]
  },
  {
   "cell_type": "code",
   "execution_count": 11,
   "id": "d69e6a74",
   "metadata": {
    "collapsed": false,
    "jupyter": {
     "outputs_hidden": false
    }
   },
   "outputs": [],
   "source": [
    "data_corr.to_csv(r'%s/xcor.csv' %(folder))\n",
    "correlation_summary.to_csv(r'%s/xcor_summary.csv'%(folder))"
   ]
  },
  {
   "cell_type": "markdown",
   "id": "98caf036",
   "metadata": {},
   "source": [
    "## B. Distance Matrix (neighbors)"
   ]
  },
  {
   "cell_type": "markdown",
   "id": "b342fbec",
   "metadata": {},
   "source": [
    "Set your d value to your threshold for significant distance. This value will be used is all later calculation. If you change it, you must rerun ALL cells following to update the change."
   ]
  },
  {
   "cell_type": "code",
   "execution_count": 12,
   "id": "6353635d",
   "metadata": {
    "collapsed": false,
    "jupyter": {
     "outputs_hidden": false
    }
   },
   "outputs": [],
   "source": [
    "d = 100 # set the maximum distance from an ROI that is the threshold for neighborhood"
   ]
  },
  {
   "cell_type": "code",
   "execution_count": 13,
   "id": "111cedc0",
   "metadata": {
    "collapsed": false,
    "jupyter": {
     "outputs_hidden": false
    }
   },
   "outputs": [
    {
     "data": {
      "text/html": [
       "<div>\n",
       "<style scoped>\n",
       "    .dataframe tbody tr th:only-of-type {\n",
       "        vertical-align: middle;\n",
       "    }\n",
       "\n",
       "    .dataframe tbody tr th {\n",
       "        vertical-align: top;\n",
       "    }\n",
       "\n",
       "    .dataframe thead th {\n",
       "        text-align: right;\n",
       "    }\n",
       "</style>\n",
       "<table border=\"1\" class=\"dataframe\">\n",
       "  <thead>\n",
       "    <tr style=\"text-align: right;\">\n",
       "      <th></th>\n",
       "      <th>Number of Neighbors</th>\n",
       "      <th>Roi4</th>\n",
       "      <th>Roi5</th>\n",
       "      <th>Roi39</th>\n",
       "      <th>Roi60</th>\n",
       "      <th>Roi61</th>\n",
       "      <th>Roi62</th>\n",
       "      <th>Roi80</th>\n",
       "      <th>Roi83</th>\n",
       "    </tr>\n",
       "  </thead>\n",
       "  <tbody>\n",
       "    <tr>\n",
       "      <th>Roi4</th>\n",
       "      <td>5</td>\n",
       "      <td>0.000000</td>\n",
       "      <td>17.262677</td>\n",
       "      <td>298.529731</td>\n",
       "      <td>58.420887</td>\n",
       "      <td>37.202150</td>\n",
       "      <td>25.612497</td>\n",
       "      <td>324.519645</td>\n",
       "      <td>490.209139</td>\n",
       "    </tr>\n",
       "    <tr>\n",
       "      <th>Roi5</th>\n",
       "      <td>5</td>\n",
       "      <td>17.262677</td>\n",
       "      <td>0.000000</td>\n",
       "      <td>291.605898</td>\n",
       "      <td>55.901699</td>\n",
       "      <td>27.459060</td>\n",
       "      <td>13.341664</td>\n",
       "      <td>317.800252</td>\n",
       "      <td>473.473336</td>\n",
       "    </tr>\n",
       "    <tr>\n",
       "      <th>Roi39</th>\n",
       "      <td>2</td>\n",
       "      <td>298.529731</td>\n",
       "      <td>291.605898</td>\n",
       "      <td>0.000000</td>\n",
       "      <td>344.135148</td>\n",
       "      <td>312.371574</td>\n",
       "      <td>301.171048</td>\n",
       "      <td>26.400758</td>\n",
       "      <td>521.943484</td>\n",
       "    </tr>\n",
       "    <tr>\n",
       "      <th>Roi60</th>\n",
       "      <td>5</td>\n",
       "      <td>58.420887</td>\n",
       "      <td>55.901699</td>\n",
       "      <td>344.135148</td>\n",
       "      <td>0.000000</td>\n",
       "      <td>31.764760</td>\n",
       "      <td>43.965896</td>\n",
       "      <td>370.475370</td>\n",
       "      <td>462.992441</td>\n",
       "    </tr>\n",
       "    <tr>\n",
       "      <th>Roi61</th>\n",
       "      <td>5</td>\n",
       "      <td>37.202150</td>\n",
       "      <td>27.459060</td>\n",
       "      <td>312.371574</td>\n",
       "      <td>31.764760</td>\n",
       "      <td>0.000000</td>\n",
       "      <td>14.142136</td>\n",
       "      <td>338.710791</td>\n",
       "      <td>458.297938</td>\n",
       "    </tr>\n",
       "  </tbody>\n",
       "</table>\n",
       "</div>"
      ],
      "text/plain": [
       "       Number of Neighbors        Roi4        Roi5       Roi39       Roi60  \\\n",
       "Roi4                     5    0.000000   17.262677  298.529731   58.420887   \n",
       "Roi5                     5   17.262677    0.000000  291.605898   55.901699   \n",
       "Roi39                    2  298.529731  291.605898    0.000000  344.135148   \n",
       "Roi60                    5   58.420887   55.901699  344.135148    0.000000   \n",
       "Roi61                    5   37.202150   27.459060  312.371574   31.764760   \n",
       "\n",
       "            Roi61       Roi62       Roi80       Roi83  \n",
       "Roi4    37.202150   25.612497  324.519645  490.209139  \n",
       "Roi5    27.459060   13.341664  317.800252  473.473336  \n",
       "Roi39  312.371574  301.171048   26.400758  521.943484  \n",
       "Roi60   31.764760   43.965896  370.475370  462.992441  \n",
       "Roi61    0.000000   14.142136  338.710791  458.297938  "
      ]
     },
     "execution_count": 13,
     "metadata": {},
     "output_type": "execute_result"
    }
   ],
   "source": [
    "roi_dist, loc_tup, neighbor_names, distance_summary = distance_matrix(roi_x, roi_y , roi_loc , d)\n",
    "roi_dist.head()"
   ]
  },
  {
   "cell_type": "markdown",
   "id": "cfaa8ef6",
   "metadata": {},
   "source": [
    "### - Distance Matrix Summary"
   ]
  },
  {
   "cell_type": "code",
   "execution_count": 14,
   "id": "71a24b6c",
   "metadata": {
    "collapsed": false,
    "jupyter": {
     "outputs_hidden": false
    }
   },
   "outputs": [
    {
     "data": {
      "text/html": [
       "<div>\n",
       "<style scoped>\n",
       "    .dataframe tbody tr th:only-of-type {\n",
       "        vertical-align: middle;\n",
       "    }\n",
       "\n",
       "    .dataframe tbody tr th {\n",
       "        vertical-align: top;\n",
       "    }\n",
       "\n",
       "    .dataframe thead th {\n",
       "        text-align: right;\n",
       "    }\n",
       "</style>\n",
       "<table border=\"1\" class=\"dataframe\">\n",
       "  <thead>\n",
       "    <tr style=\"text-align: right;\">\n",
       "      <th></th>\n",
       "      <th>Roi4</th>\n",
       "      <th>Roi5</th>\n",
       "      <th>Roi39</th>\n",
       "      <th>Roi60</th>\n",
       "      <th>Roi61</th>\n",
       "      <th>Roi62</th>\n",
       "      <th>Roi80</th>\n",
       "      <th>Roi83</th>\n",
       "    </tr>\n",
       "  </thead>\n",
       "  <tbody>\n",
       "    <tr>\n",
       "      <th>count</th>\n",
       "      <td>5.000</td>\n",
       "      <td>5.000</td>\n",
       "      <td>2.000</td>\n",
       "      <td>5.000</td>\n",
       "      <td>5.000</td>\n",
       "      <td>5.000</td>\n",
       "      <td>2.000</td>\n",
       "      <td>1.0</td>\n",
       "    </tr>\n",
       "    <tr>\n",
       "      <th>mean</th>\n",
       "      <td>27.700</td>\n",
       "      <td>22.793</td>\n",
       "      <td>13.200</td>\n",
       "      <td>38.011</td>\n",
       "      <td>22.114</td>\n",
       "      <td>19.412</td>\n",
       "      <td>13.200</td>\n",
       "      <td>0.0</td>\n",
       "    </tr>\n",
       "    <tr>\n",
       "      <th>std</th>\n",
       "      <td>21.878</td>\n",
       "      <td>20.961</td>\n",
       "      <td>18.668</td>\n",
       "      <td>23.748</td>\n",
       "      <td>15.016</td>\n",
       "      <td>16.453</td>\n",
       "      <td>18.668</td>\n",
       "      <td>NaN</td>\n",
       "    </tr>\n",
       "    <tr>\n",
       "      <th>min</th>\n",
       "      <td>0.000</td>\n",
       "      <td>0.000</td>\n",
       "      <td>0.000</td>\n",
       "      <td>0.000</td>\n",
       "      <td>0.000</td>\n",
       "      <td>0.000</td>\n",
       "      <td>0.000</td>\n",
       "      <td>0.0</td>\n",
       "    </tr>\n",
       "    <tr>\n",
       "      <th>25%</th>\n",
       "      <td>17.263</td>\n",
       "      <td>13.342</td>\n",
       "      <td>6.600</td>\n",
       "      <td>31.765</td>\n",
       "      <td>14.142</td>\n",
       "      <td>13.342</td>\n",
       "      <td>6.600</td>\n",
       "      <td>0.0</td>\n",
       "    </tr>\n",
       "    <tr>\n",
       "      <th>50%</th>\n",
       "      <td>25.612</td>\n",
       "      <td>17.263</td>\n",
       "      <td>13.200</td>\n",
       "      <td>43.966</td>\n",
       "      <td>27.459</td>\n",
       "      <td>14.142</td>\n",
       "      <td>13.200</td>\n",
       "      <td>0.0</td>\n",
       "    </tr>\n",
       "    <tr>\n",
       "      <th>75%</th>\n",
       "      <td>37.202</td>\n",
       "      <td>27.459</td>\n",
       "      <td>19.801</td>\n",
       "      <td>55.902</td>\n",
       "      <td>31.765</td>\n",
       "      <td>25.612</td>\n",
       "      <td>19.801</td>\n",
       "      <td>0.0</td>\n",
       "    </tr>\n",
       "    <tr>\n",
       "      <th>max</th>\n",
       "      <td>58.421</td>\n",
       "      <td>55.902</td>\n",
       "      <td>26.401</td>\n",
       "      <td>58.421</td>\n",
       "      <td>37.202</td>\n",
       "      <td>43.966</td>\n",
       "      <td>26.401</td>\n",
       "      <td>0.0</td>\n",
       "    </tr>\n",
       "  </tbody>\n",
       "</table>\n",
       "</div>"
      ],
      "text/plain": [
       "         Roi4    Roi5   Roi39   Roi60   Roi61   Roi62   Roi80  Roi83\n",
       "count   5.000   5.000   2.000   5.000   5.000   5.000   2.000    1.0\n",
       "mean   27.700  22.793  13.200  38.011  22.114  19.412  13.200    0.0\n",
       "std    21.878  20.961  18.668  23.748  15.016  16.453  18.668    NaN\n",
       "min     0.000   0.000   0.000   0.000   0.000   0.000   0.000    0.0\n",
       "25%    17.263  13.342   6.600  31.765  14.142  13.342   6.600    0.0\n",
       "50%    25.612  17.263  13.200  43.966  27.459  14.142  13.200    0.0\n",
       "75%    37.202  27.459  19.801  55.902  31.765  25.612  19.801    0.0\n",
       "max    58.421  55.902  26.401  58.421  37.202  43.966  26.401    0.0"
      ]
     },
     "execution_count": 14,
     "metadata": {},
     "output_type": "execute_result"
    }
   ],
   "source": [
    "distance_summary"
   ]
  },
  {
   "cell_type": "markdown",
   "id": "6ba34283",
   "metadata": {},
   "source": [
    "#### Like what you see? save the distance matrix file with the below code"
   ]
  },
  {
   "cell_type": "code",
   "execution_count": 15,
   "id": "0e944d25",
   "metadata": {
    "collapsed": false,
    "jupyter": {
     "outputs_hidden": false
    }
   },
   "outputs": [],
   "source": [
    "roi_dist.to_csv(r'%s/dist_matrix.csv' %(folder))\n",
    "distance_summary.to_csv(r'%s/dist_summary.csv' %(folder))"
   ]
  },
  {
   "cell_type": "markdown",
   "id": "19cbf810",
   "metadata": {},
   "source": [
    "## C. Friends in terms of Neighbors"
   ]
  },
  {
   "cell_type": "markdown",
   "id": "51c47c34",
   "metadata": {},
   "source": [
    "the following function returns a table of the following values:\n",
    "\n",
    "**Distance Sum**: the sum of the distances from each roi to its friends\n",
    "\n",
    "**Friend Number**: the number of friends that each roi has (not including itself)\n",
    "\n",
    "**Rel Dist**: The cummulative distance / number of friends"
   ]
  },
  {
   "cell_type": "code",
   "execution_count": 16,
   "id": "e45ab005",
   "metadata": {
    "collapsed": false,
    "jupyter": {
     "outputs_hidden": false
    }
   },
   "outputs": [
    {
     "data": {
      "text/html": [
       "<div>\n",
       "<style scoped>\n",
       "    .dataframe tbody tr th:only-of-type {\n",
       "        vertical-align: middle;\n",
       "    }\n",
       "\n",
       "    .dataframe tbody tr th {\n",
       "        vertical-align: top;\n",
       "    }\n",
       "\n",
       "    .dataframe thead th {\n",
       "        text-align: right;\n",
       "    }\n",
       "</style>\n",
       "<table border=\"1\" class=\"dataframe\">\n",
       "  <thead>\n",
       "    <tr style=\"text-align: right;\">\n",
       "      <th></th>\n",
       "      <th>Number of Friends</th>\n",
       "      <th>Mean Dist</th>\n",
       "      <th>Std Dist</th>\n",
       "      <th>Number of Friends that are Neighbors</th>\n",
       "      <th>Percentage of Friends that are Neighbors</th>\n",
       "    </tr>\n",
       "  </thead>\n",
       "  <tbody>\n",
       "    <tr>\n",
       "      <th>Roi4</th>\n",
       "      <td>2</td>\n",
       "      <td>245.104570</td>\n",
       "      <td>346.630206</td>\n",
       "      <td>1.0</td>\n",
       "      <td>50.0</td>\n",
       "    </tr>\n",
       "    <tr>\n",
       "      <th>Roi5</th>\n",
       "      <td>2</td>\n",
       "      <td>6.670832</td>\n",
       "      <td>9.433981</td>\n",
       "      <td>2.0</td>\n",
       "      <td>100.0</td>\n",
       "    </tr>\n",
       "    <tr>\n",
       "      <th>Roi39</th>\n",
       "      <td>2</td>\n",
       "      <td>13.200379</td>\n",
       "      <td>18.668155</td>\n",
       "      <td>2.0</td>\n",
       "      <td>100.0</td>\n",
       "    </tr>\n",
       "    <tr>\n",
       "      <th>Roi60</th>\n",
       "      <td>2</td>\n",
       "      <td>15.882380</td>\n",
       "      <td>22.461077</td>\n",
       "      <td>2.0</td>\n",
       "      <td>100.0</td>\n",
       "    </tr>\n",
       "    <tr>\n",
       "      <th>Roi61</th>\n",
       "      <td>2</td>\n",
       "      <td>15.882380</td>\n",
       "      <td>22.461077</td>\n",
       "      <td>2.0</td>\n",
       "      <td>100.0</td>\n",
       "    </tr>\n",
       "  </tbody>\n",
       "</table>\n",
       "</div>"
      ],
      "text/plain": [
       "       Number of Friends   Mean Dist    Std Dist  \\\n",
       "Roi4                   2  245.104570  346.630206   \n",
       "Roi5                   2    6.670832    9.433981   \n",
       "Roi39                  2   13.200379   18.668155   \n",
       "Roi60                  2   15.882380   22.461077   \n",
       "Roi61                  2   15.882380   22.461077   \n",
       "\n",
       "       Number of Friends that are Neighbors  \\\n",
       "Roi4                                    1.0   \n",
       "Roi5                                    2.0   \n",
       "Roi39                                   2.0   \n",
       "Roi60                                   2.0   \n",
       "Roi61                                   2.0   \n",
       "\n",
       "       Percentage of Friends that are Neighbors  \n",
       "Roi4                                       50.0  \n",
       "Roi5                                      100.0  \n",
       "Roi39                                     100.0  \n",
       "Roi60                                     100.0  \n",
       "Roi61                                     100.0  "
      ]
     },
     "execution_count": 16,
     "metadata": {},
     "output_type": "execute_result"
    }
   ],
   "source": [
    "friend_distances = friend_dist(data_corr, roi_dist, friend_names, r, d)\n",
    "friend_distances.head()"
   ]
  },
  {
   "cell_type": "markdown",
   "id": "d238c4f2",
   "metadata": {},
   "source": [
    "### - Friends in terms of Neighbors Summary"
   ]
  },
  {
   "cell_type": "code",
   "execution_count": 17,
   "id": "33047976",
   "metadata": {
    "collapsed": false,
    "jupyter": {
     "outputs_hidden": false
    }
   },
   "outputs": [
    {
     "data": {
      "text/html": [
       "<div>\n",
       "<style scoped>\n",
       "    .dataframe tbody tr th:only-of-type {\n",
       "        vertical-align: middle;\n",
       "    }\n",
       "\n",
       "    .dataframe tbody tr th {\n",
       "        vertical-align: top;\n",
       "    }\n",
       "\n",
       "    .dataframe thead th {\n",
       "        text-align: right;\n",
       "    }\n",
       "</style>\n",
       "<table border=\"1\" class=\"dataframe\">\n",
       "  <thead>\n",
       "    <tr style=\"text-align: right;\">\n",
       "      <th></th>\n",
       "      <th>Number of Friends</th>\n",
       "      <th>Mean Dist</th>\n",
       "      <th>Std Dist</th>\n",
       "      <th>Number of Friends that are Neighbors</th>\n",
       "      <th>Percentage of Friends that are Neighbors</th>\n",
       "    </tr>\n",
       "  </thead>\n",
       "  <tbody>\n",
       "    <tr>\n",
       "      <th>count</th>\n",
       "      <td>8.0</td>\n",
       "      <td>8.000000</td>\n",
       "      <td>8.000000</td>\n",
       "      <td>8.00000</td>\n",
       "      <td>8.000000</td>\n",
       "    </tr>\n",
       "    <tr>\n",
       "      <th>mean</th>\n",
       "      <td>2.0</td>\n",
       "      <td>70.214540</td>\n",
       "      <td>99.298355</td>\n",
       "      <td>1.75000</td>\n",
       "      <td>87.500000</td>\n",
       "    </tr>\n",
       "    <tr>\n",
       "      <th>std</th>\n",
       "      <td>0.0</td>\n",
       "      <td>108.003867</td>\n",
       "      <td>152.740533</td>\n",
       "      <td>0.46291</td>\n",
       "      <td>23.145502</td>\n",
       "    </tr>\n",
       "    <tr>\n",
       "      <th>min</th>\n",
       "      <td>2.0</td>\n",
       "      <td>6.670832</td>\n",
       "      <td>9.433981</td>\n",
       "      <td>1.00000</td>\n",
       "      <td>50.000000</td>\n",
       "    </tr>\n",
       "    <tr>\n",
       "      <th>25%</th>\n",
       "      <td>2.0</td>\n",
       "      <td>11.567992</td>\n",
       "      <td>16.359611</td>\n",
       "      <td>1.75000</td>\n",
       "      <td>87.500000</td>\n",
       "    </tr>\n",
       "    <tr>\n",
       "      <th>50%</th>\n",
       "      <td>2.0</td>\n",
       "      <td>14.541379</td>\n",
       "      <td>20.564616</td>\n",
       "      <td>2.00000</td>\n",
       "      <td>100.000000</td>\n",
       "    </tr>\n",
       "    <tr>\n",
       "      <th>75%</th>\n",
       "      <td>2.0</td>\n",
       "      <td>73.187928</td>\n",
       "      <td>103.503360</td>\n",
       "      <td>2.00000</td>\n",
       "      <td>100.000000</td>\n",
       "    </tr>\n",
       "    <tr>\n",
       "      <th>max</th>\n",
       "      <td>2.0</td>\n",
       "      <td>245.104570</td>\n",
       "      <td>346.630206</td>\n",
       "      <td>2.00000</td>\n",
       "      <td>100.000000</td>\n",
       "    </tr>\n",
       "  </tbody>\n",
       "</table>\n",
       "</div>"
      ],
      "text/plain": [
       "       Number of Friends   Mean Dist    Std Dist  \\\n",
       "count                8.0    8.000000    8.000000   \n",
       "mean                 2.0   70.214540   99.298355   \n",
       "std                  0.0  108.003867  152.740533   \n",
       "min                  2.0    6.670832    9.433981   \n",
       "25%                  2.0   11.567992   16.359611   \n",
       "50%                  2.0   14.541379   20.564616   \n",
       "75%                  2.0   73.187928  103.503360   \n",
       "max                  2.0  245.104570  346.630206   \n",
       "\n",
       "       Number of Friends that are Neighbors  \\\n",
       "count                               8.00000   \n",
       "mean                                1.75000   \n",
       "std                                 0.46291   \n",
       "min                                 1.00000   \n",
       "25%                                 1.75000   \n",
       "50%                                 2.00000   \n",
       "75%                                 2.00000   \n",
       "max                                 2.00000   \n",
       "\n",
       "       Percentage of Friends that are Neighbors  \n",
       "count                                  8.000000  \n",
       "mean                                  87.500000  \n",
       "std                                   23.145502  \n",
       "min                                   50.000000  \n",
       "25%                                   87.500000  \n",
       "50%                                  100.000000  \n",
       "75%                                  100.000000  \n",
       "max                                  100.000000  "
      ]
     },
     "execution_count": 17,
     "metadata": {},
     "output_type": "execute_result"
    }
   ],
   "source": [
    "friend_dist_sum = friend_distances.describe()\n",
    "friend_dist_sum"
   ]
  },
  {
   "cell_type": "markdown",
   "id": "7f54c1ee",
   "metadata": {},
   "source": [
    "#### Like what you see? save the friend distances file with the below code"
   ]
  },
  {
   "cell_type": "code",
   "execution_count": 18,
   "id": "faf55018",
   "metadata": {
    "collapsed": false,
    "jupyter": {
     "outputs_hidden": false
    }
   },
   "outputs": [],
   "source": [
    "friend_distances.to_csv(r'%s/friend_distances.csv' %(folder))\n",
    "friend_dist_sum.to_csv(r'%s/friend_distances_summary.csv' %(folder))"
   ]
  },
  {
   "cell_type": "markdown",
   "id": "da7ef1fc",
   "metadata": {},
   "source": [
    "## D. Neighbors in terms of Friends"
   ]
  },
  {
   "cell_type": "markdown",
   "id": "1039cea2",
   "metadata": {},
   "source": [
    "This section has yet to be built. Will talk with Sean Wilson about values that make the most sense. here. perhaps number of neightbors and average r value?"
   ]
  },
  {
   "cell_type": "code",
   "execution_count": 19,
   "id": "ab3ae83a",
   "metadata": {
    "collapsed": false,
    "jupyter": {
     "outputs_hidden": false
    }
   },
   "outputs": [
    {
     "data": {
      "text/html": [
       "<div>\n",
       "<style scoped>\n",
       "    .dataframe tbody tr th:only-of-type {\n",
       "        vertical-align: middle;\n",
       "    }\n",
       "\n",
       "    .dataframe tbody tr th {\n",
       "        vertical-align: top;\n",
       "    }\n",
       "\n",
       "    .dataframe thead th {\n",
       "        text-align: right;\n",
       "    }\n",
       "</style>\n",
       "<table border=\"1\" class=\"dataframe\">\n",
       "  <thead>\n",
       "    <tr style=\"text-align: right;\">\n",
       "      <th></th>\n",
       "      <th>Number of Neighbors</th>\n",
       "      <th>Mean Correlation</th>\n",
       "      <th>Std Correlation</th>\n",
       "      <th>Number of Neighbors that are Friends</th>\n",
       "      <th>Percentage of Neighbors that are Friends</th>\n",
       "    </tr>\n",
       "  </thead>\n",
       "  <tbody>\n",
       "    <tr>\n",
       "      <th>Roi4</th>\n",
       "      <td>5</td>\n",
       "      <td>0.524422</td>\n",
       "      <td>0.267007</td>\n",
       "      <td>1.0</td>\n",
       "      <td>20.0</td>\n",
       "    </tr>\n",
       "    <tr>\n",
       "      <th>Roi5</th>\n",
       "      <td>5</td>\n",
       "      <td>0.684349</td>\n",
       "      <td>0.283830</td>\n",
       "      <td>2.0</td>\n",
       "      <td>40.0</td>\n",
       "    </tr>\n",
       "    <tr>\n",
       "      <th>Roi39</th>\n",
       "      <td>2</td>\n",
       "      <td>0.959332</td>\n",
       "      <td>0.057513</td>\n",
       "      <td>2.0</td>\n",
       "      <td>100.0</td>\n",
       "    </tr>\n",
       "    <tr>\n",
       "      <th>Roi60</th>\n",
       "      <td>5</td>\n",
       "      <td>0.707757</td>\n",
       "      <td>0.245248</td>\n",
       "      <td>2.0</td>\n",
       "      <td>40.0</td>\n",
       "    </tr>\n",
       "    <tr>\n",
       "      <th>Roi61</th>\n",
       "      <td>5</td>\n",
       "      <td>0.693571</td>\n",
       "      <td>0.255211</td>\n",
       "      <td>2.0</td>\n",
       "      <td>40.0</td>\n",
       "    </tr>\n",
       "  </tbody>\n",
       "</table>\n",
       "</div>"
      ],
      "text/plain": [
       "       Number of Neighbors  Mean Correlation  Std Correlation  \\\n",
       "Roi4                     5          0.524422         0.267007   \n",
       "Roi5                     5          0.684349         0.283830   \n",
       "Roi39                    2          0.959332         0.057513   \n",
       "Roi60                    5          0.707757         0.245248   \n",
       "Roi61                    5          0.693571         0.255211   \n",
       "\n",
       "       Number of Neighbors that are Friends  \\\n",
       "Roi4                                    1.0   \n",
       "Roi5                                    2.0   \n",
       "Roi39                                   2.0   \n",
       "Roi60                                   2.0   \n",
       "Roi61                                   2.0   \n",
       "\n",
       "       Percentage of Neighbors that are Friends  \n",
       "Roi4                                       20.0  \n",
       "Roi5                                       40.0  \n",
       "Roi39                                     100.0  \n",
       "Roi60                                      40.0  \n",
       "Roi61                                      40.0  "
      ]
     },
     "execution_count": 19,
     "metadata": {},
     "output_type": "execute_result"
    }
   ],
   "source": [
    "neighbor_correlation = neighbor_corr(roi_dist, data_corr, neighbor_names, r, d)\n",
    "neighbor_correlation.head()"
   ]
  },
  {
   "cell_type": "markdown",
   "id": "19d46891",
   "metadata": {},
   "source": [
    "### - Neighbors in terms of Friends Summary"
   ]
  },
  {
   "cell_type": "code",
   "execution_count": 20,
   "id": "2aa2f994",
   "metadata": {
    "collapsed": false,
    "jupyter": {
     "outputs_hidden": false
    }
   },
   "outputs": [
    {
     "data": {
      "text/html": [
       "<div>\n",
       "<style scoped>\n",
       "    .dataframe tbody tr th:only-of-type {\n",
       "        vertical-align: middle;\n",
       "    }\n",
       "\n",
       "    .dataframe tbody tr th {\n",
       "        vertical-align: top;\n",
       "    }\n",
       "\n",
       "    .dataframe thead th {\n",
       "        text-align: right;\n",
       "    }\n",
       "</style>\n",
       "<table border=\"1\" class=\"dataframe\">\n",
       "  <thead>\n",
       "    <tr style=\"text-align: right;\">\n",
       "      <th></th>\n",
       "      <th>Number of Neighbors</th>\n",
       "      <th>Mean Correlation</th>\n",
       "      <th>Std Correlation</th>\n",
       "      <th>Number of Neighbors that are Friends</th>\n",
       "      <th>Percentage of Neighbors that are Friends</th>\n",
       "    </tr>\n",
       "  </thead>\n",
       "  <tbody>\n",
       "    <tr>\n",
       "      <th>count</th>\n",
       "      <td>8.000000</td>\n",
       "      <td>8.000000</td>\n",
       "      <td>7.000000</td>\n",
       "      <td>8.00000</td>\n",
       "      <td>8.00000</td>\n",
       "    </tr>\n",
       "    <tr>\n",
       "      <th>mean</th>\n",
       "      <td>3.750000</td>\n",
       "      <td>0.780679</td>\n",
       "      <td>0.203504</td>\n",
       "      <td>1.75000</td>\n",
       "      <td>60.00000</td>\n",
       "    </tr>\n",
       "    <tr>\n",
       "      <th>std</th>\n",
       "      <td>1.752549</td>\n",
       "      <td>0.170665</td>\n",
       "      <td>0.100432</td>\n",
       "      <td>0.46291</td>\n",
       "      <td>33.80617</td>\n",
       "    </tr>\n",
       "    <tr>\n",
       "      <th>min</th>\n",
       "      <td>1.000000</td>\n",
       "      <td>0.524422</td>\n",
       "      <td>0.057513</td>\n",
       "      <td>1.00000</td>\n",
       "      <td>20.00000</td>\n",
       "    </tr>\n",
       "    <tr>\n",
       "      <th>25%</th>\n",
       "      <td>2.000000</td>\n",
       "      <td>0.691266</td>\n",
       "      <td>0.151380</td>\n",
       "      <td>1.75000</td>\n",
       "      <td>40.00000</td>\n",
       "    </tr>\n",
       "    <tr>\n",
       "      <th>50%</th>\n",
       "      <td>5.000000</td>\n",
       "      <td>0.712212</td>\n",
       "      <td>0.255211</td>\n",
       "      <td>2.00000</td>\n",
       "      <td>40.00000</td>\n",
       "    </tr>\n",
       "    <tr>\n",
       "      <th>75%</th>\n",
       "      <td>5.000000</td>\n",
       "      <td>0.959332</td>\n",
       "      <td>0.262605</td>\n",
       "      <td>2.00000</td>\n",
       "      <td>100.00000</td>\n",
       "    </tr>\n",
       "    <tr>\n",
       "      <th>max</th>\n",
       "      <td>5.000000</td>\n",
       "      <td>1.000000</td>\n",
       "      <td>0.283830</td>\n",
       "      <td>2.00000</td>\n",
       "      <td>100.00000</td>\n",
       "    </tr>\n",
       "  </tbody>\n",
       "</table>\n",
       "</div>"
      ],
      "text/plain": [
       "       Number of Neighbors  Mean Correlation  Std Correlation  \\\n",
       "count             8.000000          8.000000         7.000000   \n",
       "mean              3.750000          0.780679         0.203504   \n",
       "std               1.752549          0.170665         0.100432   \n",
       "min               1.000000          0.524422         0.057513   \n",
       "25%               2.000000          0.691266         0.151380   \n",
       "50%               5.000000          0.712212         0.255211   \n",
       "75%               5.000000          0.959332         0.262605   \n",
       "max               5.000000          1.000000         0.283830   \n",
       "\n",
       "       Number of Neighbors that are Friends  \\\n",
       "count                               8.00000   \n",
       "mean                                1.75000   \n",
       "std                                 0.46291   \n",
       "min                                 1.00000   \n",
       "25%                                 1.75000   \n",
       "50%                                 2.00000   \n",
       "75%                                 2.00000   \n",
       "max                                 2.00000   \n",
       "\n",
       "       Percentage of Neighbors that are Friends  \n",
       "count                                   8.00000  \n",
       "mean                                   60.00000  \n",
       "std                                    33.80617  \n",
       "min                                    20.00000  \n",
       "25%                                    40.00000  \n",
       "50%                                    40.00000  \n",
       "75%                                   100.00000  \n",
       "max                                   100.00000  "
      ]
     },
     "execution_count": 20,
     "metadata": {},
     "output_type": "execute_result"
    }
   ],
   "source": [
    "neighbor_corr_sum = neighbor_correlation.describe()\n",
    "neighbor_corr_sum"
   ]
  },
  {
   "cell_type": "markdown",
   "id": "4611709f",
   "metadata": {},
   "source": [
    "#### Like what you see? save the neighbor correlation file with the below code"
   ]
  },
  {
   "cell_type": "code",
   "execution_count": 21,
   "id": "de0497f2",
   "metadata": {
    "collapsed": false,
    "jupyter": {
     "outputs_hidden": false
    }
   },
   "outputs": [],
   "source": [
    "neighbor_correlation.to_csv(r'%s/neighbor_correlation.csv' %(folder))\n",
    "neighbor_corr_sum.to_csv(r'%s/neighbor_correlation_summary.csv' %(folder))"
   ]
  },
  {
   "cell_type": "markdown",
   "id": "66972d67",
   "metadata": {},
   "source": [
    "# III. Resulting Plots"
   ]
  },
  {
   "cell_type": "markdown",
   "id": "ddc8eb5d",
   "metadata": {},
   "source": [
    "## A. 2d Plots"
   ]
  },
  {
   "cell_type": "markdown",
   "id": "cd47f717",
   "metadata": {},
   "source": [
    "### - All Roi overlay with name calling"
   ]
  },
  {
   "cell_type": "markdown",
   "id": "836ed87b",
   "metadata": {},
   "source": [
    "For some reason, you have to click on the first cell twice. but be assured, it is working. set the object size with s. default is s = 6\n",
    "\n",
    "Save this plot from the pop up graph window."
   ]
  },
  {
   "cell_type": "code",
   "execution_count": 45,
   "id": "7543927d",
   "metadata": {
    "collapsed": false,
    "jupyter": {
     "outputs_hidden": false
    }
   },
   "outputs": [
    {
     "data": {
      "image/png": "[encoded data removed]",
      "text/plain": [
       "<Figure size 432x288 with 1 Axes>"
      ]
     },
     "metadata": {
      "needs_background": "light"
     },
     "output_type": "display_data"
    }
   ],
   "source": [
    "all_roi_2d(roi_loc , im , s=100)"
   ]
  },
  {
   "cell_type": "markdown",
   "id": "bd7a694e",
   "metadata": {},
   "source": [
    "### - Select Roi and Friends plot"
   ]
  },
  {
   "cell_type": "markdown",
   "id": "aa95bb88",
   "metadata": {},
   "source": [
    "Call a 2d plot with each roi on it. Choose an roi by name (ex: 'Roi35') to see it's relationship to all other rois. The named roi will be in white. All other roi's will be colored by its r value. \n",
    "\n",
    "when just_friends = True, only friends who meet the r threshold will be shown and all others will be gray. when just_friends = False, all rois will be colored based on r value.\n",
    "\n",
    "Save this plot from the pop up graph window."
   ]
  },
  {
   "cell_type": "code",
   "execution_count": 56,
   "id": "ccd6e1a4",
   "metadata": {
    "collapsed": false,
    "jupyter": {
     "outputs_hidden": false
    }
   },
   "outputs": [
    {
     "ename": "KeyError",
     "evalue": "'Roi103'",
     "output_type": "error",
     "traceback": [
      "\u001b[0;31m---------------------------------------------------------------------------\u001b[0m",
      "\u001b[0;31mKeyError\u001b[0m                                  Traceback (most recent call last)",
      "\u001b[0;32m<ipython-input-56-5ea56c71e55b>\u001b[0m in \u001b[0;36m<module>\u001b[0;34m()\u001b[0m\n\u001b[1;32m     19\u001b[0m \u001b[0;34m\u001b[0m\u001b[0m\n\u001b[1;32m     20\u001b[0m \u001b[0;31m# Assuming you call the function with appropriate arguments\u001b[0m\u001b[0;34m\u001b[0m\u001b[0;34m\u001b[0m\u001b[0m\n\u001b[0;32m---> 21\u001b[0;31m \u001b[0mfriend_roi_2d\u001b[0m\u001b[0;34m(\u001b[0m\u001b[0mdata_corr\u001b[0m\u001b[0;34m,\u001b[0m \u001b[0mfriend_names\u001b[0m\u001b[0;34m,\u001b[0m \u001b[0mroi_loc\u001b[0m\u001b[0;34m,\u001b[0m \u001b[0mr\u001b[0m\u001b[0;34m,\u001b[0m \u001b[0md\u001b[0m\u001b[0;34m,\u001b[0m \u001b[0mroi\u001b[0m\u001b[0;34m=\u001b[0m\u001b[0;34m'Roi103'\u001b[0m\u001b[0;34m,\u001b[0m \u001b[0mjust_friends\u001b[0m\u001b[0;34m=\u001b[0m\u001b[0mTrue\u001b[0m\u001b[0;34m,\u001b[0m \u001b[0ms\u001b[0m\u001b[0;34m=\u001b[0m\u001b[0;36m100\u001b[0m\u001b[0;34m)\u001b[0m\u001b[0;34m\u001b[0m\u001b[0m\n\u001b[0m",
      "\u001b[0;32m<ipython-input-56-5ea56c71e55b>\u001b[0m in \u001b[0;36mfriend_roi_2d\u001b[0;34m(data_corr, friend_names, roi_loc, r, d, roi, just_friends, s)\u001b[0m\n\u001b[1;32m      5\u001b[0m     \u001b[0;31m# Create scatter plots\u001b[0m\u001b[0;34m\u001b[0m\u001b[0;34m\u001b[0m\u001b[0m\n\u001b[1;32m      6\u001b[0m     \u001b[0msns\u001b[0m\u001b[0;34m.\u001b[0m\u001b[0mscatterplot\u001b[0m\u001b[0;34m(\u001b[0m\u001b[0mx\u001b[0m\u001b[0;34m=\u001b[0m\u001b[0mroi_loc\u001b[0m\u001b[0;34m.\u001b[0m\u001b[0mx\u001b[0m\u001b[0;34m,\u001b[0m \u001b[0my\u001b[0m\u001b[0;34m=\u001b[0m\u001b[0mroi_loc\u001b[0m\u001b[0;34m.\u001b[0m\u001b[0my\u001b[0m\u001b[0;34m,\u001b[0m \u001b[0mlabel\u001b[0m\u001b[0;34m=\u001b[0m\u001b[0;34m'other objects'\u001b[0m\u001b[0;34m,\u001b[0m \u001b[0ms\u001b[0m\u001b[0;34m=\u001b[0m\u001b[0ms\u001b[0m\u001b[0;34m,\u001b[0m \u001b[0mcolor\u001b[0m\u001b[0;34m=\u001b[0m\u001b[0;34m'w'\u001b[0m\u001b[0;34m,\u001b[0m \u001b[0medgecolor\u001b[0m\u001b[0;34m=\u001b[0m\u001b[0;34m'k'\u001b[0m\u001b[0;34m,\u001b[0m \u001b[0malpha\u001b[0m\u001b[0;34m=\u001b[0m\u001b[0;36m0.25\u001b[0m\u001b[0;34m)\u001b[0m\u001b[0;34m\u001b[0m\u001b[0m\n\u001b[0;32m----> 7\u001b[0;31m     \u001b[0mscatter\u001b[0m \u001b[0;34m=\u001b[0m \u001b[0msns\u001b[0m\u001b[0;34m.\u001b[0m\u001b[0mscatterplot\u001b[0m\u001b[0;34m(\u001b[0m\u001b[0mx\u001b[0m\u001b[0;34m=\u001b[0m\u001b[0mroi_loc\u001b[0m\u001b[0;34m.\u001b[0m\u001b[0mx\u001b[0m\u001b[0;34m[\u001b[0m\u001b[0mfriend_names\u001b[0m\u001b[0;34m[\u001b[0m\u001b[0mroi\u001b[0m\u001b[0;34m]\u001b[0m\u001b[0;34m]\u001b[0m\u001b[0;34m,\u001b[0m \u001b[0my\u001b[0m\u001b[0;34m=\u001b[0m\u001b[0mroi_loc\u001b[0m\u001b[0;34m.\u001b[0m\u001b[0my\u001b[0m\u001b[0;34m[\u001b[0m\u001b[0mfriend_names\u001b[0m\u001b[0;34m[\u001b[0m\u001b[0mroi\u001b[0m\u001b[0;34m]\u001b[0m\u001b[0;34m]\u001b[0m\u001b[0;34m,\u001b[0m \u001b[0ms\u001b[0m\u001b[0;34m=\u001b[0m\u001b[0ms\u001b[0m\u001b[0;34m,\u001b[0m \u001b[0mhue\u001b[0m\u001b[0;34m=\u001b[0m\u001b[0mfriend_names\u001b[0m\u001b[0;34m[\u001b[0m\u001b[0mroi\u001b[0m\u001b[0;34m]\u001b[0m\u001b[0;34m,\u001b[0m \u001b[0mpalette\u001b[0m\u001b[0;34m=\u001b[0m\u001b[0;34m'Spectral'\u001b[0m\u001b[0;34m,\u001b[0m \u001b[0medgecolor\u001b[0m\u001b[0;34m=\u001b[0m\u001b[0;34m'k'\u001b[0m\u001b[0;34m,\u001b[0m \u001b[0malpha\u001b[0m\u001b[0;34m=\u001b[0m\u001b[0;36m1\u001b[0m\u001b[0;34m)\u001b[0m\u001b[0;34m\u001b[0m\u001b[0m\n\u001b[0m\u001b[1;32m      8\u001b[0m \u001b[0;34m\u001b[0m\u001b[0m\n\u001b[1;32m      9\u001b[0m     \u001b[0;31m# Remove legend\u001b[0m\u001b[0;34m\u001b[0m\u001b[0;34m\u001b[0m\u001b[0m\n",
      "\u001b[0;31mKeyError\u001b[0m: 'Roi103'"
     ]
    },
    {
     "data": {
      "image/png": "[encoded data removed]",
      "text/plain": [
       "<Figure size 432x288 with 1 Axes>"
      ]
     },
     "metadata": {
      "needs_background": "light"
     },
     "output_type": "display_data"
    }
   ],
   "source": [
    "import seaborn as sns\n",
    "import matplotlib.pyplot as plt\n",
    "\n",
    "def friend_roi_2d(data_corr, friend_names, roi_loc, r, d, roi='Roi103', just_friends=True, s=100):\n",
    "    # Create scatter plots\n",
    "    sns.scatterplot(x=roi_loc.x, y=roi_loc.y, label='other objects', s=s, color='w', edgecolor='k', alpha=0.25)\n",
    "    scatter = sns.scatterplot(x=roi_loc.x[friend_names[roi]], y=roi_loc.y[friend_names[roi]], s=s, hue=friend_names[roi], palette='Spectral', edgecolor='k', alpha=1)\n",
    "    \n",
    "    # Remove legend\n",
    "    scatter.legend_.remove()\n",
    "    \n",
    "    # Create colorbar\n",
    "    cbar = plt.colorbar(scatter.collections[0], ax=scatter.axes)\n",
    "    cbar.set_label('Friend Index')\n",
    "    \n",
    "    # Show plot\n",
    "    sns.despine()\n",
    "    plt.show()\n",
    "\n",
    "# Assuming you call the function with appropriate arguments\n",
    "friend_roi_2d(data_corr, friend_names, roi_loc, r, d, roi='Roi103', just_friends=True, s=100)\n"
   ]
  },
  {
   "cell_type": "markdown",
   "id": "8def0e71",
   "metadata": {},
   "source": [
    "## B. Line Plots"
   ]
  },
  {
   "cell_type": "markdown",
   "id": "f6f519a1",
   "metadata": {},
   "source": [
    "All line plots are scaled the same: 0 to the maximum value in the entire dataframe."
   ]
  },
  {
   "cell_type": "markdown",
   "id": "1449790c",
   "metadata": {},
   "source": [
    "### - Line Plots for all ROIs"
   ]
  },
  {
   "cell_type": "markdown",
   "id": "f78fd4e0",
   "metadata": {},
   "source": [
    "Use all_roi_line_pdfs to plot each ROI as its own pdf. Each plot is randomly assigned a color. You cannot disable this feature.\n",
    "\n",
    "you can easily consolidate all of these into a single pdf using adobe or another preview program."
   ]
  },
  {
   "cell_type": "code",
   "execution_count": 24,
   "id": "38f1af10",
   "metadata": {
    "collapsed": false,
    "jupyter": {
     "outputs_hidden": false
    }
   },
   "outputs": [
    {
     "name": "stderr",
     "output_type": "stream",
     "text": [
      "/Users/devinwilson/anaconda3/envs/RAAIM/lib/python2.7/site-packages/ipykernel_launcher.py:265: DeprecationWarning: \n",
      ".ix is deprecated. Please use\n",
      ".loc for label based indexing or\n",
      ".iloc for positional indexing\n",
      "\n",
      "See the documentation here:\n",
      "http://pandas.pydata.org/pandas-docs/stable/indexing.html#ix-indexer-is-deprecated\n"
     ]
    }
   ],
   "source": [
    "all_roi_line_pdfs(data, num_rois = len(data.columns), ymin = 0, ymax=max(data.max()), events_x = events_x, events_y = events_y, folder = folder)"
   ]
  },
  {
   "cell_type": "markdown",
   "id": "7df093f5",
   "metadata": {},
   "source": [
    "### - Line Plot for only one ROI"
   ]
  },
  {
   "cell_type": "markdown",
   "id": "43422d88",
   "metadata": {},
   "source": [
    "Use roi_line_plot to call an ROI and get its plot. It includes the overlay of the LCPro events"
   ]
  },
  {
   "cell_type": "code",
   "execution_count": 352,
   "id": "279a9bd4",
   "metadata": {
    "collapsed": false,
    "jupyter": {
     "outputs_hidden": false
    }
   },
   "outputs": [
    {
     "name": "stderr",
     "output_type": "stream",
     "text": [
      "/Users/devinwilson/anaconda3/envs/RAAIM/lib/python2.7/site-packages/ipykernel_launcher.py:279: DeprecationWarning: \n",
      ".ix is deprecated. Please use\n",
      ".loc for label based indexing or\n",
      ".iloc for positional indexing\n",
      "\n",
      "See the documentation here:\n",
      "http://pandas.pydata.org/pandas-docs/stable/indexing.html#ix-indexer-is-deprecated\n"
     ]
    },
    {
     "data": {
      "image/png": "[encoded data removed]",
      "text/plain": [
       "<Figure size 432x288 with 1 Axes>"
      ]
     },
     "metadata": {
      "needs_background": "light"
     },
     "output_type": "display_data"
    }
   ],
   "source": [
    "roi_line_plot(roi = 'Roi136', dataframe = data, events_x = events_x, events_y=events_y, ymin = 0, ymax=max(data.max()))"
   ]
  },
  {
   "cell_type": "markdown",
   "id": "a1e29c79",
   "metadata": {},
   "source": [
    "### - Stacked line plot of an ROI and its friends"
   ]
  },
  {
   "cell_type": "markdown",
   "id": "5c262bde",
   "metadata": {},
   "source": [
    "Call an roi by name (ex: 'Roi35') to get a line plot of it and its friends. Save this plot from the pop up graph window."
   ]
  },
  {
   "cell_type": "code",
   "execution_count": null,
   "id": "8a4c3a5c",
   "metadata": {
    "collapsed": false,
    "jupyter": {
     "outputs_hidden": false
    }
   },
   "outputs": [],
   "source": [
    "friend_roi_line(data, friend_names, roi = 'Roi136', folder = folder)"
   ]
  },
  {
   "cell_type": "markdown",
   "id": "4bcebfc9",
   "metadata": {},
   "source": [
    "### - Average line plot of an ROI and its friends"
   ]
  },
  {
   "cell_type": "markdown",
   "id": "244422b7",
   "metadata": {},
   "source": [
    "Call an roi by name (ex: 'Roi35') to get a line plot of the average of it and its friends. the average standard error for each point is printed below once the plot is closed. Save this plot from the pop up graph window."
   ]
  },
  {
   "cell_type": "code",
   "execution_count": null,
   "id": "bfce62ef",
   "metadata": {
    "collapsed": false,
    "jupyter": {
     "outputs_hidden": false
    }
   },
   "outputs": [],
   "source": [
    "friend_roi_line_average(data, friend_names, roi = 'Roi136')"
   ]
  },
  {
   "cell_type": "markdown",
   "id": "bc1354b9",
   "metadata": {},
   "source": [
    "### - Autocorrelation Plot"
   ]
  },
  {
   "cell_type": "code",
   "execution_count": null,
   "id": "1ff20795",
   "metadata": {
    "collapsed": false,
    "jupyter": {
     "outputs_hidden": false
    }
   },
   "outputs": [],
   "source": [
    "roi = 'Roi136'\n",
    "\n",
    "autocorrelation_plot(data[roi])\n",
    "plt.title(roi)\n",
    "plt.show()"
   ]
  },
  {
   "cell_type": "markdown",
   "id": "defebe6c",
   "metadata": {},
   "source": [
    "## C. Box and Whister Plots"
   ]
  },
  {
   "cell_type": "markdown",
   "id": "a9c35853",
   "metadata": {},
   "source": [
    "Call an ROI and see the distribution of either its friends' correlations or neighbors' distances.\n",
    "\n",
    "Choose which metrc to use by changing flavor to either 'dist' or 'corr'"
   ]
  },
  {
   "cell_type": "code",
   "execution_count": null,
   "id": "421f3efe",
   "metadata": {
    "collapsed": false,
    "jupyter": {
     "outputs_hidden": false
    }
   },
   "outputs": [],
   "source": [
    "boxandwhiskers(roi = 'Roi136', flavor = 'corr', data_corr = data_corr, roi_dist = roi_dist, r = r, d = d)"
   ]
  },
  {
   "cell_type": "markdown",
   "id": "c2673f96",
   "metadata": {},
   "source": [
    "# End"
   ]
  },
  {
   "cell_type": "markdown",
   "id": "e2da8e8f",
   "metadata": {},
   "source": [
    "# ............................................................................................................................................"
   ]
  },
  {
   "cell_type": "markdown",
   "id": "a7b8c388",
   "metadata": {},
   "source": [
    "## [ Run the next cells of code if you want to randomize the dataset ]"
   ]
  },
  {
   "cell_type": "code",
   "execution_count": null,
   "id": "44106e40",
   "metadata": {
    "collapsed": false,
    "jupyter": {
     "outputs_hidden": false
    }
   },
   "outputs": [],
   "source": [
    "import random\n",
    "\n",
    "def shuffle(x):\n",
    "    random.shuffle(x)\n",
    "    return x\n",
    "\n",
    "for label, column in data.iteritems():\n",
    "    tempcol = data[label].tolist()\n",
    "    randcol = shuffle(tempcol)  #shuffle the list of values in the column\n",
    "    data[label] = randcol #write over the original list with randomized list"
   ]
  },
  {
   "cell_type": "markdown",
   "id": "c93dcb78",
   "metadata": {},
   "source": [
    "### Check that the dataset set is indeed randomized! Compare this table to the table under the header \"(b) Load\""
   ]
  },
  {
   "cell_type": "code",
   "execution_count": 200,
   "id": "73db1e52",
   "metadata": {
    "collapsed": false,
    "jupyter": {
     "outputs_hidden": false
    }
   },
   "outputs": [
    {
     "data": {
      "text/html": [
       "<div>\n",
       "<style scoped>\n",
       "    .dataframe tbody tr th:only-of-type {\n",
       "        vertical-align: middle;\n",
       "    }\n",
       "\n",
       "    .dataframe tbody tr th {\n",
       "        vertical-align: top;\n",
       "    }\n",
       "\n",
       "    .dataframe thead th {\n",
       "        text-align: right;\n",
       "    }\n",
       "</style>\n",
       "<table border=\"1\" class=\"dataframe\">\n",
       "  <thead>\n",
       "    <tr style=\"text-align: right;\">\n",
       "      <th></th>\n",
       "      <th>Roi18</th>\n",
       "      <th>Roi21</th>\n",
       "      <th>Roi62</th>\n",
       "      <th>Roi66</th>\n",
       "      <th>Roi67</th>\n",
       "    </tr>\n",
       "    <tr>\n",
       "      <th>time(s)</th>\n",
       "      <th></th>\n",
       "      <th></th>\n",
       "      <th></th>\n",
       "      <th></th>\n",
       "      <th></th>\n",
       "    </tr>\n",
       "  </thead>\n",
       "  <tbody>\n",
       "    <tr>\n",
       "      <th>0.78125</th>\n",
       "      <td>0.963949</td>\n",
       "      <td>1.782108</td>\n",
       "      <td>1.349198</td>\n",
       "      <td>1.543961</td>\n",
       "      <td>1.379517</td>\n",
       "    </tr>\n",
       "    <tr>\n",
       "      <th>1.56250</th>\n",
       "      <td>0.984581</td>\n",
       "      <td>1.741232</td>\n",
       "      <td>1.362327</td>\n",
       "      <td>1.515378</td>\n",
       "      <td>1.414717</td>\n",
       "    </tr>\n",
       "    <tr>\n",
       "      <th>2.34375</th>\n",
       "      <td>0.985647</td>\n",
       "      <td>1.753070</td>\n",
       "      <td>1.416037</td>\n",
       "      <td>1.465832</td>\n",
       "      <td>1.382118</td>\n",
       "    </tr>\n",
       "    <tr>\n",
       "      <th>3.12500</th>\n",
       "      <td>0.990750</td>\n",
       "      <td>1.741312</td>\n",
       "      <td>1.505475</td>\n",
       "      <td>1.457942</td>\n",
       "      <td>1.375667</td>\n",
       "    </tr>\n",
       "    <tr>\n",
       "      <th>3.90625</th>\n",
       "      <td>0.983733</td>\n",
       "      <td>1.745520</td>\n",
       "      <td>1.517991</td>\n",
       "      <td>1.409159</td>\n",
       "      <td>1.465119</td>\n",
       "    </tr>\n",
       "  </tbody>\n",
       "</table>\n",
       "</div>"
      ],
      "text/plain": [
       "            Roi18     Roi21     Roi62     Roi66     Roi67\n",
       "time(s)                                                  \n",
       "0.78125  0.963949  1.782108  1.349198  1.543961  1.379517\n",
       "1.56250  0.984581  1.741232  1.362327  1.515378  1.414717\n",
       "2.34375  0.985647  1.753070  1.416037  1.465832  1.382118\n",
       "3.12500  0.990750  1.741312  1.505475  1.457942  1.375667\n",
       "3.90625  0.983733  1.745520  1.517991  1.409159  1.465119"
      ]
     },
     "execution_count": 200,
     "metadata": {},
     "output_type": "execute_result"
    }
   ],
   "source": [
    "data.head()"
   ]
  },
  {
   "cell_type": "markdown",
   "id": "72bac3a3",
   "metadata": {},
   "source": [
    "### Now, go to analysis and it will run the program with the randomized data. (SKIP I. User Input) "
   ]
  },
  {
   "cell_type": "markdown",
   "id": "bac3b279",
   "metadata": {},
   "source": [
    "# ............................................................................................................................................"
   ]
  }
 ],
 "metadata": {
  "celltoolbar": "Edit Metadata",
  "kernelspec": {
   "display_name": "py2.7",
   "language": "python",
   "name": "raaim"
  },
  "language_info": {
   "codemirror_mode": {
    "name": "ipython",
    "version": 2
   },
   "file_extension": ".py",
   "mimetype": "text/x-python",
   "name": "python",
   "nbconvert_exporter": "python",
   "pygments_lexer": "ipython2",
   "version": "2.7.18"
  }
 },
 "nbformat": 4,
 "nbformat_minor": 5
}
