{
 "cells": [
  {
   "cell_type": "markdown",
   "metadata": {},
   "source": [
    "# ............................................................................................................................................"
   ]
  },
  {
   "cell_type": "markdown",
   "metadata": {},
   "source": [
    "# Welcome to the RAAIM"
   ]
  },
  {
   "cell_type": "markdown",
   "metadata": {},
   "source": [
    "Use shift + enter to run a code block or move to the next text block.\n",
    "\n",
    "Run the next block of code to intialize the program.\n",
    "\n",
    "* If you run into a \"C:\\Users\\labuser\\AppData\\Local\\Enthought\\Canopy\\User\\lib\\site-packages\\pandas\\io\\excel.py:626 error\", simply ignore it! The program will still be able to run."
   ]
  },
  {
   "cell_type": "code",
   "execution_count": 92,
   "metadata": {
    "collapsed": false,
    "jupyter": {
     "outputs_hidden": false
    }
   },
   "outputs": [
    {
     "name": "stdout",
     "output_type": "stream",
     "text": [
      "RAAIM Ready for Analysis\n"
     ]
    }
   ],
   "source": [
    "import numpy as np\n",
    "import scipy\n",
    "from scipy import spatial\n",
    "import pandas as pd\n",
    "import matplotlib.pyplot as plt\n",
    "from pandas import Series, DataFrame\n",
    "import time as t\n",
    "from PIL import Image\n",
    "import sys\n",
    "import os, errno\n",
    "import matplotlib.patches as patches\n",
    "from pandas.plotting import autocorrelation_plot\n",
    "import matplotlib.pyplot as plt\n",
    "import matplotlib.patches as patches\n",
    "import numpy as np\n",
    "\n",
    "def mkdir_p(path):\n",
    "    try:\n",
    "        os.makedirs(path)\n",
    "    except OSError as exc: # Python >2.5\n",
    "        if exc.errno == errno.EEXIST and os.path.isdir(path):\n",
    "            pass\n",
    "        else: raise\n",
    "\n",
    "def load_RAAIM(folder, original):\n",
    "    data = pd.read_csv(r'%s/ROI normalized_edited.txt' %(folder), index_col= 'time(s)', sep='\\t')\n",
    "    print \"Loaded 'ROI normalized_edited.txt'\"\n",
    "    \n",
    "    roi_param = pd.read_csv(r'%s/Parameter List.txt' %(folder), index_col='ROI', sep='\\t')\n",
    "    print \"Loaded 'Parameter List.txt'\"\n",
    "    \n",
    "    im = Image.open(r'%s/rgb.png' %(folder)).convert('RGB') #MUST BE RGB\n",
    "    print \"Loaded 'rgb.png'\"\n",
    "    im_np = np.array(im)\n",
    "    \n",
    "    \n",
    "    del data['Unnamed: 0'] #lc_pro outputs a weird blank column named this everytime. I don't know why, but it does. this line deletes it safely.\n",
    "    roi_loc, roi_x, roi_y, data = lcpro_param_parse(roi_param, data , original = original)\n",
    "    \n",
    "    print \"Configured Data\"\n",
    "    \n",
    "    events_x, events_y = get_events(data = data, roi_param = roi_param)\n",
    "    print \"LCPro events extracted\"\n",
    "    \n",
    "    path = folder +\"/plots\"\n",
    "    mkdir_p(path)\n",
    "    print \"Made plots folder\"\n",
    "    \n",
    "    \n",
    "    return data, roi_param, im, roi_loc, roi_x, roi_y, events_x, events_y\n",
    "    \n",
    "def lcpro_param_parse(roi_param, data , original):\n",
    "    '''\n",
    "    This function takes the Dataframe created by opening the 'Parameter List.txt' from LC_Pro. \n",
    "    '''\n",
    "    roi_loc = roi_param[['X', 'Y']]\n",
    "    roi_loc.drop_duplicates(inplace= True)\n",
    "    roi_x = roi_loc['X'].tolist()\n",
    "    roi_y = roi_loc['Y'].tolist()\n",
    "    new_index = []\n",
    "    for i in np.arange(len(roi_loc.index)):\n",
    "        foo = int(roi_loc.index[i])\n",
    "        new_index.append('Roi'+str(foo))\n",
    "    roi_loc = DataFrame({'x':roi_x, 'y':roi_y}, index= new_index)\n",
    "    \n",
    "    if len(data.columns) != len(new_index) and original == True:\n",
    "        sys.exit(\"The number of ROIs in the data file is not equal to the number of ROIs in the parameter file. That doesn't seem right, so I quit the function for you. Make sure you are loading the correct files, please.\")\n",
    "    \n",
    "    if original == False:\n",
    "        data = data[roi_loc.index]\n",
    "    \n",
    "    truth = (data.columns == roi_loc.index).tolist()\n",
    "    \n",
    "    if truth.count(True) != len(data.columns):\n",
    "        sys.exit(\"The names on data and roi_loc are not identical. This will surely break everything later, so I shut down the program. Try loading these files again.\")\n",
    "    \n",
    "    return roi_loc, roi_x, roi_y, data\n",
    "\n",
    "def get_events(data, roi_param):\n",
    "    '''\n",
    "    extract the events from the roi_parameter list. It returns them as a pair of dictionaries.\n",
    "    '''\n",
    "    new_index = []\n",
    "    for i in np.arange(len(roi_param.index)):\n",
    "        new_index.append('Roi'+str(roi_param.index[i]))\n",
    "    roi_events = DataFrame(index= new_index)\n",
    "    roi_events_time = roi_param['Time(s)'].tolist()\n",
    "    roi_events_amp = roi_param['Amp(F/F0)'].tolist()\n",
    "    roi_events['Time'] = roi_events_time\n",
    "    roi_events['Amp'] = roi_events_amp\n",
    "    \n",
    "    events_x = {}\n",
    "    events_y = {}\n",
    "    for label in data.columns:\n",
    "        events_x[label] = []\n",
    "        events_y[label] = []\n",
    "\n",
    "    for i in np.arange(len(roi_events.index)):\n",
    "        key = roi_events.index[i]\n",
    "        events_x[key].append(roi_events.iloc[i,0])\n",
    "        events_y[key].append(roi_events.iloc[i,1])\n",
    "        \n",
    "    return events_x, events_y\n",
    "\n",
    "def cross_correlation(data, r):\n",
    "    '''\n",
    "    This function calculated the cross elation between each ROI pair and returns a dataframe with NxN+1  values.\n",
    "    it also includes a column that contains the number of friends each ROI has.\n",
    "    lastly, it creates a dictionary where the keys are the roi names and names of each roi's friends are stored as a list. by defalut, each roi is at least friends with itself.\n",
    "    this file can be saved out as a CSV later.\n",
    "    '''\n",
    "    \n",
    "    data_corr = data.corr()\n",
    "    ls = (data_corr[data_corr>r].count())\n",
    "    data_corr['Number of Friends'] = ls\n",
    "    cols = data_corr.columns.tolist()\n",
    "    cols = cols[-1:] + cols[:-1]\n",
    "    data_corr = data_corr[cols]\n",
    "    \n",
    "    friend_names = {}\n",
    "    temp_cor = data.corr()\n",
    "    correlation_summary = DataFrame()\n",
    "    \n",
    "    for label, column in temp_cor.iteritems():\n",
    "        friend_names[label] = column[column>r].index.tolist()\n",
    "        friends = column[column>r]\n",
    "        summary = friends.describe()\n",
    "        correlation_summary[label] = np.round(summary, 3)\n",
    "\n",
    "    return data_corr, friend_names, correlation_summary\n",
    "\n",
    "def distance_matrix(roi_x, roi_y , roi_loc , d):\n",
    "    '''\n",
    "    This function calculates the euclidean distance between each ROI pair. It returns a dataframe with these distances.\n",
    "    it also includes a column that contains the number of neighbors each ROI has.\n",
    "    the files can be saved out as a CSV later.\n",
    "    It also returns the list of the (x,y) tuple for each roi.\n",
    "    '''\n",
    "    loc_tup = []\n",
    "    for i in np.arange(len(roi_x)):\n",
    "        loc_tup.append((roi_x[i], roi_y[i]))\n",
    "    \n",
    "    roi_dist = DataFrame(data = (scipy.spatial.distance.cdist(loc_tup, loc_tup, 'euclidean')), index = roi_loc.index, columns= roi_loc.index)\n",
    "    roi_dist_f = roi_dist\n",
    "    \n",
    "    neighbor_names = {}\n",
    "    distance_summary = DataFrame()\n",
    "    \n",
    "    for label, column in roi_dist.iteritems():\n",
    "        neighbor_names[label] = column[column<=d].index.tolist()\n",
    "        neighbors = column[column<=d]\n",
    "        summary = neighbors.describe()\n",
    "        distance_summary[label] = np.round(summary, 3)\n",
    "\n",
    "    ls = (roi_dist[roi_dist<=d].count())\n",
    "    roi_dist_f['Number of Neighbors'] = ls\n",
    "    cols = roi_dist_f.columns.tolist()\n",
    "    cols = cols[-1:] + cols[:-1]\n",
    "    roi_dist_f = roi_dist_f[cols]\n",
    "    \n",
    "    return roi_dist_f, loc_tup, neighbor_names, distance_summary\n",
    "\n",
    "def friend_dist(data_corr, roi_dist, friend_names, r, d):\n",
    "    '''\n",
    "    calculates distance information about each roi's friends.\n",
    "    returns a dataframe with Distance Sum, number of friends, and mean distance. mean dist = distance sum/number of fiends\n",
    "    '''\n",
    "    roi_friend_dist = DataFrame(index = data_corr.index)\n",
    "    #roi_friend_dist['Distance sum'] = (roi_dist[data_corr>r].sum())\n",
    "    roi_friend_dist['Number of Friends'] = (data_corr[data_corr>r].count())\n",
    "    roi_friend_dist['Mean Dist'] = (roi_dist[data_corr>r].mean())\n",
    "    roi_friend_dist['Std Dist'] = (roi_dist[data_corr>r].std())\n",
    "    \n",
    "    perc_friends_are_neighbors = Series(index = roi_dist.index) #empty series\n",
    "    for key in friend_names:\n",
    "        temp_series = roi_dist.loc[key, friend_names[key]]\n",
    "        count = temp_series[temp_series<=d].count()\n",
    "        perc_friends_are_neighbors[key] = count\n",
    "    roi_friend_dist['Number of Friends that are Neighbors'] = perc_friends_are_neighbors\n",
    "    roi_friend_dist['Percentage of Friends that are Neighbors'] = (roi_friend_dist['Number of Friends that are Neighbors']/roi_friend_dist['Number of Friends'])*100\n",
    "    \n",
    "    return roi_friend_dist\n",
    "\n",
    "def neighbor_corr(roi_dist, data_corr, neighbor_names, r, d):\n",
    "    '''\n",
    "    Calculates correlation information about each roi's neighbors.\n",
    "    returns dataframe with corr of neighbors, corr of neighbors that are friends, percent of neighbors that are friends\n",
    "    '''\n",
    "    \n",
    "    roi_neighbor_corr = DataFrame(index = roi_dist.index)\n",
    "    roi_neighbor_corr['Number of Neighbors'] = (roi_dist[roi_dist<=d].count())\n",
    "    roi_neighbor_corr['Mean Correlation'] = (data_corr[roi_dist<=d].mean())\n",
    "    roi_neighbor_corr['Std Correlation'] = (data_corr[roi_dist<=d].std())\n",
    "    \n",
    "    perc_neighbors_are_friends = Series(index = roi_dist.index)\n",
    "    for key in neighbor_names:\n",
    "        temp_series = data_corr.loc[key, neighbor_names[key]]\n",
    "        count = temp_series[temp_series>r].count()\n",
    "        perc_neighbors_are_friends[key] = count\n",
    "    roi_neighbor_corr['Number of Neighbors that are Friends'] = perc_neighbors_are_friends\n",
    "    roi_neighbor_corr['Percentage of Neighbors that are Friends'] = (roi_neighbor_corr['Number of Neighbors that are Friends']/roi_neighbor_corr['Number of Neighbors'])*100\n",
    "    \n",
    "    return roi_neighbor_corr\n",
    "\n",
    "def onpick(event):\n",
    "    '''\n",
    "    allows us to click on an roi and print in the notebook it's name.\n",
    "    '''\n",
    "    ind = event.ind\n",
    "    ind = ind[0]\n",
    "    print('Roi selected =', roi_loc.index[ind])\n",
    "    \n",
    "def all_roi_2d(roi_loc , im , s=6):\n",
    "    '''\n",
    "    makes a scatter plot of each roi overlayed on an uploaded image. when you click on an roi, it prints the name of the roi\n",
    "    for some reason, it takes two clicks to start printing. Not sure why\n",
    "    '''\n",
    "    fig, ax = plt.subplots()\n",
    "    col = ax.scatter(roi_loc.x, roi_loc.y, s=s, edgecolor = 'k', linewidth ='1',color = 'y', marker =\"o\", alpha = 0.75, picker = True)\n",
    "    fig.canvas.mpl_connect('pick_event', onpick)\n",
    "    width, height = im.size\n",
    "    plt.xlim(xmin=0, xmax=width)\n",
    "    plt.ylim(ymin = 0, ymax = height)\n",
    "    plt.title('All LC_Pro ROIs')\n",
    "    plt.imshow(im)\n",
    "    plt.show()\n",
    "    \n",
    "\n",
    "    \n",
    "def all_roi_line_pdfs(dataframe, num_rois, ymin, ymax, events_x, events_y, folder):\n",
    "    \n",
    "    fig, ax = plt.subplots()  # Create figure and axes\n",
    "\n",
    "    \n",
    "    for r in np.arange(num_rois):\n",
    "        \n",
    "        plt.figure()\n",
    "        plt.xlabel('Time (s)')\n",
    "        plt.ylabel('Intensity')\n",
    "        ax.set_title(dataframe.columns[r])\n",
    "        plt.ylim(ymin = ymin, ymax = ymax)\n",
    "        plt.xlim(xmin= dataframe.index[0], xmax = dataframe.index[-1])\n",
    "        plt.plot(dataframe.index, dataframe.ix[:,r], color = [np.random.random(), np.random.random(), np.random.random()])\n",
    "        plt.plot(events_x[dataframe.columns[r]], events_y[dataframe.columns[r]],  marker = \"^\", color=\"y\", linestyle= \"None\")\n",
    "        \n",
    "        plt.savefig(r'%s/plots/%s.pdf' %(folder,dataframe.columns[r]))\n",
    "        plt.close()\n",
    "        \n",
    "def roi_line_plot(roi, dataframe, events_x, events_y, ymin, ymax):\n",
    "    \n",
    "    plt.figure()\n",
    "    plt.xlabel('Time (s)')\n",
    "    plt.ylabel('Intensity')\n",
    "    plt.title(roi)\n",
    "    plt.ylim(ymin = ymin, ymax = ymax)\n",
    "    plt.xlim(xmin= dataframe.index[0], xmax = dataframe.index[-1])\n",
    "    plt.plot(dataframe.index, dataframe.ix[:,roi], color = 'k')\n",
    "    plt.plot(events_x[roi], events_y[roi],  marker = \"^\", color=\"y\", linestyle= \"None\")\n",
    "\n",
    "    plt.show()\n",
    "    \n",
    "    \n",
    "def friend_roi_line(data, friend_names, roi, folder):\n",
    "    plt.figure()\n",
    "    plt.plot(data.index, data[friend_names[roi]], color = '#FF6600')\n",
    "    plt.plot(data.index, data[roi], color = 'k',)\n",
    "    plt.ylim(ymin = 0, ymax = max(data.max()))\n",
    "    plt.xlabel('Seconds')\n",
    "    plt.ylabel('F/F0')\n",
    "\n",
    "    #plt.show()\n",
    "    plt.savefig(r'%s/friend_line(r=%s)(d=%s).png' %(folder,r,d), dpi=300)\n",
    "    \n",
    "def friend_roi_line_average(data, friend_names, roi):\n",
    "    roi_average = data[friend_names[roi]].mean(1)\n",
    "    roi_std = data[friend_names[roi]].std(1)\n",
    "    print \"the average of the std of each point is\", round(np.mean(roi_std),4), \"for\", roi, \"and its friends.\"\n",
    "\n",
    "    plt.figure()\n",
    "    plt.plot(data[friend_names[roi]].mean(1))\n",
    "    plt.ylim(ymin = 0, ymax = max(data.max()))\n",
    "    plt.title('Average of '+roi+' and its friends')\n",
    "    plt.show()\n",
    "\n",
    "def boxandwhiskers(roi, flavor,data_corr, roi_dist, r, d):\n",
    "    '''\n",
    "    Returns the box and whiskers plot of a named ROI's friends or neighbors.\n",
    "    \n",
    "    '''\n",
    "    if flavor == 'corr':\n",
    "        temp_series = data_corr[roi]\n",
    "        temp_series = temp_series[temp_series>r]\n",
    "        plt.boxplot(temp_series)\n",
    "        plt.ylim(ymin = r*0.85, ymax = 1.1)\n",
    "        plt.xticks(np.arange(1),roi)\n",
    "        plt.title(roi)\n",
    "        plt.text(0.55,r,temp_series.describe())\n",
    "        plt.ylabel('Correlation (r)')\n",
    "        plt.show()\n",
    "        \n",
    "    \n",
    "    elif flavor == 'dist':\n",
    "        temp_series = roi_dist[roi]\n",
    "        temp_series = temp_series[temp_series<=d]\n",
    "        plt.boxplot(temp_series)\n",
    "        plt.ylim(ymin = -3, ymax = d*1.25)\n",
    "        plt.xticks(np.arange(1),roi)\n",
    "        plt.title(roi)\n",
    "        plt.text(0.55,d*0.5,temp_series.describe())\n",
    "        plt.ylabel('Distance (pixels)')\n",
    "        plt.show()\n",
    "        \n",
    "        \n",
    "    else:\n",
    "        print \"ERROR: flavor must be set to either 'corr' or 'dist'.\"        \n",
    "        \n",
    "print \"RAAIM Ready for Analysis\""
   ]
  },
  {
   "cell_type": "markdown",
   "metadata": {},
   "source": [
    "# I. Begin User Input"
   ]
  },
  {
   "cell_type": "markdown",
   "metadata": {},
   "source": [
    "This whole notebook is especially formated for LC_pro outputs. This means that the load functions and wrappers expect that certain columns are in exactly the right locations and labels are formatted a certain way. This author does not expect other types of files to be handled properly (as in: will probably fail). "
   ]
  },
  {
   "cell_type": "markdown",
   "metadata": {},
   "source": [
    "## ------------------------------- An Important note about saving!  -------------------------------"
   ]
  },
  {
   "cell_type": "markdown",
   "metadata": {},
   "source": [
    "This notebook is brutal and will mercilessly **save over exsisting files of the same name without warning!**\n",
    "\n",
    "You can manually change the name of the saved file one way: \n",
    "\n",
    "Change part of the text portion of the VARIBLE.to_csv(r'%s/**OBJECT**.csv' %(folder)). you can change **OBJECT** to whatever you want. go nuts. \n",
    "\n",
    "Remember, only you can keep all your files organized and named properly. I'm just here to help. Use a naming convention that is simple and easy to understand/remember. You can totally move ALL of these files to anywhere once you've run this analysis. It won't break stuff."
   ]
  },
  {
   "cell_type": "markdown",
   "metadata": {},
   "source": [
    "## ------------------------------------------------------------------------------------------------------"
   ]
  },
  {
   "cell_type": "markdown",
   "metadata": {},
   "source": [
    "## A. Declare Your Folder"
   ]
  },
  {
   "cell_type": "markdown",
   "metadata": {},
   "source": [
    "Change the following string below to the location of the folder where your data is. You will also save all of your data in this folder. Must be full path name and not end in a /.\n",
    "\n",
    "**Example:**\n",
    "\n",
    "\"/Users/abigaildobyns/Desktop/RAAIM\""
   ]
  },
  {
   "cell_type": "code",
   "execution_count": 113,
   "metadata": {
    "collapsed": false,
    "jupyter": {
     "outputs_hidden": false
    }
   },
   "outputs": [
    {
     "name": "stdout",
     "output_type": "stream",
     "text": [
      "Loaded 'ROI normalized_edited.txt'\n",
      "Loaded 'Parameter List.txt'\n",
      "Loaded 'rgb.png'\n",
      "Configured Data\n",
      "LCPro events extracted\n",
      "Made plots folder\n"
     ]
    },
    {
     "name": "stderr",
     "output_type": "stream",
     "text": [
      "/Users/devinwilson/anaconda3/envs/RAAIM/lib/python2.7/site-packages/ipykernel_launcher.py:56: SettingWithCopyWarning: \n",
      "A value is trying to be set on a copy of a slice from a DataFrame\n",
      "\n",
      "See the caveats in the documentation: http://pandas.pydata.org/pandas-docs/stable/indexing.html#indexing-view-versus-copy\n"
     ]
    },
    {
     "data": {
      "text/html": [
       "<div>\n",
       "<style scoped>\n",
       "    .dataframe tbody tr th:only-of-type {\n",
       "        vertical-align: middle;\n",
       "    }\n",
       "\n",
       "    .dataframe tbody tr th {\n",
       "        vertical-align: top;\n",
       "    }\n",
       "\n",
       "    .dataframe thead th {\n",
       "        text-align: right;\n",
       "    }\n",
       "</style>\n",
       "<table border=\"1\" class=\"dataframe\">\n",
       "  <thead>\n",
       "    <tr style=\"text-align: right;\">\n",
       "      <th></th>\n",
       "      <th>Number of Friends</th>\n",
       "      <th>Mean Dist</th>\n",
       "      <th>Percentage of Friends that are Neighbors</th>\n",
       "    </tr>\n",
       "  </thead>\n",
       "  <tbody>\n",
       "    <tr>\n",
       "      <th>count</th>\n",
       "      <td>32.000000</td>\n",
       "      <td>32.000000</td>\n",
       "      <td>32.000000</td>\n",
       "    </tr>\n",
       "    <tr>\n",
       "      <th>mean</th>\n",
       "      <td>1.437500</td>\n",
       "      <td>50.405618</td>\n",
       "      <td>86.458333</td>\n",
       "    </tr>\n",
       "    <tr>\n",
       "      <th>std</th>\n",
       "      <td>0.669015</td>\n",
       "      <td>81.535660</td>\n",
       "      <td>22.575044</td>\n",
       "    </tr>\n",
       "    <tr>\n",
       "      <th>min</th>\n",
       "      <td>1.000000</td>\n",
       "      <td>0.000000</td>\n",
       "      <td>33.333333</td>\n",
       "    </tr>\n",
       "    <tr>\n",
       "      <th>25%</th>\n",
       "      <td>1.000000</td>\n",
       "      <td>0.000000</td>\n",
       "      <td>66.666667</td>\n",
       "    </tr>\n",
       "    <tr>\n",
       "      <th>50%</th>\n",
       "      <td>1.000000</td>\n",
       "      <td>0.000000</td>\n",
       "      <td>100.000000</td>\n",
       "    </tr>\n",
       "    <tr>\n",
       "      <th>75%</th>\n",
       "      <td>2.000000</td>\n",
       "      <td>127.520308</td>\n",
       "      <td>100.000000</td>\n",
       "    </tr>\n",
       "    <tr>\n",
       "      <th>max</th>\n",
       "      <td>3.000000</td>\n",
       "      <td>274.826355</td>\n",
       "      <td>100.000000</td>\n",
       "    </tr>\n",
       "  </tbody>\n",
       "</table>\n",
       "</div>"
      ],
      "text/plain": [
       "       Number of Friends   Mean Dist  Percentage of Friends that are Neighbors\n",
       "count          32.000000   32.000000                                 32.000000\n",
       "mean            1.437500   50.405618                                 86.458333\n",
       "std             0.669015   81.535660                                 22.575044\n",
       "min             1.000000    0.000000                                 33.333333\n",
       "25%             1.000000    0.000000                                 66.666667\n",
       "50%             1.000000    0.000000                                100.000000\n",
       "75%             2.000000  127.520308                                100.000000\n",
       "max             3.000000  274.826355                                100.000000"
      ]
     },
     "execution_count": 113,
     "metadata": {},
     "output_type": "execute_result"
    },
    {
     "data": {
      "image/png": "[encoded data removed]",
      "text/plain": [
       "<Figure size 432x288 with 1 Axes>"
      ]
     },
     "metadata": {
      "needs_background": "light"
     },
     "output_type": "display_data"
    }
   ],
   "source": [
    "folder = \"/Users/devinwilson/Documents/lab_docs/calcium_project/calcium_analysis_software/Fluoresence_Analysis_Regarding_Time_Space(FARTS)/test_input/ryr_2020_11_06_RAAIM_DF_UnverifiedSpread\"\n",
    "data, roi_param, im, roi_loc, roi_x, roi_y, events_x, events_y = load_RAAIM(folder=folder, original=False)\n",
    "roi = 'Roi27'\n",
    "\n",
    "r = .8 #set r value, must be -1<= r <=1\n",
    "d = 100 # set the maximum distance from an ROI that is the threshold for neighborhood\n",
    "data_corr, friend_names, correlation_summary = cross_correlation(data, r)\n",
    "data_corr.to_csv(r'%s/xcor(r=%s)(d=%s).csv' %(folder,r,d))\n",
    "correlation_summary.to_csv(r'%s/xcor_summary(r=%s)(d=%s).csv'%(folder,r,d))\n",
    "roi_dist, loc_tup, neighbor_names, distance_summary = distance_matrix(roi_x, roi_y , roi_loc , d)\n",
    "roi_dist.to_csv(r'%s/dist_matrix(r=%s)(d=%s).csv' %(folder,r,d))\n",
    "distance_summary.to_csv(r'%s/dist_summary(r=%s)(d=%s).csv' %(folder,r,d))\n",
    "friend_distances = friend_dist(data_corr, roi_dist, friend_names, r, d)\n",
    "friend_dist_sum = friend_distances.describe()\n",
    "friend_distances.to_csv(r'%s/friend_distances(r=%s)(d=%s).csv' %(folder,r,d))\n",
    "friend_dist_sum.to_csv(r'%s/friend_distances_summary(r=%s)(d=%s).csv' %(folder,r,d))\n",
    "neighbor_correlation = neighbor_corr(roi_dist, data_corr, neighbor_names, r, d)\n",
    "neighbor_corr_sum = neighbor_correlation.describe()\n",
    "neighbor_correlation.to_csv(r'%s/neighbor_correlation(r=%s)(d=%s).csv' %(folder,r,d))\n",
    "neighbor_corr_sum.to_csv(r'%s/neighbor_correlation_summary(r=%s)(d=%s).csv' %(folder,r,d))\n",
    "\n",
    "friend_roi_line(data, friend_names, roi = roi, folder = folder)\n",
    "#fig1.savefig(r'%s/friend_line.png' %(folder))\n",
    "#friend_roi_2d(data_corr , friend_names, roi_loc, r, d, roi = roi, just_friends = True, s = 100)\n",
    "#fig2.savefig(r'%s/friend_2d.png' %(folder))\n",
    "\n",
    "#friend_roi_line.to_png(r'%s/line_plot_with_friends.png' %(folder))\n",
    "\n",
    "#all_roi_line_pdfs(data, num_rois = len(data.columns), ymin = 0, ymax=max(data.max()), events_x = events_x, events_y = events_y, folder = folder)\n",
    "\n",
    "friend_dist_sum[['Number of Friends', 'Mean Dist', 'Percentage of Friends that are Neighbors']]\n",
    "\n",
    "#neighbor_corr_sum[['Number of Neighbors', 'Percentage of Neighbors that are Friends']]"
   ]
  },
  {
   "cell_type": "markdown",
   "metadata": {},
   "source": [
    "## B. Load"
   ]
  },
  {
   "cell_type": "markdown",
   "metadata": {},
   "source": [
    "Use the following block below to load your data. There should be three files in this folder:\n",
    "\n",
    "1. 'ROI normalized.txt'\n",
    "\n",
    "2. 'Parameter List_edit.txt'\n",
    "\n",
    "3. 'rbg.png'\n",
    "\n",
    "There should be no headers (other than column names) in the text files. the text files can be either .txt or .csv. if you have problems loading them, make sure that the data is not corrupted, it is in the correct file type, the delimiter is correct, and the file path is correct. \n",
    "\n",
    "the image still can be just a random frame or the averaged or compressed stack. it must be convered to RGB and saved as .png."
   ]
  },
  {
   "cell_type": "markdown",
   "metadata": {},
   "source": [
    "###### if you get a *SettingWithCopyWarning*,  **Don't worry, that's normal**. I know that you are setting with a copy. It's on purpose"
   ]
  },
  {
   "cell_type": "code",
   "execution_count": 112,
   "metadata": {
    "collapsed": false,
    "jupyter": {
     "outputs_hidden": false
    }
   },
   "outputs": [
    {
     "name": "stdout",
     "output_type": "stream",
     "text": [
      "Loaded 'ROI normalized_edited.txt'\n",
      "Loaded 'Parameter List.txt'\n",
      "Loaded 'rgb.png'\n",
      "Configured Data\n",
      "LCPro events extracted\n",
      "Made plots folder\n"
     ]
    },
    {
     "name": "stderr",
     "output_type": "stream",
     "text": [
      "/Users/devinwilson/anaconda3/envs/RAAIM/lib/python2.7/site-packages/ipykernel_launcher.py:56: SettingWithCopyWarning: \n",
      "A value is trying to be set on a copy of a slice from a DataFrame\n",
      "\n",
      "See the caveats in the documentation: http://pandas.pydata.org/pandas-docs/stable/indexing.html#indexing-view-versus-copy\n"
     ]
    }
   ],
   "source": [
    "data, roi_param, im, roi_loc, roi_x, roi_y, events_x, events_y = load_RAAIM(folder=folder, original=False)"
   ]
  },
  {
   "cell_type": "markdown",
   "metadata": {},
   "source": [
    "###### Use the two cells below to check that the data and roi_loc dataframes look as expected."
   ]
  },
  {
   "cell_type": "code",
   "execution_count": 67,
   "metadata": {
    "collapsed": false,
    "jupyter": {
     "outputs_hidden": false
    }
   },
   "outputs": [
    {
     "data": {
      "text/html": [
       "<div>\n",
       "<style scoped>\n",
       "    .dataframe tbody tr th:only-of-type {\n",
       "        vertical-align: middle;\n",
       "    }\n",
       "\n",
       "    .dataframe tbody tr th {\n",
       "        vertical-align: top;\n",
       "    }\n",
       "\n",
       "    .dataframe thead th {\n",
       "        text-align: right;\n",
       "    }\n",
       "</style>\n",
       "<table border=\"1\" class=\"dataframe\">\n",
       "  <thead>\n",
       "    <tr style=\"text-align: right;\">\n",
       "      <th></th>\n",
       "      <th>Roi8</th>\n",
       "      <th>Roi15</th>\n",
       "      <th>Roi22</th>\n",
       "      <th>Roi25</th>\n",
       "      <th>Roi26</th>\n",
       "      <th>Roi27</th>\n",
       "      <th>Roi33</th>\n",
       "      <th>Roi35</th>\n",
       "      <th>Roi38</th>\n",
       "      <th>Roi39</th>\n",
       "      <th>...</th>\n",
       "      <th>Roi111</th>\n",
       "      <th>Roi112</th>\n",
       "      <th>Roi113</th>\n",
       "      <th>Roi114</th>\n",
       "      <th>Roi115</th>\n",
       "      <th>Roi116</th>\n",
       "      <th>Roi117</th>\n",
       "      <th>Roi118</th>\n",
       "      <th>Roi119</th>\n",
       "      <th>Roi121</th>\n",
       "    </tr>\n",
       "    <tr>\n",
       "      <th>time(s)</th>\n",
       "      <th></th>\n",
       "      <th></th>\n",
       "      <th></th>\n",
       "      <th></th>\n",
       "      <th></th>\n",
       "      <th></th>\n",
       "      <th></th>\n",
       "      <th></th>\n",
       "      <th></th>\n",
       "      <th></th>\n",
       "      <th></th>\n",
       "      <th></th>\n",
       "      <th></th>\n",
       "      <th></th>\n",
       "      <th></th>\n",
       "      <th></th>\n",
       "      <th></th>\n",
       "      <th></th>\n",
       "      <th></th>\n",
       "      <th></th>\n",
       "      <th></th>\n",
       "    </tr>\n",
       "  </thead>\n",
       "  <tbody>\n",
       "    <tr>\n",
       "      <th>0.78125</th>\n",
       "      <td>1.731664</td>\n",
       "      <td>1.399496</td>\n",
       "      <td>1.181097</td>\n",
       "      <td>1.234663</td>\n",
       "      <td>1.210247</td>\n",
       "      <td>1.570099</td>\n",
       "      <td>0.969022</td>\n",
       "      <td>1.676949</td>\n",
       "      <td>0.951223</td>\n",
       "      <td>1.234311</td>\n",
       "      <td>...</td>\n",
       "      <td>1.010603</td>\n",
       "      <td>0.983244</td>\n",
       "      <td>1.289143</td>\n",
       "      <td>1.135683</td>\n",
       "      <td>1.324641</td>\n",
       "      <td>1.072607</td>\n",
       "      <td>1.042635</td>\n",
       "      <td>1.005608</td>\n",
       "      <td>1.074919</td>\n",
       "      <td>0.763691</td>\n",
       "    </tr>\n",
       "    <tr>\n",
       "      <th>1.56250</th>\n",
       "      <td>1.683883</td>\n",
       "      <td>1.351116</td>\n",
       "      <td>1.253461</td>\n",
       "      <td>1.346507</td>\n",
       "      <td>1.206945</td>\n",
       "      <td>1.475651</td>\n",
       "      <td>0.991647</td>\n",
       "      <td>1.709239</td>\n",
       "      <td>0.840223</td>\n",
       "      <td>1.134946</td>\n",
       "      <td>...</td>\n",
       "      <td>1.066926</td>\n",
       "      <td>0.930574</td>\n",
       "      <td>1.221132</td>\n",
       "      <td>1.293178</td>\n",
       "      <td>1.359026</td>\n",
       "      <td>1.023133</td>\n",
       "      <td>1.028087</td>\n",
       "      <td>0.935969</td>\n",
       "      <td>1.204341</td>\n",
       "      <td>0.833260</td>\n",
       "    </tr>\n",
       "    <tr>\n",
       "      <th>2.34375</th>\n",
       "      <td>1.619831</td>\n",
       "      <td>1.364355</td>\n",
       "      <td>1.284855</td>\n",
       "      <td>1.328009</td>\n",
       "      <td>1.186970</td>\n",
       "      <td>1.405031</td>\n",
       "      <td>0.995974</td>\n",
       "      <td>1.617858</td>\n",
       "      <td>0.938599</td>\n",
       "      <td>1.195102</td>\n",
       "      <td>...</td>\n",
       "      <td>1.117302</td>\n",
       "      <td>0.830791</td>\n",
       "      <td>1.211893</td>\n",
       "      <td>1.223203</td>\n",
       "      <td>1.404741</td>\n",
       "      <td>1.110480</td>\n",
       "      <td>0.966656</td>\n",
       "      <td>1.041397</td>\n",
       "      <td>1.251470</td>\n",
       "      <td>0.775527</td>\n",
       "    </tr>\n",
       "    <tr>\n",
       "      <th>3.12500</th>\n",
       "      <td>1.628290</td>\n",
       "      <td>1.212779</td>\n",
       "      <td>1.463062</td>\n",
       "      <td>1.441818</td>\n",
       "      <td>1.125506</td>\n",
       "      <td>1.445304</td>\n",
       "      <td>1.043773</td>\n",
       "      <td>1.676605</td>\n",
       "      <td>0.849799</td>\n",
       "      <td>1.107372</td>\n",
       "      <td>...</td>\n",
       "      <td>0.928189</td>\n",
       "      <td>0.865807</td>\n",
       "      <td>1.299283</td>\n",
       "      <td>1.326136</td>\n",
       "      <td>1.434819</td>\n",
       "      <td>1.033586</td>\n",
       "      <td>0.892377</td>\n",
       "      <td>0.949124</td>\n",
       "      <td>1.361029</td>\n",
       "      <td>0.804648</td>\n",
       "    </tr>\n",
       "    <tr>\n",
       "      <th>3.90625</th>\n",
       "      <td>1.778226</td>\n",
       "      <td>2.764113</td>\n",
       "      <td>1.323809</td>\n",
       "      <td>1.401050</td>\n",
       "      <td>1.234247</td>\n",
       "      <td>1.433848</td>\n",
       "      <td>1.111757</td>\n",
       "      <td>1.549383</td>\n",
       "      <td>1.054573</td>\n",
       "      <td>1.333462</td>\n",
       "      <td>...</td>\n",
       "      <td>0.926654</td>\n",
       "      <td>1.089192</td>\n",
       "      <td>1.338458</td>\n",
       "      <td>1.257541</td>\n",
       "      <td>1.354548</td>\n",
       "      <td>1.424696</td>\n",
       "      <td>0.916086</td>\n",
       "      <td>1.002042</td>\n",
       "      <td>1.301566</td>\n",
       "      <td>0.963926</td>\n",
       "    </tr>\n",
       "  </tbody>\n",
       "</table>\n",
       "<p>5 rows × 44 columns</p>\n",
       "</div>"
      ],
      "text/plain": [
       "             Roi8     Roi15     Roi22     Roi25     Roi26     Roi27     Roi33  \\\n",
       "time(s)                                                                         \n",
       "0.78125  1.731664  1.399496  1.181097  1.234663  1.210247  1.570099  0.969022   \n",
       "1.56250  1.683883  1.351116  1.253461  1.346507  1.206945  1.475651  0.991647   \n",
       "2.34375  1.619831  1.364355  1.284855  1.328009  1.186970  1.405031  0.995974   \n",
       "3.12500  1.628290  1.212779  1.463062  1.441818  1.125506  1.445304  1.043773   \n",
       "3.90625  1.778226  2.764113  1.323809  1.401050  1.234247  1.433848  1.111757   \n",
       "\n",
       "            Roi35     Roi38     Roi39  ...    Roi111    Roi112    Roi113  \\\n",
       "time(s)                                ...                                 \n",
       "0.78125  1.676949  0.951223  1.234311  ...  1.010603  0.983244  1.289143   \n",
       "1.56250  1.709239  0.840223  1.134946  ...  1.066926  0.930574  1.221132   \n",
       "2.34375  1.617858  0.938599  1.195102  ...  1.117302  0.830791  1.211893   \n",
       "3.12500  1.676605  0.849799  1.107372  ...  0.928189  0.865807  1.299283   \n",
       "3.90625  1.549383  1.054573  1.333462  ...  0.926654  1.089192  1.338458   \n",
       "\n",
       "           Roi114    Roi115    Roi116    Roi117    Roi118    Roi119    Roi121  \n",
       "time(s)                                                                        \n",
       "0.78125  1.135683  1.324641  1.072607  1.042635  1.005608  1.074919  0.763691  \n",
       "1.56250  1.293178  1.359026  1.023133  1.028087  0.935969  1.204341  0.833260  \n",
       "2.34375  1.223203  1.404741  1.110480  0.966656  1.041397  1.251470  0.775527  \n",
       "3.12500  1.326136  1.434819  1.033586  0.892377  0.949124  1.361029  0.804648  \n",
       "3.90625  1.257541  1.354548  1.424696  0.916086  1.002042  1.301566  0.963926  \n",
       "\n",
       "[5 rows x 44 columns]"
      ]
     },
     "execution_count": 67,
     "metadata": {},
     "output_type": "execute_result"
    }
   ],
   "source": [
    "data.head()"
   ]
  },
  {
   "cell_type": "code",
   "execution_count": 68,
   "metadata": {
    "collapsed": false,
    "jupyter": {
     "outputs_hidden": false
    }
   },
   "outputs": [
    {
     "data": {
      "text/html": [
       "<div>\n",
       "<style scoped>\n",
       "    .dataframe tbody tr th:only-of-type {\n",
       "        vertical-align: middle;\n",
       "    }\n",
       "\n",
       "    .dataframe tbody tr th {\n",
       "        vertical-align: top;\n",
       "    }\n",
       "\n",
       "    .dataframe thead th {\n",
       "        text-align: right;\n",
       "    }\n",
       "</style>\n",
       "<table border=\"1\" class=\"dataframe\">\n",
       "  <thead>\n",
       "    <tr style=\"text-align: right;\">\n",
       "      <th></th>\n",
       "      <th>x</th>\n",
       "      <th>y</th>\n",
       "    </tr>\n",
       "  </thead>\n",
       "  <tbody>\n",
       "    <tr>\n",
       "      <th>Roi8</th>\n",
       "      <td>117</td>\n",
       "      <td>154</td>\n",
       "    </tr>\n",
       "    <tr>\n",
       "      <th>Roi15</th>\n",
       "      <td>10</td>\n",
       "      <td>22</td>\n",
       "    </tr>\n",
       "    <tr>\n",
       "      <th>Roi22</th>\n",
       "      <td>265</td>\n",
       "      <td>19</td>\n",
       "    </tr>\n",
       "    <tr>\n",
       "      <th>Roi25</th>\n",
       "      <td>96</td>\n",
       "      <td>50</td>\n",
       "    </tr>\n",
       "    <tr>\n",
       "      <th>Roi26</th>\n",
       "      <td>5</td>\n",
       "      <td>61</td>\n",
       "    </tr>\n",
       "  </tbody>\n",
       "</table>\n",
       "</div>"
      ],
      "text/plain": [
       "         x    y\n",
       "Roi8   117  154\n",
       "Roi15   10   22\n",
       "Roi22  265   19\n",
       "Roi25   96   50\n",
       "Roi26    5   61"
      ]
     },
     "execution_count": 68,
     "metadata": {},
     "output_type": "execute_result"
    }
   ],
   "source": [
    "roi_loc.head()"
   ]
  },
  {
   "cell_type": "markdown",
   "metadata": {},
   "source": [
    "# II. Analysis"
   ]
  },
  {
   "cell_type": "markdown",
   "metadata": {},
   "source": [
    "## A. Cross Correlation Matrix (friends)"
   ]
  },
  {
   "cell_type": "markdown",
   "metadata": {},
   "source": [
    "Set your r value to your threshold for significant cross correlation. This value will be used is all later calculation. If you change it, you must rerun ALL cells following to update the change."
   ]
  },
  {
   "cell_type": "code",
   "execution_count": 114,
   "metadata": {
    "collapsed": false,
    "jupyter": {
     "outputs_hidden": false
    }
   },
   "outputs": [],
   "source": [
    "r = 0.8 #set r value, must be -1<= r <=1"
   ]
  },
  {
   "cell_type": "code",
   "execution_count": 115,
   "metadata": {
    "collapsed": false,
    "jupyter": {
     "outputs_hidden": false
    }
   },
   "outputs": [
    {
     "data": {
      "text/html": [
       "<div>\n",
       "<style scoped>\n",
       "    .dataframe tbody tr th:only-of-type {\n",
       "        vertical-align: middle;\n",
       "    }\n",
       "\n",
       "    .dataframe tbody tr th {\n",
       "        vertical-align: top;\n",
       "    }\n",
       "\n",
       "    .dataframe thead th {\n",
       "        text-align: right;\n",
       "    }\n",
       "</style>\n",
       "<table border=\"1\" class=\"dataframe\">\n",
       "  <thead>\n",
       "    <tr style=\"text-align: right;\">\n",
       "      <th></th>\n",
       "      <th>Number of Friends</th>\n",
       "      <th>Roi1</th>\n",
       "      <th>Roi2</th>\n",
       "      <th>Roi3</th>\n",
       "      <th>Roi4</th>\n",
       "      <th>Roi5</th>\n",
       "      <th>Roi6</th>\n",
       "      <th>Roi7</th>\n",
       "      <th>Roi8</th>\n",
       "      <th>Roi9</th>\n",
       "      <th>...</th>\n",
       "      <th>Roi23</th>\n",
       "      <th>Roi24</th>\n",
       "      <th>Roi25</th>\n",
       "      <th>Roi26</th>\n",
       "      <th>Roi27</th>\n",
       "      <th>Roi28</th>\n",
       "      <th>Roi29</th>\n",
       "      <th>Roi30</th>\n",
       "      <th>Roi31</th>\n",
       "      <th>Roi32</th>\n",
       "    </tr>\n",
       "  </thead>\n",
       "  <tbody>\n",
       "    <tr>\n",
       "      <th>Roi1</th>\n",
       "      <td>1</td>\n",
       "      <td>1.000000</td>\n",
       "      <td>-0.145594</td>\n",
       "      <td>0.424482</td>\n",
       "      <td>-0.290123</td>\n",
       "      <td>-0.249016</td>\n",
       "      <td>-0.103935</td>\n",
       "      <td>-0.078107</td>\n",
       "      <td>0.205295</td>\n",
       "      <td>0.283204</td>\n",
       "      <td>...</td>\n",
       "      <td>-0.035375</td>\n",
       "      <td>-0.063656</td>\n",
       "      <td>-0.383866</td>\n",
       "      <td>0.194054</td>\n",
       "      <td>-0.147180</td>\n",
       "      <td>0.128334</td>\n",
       "      <td>-0.172562</td>\n",
       "      <td>-0.250647</td>\n",
       "      <td>-0.267685</td>\n",
       "      <td>-0.088947</td>\n",
       "    </tr>\n",
       "    <tr>\n",
       "      <th>Roi2</th>\n",
       "      <td>1</td>\n",
       "      <td>-0.145594</td>\n",
       "      <td>1.000000</td>\n",
       "      <td>-0.038556</td>\n",
       "      <td>-0.091511</td>\n",
       "      <td>-0.222543</td>\n",
       "      <td>-0.333118</td>\n",
       "      <td>0.400486</td>\n",
       "      <td>0.069130</td>\n",
       "      <td>0.398076</td>\n",
       "      <td>...</td>\n",
       "      <td>-0.134766</td>\n",
       "      <td>0.312810</td>\n",
       "      <td>-0.261553</td>\n",
       "      <td>0.145803</td>\n",
       "      <td>0.325272</td>\n",
       "      <td>-0.446991</td>\n",
       "      <td>-0.309862</td>\n",
       "      <td>0.113168</td>\n",
       "      <td>0.209863</td>\n",
       "      <td>-0.153500</td>\n",
       "    </tr>\n",
       "    <tr>\n",
       "      <th>Roi3</th>\n",
       "      <td>1</td>\n",
       "      <td>0.424482</td>\n",
       "      <td>-0.038556</td>\n",
       "      <td>1.000000</td>\n",
       "      <td>-0.167129</td>\n",
       "      <td>0.336918</td>\n",
       "      <td>0.065119</td>\n",
       "      <td>-0.203840</td>\n",
       "      <td>0.012360</td>\n",
       "      <td>-0.148897</td>\n",
       "      <td>...</td>\n",
       "      <td>-0.008744</td>\n",
       "      <td>-0.219951</td>\n",
       "      <td>-0.021720</td>\n",
       "      <td>-0.082984</td>\n",
       "      <td>0.046194</td>\n",
       "      <td>0.019419</td>\n",
       "      <td>-0.186554</td>\n",
       "      <td>0.154154</td>\n",
       "      <td>-0.127692</td>\n",
       "      <td>0.538836</td>\n",
       "    </tr>\n",
       "    <tr>\n",
       "      <th>Roi4</th>\n",
       "      <td>2</td>\n",
       "      <td>-0.290123</td>\n",
       "      <td>-0.091511</td>\n",
       "      <td>-0.167129</td>\n",
       "      <td>1.000000</td>\n",
       "      <td>-0.023138</td>\n",
       "      <td>0.226538</td>\n",
       "      <td>-0.198392</td>\n",
       "      <td>-0.063365</td>\n",
       "      <td>-0.253893</td>\n",
       "      <td>...</td>\n",
       "      <td>0.247839</td>\n",
       "      <td>-0.241593</td>\n",
       "      <td>0.203443</td>\n",
       "      <td>-0.360101</td>\n",
       "      <td>0.091453</td>\n",
       "      <td>0.042169</td>\n",
       "      <td>0.129333</td>\n",
       "      <td>0.267510</td>\n",
       "      <td>-0.160153</td>\n",
       "      <td>-0.171167</td>\n",
       "    </tr>\n",
       "    <tr>\n",
       "      <th>Roi5</th>\n",
       "      <td>1</td>\n",
       "      <td>-0.249016</td>\n",
       "      <td>-0.222543</td>\n",
       "      <td>0.336918</td>\n",
       "      <td>-0.023138</td>\n",
       "      <td>1.000000</td>\n",
       "      <td>0.457644</td>\n",
       "      <td>-0.171672</td>\n",
       "      <td>-0.252427</td>\n",
       "      <td>-0.245389</td>\n",
       "      <td>...</td>\n",
       "      <td>0.022087</td>\n",
       "      <td>-0.149539</td>\n",
       "      <td>0.537570</td>\n",
       "      <td>-0.070231</td>\n",
       "      <td>-0.247198</td>\n",
       "      <td>0.078351</td>\n",
       "      <td>-0.013695</td>\n",
       "      <td>-0.109563</td>\n",
       "      <td>-0.019151</td>\n",
       "      <td>0.612819</td>\n",
       "    </tr>\n",
       "  </tbody>\n",
       "</table>\n",
       "<p>5 rows × 33 columns</p>\n",
       "</div>"
      ],
      "text/plain": [
       "      Number of Friends      Roi1      Roi2      Roi3      Roi4      Roi5  \\\n",
       "Roi1                  1  1.000000 -0.145594  0.424482 -0.290123 -0.249016   \n",
       "Roi2                  1 -0.145594  1.000000 -0.038556 -0.091511 -0.222543   \n",
       "Roi3                  1  0.424482 -0.038556  1.000000 -0.167129  0.336918   \n",
       "Roi4                  2 -0.290123 -0.091511 -0.167129  1.000000 -0.023138   \n",
       "Roi5                  1 -0.249016 -0.222543  0.336918 -0.023138  1.000000   \n",
       "\n",
       "          Roi6      Roi7      Roi8      Roi9  ...     Roi23     Roi24  \\\n",
       "Roi1 -0.103935 -0.078107  0.205295  0.283204  ... -0.035375 -0.063656   \n",
       "Roi2 -0.333118  0.400486  0.069130  0.398076  ... -0.134766  0.312810   \n",
       "Roi3  0.065119 -0.203840  0.012360 -0.148897  ... -0.008744 -0.219951   \n",
       "Roi4  0.226538 -0.198392 -0.063365 -0.253893  ...  0.247839 -0.241593   \n",
       "Roi5  0.457644 -0.171672 -0.252427 -0.245389  ...  0.022087 -0.149539   \n",
       "\n",
       "         Roi25     Roi26     Roi27     Roi28     Roi29     Roi30     Roi31  \\\n",
       "Roi1 -0.383866  0.194054 -0.147180  0.128334 -0.172562 -0.250647 -0.267685   \n",
       "Roi2 -0.261553  0.145803  0.325272 -0.446991 -0.309862  0.113168  0.209863   \n",
       "Roi3 -0.021720 -0.082984  0.046194  0.019419 -0.186554  0.154154 -0.127692   \n",
       "Roi4  0.203443 -0.360101  0.091453  0.042169  0.129333  0.267510 -0.160153   \n",
       "Roi5  0.537570 -0.070231 -0.247198  0.078351 -0.013695 -0.109563 -0.019151   \n",
       "\n",
       "         Roi32  \n",
       "Roi1 -0.088947  \n",
       "Roi2 -0.153500  \n",
       "Roi3  0.538836  \n",
       "Roi4 -0.171167  \n",
       "Roi5  0.612819  \n",
       "\n",
       "[5 rows x 33 columns]"
      ]
     },
     "execution_count": 115,
     "metadata": {},
     "output_type": "execute_result"
    }
   ],
   "source": [
    "data_corr, friend_names, correlation_summary = cross_correlation(data, r)\n",
    "data_corr.head()"
   ]
  },
  {
   "cell_type": "markdown",
   "metadata": {},
   "source": [
    "### - Cross Correlation Matrix Summary"
   ]
  },
  {
   "cell_type": "code",
   "execution_count": 116,
   "metadata": {
    "collapsed": false,
    "jupyter": {
     "outputs_hidden": false
    }
   },
   "outputs": [
    {
     "data": {
      "text/html": [
       "<div>\n",
       "<style scoped>\n",
       "    .dataframe tbody tr th:only-of-type {\n",
       "        vertical-align: middle;\n",
       "    }\n",
       "\n",
       "    .dataframe tbody tr th {\n",
       "        vertical-align: top;\n",
       "    }\n",
       "\n",
       "    .dataframe thead th {\n",
       "        text-align: right;\n",
       "    }\n",
       "</style>\n",
       "<table border=\"1\" class=\"dataframe\">\n",
       "  <thead>\n",
       "    <tr style=\"text-align: right;\">\n",
       "      <th></th>\n",
       "      <th>Roi1</th>\n",
       "      <th>Roi2</th>\n",
       "      <th>Roi3</th>\n",
       "      <th>Roi4</th>\n",
       "      <th>Roi5</th>\n",
       "      <th>Roi6</th>\n",
       "      <th>Roi7</th>\n",
       "      <th>Roi8</th>\n",
       "      <th>Roi9</th>\n",
       "      <th>Roi10</th>\n",
       "      <th>...</th>\n",
       "      <th>Roi23</th>\n",
       "      <th>Roi24</th>\n",
       "      <th>Roi25</th>\n",
       "      <th>Roi26</th>\n",
       "      <th>Roi27</th>\n",
       "      <th>Roi28</th>\n",
       "      <th>Roi29</th>\n",
       "      <th>Roi30</th>\n",
       "      <th>Roi31</th>\n",
       "      <th>Roi32</th>\n",
       "    </tr>\n",
       "  </thead>\n",
       "  <tbody>\n",
       "    <tr>\n",
       "      <th>count</th>\n",
       "      <td>1.0</td>\n",
       "      <td>1.0</td>\n",
       "      <td>1.0</td>\n",
       "      <td>2.000</td>\n",
       "      <td>1.0</td>\n",
       "      <td>2.000</td>\n",
       "      <td>1.0</td>\n",
       "      <td>2.000</td>\n",
       "      <td>1.0</td>\n",
       "      <td>1.0</td>\n",
       "      <td>...</td>\n",
       "      <td>1.0</td>\n",
       "      <td>1.0</td>\n",
       "      <td>2.000</td>\n",
       "      <td>1.0</td>\n",
       "      <td>1.0</td>\n",
       "      <td>1.0</td>\n",
       "      <td>1.0</td>\n",
       "      <td>1.0</td>\n",
       "      <td>2.000</td>\n",
       "      <td>3.000</td>\n",
       "    </tr>\n",
       "    <tr>\n",
       "      <th>mean</th>\n",
       "      <td>1.0</td>\n",
       "      <td>1.0</td>\n",
       "      <td>1.0</td>\n",
       "      <td>0.981</td>\n",
       "      <td>1.0</td>\n",
       "      <td>0.951</td>\n",
       "      <td>1.0</td>\n",
       "      <td>0.941</td>\n",
       "      <td>1.0</td>\n",
       "      <td>1.0</td>\n",
       "      <td>...</td>\n",
       "      <td>1.0</td>\n",
       "      <td>1.0</td>\n",
       "      <td>0.951</td>\n",
       "      <td>1.0</td>\n",
       "      <td>1.0</td>\n",
       "      <td>1.0</td>\n",
       "      <td>1.0</td>\n",
       "      <td>1.0</td>\n",
       "      <td>0.923</td>\n",
       "      <td>0.892</td>\n",
       "    </tr>\n",
       "    <tr>\n",
       "      <th>std</th>\n",
       "      <td>NaN</td>\n",
       "      <td>NaN</td>\n",
       "      <td>NaN</td>\n",
       "      <td>0.027</td>\n",
       "      <td>NaN</td>\n",
       "      <td>0.070</td>\n",
       "      <td>NaN</td>\n",
       "      <td>0.083</td>\n",
       "      <td>NaN</td>\n",
       "      <td>NaN</td>\n",
       "      <td>...</td>\n",
       "      <td>NaN</td>\n",
       "      <td>NaN</td>\n",
       "      <td>0.070</td>\n",
       "      <td>NaN</td>\n",
       "      <td>NaN</td>\n",
       "      <td>NaN</td>\n",
       "      <td>NaN</td>\n",
       "      <td>NaN</td>\n",
       "      <td>0.109</td>\n",
       "      <td>0.096</td>\n",
       "    </tr>\n",
       "    <tr>\n",
       "      <th>min</th>\n",
       "      <td>1.0</td>\n",
       "      <td>1.0</td>\n",
       "      <td>1.0</td>\n",
       "      <td>0.962</td>\n",
       "      <td>1.0</td>\n",
       "      <td>0.902</td>\n",
       "      <td>1.0</td>\n",
       "      <td>0.882</td>\n",
       "      <td>1.0</td>\n",
       "      <td>1.0</td>\n",
       "      <td>...</td>\n",
       "      <td>1.0</td>\n",
       "      <td>1.0</td>\n",
       "      <td>0.902</td>\n",
       "      <td>1.0</td>\n",
       "      <td>1.0</td>\n",
       "      <td>1.0</td>\n",
       "      <td>1.0</td>\n",
       "      <td>1.0</td>\n",
       "      <td>0.845</td>\n",
       "      <td>0.819</td>\n",
       "    </tr>\n",
       "    <tr>\n",
       "      <th>25%</th>\n",
       "      <td>1.0</td>\n",
       "      <td>1.0</td>\n",
       "      <td>1.0</td>\n",
       "      <td>0.971</td>\n",
       "      <td>1.0</td>\n",
       "      <td>0.926</td>\n",
       "      <td>1.0</td>\n",
       "      <td>0.911</td>\n",
       "      <td>1.0</td>\n",
       "      <td>1.0</td>\n",
       "      <td>...</td>\n",
       "      <td>1.0</td>\n",
       "      <td>1.0</td>\n",
       "      <td>0.926</td>\n",
       "      <td>1.0</td>\n",
       "      <td>1.0</td>\n",
       "      <td>1.0</td>\n",
       "      <td>1.0</td>\n",
       "      <td>1.0</td>\n",
       "      <td>0.884</td>\n",
       "      <td>0.838</td>\n",
       "    </tr>\n",
       "    <tr>\n",
       "      <th>50%</th>\n",
       "      <td>1.0</td>\n",
       "      <td>1.0</td>\n",
       "      <td>1.0</td>\n",
       "      <td>0.981</td>\n",
       "      <td>1.0</td>\n",
       "      <td>0.951</td>\n",
       "      <td>1.0</td>\n",
       "      <td>0.941</td>\n",
       "      <td>1.0</td>\n",
       "      <td>1.0</td>\n",
       "      <td>...</td>\n",
       "      <td>1.0</td>\n",
       "      <td>1.0</td>\n",
       "      <td>0.951</td>\n",
       "      <td>1.0</td>\n",
       "      <td>1.0</td>\n",
       "      <td>1.0</td>\n",
       "      <td>1.0</td>\n",
       "      <td>1.0</td>\n",
       "      <td>0.923</td>\n",
       "      <td>0.857</td>\n",
       "    </tr>\n",
       "    <tr>\n",
       "      <th>75%</th>\n",
       "      <td>1.0</td>\n",
       "      <td>1.0</td>\n",
       "      <td>1.0</td>\n",
       "      <td>0.990</td>\n",
       "      <td>1.0</td>\n",
       "      <td>0.975</td>\n",
       "      <td>1.0</td>\n",
       "      <td>0.970</td>\n",
       "      <td>1.0</td>\n",
       "      <td>1.0</td>\n",
       "      <td>...</td>\n",
       "      <td>1.0</td>\n",
       "      <td>1.0</td>\n",
       "      <td>0.975</td>\n",
       "      <td>1.0</td>\n",
       "      <td>1.0</td>\n",
       "      <td>1.0</td>\n",
       "      <td>1.0</td>\n",
       "      <td>1.0</td>\n",
       "      <td>0.961</td>\n",
       "      <td>0.928</td>\n",
       "    </tr>\n",
       "    <tr>\n",
       "      <th>max</th>\n",
       "      <td>1.0</td>\n",
       "      <td>1.0</td>\n",
       "      <td>1.0</td>\n",
       "      <td>1.000</td>\n",
       "      <td>1.0</td>\n",
       "      <td>1.000</td>\n",
       "      <td>1.0</td>\n",
       "      <td>1.000</td>\n",
       "      <td>1.0</td>\n",
       "      <td>1.0</td>\n",
       "      <td>...</td>\n",
       "      <td>1.0</td>\n",
       "      <td>1.0</td>\n",
       "      <td>1.000</td>\n",
       "      <td>1.0</td>\n",
       "      <td>1.0</td>\n",
       "      <td>1.0</td>\n",
       "      <td>1.0</td>\n",
       "      <td>1.0</td>\n",
       "      <td>1.000</td>\n",
       "      <td>1.000</td>\n",
       "    </tr>\n",
       "  </tbody>\n",
       "</table>\n",
       "<p>8 rows × 32 columns</p>\n",
       "</div>"
      ],
      "text/plain": [
       "       Roi1  Roi2  Roi3   Roi4  Roi5   Roi6  Roi7   Roi8  Roi9  Roi10  ...  \\\n",
       "count   1.0   1.0   1.0  2.000   1.0  2.000   1.0  2.000   1.0    1.0  ...   \n",
       "mean    1.0   1.0   1.0  0.981   1.0  0.951   1.0  0.941   1.0    1.0  ...   \n",
       "std     NaN   NaN   NaN  0.027   NaN  0.070   NaN  0.083   NaN    NaN  ...   \n",
       "min     1.0   1.0   1.0  0.962   1.0  0.902   1.0  0.882   1.0    1.0  ...   \n",
       "25%     1.0   1.0   1.0  0.971   1.0  0.926   1.0  0.911   1.0    1.0  ...   \n",
       "50%     1.0   1.0   1.0  0.981   1.0  0.951   1.0  0.941   1.0    1.0  ...   \n",
       "75%     1.0   1.0   1.0  0.990   1.0  0.975   1.0  0.970   1.0    1.0  ...   \n",
       "max     1.0   1.0   1.0  1.000   1.0  1.000   1.0  1.000   1.0    1.0  ...   \n",
       "\n",
       "       Roi23  Roi24  Roi25  Roi26  Roi27  Roi28  Roi29  Roi30  Roi31  Roi32  \n",
       "count    1.0    1.0  2.000    1.0    1.0    1.0    1.0    1.0  2.000  3.000  \n",
       "mean     1.0    1.0  0.951    1.0    1.0    1.0    1.0    1.0  0.923  0.892  \n",
       "std      NaN    NaN  0.070    NaN    NaN    NaN    NaN    NaN  0.109  0.096  \n",
       "min      1.0    1.0  0.902    1.0    1.0    1.0    1.0    1.0  0.845  0.819  \n",
       "25%      1.0    1.0  0.926    1.0    1.0    1.0    1.0    1.0  0.884  0.838  \n",
       "50%      1.0    1.0  0.951    1.0    1.0    1.0    1.0    1.0  0.923  0.857  \n",
       "75%      1.0    1.0  0.975    1.0    1.0    1.0    1.0    1.0  0.961  0.928  \n",
       "max      1.0    1.0  1.000    1.0    1.0    1.0    1.0    1.0  1.000  1.000  \n",
       "\n",
       "[8 rows x 32 columns]"
      ]
     },
     "execution_count": 116,
     "metadata": {},
     "output_type": "execute_result"
    }
   ],
   "source": [
    "correlation_summary"
   ]
  },
  {
   "cell_type": "markdown",
   "metadata": {},
   "source": [
    "#### Like what you see? save the cross correlation file with the below code"
   ]
  },
  {
   "cell_type": "code",
   "execution_count": 117,
   "metadata": {
    "collapsed": false,
    "jupyter": {
     "outputs_hidden": false
    }
   },
   "outputs": [],
   "source": [
    "data_corr.to_csv(r'%s/xcor.csv' %(folder))\n",
    "correlation_summary.to_csv(r'%s/xcor_summary.csv'%(folder))"
   ]
  },
  {
   "cell_type": "markdown",
   "metadata": {},
   "source": [
    "## B. Distance Matrix (neighbors)"
   ]
  },
  {
   "cell_type": "markdown",
   "metadata": {},
   "source": [
    "Set your d value to your threshold for significant distance. This value will be used is all later calculation. If you change it, you must rerun ALL cells following to update the change."
   ]
  },
  {
   "cell_type": "code",
   "execution_count": 118,
   "metadata": {
    "collapsed": false,
    "jupyter": {
     "outputs_hidden": false
    }
   },
   "outputs": [],
   "source": [
    "d = 100 # set the maximum distance from an ROI that is the threshold for neighborhood"
   ]
  },
  {
   "cell_type": "code",
   "execution_count": 119,
   "metadata": {
    "collapsed": false,
    "jupyter": {
     "outputs_hidden": false
    }
   },
   "outputs": [
    {
     "data": {
      "text/html": [
       "<div>\n",
       "<style scoped>\n",
       "    .dataframe tbody tr th:only-of-type {\n",
       "        vertical-align: middle;\n",
       "    }\n",
       "\n",
       "    .dataframe tbody tr th {\n",
       "        vertical-align: top;\n",
       "    }\n",
       "\n",
       "    .dataframe thead th {\n",
       "        text-align: right;\n",
       "    }\n",
       "</style>\n",
       "<table border=\"1\" class=\"dataframe\">\n",
       "  <thead>\n",
       "    <tr style=\"text-align: right;\">\n",
       "      <th></th>\n",
       "      <th>Number of Neighbors</th>\n",
       "      <th>Roi1</th>\n",
       "      <th>Roi2</th>\n",
       "      <th>Roi3</th>\n",
       "      <th>Roi4</th>\n",
       "      <th>Roi5</th>\n",
       "      <th>Roi6</th>\n",
       "      <th>Roi7</th>\n",
       "      <th>Roi8</th>\n",
       "      <th>Roi9</th>\n",
       "      <th>...</th>\n",
       "      <th>Roi23</th>\n",
       "      <th>Roi24</th>\n",
       "      <th>Roi25</th>\n",
       "      <th>Roi26</th>\n",
       "      <th>Roi27</th>\n",
       "      <th>Roi28</th>\n",
       "      <th>Roi29</th>\n",
       "      <th>Roi30</th>\n",
       "      <th>Roi31</th>\n",
       "      <th>Roi32</th>\n",
       "    </tr>\n",
       "  </thead>\n",
       "  <tbody>\n",
       "    <tr>\n",
       "      <th>Roi1</th>\n",
       "      <td>3</td>\n",
       "      <td>0.000000</td>\n",
       "      <td>255.041462</td>\n",
       "      <td>436.920674</td>\n",
       "      <td>174.944000</td>\n",
       "      <td>341.521667</td>\n",
       "      <td>377.863344</td>\n",
       "      <td>643.418245</td>\n",
       "      <td>330.591264</td>\n",
       "      <td>216.836058</td>\n",
       "      <td>...</td>\n",
       "      <td>312.074986</td>\n",
       "      <td>459.183576</td>\n",
       "      <td>92.009813</td>\n",
       "      <td>508.387115</td>\n",
       "      <td>172.490737</td>\n",
       "      <td>259.473953</td>\n",
       "      <td>448.238556</td>\n",
       "      <td>247.343383</td>\n",
       "      <td>256.871448</td>\n",
       "      <td>493.975853</td>\n",
       "    </tr>\n",
       "    <tr>\n",
       "      <th>Roi2</th>\n",
       "      <td>6</td>\n",
       "      <td>255.041462</td>\n",
       "      <td>0.000000</td>\n",
       "      <td>221.641221</td>\n",
       "      <td>135.826471</td>\n",
       "      <td>223.289611</td>\n",
       "      <td>190.851831</td>\n",
       "      <td>431.173135</td>\n",
       "      <td>146.659905</td>\n",
       "      <td>38.780794</td>\n",
       "      <td>...</td>\n",
       "      <td>60.209335</td>\n",
       "      <td>254.235074</td>\n",
       "      <td>292.966107</td>\n",
       "      <td>394.469136</td>\n",
       "      <td>253.486272</td>\n",
       "      <td>155.019046</td>\n",
       "      <td>196.704117</td>\n",
       "      <td>308.266940</td>\n",
       "      <td>31.804368</td>\n",
       "      <td>354.419515</td>\n",
       "    </tr>\n",
       "    <tr>\n",
       "      <th>Roi3</th>\n",
       "      <td>1</td>\n",
       "      <td>436.920674</td>\n",
       "      <td>221.641221</td>\n",
       "      <td>0.000000</td>\n",
       "      <td>356.835274</td>\n",
       "      <td>413.094535</td>\n",
       "      <td>342.704975</td>\n",
       "      <td>482.802890</td>\n",
       "      <td>320.488568</td>\n",
       "      <td>253.271894</td>\n",
       "      <td>...</td>\n",
       "      <td>169.900495</td>\n",
       "      <td>361.163088</td>\n",
       "      <td>497.847527</td>\n",
       "      <td>555.490356</td>\n",
       "      <td>474.086268</td>\n",
       "      <td>366.749816</td>\n",
       "      <td>215.492053</td>\n",
       "      <td>529.629271</td>\n",
       "      <td>246.037735</td>\n",
       "      <td>503.504025</td>\n",
       "    </tr>\n",
       "    <tr>\n",
       "      <th>Roi4</th>\n",
       "      <td>5</td>\n",
       "      <td>174.944000</td>\n",
       "      <td>135.826471</td>\n",
       "      <td>356.835274</td>\n",
       "      <td>0.000000</td>\n",
       "      <td>172.728102</td>\n",
       "      <td>203.331391</td>\n",
       "      <td>468.889393</td>\n",
       "      <td>157.110364</td>\n",
       "      <td>104.571176</td>\n",
       "      <td>...</td>\n",
       "      <td>193.631777</td>\n",
       "      <td>285.116300</td>\n",
       "      <td>175.503826</td>\n",
       "      <td>348.481297</td>\n",
       "      <td>117.674893</td>\n",
       "      <td>86.515188</td>\n",
       "      <td>296.750282</td>\n",
       "      <td>176.682525</td>\n",
       "      <td>117.682869</td>\n",
       "      <td>326.086117</td>\n",
       "    </tr>\n",
       "    <tr>\n",
       "      <th>Roi5</th>\n",
       "      <td>5</td>\n",
       "      <td>341.521667</td>\n",
       "      <td>223.289611</td>\n",
       "      <td>413.094535</td>\n",
       "      <td>172.728102</td>\n",
       "      <td>0.000000</td>\n",
       "      <td>92.548318</td>\n",
       "      <td>323.062445</td>\n",
       "      <td>93.136782</td>\n",
       "      <td>221.093488</td>\n",
       "      <td>...</td>\n",
       "      <td>250.252736</td>\n",
       "      <td>157.721826</td>\n",
       "      <td>312.952574</td>\n",
       "      <td>178.763282</td>\n",
       "      <td>207.864292</td>\n",
       "      <td>87.342715</td>\n",
       "      <td>255.732874</td>\n",
       "      <td>197.959240</td>\n",
       "      <td>191.492526</td>\n",
       "      <td>153.465210</td>\n",
       "    </tr>\n",
       "  </tbody>\n",
       "</table>\n",
       "<p>5 rows × 33 columns</p>\n",
       "</div>"
      ],
      "text/plain": [
       "      Number of Neighbors        Roi1        Roi2        Roi3        Roi4  \\\n",
       "Roi1                    3    0.000000  255.041462  436.920674  174.944000   \n",
       "Roi2                    6  255.041462    0.000000  221.641221  135.826471   \n",
       "Roi3                    1  436.920674  221.641221    0.000000  356.835274   \n",
       "Roi4                    5  174.944000  135.826471  356.835274    0.000000   \n",
       "Roi5                    5  341.521667  223.289611  413.094535  172.728102   \n",
       "\n",
       "            Roi5        Roi6        Roi7        Roi8        Roi9  ...  \\\n",
       "Roi1  341.521667  377.863344  643.418245  330.591264  216.836058  ...   \n",
       "Roi2  223.289611  190.851831  431.173135  146.659905   38.780794  ...   \n",
       "Roi3  413.094535  342.704975  482.802890  320.488568  253.271894  ...   \n",
       "Roi4  172.728102  203.331391  468.889393  157.110364  104.571176  ...   \n",
       "Roi5    0.000000   92.548318  323.062445   93.136782  221.093488  ...   \n",
       "\n",
       "           Roi23       Roi24       Roi25       Roi26       Roi27       Roi28  \\\n",
       "Roi1  312.074986  459.183576   92.009813  508.387115  172.490737  259.473953   \n",
       "Roi2   60.209335  254.235074  292.966107  394.469136  253.486272  155.019046   \n",
       "Roi3  169.900495  361.163088  497.847527  555.490356  474.086268  366.749816   \n",
       "Roi4  193.631777  285.116300  175.503826  348.481297  117.674893   86.515188   \n",
       "Roi5  250.252736  157.721826  312.952574  178.763282  207.864292   87.342715   \n",
       "\n",
       "           Roi29       Roi30       Roi31       Roi32  \n",
       "Roi1  448.238556  247.343383  256.871448  493.975853  \n",
       "Roi2  196.704117  308.266940   31.804368  354.419515  \n",
       "Roi3  215.492053  529.629271  246.037735  503.504025  \n",
       "Roi4  296.750282  176.682525  117.682869  326.086117  \n",
       "Roi5  255.732874  197.959240  191.492526  153.465210  \n",
       "\n",
       "[5 rows x 33 columns]"
      ]
     },
     "execution_count": 119,
     "metadata": {},
     "output_type": "execute_result"
    }
   ],
   "source": [
    "roi_dist, loc_tup, neighbor_names, distance_summary = distance_matrix(roi_x, roi_y , roi_loc , d)\n",
    "roi_dist.head()"
   ]
  },
  {
   "cell_type": "markdown",
   "metadata": {},
   "source": [
    "### - Distance Matrix Summary"
   ]
  },
  {
   "cell_type": "code",
   "execution_count": 120,
   "metadata": {
    "collapsed": false,
    "jupyter": {
     "outputs_hidden": false
    }
   },
   "outputs": [
    {
     "data": {
      "text/html": [
       "<div>\n",
       "<style scoped>\n",
       "    .dataframe tbody tr th:only-of-type {\n",
       "        vertical-align: middle;\n",
       "    }\n",
       "\n",
       "    .dataframe tbody tr th {\n",
       "        vertical-align: top;\n",
       "    }\n",
       "\n",
       "    .dataframe thead th {\n",
       "        text-align: right;\n",
       "    }\n",
       "</style>\n",
       "<table border=\"1\" class=\"dataframe\">\n",
       "  <thead>\n",
       "    <tr style=\"text-align: right;\">\n",
       "      <th></th>\n",
       "      <th>Roi1</th>\n",
       "      <th>Roi2</th>\n",
       "      <th>Roi3</th>\n",
       "      <th>Roi4</th>\n",
       "      <th>Roi5</th>\n",
       "      <th>Roi6</th>\n",
       "      <th>Roi7</th>\n",
       "      <th>Roi8</th>\n",
       "      <th>Roi9</th>\n",
       "      <th>Roi10</th>\n",
       "      <th>...</th>\n",
       "      <th>Roi23</th>\n",
       "      <th>Roi24</th>\n",
       "      <th>Roi25</th>\n",
       "      <th>Roi26</th>\n",
       "      <th>Roi27</th>\n",
       "      <th>Roi28</th>\n",
       "      <th>Roi29</th>\n",
       "      <th>Roi30</th>\n",
       "      <th>Roi31</th>\n",
       "      <th>Roi32</th>\n",
       "    </tr>\n",
       "  </thead>\n",
       "  <tbody>\n",
       "    <tr>\n",
       "      <th>count</th>\n",
       "      <td>3.000</td>\n",
       "      <td>6.000</td>\n",
       "      <td>1.0</td>\n",
       "      <td>5.000</td>\n",
       "      <td>5.000</td>\n",
       "      <td>5.000</td>\n",
       "      <td>3.000</td>\n",
       "      <td>5.000</td>\n",
       "      <td>6.000</td>\n",
       "      <td>5.000</td>\n",
       "      <td>...</td>\n",
       "      <td>6.000</td>\n",
       "      <td>3.000</td>\n",
       "      <td>4.000</td>\n",
       "      <td>3.000</td>\n",
       "      <td>4.000</td>\n",
       "      <td>6.000</td>\n",
       "      <td>2.000</td>\n",
       "      <td>2.000</td>\n",
       "      <td>6.000</td>\n",
       "      <td>2.000</td>\n",
       "    </tr>\n",
       "    <tr>\n",
       "      <th>mean</th>\n",
       "      <td>52.351</td>\n",
       "      <td>43.691</td>\n",
       "      <td>0.0</td>\n",
       "      <td>55.310</td>\n",
       "      <td>69.351</td>\n",
       "      <td>51.090</td>\n",
       "      <td>31.612</td>\n",
       "      <td>51.436</td>\n",
       "      <td>50.186</td>\n",
       "      <td>45.351</td>\n",
       "      <td>...</td>\n",
       "      <td>59.146</td>\n",
       "      <td>49.069</td>\n",
       "      <td>53.026</td>\n",
       "      <td>46.394</td>\n",
       "      <td>54.565</td>\n",
       "      <td>75.448</td>\n",
       "      <td>43.712</td>\n",
       "      <td>38.955</td>\n",
       "      <td>52.906</td>\n",
       "      <td>28.773</td>\n",
       "    </tr>\n",
       "    <tr>\n",
       "      <th>std</th>\n",
       "      <td>47.300</td>\n",
       "      <td>27.546</td>\n",
       "      <td>NaN</td>\n",
       "      <td>33.600</td>\n",
       "      <td>39.548</td>\n",
       "      <td>37.692</td>\n",
       "      <td>41.471</td>\n",
       "      <td>39.674</td>\n",
       "      <td>33.753</td>\n",
       "      <td>38.046</td>\n",
       "      <td>...</td>\n",
       "      <td>33.333</td>\n",
       "      <td>43.353</td>\n",
       "      <td>39.993</td>\n",
       "      <td>41.946</td>\n",
       "      <td>36.607</td>\n",
       "      <td>37.198</td>\n",
       "      <td>61.818</td>\n",
       "      <td>55.091</td>\n",
       "      <td>33.119</td>\n",
       "      <td>40.691</td>\n",
       "    </tr>\n",
       "    <tr>\n",
       "      <th>min</th>\n",
       "      <td>0.000</td>\n",
       "      <td>0.000</td>\n",
       "      <td>0.0</td>\n",
       "      <td>0.000</td>\n",
       "      <td>0.000</td>\n",
       "      <td>0.000</td>\n",
       "      <td>0.000</td>\n",
       "      <td>0.000</td>\n",
       "      <td>0.000</td>\n",
       "      <td>0.000</td>\n",
       "      <td>...</td>\n",
       "      <td>0.000</td>\n",
       "      <td>0.000</td>\n",
       "      <td>0.000</td>\n",
       "      <td>0.000</td>\n",
       "      <td>0.000</td>\n",
       "      <td>0.000</td>\n",
       "      <td>0.000</td>\n",
       "      <td>0.000</td>\n",
       "      <td>0.000</td>\n",
       "      <td>0.000</td>\n",
       "    </tr>\n",
       "    <tr>\n",
       "      <th>25%</th>\n",
       "      <td>32.521</td>\n",
       "      <td>33.548</td>\n",
       "      <td>0.0</td>\n",
       "      <td>51.423</td>\n",
       "      <td>73.725</td>\n",
       "      <td>31.512</td>\n",
       "      <td>8.134</td>\n",
       "      <td>27.129</td>\n",
       "      <td>39.700</td>\n",
       "      <td>27.129</td>\n",
       "      <td>...</td>\n",
       "      <td>52.640</td>\n",
       "      <td>32.512</td>\n",
       "      <td>34.857</td>\n",
       "      <td>28.773</td>\n",
       "      <td>50.905</td>\n",
       "      <td>86.722</td>\n",
       "      <td>21.856</td>\n",
       "      <td>19.477</td>\n",
       "      <td>35.348</td>\n",
       "      <td>14.386</td>\n",
       "    </tr>\n",
       "    <tr>\n",
       "      <th>50%</th>\n",
       "      <td>65.043</td>\n",
       "      <td>44.480</td>\n",
       "      <td>0.0</td>\n",
       "      <td>63.142</td>\n",
       "      <td>87.343</td>\n",
       "      <td>49.206</td>\n",
       "      <td>16.267</td>\n",
       "      <td>49.206</td>\n",
       "      <td>44.217</td>\n",
       "      <td>31.512</td>\n",
       "      <td>...</td>\n",
       "      <td>64.365</td>\n",
       "      <td>65.024</td>\n",
       "      <td>60.046</td>\n",
       "      <td>57.545</td>\n",
       "      <td>70.176</td>\n",
       "      <td>87.526</td>\n",
       "      <td>43.712</td>\n",
       "      <td>38.955</td>\n",
       "      <td>61.751</td>\n",
       "      <td>28.773</td>\n",
       "    </tr>\n",
       "    <tr>\n",
       "      <th>75%</th>\n",
       "      <td>78.526</td>\n",
       "      <td>57.702</td>\n",
       "      <td>0.0</td>\n",
       "      <td>75.469</td>\n",
       "      <td>92.548</td>\n",
       "      <td>82.183</td>\n",
       "      <td>47.418</td>\n",
       "      <td>87.709</td>\n",
       "      <td>68.042</td>\n",
       "      <td>73.725</td>\n",
       "      <td>...</td>\n",
       "      <td>75.274</td>\n",
       "      <td>73.604</td>\n",
       "      <td>78.215</td>\n",
       "      <td>69.591</td>\n",
       "      <td>73.836</td>\n",
       "      <td>92.719</td>\n",
       "      <td>65.568</td>\n",
       "      <td>58.432</td>\n",
       "      <td>80.052</td>\n",
       "      <td>43.159</td>\n",
       "    </tr>\n",
       "    <tr>\n",
       "      <th>max</th>\n",
       "      <td>92.010</td>\n",
       "      <td>81.170</td>\n",
       "      <td>0.0</td>\n",
       "      <td>86.515</td>\n",
       "      <td>93.137</td>\n",
       "      <td>92.548</td>\n",
       "      <td>78.569</td>\n",
       "      <td>93.137</td>\n",
       "      <td>98.503</td>\n",
       "      <td>94.389</td>\n",
       "      <td>...</td>\n",
       "      <td>98.503</td>\n",
       "      <td>82.183</td>\n",
       "      <td>92.010</td>\n",
       "      <td>81.637</td>\n",
       "      <td>77.910</td>\n",
       "      <td>96.732</td>\n",
       "      <td>87.424</td>\n",
       "      <td>77.910</td>\n",
       "      <td>81.233</td>\n",
       "      <td>57.545</td>\n",
       "    </tr>\n",
       "  </tbody>\n",
       "</table>\n",
       "<p>8 rows × 32 columns</p>\n",
       "</div>"
      ],
      "text/plain": [
       "         Roi1    Roi2  Roi3    Roi4    Roi5    Roi6    Roi7    Roi8    Roi9  \\\n",
       "count   3.000   6.000   1.0   5.000   5.000   5.000   3.000   5.000   6.000   \n",
       "mean   52.351  43.691   0.0  55.310  69.351  51.090  31.612  51.436  50.186   \n",
       "std    47.300  27.546   NaN  33.600  39.548  37.692  41.471  39.674  33.753   \n",
       "min     0.000   0.000   0.0   0.000   0.000   0.000   0.000   0.000   0.000   \n",
       "25%    32.521  33.548   0.0  51.423  73.725  31.512   8.134  27.129  39.700   \n",
       "50%    65.043  44.480   0.0  63.142  87.343  49.206  16.267  49.206  44.217   \n",
       "75%    78.526  57.702   0.0  75.469  92.548  82.183  47.418  87.709  68.042   \n",
       "max    92.010  81.170   0.0  86.515  93.137  92.548  78.569  93.137  98.503   \n",
       "\n",
       "        Roi10  ...   Roi23   Roi24   Roi25   Roi26   Roi27   Roi28   Roi29  \\\n",
       "count   5.000  ...   6.000   3.000   4.000   3.000   4.000   6.000   2.000   \n",
       "mean   45.351  ...  59.146  49.069  53.026  46.394  54.565  75.448  43.712   \n",
       "std    38.046  ...  33.333  43.353  39.993  41.946  36.607  37.198  61.818   \n",
       "min     0.000  ...   0.000   0.000   0.000   0.000   0.000   0.000   0.000   \n",
       "25%    27.129  ...  52.640  32.512  34.857  28.773  50.905  86.722  21.856   \n",
       "50%    31.512  ...  64.365  65.024  60.046  57.545  70.176  87.526  43.712   \n",
       "75%    73.725  ...  75.274  73.604  78.215  69.591  73.836  92.719  65.568   \n",
       "max    94.389  ...  98.503  82.183  92.010  81.637  77.910  96.732  87.424   \n",
       "\n",
       "        Roi30   Roi31   Roi32  \n",
       "count   2.000   6.000   2.000  \n",
       "mean   38.955  52.906  28.773  \n",
       "std    55.091  33.119  40.691  \n",
       "min     0.000   0.000   0.000  \n",
       "25%    19.477  35.348  14.386  \n",
       "50%    38.955  61.751  28.773  \n",
       "75%    58.432  80.052  43.159  \n",
       "max    77.910  81.233  57.545  \n",
       "\n",
       "[8 rows x 32 columns]"
      ]
     },
     "execution_count": 120,
     "metadata": {},
     "output_type": "execute_result"
    }
   ],
   "source": [
    "distance_summary"
   ]
  },
  {
   "cell_type": "markdown",
   "metadata": {},
   "source": [
    "#### Like what you see? save the distance matrix file with the below code"
   ]
  },
  {
   "cell_type": "code",
   "execution_count": 121,
   "metadata": {
    "collapsed": false,
    "jupyter": {
     "outputs_hidden": false
    }
   },
   "outputs": [],
   "source": [
    "roi_dist.to_csv(r'%s/dist_matrix.csv' %(folder))\n",
    "distance_summary.to_csv(r'%s/dist_summary.csv' %(folder))"
   ]
  },
  {
   "cell_type": "markdown",
   "metadata": {},
   "source": [
    "## C. Friends in terms of Neighbors"
   ]
  },
  {
   "cell_type": "markdown",
   "metadata": {},
   "source": [
    "the following function returns a table of the following values:\n",
    "\n",
    "**Distance Sum**: the sum of the distances from each roi to its friends\n",
    "\n",
    "**Friend Number**: the number of friends that each roi has (not including itself)\n",
    "\n",
    "**Rel Dist**: The cummulative distance / number of friends"
   ]
  },
  {
   "cell_type": "code",
   "execution_count": 122,
   "metadata": {
    "collapsed": false,
    "jupyter": {
     "outputs_hidden": false
    }
   },
   "outputs": [
    {
     "data": {
      "text/html": [
       "<div>\n",
       "<style scoped>\n",
       "    .dataframe tbody tr th:only-of-type {\n",
       "        vertical-align: middle;\n",
       "    }\n",
       "\n",
       "    .dataframe tbody tr th {\n",
       "        vertical-align: top;\n",
       "    }\n",
       "\n",
       "    .dataframe thead th {\n",
       "        text-align: right;\n",
       "    }\n",
       "</style>\n",
       "<table border=\"1\" class=\"dataframe\">\n",
       "  <thead>\n",
       "    <tr style=\"text-align: right;\">\n",
       "      <th></th>\n",
       "      <th>Number of Friends</th>\n",
       "      <th>Mean Dist</th>\n",
       "      <th>Std Dist</th>\n",
       "      <th>Number of Friends that are Neighbors</th>\n",
       "      <th>Percentage of Friends that are Neighbors</th>\n",
       "    </tr>\n",
       "  </thead>\n",
       "  <tbody>\n",
       "    <tr>\n",
       "      <th>Roi1</th>\n",
       "      <td>1</td>\n",
       "      <td>0.000000</td>\n",
       "      <td>NaN</td>\n",
       "      <td>1.0</td>\n",
       "      <td>100.0</td>\n",
       "    </tr>\n",
       "    <tr>\n",
       "      <th>Roi2</th>\n",
       "      <td>1</td>\n",
       "      <td>0.000000</td>\n",
       "      <td>NaN</td>\n",
       "      <td>1.0</td>\n",
       "      <td>100.0</td>\n",
       "    </tr>\n",
       "    <tr>\n",
       "      <th>Roi3</th>\n",
       "      <td>1</td>\n",
       "      <td>0.000000</td>\n",
       "      <td>NaN</td>\n",
       "      <td>1.0</td>\n",
       "      <td>100.0</td>\n",
       "    </tr>\n",
       "    <tr>\n",
       "      <th>Roi4</th>\n",
       "      <td>2</td>\n",
       "      <td>25.711433</td>\n",
       "      <td>36.361457</td>\n",
       "      <td>2.0</td>\n",
       "      <td>100.0</td>\n",
       "    </tr>\n",
       "    <tr>\n",
       "      <th>Roi5</th>\n",
       "      <td>1</td>\n",
       "      <td>0.000000</td>\n",
       "      <td>NaN</td>\n",
       "      <td>1.0</td>\n",
       "      <td>100.0</td>\n",
       "    </tr>\n",
       "  </tbody>\n",
       "</table>\n",
       "</div>"
      ],
      "text/plain": [
       "      Number of Friends  Mean Dist   Std Dist  \\\n",
       "Roi1                  1   0.000000        NaN   \n",
       "Roi2                  1   0.000000        NaN   \n",
       "Roi3                  1   0.000000        NaN   \n",
       "Roi4                  2  25.711433  36.361457   \n",
       "Roi5                  1   0.000000        NaN   \n",
       "\n",
       "      Number of Friends that are Neighbors  \\\n",
       "Roi1                                   1.0   \n",
       "Roi2                                   1.0   \n",
       "Roi3                                   1.0   \n",
       "Roi4                                   2.0   \n",
       "Roi5                                   1.0   \n",
       "\n",
       "      Percentage of Friends that are Neighbors  \n",
       "Roi1                                     100.0  \n",
       "Roi2                                     100.0  \n",
       "Roi3                                     100.0  \n",
       "Roi4                                     100.0  \n",
       "Roi5                                     100.0  "
      ]
     },
     "execution_count": 122,
     "metadata": {},
     "output_type": "execute_result"
    }
   ],
   "source": [
    "friend_distances = friend_dist(data_corr, roi_dist, friend_names, r, d)\n",
    "friend_distances.head()"
   ]
  },
  {
   "cell_type": "markdown",
   "metadata": {},
   "source": [
    "### - Friends in terms of Neighbors Summary"
   ]
  },
  {
   "cell_type": "code",
   "execution_count": 123,
   "metadata": {
    "collapsed": false,
    "jupyter": {
     "outputs_hidden": false
    }
   },
   "outputs": [
    {
     "data": {
      "text/html": [
       "<div>\n",
       "<style scoped>\n",
       "    .dataframe tbody tr th:only-of-type {\n",
       "        vertical-align: middle;\n",
       "    }\n",
       "\n",
       "    .dataframe tbody tr th {\n",
       "        vertical-align: top;\n",
       "    }\n",
       "\n",
       "    .dataframe thead th {\n",
       "        text-align: right;\n",
       "    }\n",
       "</style>\n",
       "<table border=\"1\" class=\"dataframe\">\n",
       "  <thead>\n",
       "    <tr style=\"text-align: right;\">\n",
       "      <th></th>\n",
       "      <th>Number of Friends</th>\n",
       "      <th>Mean Dist</th>\n",
       "      <th>Std Dist</th>\n",
       "      <th>Number of Friends that are Neighbors</th>\n",
       "      <th>Percentage of Friends that are Neighbors</th>\n",
       "    </tr>\n",
       "  </thead>\n",
       "  <tbody>\n",
       "    <tr>\n",
       "      <th>count</th>\n",
       "      <td>32.000000</td>\n",
       "      <td>32.000000</td>\n",
       "      <td>11.000000</td>\n",
       "      <td>32.000000</td>\n",
       "      <td>32.000000</td>\n",
       "    </tr>\n",
       "    <tr>\n",
       "      <th>mean</th>\n",
       "      <td>1.437500</td>\n",
       "      <td>50.405618</td>\n",
       "      <td>192.261069</td>\n",
       "      <td>1.125000</td>\n",
       "      <td>86.458333</td>\n",
       "    </tr>\n",
       "    <tr>\n",
       "      <th>std</th>\n",
       "      <td>0.669015</td>\n",
       "      <td>81.535660</td>\n",
       "      <td>81.758107</td>\n",
       "      <td>0.336011</td>\n",
       "      <td>22.575044</td>\n",
       "    </tr>\n",
       "    <tr>\n",
       "      <th>min</th>\n",
       "      <td>1.000000</td>\n",
       "      <td>0.000000</td>\n",
       "      <td>36.361457</td>\n",
       "      <td>1.000000</td>\n",
       "      <td>33.333333</td>\n",
       "    </tr>\n",
       "    <tr>\n",
       "      <th>25%</th>\n",
       "      <td>1.000000</td>\n",
       "      <td>0.000000</td>\n",
       "      <td>180.340949</td>\n",
       "      <td>1.000000</td>\n",
       "      <td>66.666667</td>\n",
       "    </tr>\n",
       "    <tr>\n",
       "      <th>50%</th>\n",
       "      <td>1.000000</td>\n",
       "      <td>0.000000</td>\n",
       "      <td>228.722239</td>\n",
       "      <td>1.000000</td>\n",
       "      <td>100.000000</td>\n",
       "    </tr>\n",
       "    <tr>\n",
       "      <th>75%</th>\n",
       "      <td>2.000000</td>\n",
       "      <td>127.520308</td>\n",
       "      <td>239.764481</td>\n",
       "      <td>1.000000</td>\n",
       "      <td>100.000000</td>\n",
       "    </tr>\n",
       "    <tr>\n",
       "      <th>max</th>\n",
       "      <td>3.000000</td>\n",
       "      <td>274.826355</td>\n",
       "      <td>261.522544</td>\n",
       "      <td>2.000000</td>\n",
       "      <td>100.000000</td>\n",
       "    </tr>\n",
       "  </tbody>\n",
       "</table>\n",
       "</div>"
      ],
      "text/plain": [
       "       Number of Friends   Mean Dist    Std Dist  \\\n",
       "count          32.000000   32.000000   11.000000   \n",
       "mean            1.437500   50.405618  192.261069   \n",
       "std             0.669015   81.535660   81.758107   \n",
       "min             1.000000    0.000000   36.361457   \n",
       "25%             1.000000    0.000000  180.340949   \n",
       "50%             1.000000    0.000000  228.722239   \n",
       "75%             2.000000  127.520308  239.764481   \n",
       "max             3.000000  274.826355  261.522544   \n",
       "\n",
       "       Number of Friends that are Neighbors  \\\n",
       "count                             32.000000   \n",
       "mean                               1.125000   \n",
       "std                                0.336011   \n",
       "min                                1.000000   \n",
       "25%                                1.000000   \n",
       "50%                                1.000000   \n",
       "75%                                1.000000   \n",
       "max                                2.000000   \n",
       "\n",
       "       Percentage of Friends that are Neighbors  \n",
       "count                                 32.000000  \n",
       "mean                                  86.458333  \n",
       "std                                   22.575044  \n",
       "min                                   33.333333  \n",
       "25%                                   66.666667  \n",
       "50%                                  100.000000  \n",
       "75%                                  100.000000  \n",
       "max                                  100.000000  "
      ]
     },
     "execution_count": 123,
     "metadata": {},
     "output_type": "execute_result"
    }
   ],
   "source": [
    "friend_dist_sum = friend_distances.describe()\n",
    "friend_dist_sum"
   ]
  },
  {
   "cell_type": "markdown",
   "metadata": {},
   "source": [
    "#### Like what you see? save the friend distances file with the below code"
   ]
  },
  {
   "cell_type": "code",
   "execution_count": 124,
   "metadata": {
    "collapsed": false,
    "jupyter": {
     "outputs_hidden": false
    }
   },
   "outputs": [],
   "source": [
    "friend_distances.to_csv(r'%s/friend_distances.csv' %(folder))\n",
    "friend_dist_sum.to_csv(r'%s/friend_distances_summary.csv' %(folder))"
   ]
  },
  {
   "cell_type": "markdown",
   "metadata": {},
   "source": [
    "## D. Neighbors in terms of Friends"
   ]
  },
  {
   "cell_type": "markdown",
   "metadata": {},
   "source": [
    "This section has yet to be built. Will talk with Sean Wilson about values that make the most sense. here. perhaps number of neightbors and average r value?"
   ]
  },
  {
   "cell_type": "code",
   "execution_count": 125,
   "metadata": {
    "collapsed": false,
    "jupyter": {
     "outputs_hidden": false
    }
   },
   "outputs": [
    {
     "data": {
      "text/html": [
       "<div>\n",
       "<style scoped>\n",
       "    .dataframe tbody tr th:only-of-type {\n",
       "        vertical-align: middle;\n",
       "    }\n",
       "\n",
       "    .dataframe tbody tr th {\n",
       "        vertical-align: top;\n",
       "    }\n",
       "\n",
       "    .dataframe thead th {\n",
       "        text-align: right;\n",
       "    }\n",
       "</style>\n",
       "<table border=\"1\" class=\"dataframe\">\n",
       "  <thead>\n",
       "    <tr style=\"text-align: right;\">\n",
       "      <th></th>\n",
       "      <th>Number of Neighbors</th>\n",
       "      <th>Mean Correlation</th>\n",
       "      <th>Std Correlation</th>\n",
       "      <th>Number of Neighbors that are Friends</th>\n",
       "      <th>Percentage of Neighbors that are Friends</th>\n",
       "    </tr>\n",
       "  </thead>\n",
       "  <tbody>\n",
       "    <tr>\n",
       "      <th>Roi1</th>\n",
       "      <td>3</td>\n",
       "      <td>0.362694</td>\n",
       "      <td>0.698372</td>\n",
       "      <td>1.0</td>\n",
       "      <td>33.333333</td>\n",
       "    </tr>\n",
       "    <tr>\n",
       "      <th>Roi2</th>\n",
       "      <td>6</td>\n",
       "      <td>0.270203</td>\n",
       "      <td>0.478932</td>\n",
       "      <td>1.0</td>\n",
       "      <td>16.666667</td>\n",
       "    </tr>\n",
       "    <tr>\n",
       "      <th>Roi3</th>\n",
       "      <td>1</td>\n",
       "      <td>1.000000</td>\n",
       "      <td>NaN</td>\n",
       "      <td>1.0</td>\n",
       "      <td>100.000000</td>\n",
       "    </tr>\n",
       "    <tr>\n",
       "      <th>Roi4</th>\n",
       "      <td>5</td>\n",
       "      <td>0.328879</td>\n",
       "      <td>0.603178</td>\n",
       "      <td>2.0</td>\n",
       "      <td>40.000000</td>\n",
       "    </tr>\n",
       "    <tr>\n",
       "      <th>Roi5</th>\n",
       "      <td>5</td>\n",
       "      <td>0.300351</td>\n",
       "      <td>0.467934</td>\n",
       "      <td>1.0</td>\n",
       "      <td>20.000000</td>\n",
       "    </tr>\n",
       "  </tbody>\n",
       "</table>\n",
       "</div>"
      ],
      "text/plain": [
       "      Number of Neighbors  Mean Correlation  Std Correlation  \\\n",
       "Roi1                    3          0.362694         0.698372   \n",
       "Roi2                    6          0.270203         0.478932   \n",
       "Roi3                    1          1.000000              NaN   \n",
       "Roi4                    5          0.328879         0.603178   \n",
       "Roi5                    5          0.300351         0.467934   \n",
       "\n",
       "      Number of Neighbors that are Friends  \\\n",
       "Roi1                                   1.0   \n",
       "Roi2                                   1.0   \n",
       "Roi3                                   1.0   \n",
       "Roi4                                   2.0   \n",
       "Roi5                                   1.0   \n",
       "\n",
       "      Percentage of Neighbors that are Friends  \n",
       "Roi1                                 33.333333  \n",
       "Roi2                                 16.666667  \n",
       "Roi3                                100.000000  \n",
       "Roi4                                 40.000000  \n",
       "Roi5                                 20.000000  "
      ]
     },
     "execution_count": 125,
     "metadata": {},
     "output_type": "execute_result"
    }
   ],
   "source": [
    "neighbor_correlation = neighbor_corr(roi_dist, data_corr, neighbor_names, r, d)\n",
    "neighbor_correlation.head()"
   ]
  },
  {
   "cell_type": "markdown",
   "metadata": {},
   "source": [
    "### - Neighbors in terms of Friends Summary"
   ]
  },
  {
   "cell_type": "code",
   "execution_count": 126,
   "metadata": {
    "collapsed": false,
    "jupyter": {
     "outputs_hidden": false
    }
   },
   "outputs": [
    {
     "data": {
      "text/html": [
       "<div>\n",
       "<style scoped>\n",
       "    .dataframe tbody tr th:only-of-type {\n",
       "        vertical-align: middle;\n",
       "    }\n",
       "\n",
       "    .dataframe tbody tr th {\n",
       "        vertical-align: top;\n",
       "    }\n",
       "\n",
       "    .dataframe thead th {\n",
       "        text-align: right;\n",
       "    }\n",
       "</style>\n",
       "<table border=\"1\" class=\"dataframe\">\n",
       "  <thead>\n",
       "    <tr style=\"text-align: right;\">\n",
       "      <th></th>\n",
       "      <th>Number of Neighbors</th>\n",
       "      <th>Mean Correlation</th>\n",
       "      <th>Std Correlation</th>\n",
       "      <th>Number of Neighbors that are Friends</th>\n",
       "      <th>Percentage of Neighbors that are Friends</th>\n",
       "    </tr>\n",
       "  </thead>\n",
       "  <tbody>\n",
       "    <tr>\n",
       "      <th>count</th>\n",
       "      <td>32.0000</td>\n",
       "      <td>32.000000</td>\n",
       "      <td>31.000000</td>\n",
       "      <td>32.000000</td>\n",
       "      <td>32.000000</td>\n",
       "    </tr>\n",
       "    <tr>\n",
       "      <th>mean</th>\n",
       "      <td>4.1875</td>\n",
       "      <td>0.347519</td>\n",
       "      <td>0.553791</td>\n",
       "      <td>1.125000</td>\n",
       "      <td>32.239583</td>\n",
       "    </tr>\n",
       "    <tr>\n",
       "      <th>std</th>\n",
       "      <td>1.6152</td>\n",
       "      <td>0.219112</td>\n",
       "      <td>0.125053</td>\n",
       "      <td>0.336011</td>\n",
       "      <td>18.201429</td>\n",
       "    </tr>\n",
       "    <tr>\n",
       "      <th>min</th>\n",
       "      <td>1.0000</td>\n",
       "      <td>-0.073689</td>\n",
       "      <td>0.328225</td>\n",
       "      <td>1.000000</td>\n",
       "      <td>16.666667</td>\n",
       "    </tr>\n",
       "    <tr>\n",
       "      <th>25%</th>\n",
       "      <td>3.0000</td>\n",
       "      <td>0.208212</td>\n",
       "      <td>0.472533</td>\n",
       "      <td>1.000000</td>\n",
       "      <td>19.166667</td>\n",
       "    </tr>\n",
       "    <tr>\n",
       "      <th>50%</th>\n",
       "      <td>4.5000</td>\n",
       "      <td>0.319028</td>\n",
       "      <td>0.531806</td>\n",
       "      <td>1.000000</td>\n",
       "      <td>29.166667</td>\n",
       "    </tr>\n",
       "    <tr>\n",
       "      <th>75%</th>\n",
       "      <td>6.0000</td>\n",
       "      <td>0.440386</td>\n",
       "      <td>0.611640</td>\n",
       "      <td>1.000000</td>\n",
       "      <td>35.000000</td>\n",
       "    </tr>\n",
       "    <tr>\n",
       "      <th>max</th>\n",
       "      <td>6.0000</td>\n",
       "      <td>1.000000</td>\n",
       "      <td>0.848113</td>\n",
       "      <td>2.000000</td>\n",
       "      <td>100.000000</td>\n",
       "    </tr>\n",
       "  </tbody>\n",
       "</table>\n",
       "</div>"
      ],
      "text/plain": [
       "       Number of Neighbors  Mean Correlation  Std Correlation  \\\n",
       "count              32.0000         32.000000        31.000000   \n",
       "mean                4.1875          0.347519         0.553791   \n",
       "std                 1.6152          0.219112         0.125053   \n",
       "min                 1.0000         -0.073689         0.328225   \n",
       "25%                 3.0000          0.208212         0.472533   \n",
       "50%                 4.5000          0.319028         0.531806   \n",
       "75%                 6.0000          0.440386         0.611640   \n",
       "max                 6.0000          1.000000         0.848113   \n",
       "\n",
       "       Number of Neighbors that are Friends  \\\n",
       "count                             32.000000   \n",
       "mean                               1.125000   \n",
       "std                                0.336011   \n",
       "min                                1.000000   \n",
       "25%                                1.000000   \n",
       "50%                                1.000000   \n",
       "75%                                1.000000   \n",
       "max                                2.000000   \n",
       "\n",
       "       Percentage of Neighbors that are Friends  \n",
       "count                                 32.000000  \n",
       "mean                                  32.239583  \n",
       "std                                   18.201429  \n",
       "min                                   16.666667  \n",
       "25%                                   19.166667  \n",
       "50%                                   29.166667  \n",
       "75%                                   35.000000  \n",
       "max                                  100.000000  "
      ]
     },
     "execution_count": 126,
     "metadata": {},
     "output_type": "execute_result"
    }
   ],
   "source": [
    "neighbor_corr_sum = neighbor_correlation.describe()\n",
    "neighbor_corr_sum"
   ]
  },
  {
   "cell_type": "markdown",
   "metadata": {},
   "source": [
    "#### Like what you see? save the neighbor correlation file with the below code"
   ]
  },
  {
   "cell_type": "code",
   "execution_count": 127,
   "metadata": {
    "collapsed": false,
    "jupyter": {
     "outputs_hidden": false
    }
   },
   "outputs": [],
   "source": [
    "neighbor_correlation.to_csv(r'%s/neighbor_correlation.csv' %(folder))\n",
    "neighbor_corr_sum.to_csv(r'%s/neighbor_correlation_summary.csv' %(folder))"
   ]
  },
  {
   "cell_type": "markdown",
   "metadata": {},
   "source": [
    "# III. Resulting Plots"
   ]
  },
  {
   "cell_type": "markdown",
   "metadata": {},
   "source": [
    "## A. 2d Plots"
   ]
  },
  {
   "cell_type": "markdown",
   "metadata": {},
   "source": [
    "### - All Roi overlay with name calling"
   ]
  },
  {
   "cell_type": "markdown",
   "metadata": {},
   "source": [
    "For some reason, you have to click on the first cell twice. but be assured, it is working. set the object size with s. default is s = 6\n",
    "\n",
    "Save this plot from the pop up graph window."
   ]
  },
  {
   "cell_type": "code",
   "execution_count": 128,
   "metadata": {
    "collapsed": false,
    "jupyter": {
     "outputs_hidden": false
    }
   },
   "outputs": [
    {
     "data": {
      "image/png": "[encoded data removed]",
      "text/plain": [
       "<Figure size 432x288 with 1 Axes>"
      ]
     },
     "metadata": {
      "needs_background": "light"
     },
     "output_type": "display_data"
    }
   ],
   "source": [
    "all_roi_2d(roi_loc , im , s=100)"
   ]
  },
  {
   "cell_type": "markdown",
   "metadata": {},
   "source": [
    "### - Select Roi and Friends plot"
   ]
  },
  {
   "cell_type": "markdown",
   "metadata": {},
   "source": [
    "Call a 2d plot with each roi on it. Choose an roi by name (ex: 'Roi35') to see it's relationship to all other rois. The named roi will be in white. All other roi's will be colored by its r value. \n",
    "\n",
    "when just_friends = True, only friends who meet the r threshold will be shown and all others will be gray. when just_friends = False, all rois will be colored based on r value.\n",
    "\n",
    "Save this plot from the pop up graph window."
   ]
  },
  {
   "cell_type": "code",
   "execution_count": 132,
   "metadata": {
    "collapsed": false,
    "jupyter": {
     "outputs_hidden": false
    }
   },
   "outputs": [],
   "source": [
    "import matplotlib.pyplot as plt\n",
    "import matplotlib.patches as patches\n",
    "import matplotlib.ticker as ticker\n",
    "import numpy as np\n",
    "\n",
    "\n",
    "def friend_roi_2d(data_corr, friend_names, roi_loc, r, d, roi, just_friends, s=100, folder=folder):\n",
    "    temp_series = data_corr[roi]\n",
    "    temp_series_list = temp_series.tolist()\n",
    "    temp_ls = temp_series[friend_names[roi]]\n",
    "    fig, ax = plt.subplots()\n",
    "    im_np = np.array(im)\n",
    "    \n",
    "    \n",
    "    # Scale from pixels to microns\n",
    "    scaling_factor = 0.2635765\n",
    "\n",
    "    # Function to format tick labels\n",
    "    def format_ticks(x, pos):\n",
    "        return '{:.1f}'.format(x * scaling_factor)\n",
    "\n",
    "    # Apply the formatter to both x and y axes\n",
    "    ax.xaxis.set_major_formatter(ticker.FuncFormatter(format_ticks))\n",
    "    ax.yaxis.set_major_formatter(ticker.FuncFormatter(format_ticks))\n",
    "\n",
    "\n",
    "    \n",
    "    \n",
    "    if not just_friends:\n",
    "        scatter = plt.scatter(roi_loc.x, roi_loc.y, s=s+10, label='other objects', \n",
    "                              edgecolor='k', linewidth=1, c=temp_series_list, \n",
    "                              cmap=plt.cm.coolwarm, marker=\"o\", alpha=1)\n",
    "        cbar = plt.colorbar(scatter)\n",
    "        plt.clim(-1, 1)\n",
    "    else:\n",
    "        plt.scatter(roi_loc.x, roi_loc.y, s=s+20, label='other objects', \n",
    "                    edgecolor='k', linewidth=1, color='w', marker=\"o\", alpha=0.25)\n",
    "        scatter = plt.scatter(roi_loc.x[friend_names[roi]], roi_loc.y[friend_names[roi]], \n",
    "                              label='Friends', s=s, edgecolor='k', linewidth=1, \n",
    "                              c=temp_ls, cmap=plt.cm.coolwarm, marker=\"o\", alpha=1)\n",
    "        cbar = plt.colorbar(scatter)\n",
    "        plt.clim(r, 1)\n",
    "    \n",
    "    plt.scatter(roi_loc.x[roi], roi_loc.y[roi], label=roi, s=(s+25), \n",
    "                edgecolor='k', marker=\"o\", alpha=1, color='w')\n",
    "    \n",
    "    neighborhood = patches.Circle(xy=(roi_loc.x[roi], roi_loc.y[roi]), \n",
    "                                  radius=d, fill=False, color='w', lw=1, ls='solid')\n",
    "    ax.add_artist(neighborhood)\n",
    "    \n",
    "    plt.xlim(xmin=0, xmax=im.size[0])\n",
    "    plt.ylim(ymin=0, ymax=im.size[1])\n",
    "    plt.xlabel('Microns')\n",
    "    plt.ylabel('Microns')\n",
    "    cbar.set_label('Correlation Coefficient (r)', rotation=-90, labelpad=20)\n",
    "    plt.imshow(im_np, cmap='gray')\n",
    "\n",
    "    ax.set_title(\"\")\n",
    "    \n",
    "    plt.savefig(r'%s/friend_2d(r=%s)(d=%s).png' %(folder,r,d), dpi=300)\n",
    "    plt.close(fig)\n",
    "\n",
    "# Example usage\n",
    "friend_roi_2d(data_corr, friend_names, roi_loc, r, d, roi='Roi20', just_friends=True, s=50)"
   ]
  },
  {
   "cell_type": "markdown",
   "metadata": {},
   "source": [
    "## B. Line Plots"
   ]
  },
  {
   "cell_type": "markdown",
   "metadata": {},
   "source": [
    "All line plots are scaled the same: 0 to the maximum value in the entire dataframe."
   ]
  },
  {
   "cell_type": "markdown",
   "metadata": {},
   "source": [
    "### - Line Plots for all ROIs"
   ]
  },
  {
   "cell_type": "markdown",
   "metadata": {},
   "source": [
    "Use all_roi_line_pdfs to plot each ROI as its own pdf. Each plot is randomly assigned a color. You cannot disable this feature.\n",
    "\n",
    "you can easily consolidate all of these into a single pdf using adobe or another preview program."
   ]
  },
  {
   "cell_type": "code",
   "execution_count": 95,
   "metadata": {
    "collapsed": false,
    "jupyter": {
     "outputs_hidden": false
    }
   },
   "outputs": [
    {
     "name": "stderr",
     "output_type": "stream",
     "text": [
      "/Users/devinwilson/anaconda3/envs/RAAIM/lib/python2.7/site-packages/ipykernel_launcher.py:242: DeprecationWarning: \n",
      ".ix is deprecated. Please use\n",
      ".loc for label based indexing or\n",
      ".iloc for positional indexing\n",
      "\n",
      "See the documentation here:\n",
      "http://pandas.pydata.org/pandas-docs/stable/indexing.html#ix-indexer-is-deprecated\n"
     ]
    },
    {
     "data": {
      "image/png": "[encoded data removed]",
      "text/plain": [
       "<Figure size 432x288 with 1 Axes>"
      ]
     },
     "metadata": {
      "needs_background": "light"
     },
     "output_type": "display_data"
    }
   ],
   "source": [
    "all_roi_line_pdfs(data, num_rois = len(data.columns), ymin = 0, ymax=max(data.max()), events_x = events_x, events_y = events_y, folder = folder)"
   ]
  },
  {
   "cell_type": "markdown",
   "metadata": {},
   "source": [
    "### - Line Plot for only one ROI"
   ]
  },
  {
   "cell_type": "markdown",
   "metadata": {},
   "source": [
    "Use roi_line_plot to call an ROI and get its plot. It includes the overlay of the LCPro events"
   ]
  },
  {
   "cell_type": "code",
   "execution_count": 96,
   "metadata": {
    "collapsed": false,
    "jupyter": {
     "outputs_hidden": false
    }
   },
   "outputs": [
    {
     "name": "stderr",
     "output_type": "stream",
     "text": [
      "/Users/devinwilson/anaconda3/envs/RAAIM/lib/python2.7/site-packages/ipykernel_launcher.py:256: DeprecationWarning: \n",
      ".ix is deprecated. Please use\n",
      ".loc for label based indexing or\n",
      ".iloc for positional indexing\n",
      "\n",
      "See the documentation here:\n",
      "http://pandas.pydata.org/pandas-docs/stable/indexing.html#ix-indexer-is-deprecated\n"
     ]
    },
    {
     "data": {
      "image/png": "[encoded data removed]",
      "text/plain": [
       "<Figure size 432x288 with 1 Axes>"
      ]
     },
     "metadata": {
      "needs_background": "light"
     },
     "output_type": "display_data"
    }
   ],
   "source": [
    "roi_line_plot(roi = 'Roi27', dataframe = data, events_x = events_x, events_y=events_y, ymin = 0, ymax=max(data.max()))"
   ]
  },
  {
   "cell_type": "markdown",
   "metadata": {},
   "source": [
    "### - Stacked line plot of an ROI and its friends"
   ]
  },
  {
   "cell_type": "markdown",
   "metadata": {},
   "source": [
    "Call an roi by name (ex: 'Roi35') to get a line plot of it and its friends. Save this plot from the pop up graph window."
   ]
  },
  {
   "cell_type": "code",
   "execution_count": 97,
   "metadata": {
    "collapsed": false,
    "jupyter": {
     "outputs_hidden": false
    }
   },
   "outputs": [
    {
     "data": {
      "image/png": "[encoded data removed]",
      "text/plain": [
       "<Figure size 432x288 with 1 Axes>"
      ]
     },
     "metadata": {
      "needs_background": "light"
     },
     "output_type": "display_data"
    }
   ],
   "source": [
    "friend_roi_line(data, friend_names, roi = 'Roi38', folder = folder)"
   ]
  },
  {
   "cell_type": "markdown",
   "metadata": {},
   "source": [
    "### - Average line plot of an ROI and its friends"
   ]
  },
  {
   "cell_type": "markdown",
   "metadata": {},
   "source": [
    "Call an roi by name (ex: 'Roi35') to get a line plot of the average of it and its friends. the average standard error for each point is printed below once the plot is closed. Save this plot from the pop up graph window."
   ]
  },
  {
   "cell_type": "code",
   "execution_count": 41,
   "metadata": {
    "collapsed": false,
    "jupyter": {
     "outputs_hidden": false
    }
   },
   "outputs": [
    {
     "name": "stdout",
     "output_type": "stream",
     "text": [
      "the average of the std of each point is 0.1507 for Roi27 and its friends.\n"
     ]
    },
    {
     "data": {
      "image/png": "[encoded data removed]",
      "text/plain": [
       "<Figure size 432x288 with 1 Axes>"
      ]
     },
     "metadata": {
      "needs_background": "light"
     },
     "output_type": "display_data"
    }
   ],
   "source": [
    "friend_roi_line_average(data, friend_names, roi = 'Roi27')"
   ]
  },
  {
   "cell_type": "markdown",
   "metadata": {},
   "source": [
    "### - Autocorrelation Plot"
   ]
  },
  {
   "cell_type": "code",
   "execution_count": 42,
   "metadata": {
    "collapsed": false,
    "jupyter": {
     "outputs_hidden": false
    }
   },
   "outputs": [
    {
     "data": {
      "image/png": "[encoded data removed]",
      "text/plain": [
       "<Figure size 432x288 with 1 Axes>"
      ]
     },
     "metadata": {
      "needs_background": "light"
     },
     "output_type": "display_data"
    }
   ],
   "source": [
    "roi = 'Roi27'\n",
    "\n",
    "autocorrelation_plot(data[roi])\n",
    "plt.title(roi)\n",
    "plt.show()"
   ]
  },
  {
   "cell_type": "markdown",
   "metadata": {},
   "source": [
    "## C. Box and Whister Plots"
   ]
  },
  {
   "cell_type": "markdown",
   "metadata": {},
   "source": [
    "Call an ROI and see the distribution of either its friends' correlations or neighbors' distances.\n",
    "\n",
    "Choose which metrc to use by changing flavor to either 'dist' or 'corr'"
   ]
  },
  {
   "cell_type": "code",
   "execution_count": 43,
   "metadata": {
    "collapsed": false,
    "jupyter": {
     "outputs_hidden": false
    }
   },
   "outputs": [
    {
     "data": {
      "image/png": "[encoded data removed]",
      "text/plain": [
       "<Figure size 432x288 with 1 Axes>"
      ]
     },
     "metadata": {
      "needs_background": "light"
     },
     "output_type": "display_data"
    }
   ],
   "source": [
    "boxandwhiskers(roi = 'Roi27', flavor = 'corr', data_corr = data_corr, roi_dist = roi_dist, r = r, d = d)"
   ]
  },
  {
   "cell_type": "markdown",
   "metadata": {},
   "source": [
    "# End"
   ]
  },
  {
   "cell_type": "markdown",
   "metadata": {},
   "source": [
    "# ............................................................................................................................................"
   ]
  },
  {
   "cell_type": "markdown",
   "metadata": {},
   "source": [
    "## [ Run the next cells of code if you want to randomize the dataset ]"
   ]
  },
  {
   "cell_type": "code",
   "execution_count": null,
   "metadata": {
    "collapsed": false,
    "jupyter": {
     "outputs_hidden": false
    }
   },
   "outputs": [],
   "source": [
    "import random\n",
    "\n",
    "def shuffle(x):\n",
    "    random.shuffle(x)\n",
    "    return x\n",
    "\n",
    "for label, column in data.iteritems():\n",
    "    tempcol = data[label].tolist()\n",
    "    randcol = shuffle(tempcol)  #shuffle the list of values in the column\n",
    "    data[label] = randcol #write over the original list with randomized list"
   ]
  },
  {
   "cell_type": "markdown",
   "metadata": {},
   "source": [
    "### Check that the dataset set is indeed randomized! Compare this table to the table under the header \"(b) Load\""
   ]
  },
  {
   "cell_type": "code",
   "execution_count": 200,
   "metadata": {
    "collapsed": false,
    "jupyter": {
     "outputs_hidden": false
    }
   },
   "outputs": [
    {
     "data": {
      "text/html": [
       "<div>\n",
       "<style scoped>\n",
       "    .dataframe tbody tr th:only-of-type {\n",
       "        vertical-align: middle;\n",
       "    }\n",
       "\n",
       "    .dataframe tbody tr th {\n",
       "        vertical-align: top;\n",
       "    }\n",
       "\n",
       "    .dataframe thead th {\n",
       "        text-align: right;\n",
       "    }\n",
       "</style>\n",
       "<table border=\"1\" class=\"dataframe\">\n",
       "  <thead>\n",
       "    <tr style=\"text-align: right;\">\n",
       "      <th></th>\n",
       "      <th>Roi18</th>\n",
       "      <th>Roi21</th>\n",
       "      <th>Roi62</th>\n",
       "      <th>Roi66</th>\n",
       "      <th>Roi67</th>\n",
       "    </tr>\n",
       "    <tr>\n",
       "      <th>time(s)</th>\n",
       "      <th></th>\n",
       "      <th></th>\n",
       "      <th></th>\n",
       "      <th></th>\n",
       "      <th></th>\n",
       "    </tr>\n",
       "  </thead>\n",
       "  <tbody>\n",
       "    <tr>\n",
       "      <th>0.78125</th>\n",
       "      <td>0.963949</td>\n",
       "      <td>1.782108</td>\n",
       "      <td>1.349198</td>\n",
       "      <td>1.543961</td>\n",
       "      <td>1.379517</td>\n",
       "    </tr>\n",
       "    <tr>\n",
       "      <th>1.56250</th>\n",
       "      <td>0.984581</td>\n",
       "      <td>1.741232</td>\n",
       "      <td>1.362327</td>\n",
       "      <td>1.515378</td>\n",
       "      <td>1.414717</td>\n",
       "    </tr>\n",
       "    <tr>\n",
       "      <th>2.34375</th>\n",
       "      <td>0.985647</td>\n",
       "      <td>1.753070</td>\n",
       "      <td>1.416037</td>\n",
       "      <td>1.465832</td>\n",
       "      <td>1.382118</td>\n",
       "    </tr>\n",
       "    <tr>\n",
       "      <th>3.12500</th>\n",
       "      <td>0.990750</td>\n",
       "      <td>1.741312</td>\n",
       "      <td>1.505475</td>\n",
       "      <td>1.457942</td>\n",
       "      <td>1.375667</td>\n",
       "    </tr>\n",
       "    <tr>\n",
       "      <th>3.90625</th>\n",
       "      <td>0.983733</td>\n",
       "      <td>1.745520</td>\n",
       "      <td>1.517991</td>\n",
       "      <td>1.409159</td>\n",
       "      <td>1.465119</td>\n",
       "    </tr>\n",
       "  </tbody>\n",
       "</table>\n",
       "</div>"
      ],
      "text/plain": [
       "            Roi18     Roi21     Roi62     Roi66     Roi67\n",
       "time(s)                                                  \n",
       "0.78125  0.963949  1.782108  1.349198  1.543961  1.379517\n",
       "1.56250  0.984581  1.741232  1.362327  1.515378  1.414717\n",
       "2.34375  0.985647  1.753070  1.416037  1.465832  1.382118\n",
       "3.12500  0.990750  1.741312  1.505475  1.457942  1.375667\n",
       "3.90625  0.983733  1.745520  1.517991  1.409159  1.465119"
      ]
     },
     "execution_count": 200,
     "metadata": {},
     "output_type": "execute_result"
    }
   ],
   "source": [
    "data.head()"
   ]
  },
  {
   "cell_type": "markdown",
   "metadata": {},
   "source": [
    "### Now, go to analysis and it will run the program with the randomized data. (SKIP I. User Input) "
   ]
  },
  {
   "cell_type": "markdown",
   "metadata": {},
   "source": [
    "# ............................................................................................................................................"
   ]
  }
 ],
 "metadata": {
  "celltoolbar": "Edit Metadata",
  "kernelspec": {
   "display_name": "py2.7",
   "language": "python",
   "name": "raaim"
  },
  "language_info": {
   "codemirror_mode": {
    "name": "ipython",
    "version": 2
   },
   "file_extension": ".py",
   "mimetype": "text/x-python",
   "name": "python",
   "nbconvert_exporter": "python",
   "pygments_lexer": "ipython2",
   "version": "2.7.18"
  }
 },
 "nbformat": 4,
 "nbformat_minor": 5
}
