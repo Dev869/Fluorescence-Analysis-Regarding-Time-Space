{
 "cells": [
  {
   "cell_type": "markdown",
   "metadata": {},
   "source": [
    "# ............................................................................................................................................"
   ]
  },
  {
   "cell_type": "markdown",
   "metadata": {},
   "source": [
    "# Welcome to the RAAIM"
   ]
  },
  {
   "cell_type": "markdown",
   "metadata": {},
   "source": [
    "Use shift + enter to run a code block or move to the next text block.\n",
    "\n",
    "Run the next block of code to intialize the program.\n",
    "\n",
    "* If you run into a \"C:\\Users\\labuser\\AppData\\Local\\Enthought\\Canopy\\User\\lib\\site-packages\\pandas\\io\\excel.py:626 error\", simply ignore it! The program will still be able to run."
   ]
  },
  {
   "cell_type": "code",
   "execution_count": 1,
   "metadata": {
    "collapsed": false,
    "jupyter": {
     "outputs_hidden": false
    }
   },
   "outputs": [
    {
     "ename": "ImportError",
     "evalue": "No module named numpy",
     "output_type": "error",
     "traceback": [
      "\u001b[1;31m---------------------------------------------------------------------------\u001b[0m",
      "\u001b[1;31mImportError\u001b[0m                               Traceback (most recent call last)",
      "\u001b[1;32m<ipython-input-1-d58d521dc7f3>\u001b[0m in \u001b[0;36m<module>\u001b[1;34m()\u001b[0m\n\u001b[1;32m----> 1\u001b[1;33m \u001b[1;32mimport\u001b[0m \u001b[0mnumpy\u001b[0m \u001b[1;32mas\u001b[0m \u001b[0mnp\u001b[0m\u001b[1;33m\u001b[0m\u001b[0m\n\u001b[0m\u001b[0;32m      2\u001b[0m \u001b[1;32mimport\u001b[0m \u001b[0mscipy\u001b[0m\u001b[1;33m\u001b[0m\u001b[0m\n\u001b[0;32m      3\u001b[0m \u001b[1;32mfrom\u001b[0m \u001b[0mscipy\u001b[0m \u001b[1;32mimport\u001b[0m \u001b[0mspatial\u001b[0m\u001b[1;33m\u001b[0m\u001b[0m\n\u001b[0;32m      4\u001b[0m \u001b[1;32mimport\u001b[0m \u001b[0mpandas\u001b[0m \u001b[1;32mas\u001b[0m \u001b[0mpd\u001b[0m\u001b[1;33m\u001b[0m\u001b[0m\n\u001b[0;32m      5\u001b[0m \u001b[1;32mimport\u001b[0m \u001b[0mmatplotlib\u001b[0m\u001b[1;33m.\u001b[0m\u001b[0mpyplot\u001b[0m \u001b[1;32mas\u001b[0m \u001b[0mplt\u001b[0m\u001b[1;33m\u001b[0m\u001b[0m\n",
      "\u001b[1;31mImportError\u001b[0m: No module named numpy"
     ]
    }
   ],
   "source": [
    "import numpy as np\n",
    "import scipy\n",
    "from scipy import spatial\n",
    "import pandas as pd\n",
    "import matplotlib.pyplot as plt\n",
    "from pandas import Series, DataFrame\n",
    "import time as t\n",
    "from PIL import Image\n",
    "import sys\n",
    "import os, errno\n",
    "import matplotlib.patches as patches\n",
    "from pandas.tools.plotting import autocorrelation_plot\n",
    "\n",
    "def mkdir_p(path):\n",
    "    try:\n",
    "        os.makedirs(path)\n",
    "    except OSError as exc: # Python >2.5\n",
    "        if exc.errno == errno.EEXIST and os.path.isdir(path):\n",
    "            pass\n",
    "        else: raise\n",
    "\n",
    "def load_RAAIM(folder, original):\n",
    "    data = pd.read_csv(r'%s/ROI normalized.txt' %(folder), index_col= 'time(s)', sep='\\t')\n",
    "    print \"Loaded 'ROI normalized.txt'\"\n",
    "    \n",
    "    roi_param = pd.read_csv(r'%s/Parameter List_edit.txt' %(folder), index_col='ROI', sep='\\t')\n",
    "    print \"Loaded 'Parameter List_edit.txt'\"\n",
    "    \n",
    "    im = Image.open(r'%s/rgb.png' %(folder)) #MUST BE RGB\n",
    "    print \"Loaded 'rgb.png'\"\n",
    "    \n",
    "    del data['Unnamed: 0'] #lc_pro outputs a weird blank column named this everytime. I don't know why, but it does. this line deletes it safely.\n",
    "    roi_loc, roi_x, roi_y, data = lcpro_param_parse(roi_param, data , original = original)\n",
    "    print \"Configured Data\"\n",
    "    \n",
    "    events_x, events_y = get_events(data = data, roi_param = roi_param)\n",
    "    print \"LCPro events extracted\"\n",
    "    \n",
    "    path = folder +\"/plots\"\n",
    "    mkdir_p(path)\n",
    "    print \"Made plots folder\"\n",
    "    \n",
    "    return data, roi_param, im, roi_loc, roi_x, roi_y, events_x, events_y\n",
    "    \n",
    "def lcpro_param_parse(roi_param, data , original):\n",
    "    '''\n",
    "    This function takes the Dataframe created by opening the 'Parameter List.txt' from LC_Pro. \n",
    "    '''\n",
    "    roi_loc = roi_param[['X', 'Y']]\n",
    "    roi_loc.drop_duplicates(inplace= True)\n",
    "    roi_x = roi_loc['X'].tolist()\n",
    "    roi_y = roi_loc['Y'].tolist()\n",
    "    new_index = []\n",
    "    for i in np.arange(len(roi_loc.index)):\n",
    "        foo = int(roi_loc.index[i])\n",
    "        new_index.append('Roi'+str(foo))\n",
    "    roi_loc = DataFrame({'x':roi_x, 'y':roi_y}, index= new_index)\n",
    "    \n",
    "    if len(data.columns) != len(new_index) and original == True:\n",
    "        sys.exit(\"The number of ROIs in the data file is not equal to the number of ROIs in the parameter file. That doesn't seem right, so I quit the function for you. Make sure you are loading the correct files, please.\")\n",
    "    \n",
    "    if original == False:\n",
    "        data = data[roi_loc.index]\n",
    "    \n",
    "    truth = (data.columns == roi_loc.index).tolist()\n",
    "    \n",
    "    if truth.count(True) != len(data.columns):\n",
    "        sys.exit(\"The names on data and roi_loc are not identical. This will surely break everything later, so I shut down the program. Try loading these files again.\")\n",
    "    \n",
    "    return roi_loc, roi_x, roi_y, data\n",
    "\n",
    "def get_events(data, roi_param):\n",
    "    '''\n",
    "    extract the events from the roi_parameter list. It returns them as a pair of dictionaries.\n",
    "    '''\n",
    "    new_index = []\n",
    "    for i in np.arange(len(roi_param.index)):\n",
    "        new_index.append('Roi'+str(roi_param.index[i]))\n",
    "    roi_events = DataFrame(index= new_index)\n",
    "    roi_events_time = roi_param['Time(s)'].tolist()\n",
    "    roi_events_amp = roi_param['Amp(F/F0)'].tolist()\n",
    "    roi_events['Time'] = roi_events_time\n",
    "    roi_events['Amp'] = roi_events_amp\n",
    "    \n",
    "    events_x = {}\n",
    "    events_y = {}\n",
    "    for label in data.columns:\n",
    "        events_x[label] = []\n",
    "        events_y[label] = []\n",
    "\n",
    "    for i in np.arange(len(roi_events.index)):\n",
    "        key = roi_events.index[i]\n",
    "        events_x[key].append(roi_events.iloc[i,0])\n",
    "        events_y[key].append(roi_events.iloc[i,1])\n",
    "        \n",
    "    return events_x, events_y\n",
    "\n",
    "def cross_correlation(data, r):\n",
    "    '''\n",
    "    This function calculated the cross correlation between each ROI pair and returns a dataframe with NxN+1  values.\n",
    "    it also includes a column that contains the number of friends each ROI has.\n",
    "    lastly, it creates a dictionary where the keys are the roi names and names of each roi's friends are stored as a list. by defalut, each roi is at least friends with itself.\n",
    "    this file can be saved out as a CSV later.\n",
    "    '''\n",
    "    \n",
    "    data_corr = data.corr()\n",
    "    ls = (data_corr[data_corr>r].count())\n",
    "    data_corr['Number of Friends'] = ls\n",
    "    cols = data_corr.columns.tolist()\n",
    "    cols = cols[-1:] + cols[:-1]\n",
    "    data_corr = data_corr[cols]\n",
    "    \n",
    "    friend_names = {}\n",
    "    temp_cor = data.corr()\n",
    "    correlation_summary = DataFrame()\n",
    "    \n",
    "    for label, column in temp_cor.iteritems():\n",
    "        friend_names[label] = column[column>r].index.tolist()\n",
    "        friends = column[column>r]\n",
    "        summary = friends.describe()\n",
    "        correlation_summary[label] = np.round(summary, 3)\n",
    "\n",
    "    return data_corr, friend_names, correlation_summary\n",
    "\n",
    "def distance_matrix(roi_x, roi_y , roi_loc , d):\n",
    "    '''\n",
    "    This function calculates the euclidean distance between each ROI pair. It returns a dataframe with these distances.\n",
    "    it also includes a column that contains the number of neighbors each ROI has.\n",
    "    the files can be saved out as a CSV later.\n",
    "    It also returns the list of the (x,y) tuple for each roi.\n",
    "    '''\n",
    "    loc_tup = []\n",
    "    for i in np.arange(len(roi_x)):\n",
    "        loc_tup.append((roi_x[i], roi_y[i]))\n",
    "    \n",
    "    roi_dist = DataFrame(data = (scipy.spatial.distance.cdist(loc_tup, loc_tup, 'euclidean')), index = roi_loc.index, columns= roi_loc.index)\n",
    "    roi_dist_f = roi_dist\n",
    "    \n",
    "    neighbor_names = {}\n",
    "    distance_summary = DataFrame()\n",
    "    \n",
    "    for label, column in roi_dist.iteritems():\n",
    "        neighbor_names[label] = column[column<=d].index.tolist()\n",
    "        neighbors = column[column<=d]\n",
    "        summary = neighbors.describe()\n",
    "        distance_summary[label] = np.round(summary, 3)\n",
    "\n",
    "    ls = (roi_dist[roi_dist<=d].count())\n",
    "    roi_dist_f['Number of Neighbors'] = ls\n",
    "    cols = roi_dist_f.columns.tolist()\n",
    "    cols = cols[-1:] + cols[:-1]\n",
    "    roi_dist_f = roi_dist_f[cols]\n",
    "    \n",
    "    return roi_dist_f, loc_tup, neighbor_names, distance_summary\n",
    "\n",
    "def friend_dist(data_corr, roi_dist, friend_names, r, d):\n",
    "    '''\n",
    "    calculates distance information about each roi's friends.\n",
    "    returns a dataframe with Distance Sum, number of friends, and mean distance. mean dist = distance sum/number of fiends\n",
    "    '''\n",
    "    roi_friend_dist = DataFrame(index = data_corr.index)\n",
    "    #roi_friend_dist['Distance sum'] = (roi_dist[data_corr>r].sum())\n",
    "    roi_friend_dist['Number of Friends'] = (data_corr[data_corr>r].count())\n",
    "    roi_friend_dist['Mean Dist'] = (roi_dist[data_corr>r].mean())\n",
    "    roi_friend_dist['Std Dist'] = (roi_dist[data_corr>r].std())\n",
    "    \n",
    "    perc_friends_are_neighbors = Series(index = roi_dist.index) #empty series\n",
    "    for key in friend_names:\n",
    "        temp_series = roi_dist.loc[key, friend_names[key]]\n",
    "        count = temp_series[temp_series<=d].count()\n",
    "        perc_friends_are_neighbors[key] = count\n",
    "    roi_friend_dist['Number of Friends that are Neighbors'] = perc_friends_are_neighbors\n",
    "    roi_friend_dist['Percentage of Friends that are Neighbors'] = (roi_friend_dist['Number of Friends that are Neighbors']/roi_friend_dist['Number of Friends'])*100\n",
    "    \n",
    "    return roi_friend_dist\n",
    "\n",
    "def neighbor_corr(roi_dist, data_corr, neighbor_names, r, d):\n",
    "    '''\n",
    "    Calculates correlation information about each roi's neighbors.\n",
    "    returns dataframe with corr of neighbors, corr of neighbors that are friends, percent of neighbors that are friends\n",
    "    '''\n",
    "    \n",
    "    roi_neighbor_corr = DataFrame(index = roi_dist.index)\n",
    "    roi_neighbor_corr['Number of Neighbors'] = (roi_dist[roi_dist<=d].count())\n",
    "    roi_neighbor_corr['Mean Correlation'] = (data_corr[roi_dist<=d].mean())\n",
    "    roi_neighbor_corr['Std Correlation'] = (data_corr[roi_dist<=d].std())\n",
    "    \n",
    "    perc_neighbors_are_friends = Series(index = roi_dist.index)\n",
    "    for key in neighbor_names:\n",
    "        temp_series = data_corr.loc[key, neighbor_names[key]]\n",
    "        count = temp_series[temp_series>r].count()\n",
    "        perc_neighbors_are_friends[key] = count\n",
    "    roi_neighbor_corr['Number of Neighbors that are Friends'] = perc_neighbors_are_friends\n",
    "    roi_neighbor_corr['Percentage of Neighbors that are Friends'] = (roi_neighbor_corr['Number of Neighbors that are Friends']/roi_neighbor_corr['Number of Neighbors'])*100\n",
    "    \n",
    "    return roi_neighbor_corr\n",
    "\n",
    "def onpick(event):\n",
    "    '''\n",
    "    allows us to click on an roi and print in the notebook it's name.\n",
    "    '''\n",
    "    ind = event.ind\n",
    "    ind = ind[0]\n",
    "    print('Roi selected =', roi_loc.index[ind])\n",
    "    \n",
    "def all_roi_2d(roi_loc , im , s=6):\n",
    "    '''\n",
    "    makes a scatter plot of each roi overlayed on an uploaded image. when you click on an roi, it prints the name of the roi\n",
    "    for some reason, it takes two clicks to start printing. Not sure why\n",
    "    '''\n",
    "    fig, ax = plt.subplots()\n",
    "    col = ax.scatter(roi_loc.x, roi_loc.y, s=s, edgecolor = 'k', linewidth ='1',color = 'y', marker =\"o\", alpha = 0.75, picker = True)\n",
    "    fig.canvas.mpl_connect('pick_event', onpick)\n",
    "\n",
    "    width, height = im.size\n",
    "    plt.xlim(xmin=0, xmax=width)\n",
    "    plt.ylim(ymin = 0, ymax = height)\n",
    "    plt.title('All LC_Pro ROIs')\n",
    "    plt.imshow(im)\n",
    "    plt.show()\n",
    "    \n",
    "def friend_roi_2d(data_corr , friend_names, roi_loc, r, d, roi, just_friends, s = 6):\n",
    "    temp_series_list = data_corr[roi].tolist()\n",
    "    temp_series = data_corr[roi]\n",
    "    temp_ls = temp_series[friend_names[roi]]\n",
    "\n",
    "    fig, ax = plt.subplots()\n",
    "    if just_friends == False:\n",
    "        plt.scatter(roi_loc.x, roi_loc.y, s = s, label = 'other objects', edgecolor = 'k', linewidth ='1',c= temp_series_list,cmap=plt.cm.spectral , marker =\"o\", alpha = 1)\n",
    "        plt.colorbar()\n",
    "        plt.clim(-1,1)\n",
    "\n",
    "        \n",
    "    if just_friends == True:    \n",
    "        plt.scatter(roi_loc.x, roi_loc.y, s = s, label = 'other objects', edgecolor = 'k', linewidth ='1',color= 'w' , marker =\"o\", alpha = 0.25)\n",
    "        plt.scatter(roi_loc.x[friend_names[roi]], roi_loc.y[friend_names[roi]], label = 'Friends', s=s, edgecolor = 'k', linewidth ='1',c =temp_ls, cmap=plt.cm.spectral , marker =\"o\", alpha = 1)\n",
    "        plt.colorbar()\n",
    "        plt.clim(r,1)\n",
    "        \n",
    "    plt.scatter(roi_loc.x[roi], roi_loc.y[roi], label = roi, s=(s+25), edgecolor = 'k', marker =\"o\", alpha = 1, color = 'w')\n",
    "    neighborhood = patches.Circle(xy = (roi_loc.x[roi], roi_loc.y[roi]), radius=d, fill = False, color= 'w', lw = 1, ls = 'solid')\n",
    "    ax.add_artist(neighborhood)\n",
    "    \n",
    "    width, height = im.size\n",
    "    plt.xlim(xmin=0, xmax=width)\n",
    "    plt.ylim(ymin = 0, ymax = height)\n",
    "    plt.title(roi)\n",
    "    plt.imshow(im)\n",
    "    #plt.legend(loc = 'center left')\n",
    "\n",
    "    plt.show()\n",
    "    \n",
    "def all_roi_line_pdfs(dataframe, num_rois, ymin, ymax, events_x, events_y, folder):\n",
    "    \n",
    "    for r in np.arange(num_rois):\n",
    "        \n",
    "        plt.figure()\n",
    "        plt.xlabel('Time (s)')\n",
    "        plt.ylabel('Intensity')\n",
    "        plt.title(dataframe.columns[r])\n",
    "        plt.ylim(ymin = ymin, ymax = ymax)\n",
    "        plt.xlim(xmin= dataframe.index[0], xmax = dataframe.index[-1])\n",
    "        plt.plot(dataframe.index, dataframe.ix[:,r], color = [np.random.random(), np.random.random(), np.random.random()])\n",
    "        plt.plot(events_x[dataframe.columns[r]], events_y[dataframe.columns[r]],  marker = \"^\", color=\"y\", linestyle= \"None\")\n",
    "        \n",
    "        plt.savefig(r'%s/plots/%s.pdf' %(folder,dataframe.columns[r]))\n",
    "        plt.close()\n",
    "        \n",
    "def roi_line_plot(roi, dataframe, events_x, events_y, ymin, ymax):\n",
    "    \n",
    "    plt.figure()\n",
    "    plt.xlabel('Time (s)')\n",
    "    plt.ylabel('Intensity')\n",
    "    plt.title(roi)\n",
    "    plt.ylim(ymin = ymin, ymax = ymax)\n",
    "    plt.xlim(xmin= dataframe.index[0], xmax = dataframe.index[-1])\n",
    "    plt.plot(dataframe.index, dataframe.ix[:,roi], color = 'k')\n",
    "    plt.plot(events_x[roi], events_y[roi],  marker = \"^\", color=\"y\", linestyle= \"None\")\n",
    "\n",
    "    plt.show()\n",
    "    \n",
    "    \n",
    "def friend_roi_line(data, friend_names, roi):\n",
    "    plt.figure()\n",
    "    plt.plot(data.index, data[friend_names[roi]], color = '#FF6600')\n",
    "    plt.plot(data.index, data[roi], color = 'k',)\n",
    "    plt.ylim(ymin = 0, ymax = max(data.max()))\n",
    "    plt.title(roi)\n",
    "\n",
    "    plt.show()\n",
    "    \n",
    "def friend_roi_line_average(data, friend_names, roi):\n",
    "    roi_average = data[friend_names[roi]].mean(1)\n",
    "    roi_std = data[friend_names[roi]].std(1)\n",
    "    print \"the average of the std of each point is\", round(np.mean(roi_std),4), \"for\", roi, \"and its friends.\"\n",
    "\n",
    "    plt.figure()\n",
    "    plt.plot(data[friend_names[roi]].mean(1))\n",
    "    plt.ylim(ymin = 0, ymax = max(data.max()))\n",
    "    plt.title('Average of '+roi+' and its friends')\n",
    "    plt.show()\n",
    "\n",
    "def boxandwhiskers(roi, flavor,data_corr, roi_dist, r, d):\n",
    "    '''\n",
    "    Returns the box and whiskers plot of a named ROI's friends or neighbors.\n",
    "    \n",
    "    '''\n",
    "    if flavor == 'corr':\n",
    "        temp_series = data_corr[roi]\n",
    "        temp_series = temp_series[temp_series>r]\n",
    "        plt.boxplot(temp_series)\n",
    "        plt.ylim(ymin = r*0.85, ymax = 1.1)\n",
    "        plt.xticks(np.arange(1),roi)\n",
    "        plt.title(roi)\n",
    "        plt.text(0.55,r,temp_series.describe())\n",
    "        plt.ylabel('Correlation (r)')\n",
    "        plt.show()\n",
    "        \n",
    "    \n",
    "    elif flavor == 'dist':\n",
    "        temp_series = roi_dist[roi]\n",
    "        temp_series = temp_series[temp_series<=d]\n",
    "        plt.boxplot(temp_series)\n",
    "        plt.ylim(ymin = -3, ymax = d*1.25)\n",
    "        plt.xticks(np.arange(1),roi)\n",
    "        plt.title(roi)\n",
    "        plt.text(0.55,d*0.5,temp_series.describe())\n",
    "        plt.ylabel('Distance (pixels)')\n",
    "        plt.show()\n",
    "        \n",
    "        \n",
    "    else:\n",
    "        print \"ERROR: flavor must be set to either 'corr' or 'dist'.\"        \n",
    "        \n",
    "print \"RAAIM Ready for Analysis\""
   ]
  },
  {
   "cell_type": "markdown",
   "metadata": {},
   "source": [
    "# I. Begin User Input"
   ]
  },
  {
   "cell_type": "markdown",
   "metadata": {},
   "source": [
    "This whole notebook is especially formated for LC_pro outputs. This means that the load functions and wrappers expect that certain columns are in exactly the right locations and labels are formatted a certain way. This author does not expect other types of files to be handled properly (as in: will probably fail). "
   ]
  },
  {
   "cell_type": "markdown",
   "metadata": {},
   "source": [
    "## ------------------------------- An Important note about saving!  -------------------------------"
   ]
  },
  {
   "cell_type": "markdown",
   "metadata": {},
   "source": [
    "This notebook is brutal and will mercilessly **save over exsisting files of the same name without warning!**\n",
    "\n",
    "You can manually change the name of the saved file one way: \n",
    "\n",
    "Change part of the text portion of the VARIBLE.to_csv(r'%s/**OBJECT**.csv' %(folder)). you can change **OBJECT** to whatever you want. go nuts. \n",
    "\n",
    "Remember, only you can keep all your files organized and named properly. I'm just here to help. Use a naming convention that is simple and easy to understand/remember. You can totally move ALL of these files to anywhere once you've run this analysis. It won't break stuff."
   ]
  },
  {
   "cell_type": "markdown",
   "metadata": {},
   "source": [
    "## ------------------------------------------------------------------------------------------------------"
   ]
  },
  {
   "cell_type": "markdown",
   "metadata": {},
   "source": [
    "## A. Declare Your Folder"
   ]
  },
  {
   "cell_type": "markdown",
   "metadata": {},
   "source": [
    "Change the following string below to the location of the folder where your data is. You will also save all of your data in this folder. Must be full path name and not end in a /.\n",
    "\n",
    "**Example:**\n",
    "\n",
    "\"/Users/abigaildobyns/Desktop/RAAIM\""
   ]
  },
  {
   "cell_type": "code",
   "execution_count": 2,
   "metadata": {
    "collapsed": false,
    "jupyter": {
     "outputs_hidden": false
    }
   },
   "outputs": [],
   "source": [
    "folder = \"H:\\Senior Research\\Friends and neighbors\\AN Cont\\Animal1\""
   ]
  },
  {
   "cell_type": "markdown",
   "metadata": {},
   "source": [
    "## B. Load"
   ]
  },
  {
   "cell_type": "markdown",
   "metadata": {},
   "source": [
    "Use the following block below to load your data. There should be three files in this folder:\n",
    "\n",
    "1. 'ROI normalized.txt'\n",
    "\n",
    "2. 'Parameter List_edit.txt'\n",
    "\n",
    "3. 'rbg.png'\n",
    "\n",
    "There should be no headers (other than column names) in the text files. the text files can be either .txt or .csv. if you have problems loading them, make sure that the data is not corrupted, it is in the correct file type, the delimiter is correct, and the file path is correct. \n",
    "\n",
    "the image still can be just a random frame or the averaged or compressed stack. it must be convered to RGB and saved as .png."
   ]
  },
  {
   "cell_type": "markdown",
   "metadata": {},
   "source": [
    "###### if you get a *SettingWithCopyWarning*,  **Don't worry, that's normal**. I know that you are setting with a copy. It's on purpose"
   ]
  },
  {
   "cell_type": "code",
   "execution_count": 3,
   "metadata": {
    "collapsed": false,
    "jupyter": {
     "outputs_hidden": false
    }
   },
   "outputs": [
    {
     "name": "stdout",
     "output_type": "stream",
     "text": [
      "Loaded 'ROI normalized.txt'\n",
      "Loaded 'Parameter List_edit.txt'\n",
      "Loaded 'rgb.png'\n",
      "Configured Data\n",
      "LCPro events extracted\n",
      "Made plots folder\n"
     ]
    },
    {
     "name": "stderr",
     "output_type": "stream",
     "text": [
      "C:\\Users\\labuser\\AppData\\Local\\Enthought\\Canopy\\User\\lib\\site-packages\\pandas\\util\\decorators.py:91: SettingWithCopyWarning: \n",
      "A value is trying to be set on a copy of a slice from a DataFrame\n",
      "\n",
      "See the caveats in the documentation: http://pandas.pydata.org/pandas-docs/stable/indexing.html#indexing-view-versus-copy\n",
      "  return func(*args, **kwargs)\n"
     ]
    }
   ],
   "source": [
    "data, roi_param, im, roi_loc, roi_x, roi_y, events_x, events_y = load_RAAIM(folder=folder, original=False)"
   ]
  },
  {
   "cell_type": "code",
   "execution_count": 4,
   "metadata": {
    "collapsed": false,
    "jupyter": {
     "outputs_hidden": false
    }
   },
   "outputs": [
    {
     "data": {
      "text/html": [
       "<div>\n",
       "<table border=\"1\" class=\"dataframe\">\n",
       "  <thead>\n",
       "    <tr style=\"text-align: right;\">\n",
       "      <th></th>\n",
       "      <th>x</th>\n",
       "      <th>y</th>\n",
       "    </tr>\n",
       "  </thead>\n",
       "  <tbody>\n",
       "    <tr>\n",
       "      <th>Roi8</th>\n",
       "      <td>286</td>\n",
       "      <td>152</td>\n",
       "    </tr>\n",
       "    <tr>\n",
       "      <th>Roi38</th>\n",
       "      <td>283</td>\n",
       "      <td>197</td>\n",
       "    </tr>\n",
       "    <tr>\n",
       "      <th>Roi40</th>\n",
       "      <td>382</td>\n",
       "      <td>267</td>\n",
       "    </tr>\n",
       "    <tr>\n",
       "      <th>Roi41</th>\n",
       "      <td>152</td>\n",
       "      <td>180</td>\n",
       "    </tr>\n",
       "    <tr>\n",
       "      <th>Roi46</th>\n",
       "      <td>97</td>\n",
       "      <td>221</td>\n",
       "    </tr>\n",
       "    <tr>\n",
       "      <th>Roi67</th>\n",
       "      <td>402</td>\n",
       "      <td>272</td>\n",
       "    </tr>\n",
       "    <tr>\n",
       "      <th>Roi72</th>\n",
       "      <td>419</td>\n",
       "      <td>224</td>\n",
       "    </tr>\n",
       "    <tr>\n",
       "      <th>Roi77</th>\n",
       "      <td>384</td>\n",
       "      <td>320</td>\n",
       "    </tr>\n",
       "    <tr>\n",
       "      <th>Roi78</th>\n",
       "      <td>405</td>\n",
       "      <td>163</td>\n",
       "    </tr>\n",
       "    <tr>\n",
       "      <th>Roi85</th>\n",
       "      <td>147</td>\n",
       "      <td>216</td>\n",
       "    </tr>\n",
       "    <tr>\n",
       "      <th>Roi88</th>\n",
       "      <td>128</td>\n",
       "      <td>340</td>\n",
       "    </tr>\n",
       "    <tr>\n",
       "      <th>Roi94</th>\n",
       "      <td>422</td>\n",
       "      <td>92</td>\n",
       "    </tr>\n",
       "    <tr>\n",
       "      <th>Roi96</th>\n",
       "      <td>259</td>\n",
       "      <td>269</td>\n",
       "    </tr>\n",
       "    <tr>\n",
       "      <th>Roi97</th>\n",
       "      <td>429</td>\n",
       "      <td>76</td>\n",
       "    </tr>\n",
       "    <tr>\n",
       "      <th>Roi98</th>\n",
       "      <td>256</td>\n",
       "      <td>279</td>\n",
       "    </tr>\n",
       "    <tr>\n",
       "      <th>Roi99</th>\n",
       "      <td>387</td>\n",
       "      <td>88</td>\n",
       "    </tr>\n",
       "    <tr>\n",
       "      <th>Roi101</th>\n",
       "      <td>393</td>\n",
       "      <td>75</td>\n",
       "    </tr>\n",
       "    <tr>\n",
       "      <th>Roi102</th>\n",
       "      <td>91</td>\n",
       "      <td>119</td>\n",
       "    </tr>\n",
       "    <tr>\n",
       "      <th>Roi103</th>\n",
       "      <td>254</td>\n",
       "      <td>285</td>\n",
       "    </tr>\n",
       "    <tr>\n",
       "      <th>Roi106</th>\n",
       "      <td>87</td>\n",
       "      <td>169</td>\n",
       "    </tr>\n",
       "    <tr>\n",
       "      <th>Roi107</th>\n",
       "      <td>377</td>\n",
       "      <td>102</td>\n",
       "    </tr>\n",
       "    <tr>\n",
       "      <th>Roi109</th>\n",
       "      <td>257</td>\n",
       "      <td>294</td>\n",
       "    </tr>\n",
       "    <tr>\n",
       "      <th>Roi110</th>\n",
       "      <td>392</td>\n",
       "      <td>66</td>\n",
       "    </tr>\n",
       "    <tr>\n",
       "      <th>Roi111</th>\n",
       "      <td>88</td>\n",
       "      <td>134</td>\n",
       "    </tr>\n",
       "    <tr>\n",
       "      <th>Roi116</th>\n",
       "      <td>260</td>\n",
       "      <td>244</td>\n",
       "    </tr>\n",
       "    <tr>\n",
       "      <th>Roi117</th>\n",
       "      <td>253</td>\n",
       "      <td>305</td>\n",
       "    </tr>\n",
       "    <tr>\n",
       "      <th>Roi120</th>\n",
       "      <td>86</td>\n",
       "      <td>221</td>\n",
       "    </tr>\n",
       "    <tr>\n",
       "      <th>Roi124</th>\n",
       "      <td>256</td>\n",
       "      <td>373</td>\n",
       "    </tr>\n",
       "    <tr>\n",
       "      <th>Roi125</th>\n",
       "      <td>176</td>\n",
       "      <td>51</td>\n",
       "    </tr>\n",
       "    <tr>\n",
       "      <th>Roi130</th>\n",
       "      <td>348</td>\n",
       "      <td>142</td>\n",
       "    </tr>\n",
       "    <tr>\n",
       "      <th>Roi148</th>\n",
       "      <td>353</td>\n",
       "      <td>86</td>\n",
       "    </tr>\n",
       "    <tr>\n",
       "      <th>Roi168</th>\n",
       "      <td>231</td>\n",
       "      <td>383</td>\n",
       "    </tr>\n",
       "    <tr>\n",
       "      <th>Roi169</th>\n",
       "      <td>235</td>\n",
       "      <td>370</td>\n",
       "    </tr>\n",
       "    <tr>\n",
       "      <th>Roi171</th>\n",
       "      <td>447</td>\n",
       "      <td>481</td>\n",
       "    </tr>\n",
       "    <tr>\n",
       "      <th>Roi175</th>\n",
       "      <td>431</td>\n",
       "      <td>192</td>\n",
       "    </tr>\n",
       "    <tr>\n",
       "      <th>Roi176</th>\n",
       "      <td>425</td>\n",
       "      <td>195</td>\n",
       "    </tr>\n",
       "    <tr>\n",
       "      <th>Roi177</th>\n",
       "      <td>410</td>\n",
       "      <td>153</td>\n",
       "    </tr>\n",
       "    <tr>\n",
       "      <th>Roi178</th>\n",
       "      <td>409</td>\n",
       "      <td>268</td>\n",
       "    </tr>\n",
       "    <tr>\n",
       "      <th>Roi182</th>\n",
       "      <td>423</td>\n",
       "      <td>128</td>\n",
       "    </tr>\n",
       "    <tr>\n",
       "      <th>Roi183</th>\n",
       "      <td>48</td>\n",
       "      <td>468</td>\n",
       "    </tr>\n",
       "    <tr>\n",
       "      <th>Roi184</th>\n",
       "      <td>375</td>\n",
       "      <td>354</td>\n",
       "    </tr>\n",
       "    <tr>\n",
       "      <th>Roi194</th>\n",
       "      <td>397</td>\n",
       "      <td>143</td>\n",
       "    </tr>\n",
       "    <tr>\n",
       "      <th>Roi198</th>\n",
       "      <td>242</td>\n",
       "      <td>264</td>\n",
       "    </tr>\n",
       "    <tr>\n",
       "      <th>Roi199</th>\n",
       "      <td>260</td>\n",
       "      <td>221</td>\n",
       "    </tr>\n",
       "    <tr>\n",
       "      <th>Roi200</th>\n",
       "      <td>379</td>\n",
       "      <td>127</td>\n",
       "    </tr>\n",
       "    <tr>\n",
       "      <th>Roi202</th>\n",
       "      <td>400</td>\n",
       "      <td>42</td>\n",
       "    </tr>\n",
       "    <tr>\n",
       "      <th>Roi205</th>\n",
       "      <td>254</td>\n",
       "      <td>311</td>\n",
       "    </tr>\n",
       "    <tr>\n",
       "      <th>Roi208</th>\n",
       "      <td>108</td>\n",
       "      <td>344</td>\n",
       "    </tr>\n",
       "    <tr>\n",
       "      <th>Roi211</th>\n",
       "      <td>350</td>\n",
       "      <td>99</td>\n",
       "    </tr>\n",
       "    <tr>\n",
       "      <th>Roi212</th>\n",
       "      <td>356</td>\n",
       "      <td>72</td>\n",
       "    </tr>\n",
       "    <tr>\n",
       "      <th>Roi229</th>\n",
       "      <td>149</td>\n",
       "      <td>193</td>\n",
       "    </tr>\n",
       "    <tr>\n",
       "      <th>Roi232</th>\n",
       "      <td>143</td>\n",
       "      <td>247</td>\n",
       "    </tr>\n",
       "  </tbody>\n",
       "</table>\n",
       "</div>"
      ],
      "text/plain": [
       "          x    y\n",
       "Roi8    286  152\n",
       "Roi38   283  197\n",
       "Roi40   382  267\n",
       "Roi41   152  180\n",
       "Roi46    97  221\n",
       "Roi67   402  272\n",
       "Roi72   419  224\n",
       "Roi77   384  320\n",
       "Roi78   405  163\n",
       "Roi85   147  216\n",
       "Roi88   128  340\n",
       "Roi94   422   92\n",
       "Roi96   259  269\n",
       "Roi97   429   76\n",
       "Roi98   256  279\n",
       "Roi99   387   88\n",
       "Roi101  393   75\n",
       "Roi102   91  119\n",
       "Roi103  254  285\n",
       "Roi106   87  169\n",
       "Roi107  377  102\n",
       "Roi109  257  294\n",
       "Roi110  392   66\n",
       "Roi111   88  134\n",
       "Roi116  260  244\n",
       "Roi117  253  305\n",
       "Roi120   86  221\n",
       "Roi124  256  373\n",
       "Roi125  176   51\n",
       "Roi130  348  142\n",
       "Roi148  353   86\n",
       "Roi168  231  383\n",
       "Roi169  235  370\n",
       "Roi171  447  481\n",
       "Roi175  431  192\n",
       "Roi176  425  195\n",
       "Roi177  410  153\n",
       "Roi178  409  268\n",
       "Roi182  423  128\n",
       "Roi183   48  468\n",
       "Roi184  375  354\n",
       "Roi194  397  143\n",
       "Roi198  242  264\n",
       "Roi199  260  221\n",
       "Roi200  379  127\n",
       "Roi202  400   42\n",
       "Roi205  254  311\n",
       "Roi208  108  344\n",
       "Roi211  350   99\n",
       "Roi212  356   72\n",
       "Roi229  149  193\n",
       "Roi232  143  247"
      ]
     },
     "execution_count": 4,
     "metadata": {},
     "output_type": "execute_result"
    }
   ],
   "source": [
    "roi_loc"
   ]
  },
  {
   "cell_type": "markdown",
   "metadata": {},
   "source": [
    "###### Use the two cells below to check that the data and roi_loc dataframes look as expected."
   ]
  },
  {
   "cell_type": "code",
   "execution_count": 5,
   "metadata": {
    "collapsed": false,
    "jupyter": {
     "outputs_hidden": false
    }
   },
   "outputs": [
    {
     "data": {
      "text/html": [
       "<div>\n",
       "<table border=\"1\" class=\"dataframe\">\n",
       "  <thead>\n",
       "    <tr style=\"text-align: right;\">\n",
       "      <th></th>\n",
       "      <th>Roi8</th>\n",
       "      <th>Roi38</th>\n",
       "      <th>Roi40</th>\n",
       "      <th>Roi41</th>\n",
       "      <th>Roi46</th>\n",
       "      <th>Roi67</th>\n",
       "      <th>Roi72</th>\n",
       "      <th>Roi77</th>\n",
       "      <th>Roi78</th>\n",
       "      <th>Roi85</th>\n",
       "      <th>...</th>\n",
       "      <th>Roi198</th>\n",
       "      <th>Roi199</th>\n",
       "      <th>Roi200</th>\n",
       "      <th>Roi202</th>\n",
       "      <th>Roi205</th>\n",
       "      <th>Roi208</th>\n",
       "      <th>Roi211</th>\n",
       "      <th>Roi212</th>\n",
       "      <th>Roi229</th>\n",
       "      <th>Roi232</th>\n",
       "    </tr>\n",
       "    <tr>\n",
       "      <th>time(s)</th>\n",
       "      <th></th>\n",
       "      <th></th>\n",
       "      <th></th>\n",
       "      <th></th>\n",
       "      <th></th>\n",
       "      <th></th>\n",
       "      <th></th>\n",
       "      <th></th>\n",
       "      <th></th>\n",
       "      <th></th>\n",
       "      <th></th>\n",
       "      <th></th>\n",
       "      <th></th>\n",
       "      <th></th>\n",
       "      <th></th>\n",
       "      <th></th>\n",
       "      <th></th>\n",
       "      <th></th>\n",
       "      <th></th>\n",
       "      <th></th>\n",
       "      <th></th>\n",
       "    </tr>\n",
       "  </thead>\n",
       "  <tbody>\n",
       "    <tr>\n",
       "      <th>0.78125</th>\n",
       "      <td>0.874040</td>\n",
       "      <td>0.935501</td>\n",
       "      <td>1.036784</td>\n",
       "      <td>0.933514</td>\n",
       "      <td>0.941615</td>\n",
       "      <td>0.929188</td>\n",
       "      <td>0.928453</td>\n",
       "      <td>0.984584</td>\n",
       "      <td>0.935582</td>\n",
       "      <td>0.957572</td>\n",
       "      <td>...</td>\n",
       "      <td>0.959209</td>\n",
       "      <td>1.016769</td>\n",
       "      <td>0.990942</td>\n",
       "      <td>0.953677</td>\n",
       "      <td>1.014108</td>\n",
       "      <td>0.902092</td>\n",
       "      <td>1.018256</td>\n",
       "      <td>0.991692</td>\n",
       "      <td>0.956017</td>\n",
       "      <td>0.908226</td>\n",
       "    </tr>\n",
       "    <tr>\n",
       "      <th>1.56250</th>\n",
       "      <td>0.922546</td>\n",
       "      <td>0.927720</td>\n",
       "      <td>1.025545</td>\n",
       "      <td>0.925047</td>\n",
       "      <td>0.946316</td>\n",
       "      <td>0.929188</td>\n",
       "      <td>0.919237</td>\n",
       "      <td>0.969620</td>\n",
       "      <td>0.909053</td>\n",
       "      <td>0.963721</td>\n",
       "      <td>...</td>\n",
       "      <td>0.971720</td>\n",
       "      <td>1.025929</td>\n",
       "      <td>0.958386</td>\n",
       "      <td>0.974085</td>\n",
       "      <td>1.020840</td>\n",
       "      <td>0.943020</td>\n",
       "      <td>0.966019</td>\n",
       "      <td>1.009420</td>\n",
       "      <td>0.873850</td>\n",
       "      <td>0.927756</td>\n",
       "    </tr>\n",
       "    <tr>\n",
       "      <th>2.34375</th>\n",
       "      <td>0.904049</td>\n",
       "      <td>0.933760</td>\n",
       "      <td>1.064874</td>\n",
       "      <td>0.932240</td>\n",
       "      <td>0.957243</td>\n",
       "      <td>0.957901</td>\n",
       "      <td>0.961278</td>\n",
       "      <td>0.948195</td>\n",
       "      <td>0.950094</td>\n",
       "      <td>0.920644</td>\n",
       "      <td>...</td>\n",
       "      <td>0.976408</td>\n",
       "      <td>1.050185</td>\n",
       "      <td>0.995857</td>\n",
       "      <td>0.947758</td>\n",
       "      <td>1.047189</td>\n",
       "      <td>0.930049</td>\n",
       "      <td>0.960530</td>\n",
       "      <td>0.972846</td>\n",
       "      <td>0.897499</td>\n",
       "      <td>0.939467</td>\n",
       "    </tr>\n",
       "    <tr>\n",
       "      <th>3.12500</th>\n",
       "      <td>0.878145</td>\n",
       "      <td>0.932903</td>\n",
       "      <td>1.087352</td>\n",
       "      <td>0.931820</td>\n",
       "      <td>0.959206</td>\n",
       "      <td>0.914605</td>\n",
       "      <td>0.979709</td>\n",
       "      <td>1.000536</td>\n",
       "      <td>0.959631</td>\n",
       "      <td>0.909753</td>\n",
       "      <td>...</td>\n",
       "      <td>0.968067</td>\n",
       "      <td>1.034555</td>\n",
       "      <td>0.990332</td>\n",
       "      <td>0.968820</td>\n",
       "      <td>1.003258</td>\n",
       "      <td>0.966983</td>\n",
       "      <td>1.000117</td>\n",
       "      <td>0.992241</td>\n",
       "      <td>0.887434</td>\n",
       "      <td>0.974618</td>\n",
       "    </tr>\n",
       "    <tr>\n",
       "      <th>3.90625</th>\n",
       "      <td>0.929123</td>\n",
       "      <td>0.923837</td>\n",
       "      <td>1.085746</td>\n",
       "      <td>0.918693</td>\n",
       "      <td>0.925986</td>\n",
       "      <td>0.947868</td>\n",
       "      <td>0.931899</td>\n",
       "      <td>0.933726</td>\n",
       "      <td>0.937240</td>\n",
       "      <td>0.932473</td>\n",
       "      <td>...</td>\n",
       "      <td>0.945129</td>\n",
       "      <td>1.008143</td>\n",
       "      <td>1.001400</td>\n",
       "      <td>0.951718</td>\n",
       "      <td>1.032203</td>\n",
       "      <td>0.943020</td>\n",
       "      <td>0.978669</td>\n",
       "      <td>1.027149</td>\n",
       "      <td>0.897499</td>\n",
       "      <td>0.890374</td>\n",
       "    </tr>\n",
       "  </tbody>\n",
       "</table>\n",
       "<p>5 rows × 52 columns</p>\n",
       "</div>"
      ],
      "text/plain": [
       "             Roi8     Roi38     Roi40     Roi41     Roi46     Roi67     Roi72  \\\n",
       "time(s)                                                                         \n",
       "0.78125  0.874040  0.935501  1.036784  0.933514  0.941615  0.929188  0.928453   \n",
       "1.56250  0.922546  0.927720  1.025545  0.925047  0.946316  0.929188  0.919237   \n",
       "2.34375  0.904049  0.933760  1.064874  0.932240  0.957243  0.957901  0.961278   \n",
       "3.12500  0.878145  0.932903  1.087352  0.931820  0.959206  0.914605  0.979709   \n",
       "3.90625  0.929123  0.923837  1.085746  0.918693  0.925986  0.947868  0.931899   \n",
       "\n",
       "            Roi77     Roi78     Roi85    ...       Roi198    Roi199    Roi200  \\\n",
       "time(s)                                  ...                                    \n",
       "0.78125  0.984584  0.935582  0.957572    ...     0.959209  1.016769  0.990942   \n",
       "1.56250  0.969620  0.909053  0.963721    ...     0.971720  1.025929  0.958386   \n",
       "2.34375  0.948195  0.950094  0.920644    ...     0.976408  1.050185  0.995857   \n",
       "3.12500  1.000536  0.959631  0.909753    ...     0.968067  1.034555  0.990332   \n",
       "3.90625  0.933726  0.937240  0.932473    ...     0.945129  1.008143  1.001400   \n",
       "\n",
       "           Roi202    Roi205    Roi208    Roi211    Roi212    Roi229    Roi232  \n",
       "time(s)                                                                        \n",
       "0.78125  0.953677  1.014108  0.902092  1.018256  0.991692  0.956017  0.908226  \n",
       "1.56250  0.974085  1.020840  0.943020  0.966019  1.009420  0.873850  0.927756  \n",
       "2.34375  0.947758  1.047189  0.930049  0.960530  0.972846  0.897499  0.939467  \n",
       "3.12500  0.968820  1.003258  0.966983  1.000117  0.992241  0.887434  0.974618  \n",
       "3.90625  0.951718  1.032203  0.943020  0.978669  1.027149  0.897499  0.890374  \n",
       "\n",
       "[5 rows x 52 columns]"
      ]
     },
     "execution_count": 5,
     "metadata": {},
     "output_type": "execute_result"
    }
   ],
   "source": [
    "data.head()"
   ]
  },
  {
   "cell_type": "code",
   "execution_count": 6,
   "metadata": {
    "collapsed": false,
    "jupyter": {
     "outputs_hidden": false
    }
   },
   "outputs": [
    {
     "data": {
      "text/html": [
       "<div>\n",
       "<table border=\"1\" class=\"dataframe\">\n",
       "  <thead>\n",
       "    <tr style=\"text-align: right;\">\n",
       "      <th></th>\n",
       "      <th>x</th>\n",
       "      <th>y</th>\n",
       "    </tr>\n",
       "  </thead>\n",
       "  <tbody>\n",
       "    <tr>\n",
       "      <th>Roi8</th>\n",
       "      <td>286</td>\n",
       "      <td>152</td>\n",
       "    </tr>\n",
       "    <tr>\n",
       "      <th>Roi38</th>\n",
       "      <td>283</td>\n",
       "      <td>197</td>\n",
       "    </tr>\n",
       "    <tr>\n",
       "      <th>Roi40</th>\n",
       "      <td>382</td>\n",
       "      <td>267</td>\n",
       "    </tr>\n",
       "    <tr>\n",
       "      <th>Roi41</th>\n",
       "      <td>152</td>\n",
       "      <td>180</td>\n",
       "    </tr>\n",
       "    <tr>\n",
       "      <th>Roi46</th>\n",
       "      <td>97</td>\n",
       "      <td>221</td>\n",
       "    </tr>\n",
       "  </tbody>\n",
       "</table>\n",
       "</div>"
      ],
      "text/plain": [
       "         x    y\n",
       "Roi8   286  152\n",
       "Roi38  283  197\n",
       "Roi40  382  267\n",
       "Roi41  152  180\n",
       "Roi46   97  221"
      ]
     },
     "execution_count": 6,
     "metadata": {},
     "output_type": "execute_result"
    }
   ],
   "source": [
    "roi_loc.head()"
   ]
  },
  {
   "cell_type": "markdown",
   "metadata": {},
   "source": [
    "# II. Analysis"
   ]
  },
  {
   "cell_type": "markdown",
   "metadata": {},
   "source": [
    "## A. Cross Correlation Matrix (friends)"
   ]
  },
  {
   "cell_type": "markdown",
   "metadata": {},
   "source": [
    "Set your r value to your threshold for significant cross correlation. This value will be used is all later calculation. If you change it, you must rerun ALL cells following to update the change."
   ]
  },
  {
   "cell_type": "code",
   "execution_count": 7,
   "metadata": {
    "collapsed": false,
    "jupyter": {
     "outputs_hidden": false
    }
   },
   "outputs": [],
   "source": [
    "r = 0.8 #set r value, must be -1<= r <=1"
   ]
  },
  {
   "cell_type": "code",
   "execution_count": 8,
   "metadata": {
    "collapsed": false,
    "jupyter": {
     "outputs_hidden": false
    }
   },
   "outputs": [
    {
     "ename": "TypeError",
     "evalue": "round() takes at most 2 arguments (3 given)",
     "output_type": "error",
     "traceback": [
      "\u001b[1;31m---------------------------------------------------------------------------\u001b[0m",
      "\u001b[1;31mTypeError\u001b[0m                                 Traceback (most recent call last)",
      "\u001b[1;32m<ipython-input-8-61dd41fffb92>\u001b[0m in \u001b[0;36m<module>\u001b[1;34m()\u001b[0m\n\u001b[1;32m----> 1\u001b[1;33m \u001b[0mdata_corr\u001b[0m\u001b[1;33m,\u001b[0m \u001b[0mfriend_names\u001b[0m\u001b[1;33m,\u001b[0m \u001b[0mcorrelation_summary\u001b[0m \u001b[1;33m=\u001b[0m \u001b[0mcross_correlation\u001b[0m\u001b[1;33m(\u001b[0m\u001b[0mdata\u001b[0m\u001b[1;33m,\u001b[0m \u001b[0mr\u001b[0m\u001b[1;33m)\u001b[0m\u001b[1;33m\u001b[0m\u001b[0m\n\u001b[0m\u001b[0;32m      2\u001b[0m \u001b[0mdata_corr\u001b[0m\u001b[1;33m.\u001b[0m\u001b[0mhead\u001b[0m\u001b[1;33m(\u001b[0m\u001b[1;33m)\u001b[0m\u001b[1;33m\u001b[0m\u001b[0m\n",
      "\u001b[1;32m<ipython-input-1-747f4b8f0e0f>\u001b[0m in \u001b[0;36mcross_correlation\u001b[1;34m(data, r)\u001b[0m\n\u001b[0;32m    119\u001b[0m         \u001b[0mfriends\u001b[0m \u001b[1;33m=\u001b[0m \u001b[0mcolumn\u001b[0m\u001b[1;33m[\u001b[0m\u001b[0mcolumn\u001b[0m\u001b[1;33m>\u001b[0m\u001b[0mr\u001b[0m\u001b[1;33m]\u001b[0m\u001b[1;33m\u001b[0m\u001b[0m\n\u001b[0;32m    120\u001b[0m         \u001b[0msummary\u001b[0m \u001b[1;33m=\u001b[0m \u001b[0mfriends\u001b[0m\u001b[1;33m.\u001b[0m\u001b[0mdescribe\u001b[0m\u001b[1;33m(\u001b[0m\u001b[1;33m)\u001b[0m\u001b[1;33m\u001b[0m\u001b[0m\n\u001b[1;32m--> 121\u001b[1;33m         \u001b[0mcorrelation_summary\u001b[0m\u001b[1;33m[\u001b[0m\u001b[0mlabel\u001b[0m\u001b[1;33m]\u001b[0m \u001b[1;33m=\u001b[0m \u001b[0mnp\u001b[0m\u001b[1;33m.\u001b[0m\u001b[0mround\u001b[0m\u001b[1;33m(\u001b[0m\u001b[0msummary\u001b[0m\u001b[1;33m,\u001b[0m \u001b[1;36m3\u001b[0m\u001b[1;33m)\u001b[0m\u001b[1;33m\u001b[0m\u001b[0m\n\u001b[0m\u001b[0;32m    122\u001b[0m \u001b[1;33m\u001b[0m\u001b[0m\n\u001b[0;32m    123\u001b[0m     \u001b[1;32mreturn\u001b[0m \u001b[0mdata_corr\u001b[0m\u001b[1;33m,\u001b[0m \u001b[0mfriend_names\u001b[0m\u001b[1;33m,\u001b[0m \u001b[0mcorrelation_summary\u001b[0m\u001b[1;33m\u001b[0m\u001b[0m\n",
      "\u001b[1;32mC:\\Users\\labuser\\AppData\\Local\\Enthought\\Canopy\\User\\lib\\site-packages\\numpy\\core\\fromnumeric.pyc\u001b[0m in \u001b[0;36mround_\u001b[1;34m(a, decimals, out)\u001b[0m\n\u001b[0;32m   2784\u001b[0m     \u001b[1;32mexcept\u001b[0m \u001b[0mAttributeError\u001b[0m\u001b[1;33m:\u001b[0m\u001b[1;33m\u001b[0m\u001b[0m\n\u001b[0;32m   2785\u001b[0m         \u001b[1;32mreturn\u001b[0m \u001b[0m_wrapit\u001b[0m\u001b[1;33m(\u001b[0m\u001b[0ma\u001b[0m\u001b[1;33m,\u001b[0m \u001b[1;34m'round'\u001b[0m\u001b[1;33m,\u001b[0m \u001b[0mdecimals\u001b[0m\u001b[1;33m,\u001b[0m \u001b[0mout\u001b[0m\u001b[1;33m)\u001b[0m\u001b[1;33m\u001b[0m\u001b[0m\n\u001b[1;32m-> 2786\u001b[1;33m     \u001b[1;32mreturn\u001b[0m \u001b[0mround\u001b[0m\u001b[1;33m(\u001b[0m\u001b[0mdecimals\u001b[0m\u001b[1;33m,\u001b[0m \u001b[0mout\u001b[0m\u001b[1;33m)\u001b[0m\u001b[1;33m\u001b[0m\u001b[0m\n\u001b[0m\u001b[0;32m   2787\u001b[0m \u001b[1;33m\u001b[0m\u001b[0m\n\u001b[0;32m   2788\u001b[0m \u001b[1;33m\u001b[0m\u001b[0m\n",
      "\u001b[1;31mTypeError\u001b[0m: round() takes at most 2 arguments (3 given)"
     ]
    }
   ],
   "source": [
    "data_corr, friend_names, correlation_summary = cross_correlation(data, r)\n",
    "data_corr.head()"
   ]
  },
  {
   "cell_type": "markdown",
   "metadata": {},
   "source": [
    "### - Cross Correlation Matrix Summary"
   ]
  },
  {
   "cell_type": "code",
   "execution_count": 11,
   "metadata": {
    "collapsed": false,
    "jupyter": {
     "outputs_hidden": false
    }
   },
   "outputs": [
    {
     "ename": "NameError",
     "evalue": "name 'correlation_summary' is not defined",
     "output_type": "error",
     "traceback": [
      "\u001b[1;31m---------------------------------------------------------------------------\u001b[0m",
      "\u001b[1;31mNameError\u001b[0m                                 Traceback (most recent call last)",
      "\u001b[1;32m<ipython-input-11-b88a8f9c46c5>\u001b[0m in \u001b[0;36m<module>\u001b[1;34m()\u001b[0m\n\u001b[1;32m----> 1\u001b[1;33m \u001b[0mcorrelation_summary\u001b[0m\u001b[1;33m\u001b[0m\u001b[0m\n\u001b[0m",
      "\u001b[1;31mNameError\u001b[0m: name 'correlation_summary' is not defined"
     ]
    }
   ],
   "source": [
    "correlation_summary"
   ]
  },
  {
   "cell_type": "markdown",
   "metadata": {},
   "source": [
    "#### Like what you see? save the cross correlation file with the below code"
   ]
  },
  {
   "cell_type": "code",
   "execution_count": 10,
   "metadata": {
    "collapsed": false,
    "jupyter": {
     "outputs_hidden": false
    }
   },
   "outputs": [],
   "source": [
    "data_corr.to_csv(r'%s/xcor.csv' %(folder))\n",
    "correlation_summary.to_csv(r'%s/xcor_summary.csv'%(folder))"
   ]
  },
  {
   "cell_type": "markdown",
   "metadata": {},
   "source": [
    "## B. Distance Matrix (neighbors)"
   ]
  },
  {
   "cell_type": "markdown",
   "metadata": {},
   "source": [
    "Set your d value to your threshold for significant distance. This value will be used is all later calculation. If you change it, you must rerun ALL cells following to update the change."
   ]
  },
  {
   "cell_type": "code",
   "execution_count": 11,
   "metadata": {
    "collapsed": false,
    "jupyter": {
     "outputs_hidden": false
    }
   },
   "outputs": [],
   "source": [
    "d = 100 # set the maximum distance from an ROI that is the threshold for neighborhood"
   ]
  },
  {
   "cell_type": "code",
   "execution_count": 12,
   "metadata": {
    "collapsed": false,
    "jupyter": {
     "outputs_hidden": false
    }
   },
   "outputs": [
    {
     "data": {
      "text/html": [
       "<div style=\"max-height:1000px;max-width:1500px;overflow:auto;\">\n",
       "<table border=\"1\" class=\"dataframe\">\n",
       "  <thead>\n",
       "    <tr style=\"text-align: right;\">\n",
       "      <th></th>\n",
       "      <th>Number of Neighbors</th>\n",
       "      <th>Roi3</th>\n",
       "      <th>Roi11</th>\n",
       "      <th>Roi18</th>\n",
       "      <th>Roi21</th>\n",
       "      <th>Roi23</th>\n",
       "      <th>Roi25</th>\n",
       "      <th>Roi32</th>\n",
       "      <th>Roi40</th>\n",
       "      <th>Roi42</th>\n",
       "      <th>...</th>\n",
       "      <th>Roi244</th>\n",
       "      <th>Roi245</th>\n",
       "      <th>Roi248</th>\n",
       "      <th>Roi250</th>\n",
       "      <th>Roi255</th>\n",
       "      <th>Roi257</th>\n",
       "      <th>Roi258</th>\n",
       "      <th>Roi260</th>\n",
       "      <th>Roi262</th>\n",
       "      <th>Roi265</th>\n",
       "    </tr>\n",
       "  </thead>\n",
       "  <tbody>\n",
       "    <tr>\n",
       "      <th>Roi3</th>\n",
       "      <td> 11</td>\n",
       "      <td>   0.000000</td>\n",
       "      <td> 306.341313</td>\n",
       "      <td> 238.119718</td>\n",
       "      <td> 275.465061</td>\n",
       "      <td> 276.725496</td>\n",
       "      <td> 344.013081</td>\n",
       "      <td> 410.855206</td>\n",
       "      <td> 307.865230</td>\n",
       "      <td> 252.067451</td>\n",
       "      <td>...</td>\n",
       "      <td> 260.340162</td>\n",
       "      <td> 187.032083</td>\n",
       "      <td>  72.062473</td>\n",
       "      <td>  52.773099</td>\n",
       "      <td> 362.215406</td>\n",
       "      <td> 550.158159</td>\n",
       "      <td> 210.011904</td>\n",
       "      <td> 468.600043</td>\n",
       "      <td> 479.292186</td>\n",
       "      <td> 492.212353</td>\n",
       "    </tr>\n",
       "    <tr>\n",
       "      <th>Roi11</th>\n",
       "      <td> 21</td>\n",
       "      <td> 306.341313</td>\n",
       "      <td>   0.000000</td>\n",
       "      <td> 360.169405</td>\n",
       "      <td> 385.167496</td>\n",
       "      <td> 255.890602</td>\n",
       "      <td> 341.013196</td>\n",
       "      <td> 359.456534</td>\n",
       "      <td>  19.697716</td>\n",
       "      <td> 232.561820</td>\n",
       "      <td>...</td>\n",
       "      <td> 214.462118</td>\n",
       "      <td> 342.116939</td>\n",
       "      <td> 342.230916</td>\n",
       "      <td> 295.489425</td>\n",
       "      <td> 323.241396</td>\n",
       "      <td> 279.028672</td>\n",
       "      <td> 125.483067</td>\n",
       "      <td> 238.102919</td>\n",
       "      <td> 252.071418</td>\n",
       "      <td> 212.438226</td>\n",
       "    </tr>\n",
       "    <tr>\n",
       "      <th>Roi18</th>\n",
       "      <td> 17</td>\n",
       "      <td> 238.119718</td>\n",
       "      <td> 360.169405</td>\n",
       "      <td>   0.000000</td>\n",
       "      <td>  37.576588</td>\n",
       "      <td> 138.513537</td>\n",
       "      <td> 141.449638</td>\n",
       "      <td> 215.603803</td>\n",
       "      <td> 348.313078</td>\n",
       "      <td> 143.013985</td>\n",
       "      <td>...</td>\n",
       "      <td> 442.922115</td>\n",
       "      <td>  51.788030</td>\n",
       "      <td> 308.038959</td>\n",
       "      <td> 186.096749</td>\n",
       "      <td> 176.581426</td>\n",
       "      <td> 489.376133</td>\n",
       "      <td> 237.191905</td>\n",
       "      <td> 385.923568</td>\n",
       "      <td> 390.632820</td>\n",
       "      <td> 453.616578</td>\n",
       "    </tr>\n",
       "    <tr>\n",
       "      <th>Roi21</th>\n",
       "      <td> 16</td>\n",
       "      <td> 275.465061</td>\n",
       "      <td> 385.167496</td>\n",
       "      <td>  37.576588</td>\n",
       "      <td>   0.000000</td>\n",
       "      <td> 147.410990</td>\n",
       "      <td> 126.063476</td>\n",
       "      <td> 197.739728</td>\n",
       "      <td> 372.120948</td>\n",
       "      <td> 158.911925</td>\n",
       "      <td>...</td>\n",
       "      <td> 478.012552</td>\n",
       "      <td>  88.600226</td>\n",
       "      <td> 345.050721</td>\n",
       "      <td> 223.579963</td>\n",
       "      <td> 164.805946</td>\n",
       "      <td> 494.231727</td>\n",
       "      <td> 264.847126</td>\n",
       "      <td> 389.370004</td>\n",
       "      <td> 392.787474</td>\n",
       "      <td> 463.020518</td>\n",
       "    </tr>\n",
       "    <tr>\n",
       "      <th>Roi23</th>\n",
       "      <td> 10</td>\n",
       "      <td> 276.725496</td>\n",
       "      <td> 255.890602</td>\n",
       "      <td> 138.513537</td>\n",
       "      <td> 147.410990</td>\n",
       "      <td>   0.000000</td>\n",
       "      <td>  90.210864</td>\n",
       "      <td> 139.043159</td>\n",
       "      <td> 239.908316</td>\n",
       "      <td>  30.083218</td>\n",
       "      <td>...</td>\n",
       "      <td> 397.061708</td>\n",
       "      <td> 155.241747</td>\n",
       "      <td> 347.070598</td>\n",
       "      <td> 228.442553</td>\n",
       "      <td>  90.426766</td>\n",
       "      <td> 350.891721</td>\n",
       "      <td> 154.201167</td>\n",
       "      <td> 247.872951</td>\n",
       "      <td> 253.179778</td>\n",
       "      <td> 316.180328</td>\n",
       "    </tr>\n",
       "  </tbody>\n",
       "</table>\n",
       "<p>5 rows × 97 columns</p>\n",
       "</div>"
      ],
      "text/plain": [
       "       Number of Neighbors        Roi3       Roi11       Roi18       Roi21  \\\n",
       "Roi3                    11    0.000000  306.341313  238.119718  275.465061   \n",
       "Roi11                   21  306.341313    0.000000  360.169405  385.167496   \n",
       "Roi18                   17  238.119718  360.169405    0.000000   37.576588   \n",
       "Roi21                   16  275.465061  385.167496   37.576588    0.000000   \n",
       "Roi23                   10  276.725496  255.890602  138.513537  147.410990   \n",
       "\n",
       "            Roi23       Roi25       Roi32       Roi40       Roi42     ...      \\\n",
       "Roi3   276.725496  344.013081  410.855206  307.865230  252.067451     ...       \n",
       "Roi11  255.890602  341.013196  359.456534   19.697716  232.561820     ...       \n",
       "Roi18  138.513537  141.449638  215.603803  348.313078  143.013985     ...       \n",
       "Roi21  147.410990  126.063476  197.739728  372.120948  158.911925     ...       \n",
       "Roi23    0.000000   90.210864  139.043159  239.908316   30.083218     ...       \n",
       "\n",
       "           Roi244      Roi245      Roi248      Roi250      Roi255      Roi257  \\\n",
       "Roi3   260.340162  187.032083   72.062473   52.773099  362.215406  550.158159   \n",
       "Roi11  214.462118  342.116939  342.230916  295.489425  323.241396  279.028672   \n",
       "Roi18  442.922115   51.788030  308.038959  186.096749  176.581426  489.376133   \n",
       "Roi21  478.012552   88.600226  345.050721  223.579963  164.805946  494.231727   \n",
       "Roi23  397.061708  155.241747  347.070598  228.442553   90.426766  350.891721   \n",
       "\n",
       "           Roi258      Roi260      Roi262      Roi265  \n",
       "Roi3   210.011904  468.600043  479.292186  492.212353  \n",
       "Roi11  125.483067  238.102919  252.071418  212.438226  \n",
       "Roi18  237.191905  385.923568  390.632820  453.616578  \n",
       "Roi21  264.847126  389.370004  392.787474  463.020518  \n",
       "Roi23  154.201167  247.872951  253.179778  316.180328  \n",
       "\n",
       "[5 rows x 97 columns]"
      ]
     },
     "execution_count": 12,
     "metadata": {},
     "output_type": "execute_result"
    }
   ],
   "source": [
    "roi_dist, loc_tup, neighbor_names, distance_summary = distance_matrix(roi_x, roi_y , roi_loc , d)\n",
    "roi_dist.head()"
   ]
  },
  {
   "cell_type": "markdown",
   "metadata": {},
   "source": [
    "### - Distance Matrix Summary"
   ]
  },
  {
   "cell_type": "code",
   "execution_count": 13,
   "metadata": {
    "collapsed": false,
    "jupyter": {
     "outputs_hidden": false
    }
   },
   "outputs": [
    {
     "data": {
      "text/html": [
       "<div style=\"max-height:1000px;max-width:1500px;overflow:auto;\">\n",
       "<table border=\"1\" class=\"dataframe\">\n",
       "  <thead>\n",
       "    <tr style=\"text-align: right;\">\n",
       "      <th></th>\n",
       "      <th>Roi3</th>\n",
       "      <th>Roi11</th>\n",
       "      <th>Roi18</th>\n",
       "      <th>Roi21</th>\n",
       "      <th>Roi23</th>\n",
       "      <th>Roi25</th>\n",
       "      <th>Roi32</th>\n",
       "      <th>Roi40</th>\n",
       "      <th>Roi42</th>\n",
       "      <th>Roi46</th>\n",
       "      <th>...</th>\n",
       "      <th>Roi244</th>\n",
       "      <th>Roi245</th>\n",
       "      <th>Roi248</th>\n",
       "      <th>Roi250</th>\n",
       "      <th>Roi255</th>\n",
       "      <th>Roi257</th>\n",
       "      <th>Roi258</th>\n",
       "      <th>Roi260</th>\n",
       "      <th>Roi262</th>\n",
       "      <th>Roi265</th>\n",
       "    </tr>\n",
       "  </thead>\n",
       "  <tbody>\n",
       "    <tr>\n",
       "      <th>count</th>\n",
       "      <td> 11.000</td>\n",
       "      <td> 21.000</td>\n",
       "      <td> 17.000</td>\n",
       "      <td> 16.000</td>\n",
       "      <td> 10.000</td>\n",
       "      <td> 10.000</td>\n",
       "      <td>  8.000</td>\n",
       "      <td> 19.000</td>\n",
       "      <td>  9.000</td>\n",
       "      <td>  8.000</td>\n",
       "      <td>...</td>\n",
       "      <td>  1</td>\n",
       "      <td> 17.000</td>\n",
       "      <td>  3.000</td>\n",
       "      <td> 12.000</td>\n",
       "      <td> 10.000</td>\n",
       "      <td>  8.000</td>\n",
       "      <td> 11.000</td>\n",
       "      <td>  6.000</td>\n",
       "      <td>  5.000</td>\n",
       "      <td>  9.000</td>\n",
       "    </tr>\n",
       "    <tr>\n",
       "      <th>mean</th>\n",
       "      <td> 55.410</td>\n",
       "      <td> 50.697</td>\n",
       "      <td> 38.540</td>\n",
       "      <td> 53.978</td>\n",
       "      <td> 64.015</td>\n",
       "      <td> 50.524</td>\n",
       "      <td> 43.078</td>\n",
       "      <td> 50.127</td>\n",
       "      <td> 50.501</td>\n",
       "      <td> 45.954</td>\n",
       "      <td>...</td>\n",
       "      <td>  0</td>\n",
       "      <td> 44.662</td>\n",
       "      <td> 51.054</td>\n",
       "      <td> 38.485</td>\n",
       "      <td> 50.116</td>\n",
       "      <td> 50.697</td>\n",
       "      <td> 52.351</td>\n",
       "      <td> 42.539</td>\n",
       "      <td> 32.693</td>\n",
       "      <td> 60.339</td>\n",
       "    </tr>\n",
       "    <tr>\n",
       "      <th>std</th>\n",
       "      <td> 29.334</td>\n",
       "      <td> 29.273</td>\n",
       "      <td> 25.506</td>\n",
       "      <td> 32.073</td>\n",
       "      <td> 36.530</td>\n",
       "      <td> 27.424</td>\n",
       "      <td> 24.245</td>\n",
       "      <td> 29.992</td>\n",
       "      <td> 38.780</td>\n",
       "      <td> 26.082</td>\n",
       "      <td>...</td>\n",
       "      <td>NaN</td>\n",
       "      <td> 25.754</td>\n",
       "      <td> 44.444</td>\n",
       "      <td> 29.203</td>\n",
       "      <td> 27.525</td>\n",
       "      <td> 30.736</td>\n",
       "      <td> 31.394</td>\n",
       "      <td> 42.063</td>\n",
       "      <td> 39.031</td>\n",
       "      <td> 41.505</td>\n",
       "    </tr>\n",
       "    <tr>\n",
       "      <th>min</th>\n",
       "      <td>  0.000</td>\n",
       "      <td>  0.000</td>\n",
       "      <td>  0.000</td>\n",
       "      <td>  0.000</td>\n",
       "      <td>  0.000</td>\n",
       "      <td>  0.000</td>\n",
       "      <td>  0.000</td>\n",
       "      <td>  0.000</td>\n",
       "      <td>  0.000</td>\n",
       "      <td>  0.000</td>\n",
       "      <td>...</td>\n",
       "      <td>  0</td>\n",
       "      <td>  0.000</td>\n",
       "      <td>  0.000</td>\n",
       "      <td>  0.000</td>\n",
       "      <td>  0.000</td>\n",
       "      <td>  0.000</td>\n",
       "      <td>  0.000</td>\n",
       "      <td>  0.000</td>\n",
       "      <td>  0.000</td>\n",
       "      <td>  0.000</td>\n",
       "    </tr>\n",
       "    <tr>\n",
       "      <th>25%</th>\n",
       "      <td> 45.304</td>\n",
       "      <td> 31.016</td>\n",
       "      <td> 21.024</td>\n",
       "      <td> 30.403</td>\n",
       "      <td> 33.408</td>\n",
       "      <td> 34.748</td>\n",
       "      <td> 33.155</td>\n",
       "      <td> 25.511</td>\n",
       "      <td> 13.601</td>\n",
       "      <td> 39.983</td>\n",
       "      <td>...</td>\n",
       "      <td>  0</td>\n",
       "      <td> 26.926</td>\n",
       "      <td> 36.031</td>\n",
       "      <td> 17.770</td>\n",
       "      <td> 42.486</td>\n",
       "      <td> 34.214</td>\n",
       "      <td> 26.152</td>\n",
       "      <td> 15.244</td>\n",
       "      <td> 14.036</td>\n",
       "      <td> 11.045</td>\n",
       "    </tr>\n",
       "    <tr>\n",
       "      <th>50%</th>\n",
       "      <td> 61.008</td>\n",
       "      <td> 47.202</td>\n",
       "      <td> 34.785</td>\n",
       "      <td> 54.300</td>\n",
       "      <td> 85.506</td>\n",
       "      <td> 47.826</td>\n",
       "      <td> 51.231</td>\n",
       "      <td> 44.721</td>\n",
       "      <td> 55.902</td>\n",
       "      <td> 50.810</td>\n",
       "      <td>...</td>\n",
       "      <td>  0</td>\n",
       "      <td> 42.107</td>\n",
       "      <td> 72.062</td>\n",
       "      <td> 32.903</td>\n",
       "      <td> 55.938</td>\n",
       "      <td> 47.728</td>\n",
       "      <td> 64.031</td>\n",
       "      <td> 25.442</td>\n",
       "      <td> 18.000</td>\n",
       "      <td> 82.079</td>\n",
       "    </tr>\n",
       "    <tr>\n",
       "      <th>75%</th>\n",
       "      <td> 76.658</td>\n",
       "      <td> 76.694</td>\n",
       "      <td> 51.788</td>\n",
       "      <td> 78.400</td>\n",
       "      <td> 90.373</td>\n",
       "      <td> 71.462</td>\n",
       "      <td> 55.922</td>\n",
       "      <td> 79.506</td>\n",
       "      <td> 86.145</td>\n",
       "      <td> 59.771</td>\n",
       "      <td>...</td>\n",
       "      <td>  0</td>\n",
       "      <td> 58.600</td>\n",
       "      <td> 76.581</td>\n",
       "      <td> 52.114</td>\n",
       "      <td> 65.211</td>\n",
       "      <td> 69.268</td>\n",
       "      <td> 77.413</td>\n",
       "      <td> 77.236</td>\n",
       "      <td> 31.953</td>\n",
       "      <td> 93.814</td>\n",
       "    </tr>\n",
       "    <tr>\n",
       "      <th>max</th>\n",
       "      <td> 89.560</td>\n",
       "      <td> 96.426</td>\n",
       "      <td> 96.167</td>\n",
       "      <td> 99.000</td>\n",
       "      <td> 99.690</td>\n",
       "      <td> 90.211</td>\n",
       "      <td> 74.303</td>\n",
       "      <td> 97.739</td>\n",
       "      <td> 98.858</td>\n",
       "      <td> 81.271</td>\n",
       "      <td>...</td>\n",
       "      <td>  0</td>\n",
       "      <td> 98.234</td>\n",
       "      <td> 81.099</td>\n",
       "      <td> 90.824</td>\n",
       "      <td> 90.427</td>\n",
       "      <td> 99.960</td>\n",
       "      <td> 94.763</td>\n",
       "      <td> 98.005</td>\n",
       "      <td> 99.479</td>\n",
       "      <td> 98.005</td>\n",
       "    </tr>\n",
       "  </tbody>\n",
       "</table>\n",
       "<p>8 rows × 96 columns</p>\n",
       "</div>"
      ],
      "text/plain": [
       "         Roi3   Roi11   Roi18   Roi21   Roi23   Roi25   Roi32   Roi40   Roi42  \\\n",
       "count  11.000  21.000  17.000  16.000  10.000  10.000   8.000  19.000   9.000   \n",
       "mean   55.410  50.697  38.540  53.978  64.015  50.524  43.078  50.127  50.501   \n",
       "std    29.334  29.273  25.506  32.073  36.530  27.424  24.245  29.992  38.780   \n",
       "min     0.000   0.000   0.000   0.000   0.000   0.000   0.000   0.000   0.000   \n",
       "25%    45.304  31.016  21.024  30.403  33.408  34.748  33.155  25.511  13.601   \n",
       "50%    61.008  47.202  34.785  54.300  85.506  47.826  51.231  44.721  55.902   \n",
       "75%    76.658  76.694  51.788  78.400  90.373  71.462  55.922  79.506  86.145   \n",
       "max    89.560  96.426  96.167  99.000  99.690  90.211  74.303  97.739  98.858   \n",
       "\n",
       "        Roi46   ...    Roi244  Roi245  Roi248  Roi250  Roi255  Roi257  Roi258  \\\n",
       "count   8.000   ...         1  17.000   3.000  12.000  10.000   8.000  11.000   \n",
       "mean   45.954   ...         0  44.662  51.054  38.485  50.116  50.697  52.351   \n",
       "std    26.082   ...       NaN  25.754  44.444  29.203  27.525  30.736  31.394   \n",
       "min     0.000   ...         0   0.000   0.000   0.000   0.000   0.000   0.000   \n",
       "25%    39.983   ...         0  26.926  36.031  17.770  42.486  34.214  26.152   \n",
       "50%    50.810   ...         0  42.107  72.062  32.903  55.938  47.728  64.031   \n",
       "75%    59.771   ...         0  58.600  76.581  52.114  65.211  69.268  77.413   \n",
       "max    81.271   ...         0  98.234  81.099  90.824  90.427  99.960  94.763   \n",
       "\n",
       "       Roi260  Roi262  Roi265  \n",
       "count   6.000   5.000   9.000  \n",
       "mean   42.539  32.693  60.339  \n",
       "std    42.063  39.031  41.505  \n",
       "min     0.000   0.000   0.000  \n",
       "25%    15.244  14.036  11.045  \n",
       "50%    25.442  18.000  82.079  \n",
       "75%    77.236  31.953  93.814  \n",
       "max    98.005  99.479  98.005  \n",
       "\n",
       "[8 rows x 96 columns]"
      ]
     },
     "execution_count": 13,
     "metadata": {},
     "output_type": "execute_result"
    }
   ],
   "source": [
    "distance_summary"
   ]
  },
  {
   "cell_type": "markdown",
   "metadata": {},
   "source": [
    "#### Like what you see? save the distance matrix file with the below code"
   ]
  },
  {
   "cell_type": "code",
   "execution_count": 14,
   "metadata": {
    "collapsed": false,
    "jupyter": {
     "outputs_hidden": false
    }
   },
   "outputs": [],
   "source": [
    "roi_dist.to_csv(r'%s/dist_matrix.csv' %(folder))\n",
    "distance_summary.to_csv(r'%s/dist_summary.csv' %(folder))"
   ]
  },
  {
   "cell_type": "markdown",
   "metadata": {},
   "source": [
    "## C. Friends in terms of Neighbors"
   ]
  },
  {
   "cell_type": "markdown",
   "metadata": {},
   "source": [
    "the following function returns a table of the following values:\n",
    "\n",
    "**Distance Sum**: the sum of the distances from each roi to its friends\n",
    "\n",
    "**Friend Number**: the number of friends that each roi has (not including itself)\n",
    "\n",
    "**Rel Dist**: The cummulative distance / number of friends"
   ]
  },
  {
   "cell_type": "code",
   "execution_count": 15,
   "metadata": {
    "collapsed": false,
    "jupyter": {
     "outputs_hidden": false
    }
   },
   "outputs": [
    {
     "data": {
      "text/html": [
       "<div style=\"max-height:1000px;max-width:1500px;overflow:auto;\">\n",
       "<table border=\"1\" class=\"dataframe\">\n",
       "  <thead>\n",
       "    <tr style=\"text-align: right;\">\n",
       "      <th></th>\n",
       "      <th>Number of Friends</th>\n",
       "      <th>Mean Dist</th>\n",
       "      <th>Std Dist</th>\n",
       "      <th>Number of Friends that are Neighbors</th>\n",
       "      <th>Percentage of Friends that are Neighbors</th>\n",
       "    </tr>\n",
       "  </thead>\n",
       "  <tbody>\n",
       "    <tr>\n",
       "      <th>Roi3</th>\n",
       "      <td> 4</td>\n",
       "      <td> 33.472739</td>\n",
       "      <td> 34.536468</td>\n",
       "      <td> 4</td>\n",
       "      <td> 100</td>\n",
       "    </tr>\n",
       "    <tr>\n",
       "      <th>Roi11</th>\n",
       "      <td> 5</td>\n",
       "      <td> 26.595634</td>\n",
       "      <td> 25.191076</td>\n",
       "      <td> 5</td>\n",
       "      <td> 100</td>\n",
       "    </tr>\n",
       "    <tr>\n",
       "      <th>Roi18</th>\n",
       "      <td> 8</td>\n",
       "      <td> 38.099606</td>\n",
       "      <td> 33.998655</td>\n",
       "      <td> 8</td>\n",
       "      <td> 100</td>\n",
       "    </tr>\n",
       "    <tr>\n",
       "      <th>Roi21</th>\n",
       "      <td> 9</td>\n",
       "      <td> 48.222222</td>\n",
       "      <td> 36.179337</td>\n",
       "      <td> 9</td>\n",
       "      <td> 100</td>\n",
       "    </tr>\n",
       "    <tr>\n",
       "      <th>Roi23</th>\n",
       "      <td> 5</td>\n",
       "      <td> 37.761798</td>\n",
       "      <td> 35.253486</td>\n",
       "      <td> 5</td>\n",
       "      <td> 100</td>\n",
       "    </tr>\n",
       "  </tbody>\n",
       "</table>\n",
       "</div>"
      ],
      "text/plain": [
       "       Number of Friends  Mean Dist   Std Dist  \\\n",
       "Roi3                   4  33.472739  34.536468   \n",
       "Roi11                  5  26.595634  25.191076   \n",
       "Roi18                  8  38.099606  33.998655   \n",
       "Roi21                  9  48.222222  36.179337   \n",
       "Roi23                  5  37.761798  35.253486   \n",
       "\n",
       "       Number of Friends that are Neighbors  \\\n",
       "Roi3                                      4   \n",
       "Roi11                                     5   \n",
       "Roi18                                     8   \n",
       "Roi21                                     9   \n",
       "Roi23                                     5   \n",
       "\n",
       "       Percentage of Friends that are Neighbors  \n",
       "Roi3                                        100  \n",
       "Roi11                                       100  \n",
       "Roi18                                       100  \n",
       "Roi21                                       100  \n",
       "Roi23                                       100  "
      ]
     },
     "execution_count": 15,
     "metadata": {},
     "output_type": "execute_result"
    }
   ],
   "source": [
    "friend_distances = friend_dist(data_corr, roi_dist, friend_names, r, d)\n",
    "friend_distances.head()"
   ]
  },
  {
   "cell_type": "markdown",
   "metadata": {},
   "source": [
    "### - Friends in terms of Neighbors Summary"
   ]
  },
  {
   "cell_type": "code",
   "execution_count": 16,
   "metadata": {
    "collapsed": false,
    "jupyter": {
     "outputs_hidden": false
    }
   },
   "outputs": [
    {
     "data": {
      "text/html": [
       "<div style=\"max-height:1000px;max-width:1500px;overflow:auto;\">\n",
       "<table border=\"1\" class=\"dataframe\">\n",
       "  <thead>\n",
       "    <tr style=\"text-align: right;\">\n",
       "      <th></th>\n",
       "      <th>Number of Friends</th>\n",
       "      <th>Mean Dist</th>\n",
       "      <th>Std Dist</th>\n",
       "      <th>Number of Friends that are Neighbors</th>\n",
       "      <th>Percentage of Friends that are Neighbors</th>\n",
       "    </tr>\n",
       "  </thead>\n",
       "  <tbody>\n",
       "    <tr>\n",
       "      <th>count</th>\n",
       "      <td> 96.000000</td>\n",
       "      <td>  96.000000</td>\n",
       "      <td>  75.000000</td>\n",
       "      <td> 96.000000</td>\n",
       "      <td>  96.000000</td>\n",
       "    </tr>\n",
       "    <tr>\n",
       "      <th>mean</th>\n",
       "      <td>  4.166667</td>\n",
       "      <td>  25.259734</td>\n",
       "      <td>  30.285566</td>\n",
       "      <td>  3.958333</td>\n",
       "      <td>  96.380208</td>\n",
       "    </tr>\n",
       "    <tr>\n",
       "      <th>std</th>\n",
       "      <td>  2.614400</td>\n",
       "      <td>  26.406310</td>\n",
       "      <td>  31.062494</td>\n",
       "      <td>  2.495962</td>\n",
       "      <td>  10.955597</td>\n",
       "    </tr>\n",
       "    <tr>\n",
       "      <th>min</th>\n",
       "      <td>  1.000000</td>\n",
       "      <td>   0.000000</td>\n",
       "      <td>   5.742172</td>\n",
       "      <td>  1.000000</td>\n",
       "      <td>  25.000000</td>\n",
       "    </tr>\n",
       "    <tr>\n",
       "      <th>25%</th>\n",
       "      <td>  2.000000</td>\n",
       "      <td>   6.762956</td>\n",
       "      <td>  13.161736</td>\n",
       "      <td>  2.000000</td>\n",
       "      <td> 100.000000</td>\n",
       "    </tr>\n",
       "    <tr>\n",
       "      <th>50%</th>\n",
       "      <td>  4.000000</td>\n",
       "      <td>  18.509496</td>\n",
       "      <td>  23.259407</td>\n",
       "      <td>  4.000000</td>\n",
       "      <td> 100.000000</td>\n",
       "    </tr>\n",
       "    <tr>\n",
       "      <th>75%</th>\n",
       "      <td>  5.000000</td>\n",
       "      <td>  37.793571</td>\n",
       "      <td>  35.124975</td>\n",
       "      <td>  5.000000</td>\n",
       "      <td> 100.000000</td>\n",
       "    </tr>\n",
       "    <tr>\n",
       "      <th>max</th>\n",
       "      <td>  9.000000</td>\n",
       "      <td> 144.930993</td>\n",
       "      <td> 226.972085</td>\n",
       "      <td>  9.000000</td>\n",
       "      <td> 100.000000</td>\n",
       "    </tr>\n",
       "  </tbody>\n",
       "</table>\n",
       "</div>"
      ],
      "text/plain": [
       "       Number of Friends   Mean Dist    Std Dist  \\\n",
       "count          96.000000   96.000000   75.000000   \n",
       "mean            4.166667   25.259734   30.285566   \n",
       "std             2.614400   26.406310   31.062494   \n",
       "min             1.000000    0.000000    5.742172   \n",
       "25%             2.000000    6.762956   13.161736   \n",
       "50%             4.000000   18.509496   23.259407   \n",
       "75%             5.000000   37.793571   35.124975   \n",
       "max             9.000000  144.930993  226.972085   \n",
       "\n",
       "       Number of Friends that are Neighbors  \\\n",
       "count                             96.000000   \n",
       "mean                               3.958333   \n",
       "std                                2.495962   \n",
       "min                                1.000000   \n",
       "25%                                2.000000   \n",
       "50%                                4.000000   \n",
       "75%                                5.000000   \n",
       "max                                9.000000   \n",
       "\n",
       "       Percentage of Friends that are Neighbors  \n",
       "count                                 96.000000  \n",
       "mean                                  96.380208  \n",
       "std                                   10.955597  \n",
       "min                                   25.000000  \n",
       "25%                                  100.000000  \n",
       "50%                                  100.000000  \n",
       "75%                                  100.000000  \n",
       "max                                  100.000000  "
      ]
     },
     "execution_count": 16,
     "metadata": {},
     "output_type": "execute_result"
    }
   ],
   "source": [
    "friend_dist_sum = friend_distances.describe()\n",
    "friend_dist_sum"
   ]
  },
  {
   "cell_type": "markdown",
   "metadata": {},
   "source": [
    "#### Like what you see? save the friend distances file with the below code"
   ]
  },
  {
   "cell_type": "code",
   "execution_count": 17,
   "metadata": {
    "collapsed": false,
    "jupyter": {
     "outputs_hidden": false
    }
   },
   "outputs": [],
   "source": [
    "friend_distances.to_csv(r'%s/friend_distances.csv' %(folder))\n",
    "friend_dist_sum.to_csv(r'%s/friend_distances_summary.csv' %(folder))"
   ]
  },
  {
   "cell_type": "markdown",
   "metadata": {},
   "source": [
    "## D. Neighbors in terms of Friends"
   ]
  },
  {
   "cell_type": "markdown",
   "metadata": {},
   "source": [
    "This section has yet to be built. Will talk with Sean Wilson about values that make the most sense. here. perhaps number of neightbors and average r value?"
   ]
  },
  {
   "cell_type": "code",
   "execution_count": 18,
   "metadata": {
    "collapsed": false,
    "jupyter": {
     "outputs_hidden": false
    }
   },
   "outputs": [
    {
     "data": {
      "text/html": [
       "<div style=\"max-height:1000px;max-width:1500px;overflow:auto;\">\n",
       "<table border=\"1\" class=\"dataframe\">\n",
       "  <thead>\n",
       "    <tr style=\"text-align: right;\">\n",
       "      <th></th>\n",
       "      <th>Number of Neighbors</th>\n",
       "      <th>Mean Correlation</th>\n",
       "      <th>Std Correlation</th>\n",
       "      <th>Number of Neighbors that are Friends</th>\n",
       "      <th>Percentage of Neighbors that are Friends</th>\n",
       "    </tr>\n",
       "  </thead>\n",
       "  <tbody>\n",
       "    <tr>\n",
       "      <th>Roi3</th>\n",
       "      <td> 11</td>\n",
       "      <td> 0.328093</td>\n",
       "      <td> 0.490787</td>\n",
       "      <td> 4</td>\n",
       "      <td> 36.363636</td>\n",
       "    </tr>\n",
       "    <tr>\n",
       "      <th>Roi11</th>\n",
       "      <td> 21</td>\n",
       "      <td> 0.408476</td>\n",
       "      <td> 0.366014</td>\n",
       "      <td> 5</td>\n",
       "      <td> 23.809524</td>\n",
       "    </tr>\n",
       "    <tr>\n",
       "      <th>Roi18</th>\n",
       "      <td> 17</td>\n",
       "      <td> 0.700697</td>\n",
       "      <td> 0.256872</td>\n",
       "      <td> 8</td>\n",
       "      <td> 47.058824</td>\n",
       "    </tr>\n",
       "    <tr>\n",
       "      <th>Roi21</th>\n",
       "      <td> 16</td>\n",
       "      <td> 0.752055</td>\n",
       "      <td> 0.249099</td>\n",
       "      <td> 9</td>\n",
       "      <td> 56.250000</td>\n",
       "    </tr>\n",
       "    <tr>\n",
       "      <th>Roi23</th>\n",
       "      <td> 10</td>\n",
       "      <td> 0.471808</td>\n",
       "      <td> 0.520604</td>\n",
       "      <td> 5</td>\n",
       "      <td> 50.000000</td>\n",
       "    </tr>\n",
       "  </tbody>\n",
       "</table>\n",
       "</div>"
      ],
      "text/plain": [
       "       Number of Neighbors  Mean Correlation  Std Correlation  \\\n",
       "Roi3                    11          0.328093         0.490787   \n",
       "Roi11                   21          0.408476         0.366014   \n",
       "Roi18                   17          0.700697         0.256872   \n",
       "Roi21                   16          0.752055         0.249099   \n",
       "Roi23                   10          0.471808         0.520604   \n",
       "\n",
       "       Number of Neighbors that are Friends  \\\n",
       "Roi3                                      4   \n",
       "Roi11                                     5   \n",
       "Roi18                                     8   \n",
       "Roi21                                     9   \n",
       "Roi23                                     5   \n",
       "\n",
       "       Percentage of Neighbors that are Friends  \n",
       "Roi3                                  36.363636  \n",
       "Roi11                                 23.809524  \n",
       "Roi18                                 47.058824  \n",
       "Roi21                                 56.250000  \n",
       "Roi23                                 50.000000  "
      ]
     },
     "execution_count": 18,
     "metadata": {},
     "output_type": "execute_result"
    }
   ],
   "source": [
    "neighbor_correlation = neighbor_corr(roi_dist, data_corr, neighbor_names, r, d)\n",
    "neighbor_correlation.head()"
   ]
  },
  {
   "cell_type": "markdown",
   "metadata": {},
   "source": [
    "### - Neighbors in terms of Friends Summary"
   ]
  },
  {
   "cell_type": "code",
   "execution_count": 19,
   "metadata": {
    "collapsed": false,
    "jupyter": {
     "outputs_hidden": false
    }
   },
   "outputs": [
    {
     "data": {
      "text/html": [
       "<div style=\"max-height:1000px;max-width:1500px;overflow:auto;\">\n",
       "<table border=\"1\" class=\"dataframe\">\n",
       "  <thead>\n",
       "    <tr style=\"text-align: right;\">\n",
       "      <th></th>\n",
       "      <th>Number of Neighbors</th>\n",
       "      <th>Mean Correlation</th>\n",
       "      <th>Std Correlation</th>\n",
       "      <th>Number of Neighbors that are Friends</th>\n",
       "      <th>Percentage of Neighbors that are Friends</th>\n",
       "    </tr>\n",
       "  </thead>\n",
       "  <tbody>\n",
       "    <tr>\n",
       "      <th>count</th>\n",
       "      <td> 96.000000</td>\n",
       "      <td> 96.000000</td>\n",
       "      <td> 95.000000</td>\n",
       "      <td> 96.000000</td>\n",
       "      <td>  96.000000</td>\n",
       "    </tr>\n",
       "    <tr>\n",
       "      <th>mean</th>\n",
       "      <td> 13.020833</td>\n",
       "      <td>  0.452703</td>\n",
       "      <td>  0.375028</td>\n",
       "      <td>  3.958333</td>\n",
       "      <td>  32.657700</td>\n",
       "    </tr>\n",
       "    <tr>\n",
       "      <th>std</th>\n",
       "      <td>  4.881715</td>\n",
       "      <td>  0.192370</td>\n",
       "      <td>  0.110036</td>\n",
       "      <td>  2.495962</td>\n",
       "      <td>  19.823026</td>\n",
       "    </tr>\n",
       "    <tr>\n",
       "      <th>min</th>\n",
       "      <td>  1.000000</td>\n",
       "      <td>  0.029215</td>\n",
       "      <td>  0.089952</td>\n",
       "      <td>  1.000000</td>\n",
       "      <td>   4.761905</td>\n",
       "    </tr>\n",
       "    <tr>\n",
       "      <th>25%</th>\n",
       "      <td>  9.000000</td>\n",
       "      <td>  0.330093</td>\n",
       "      <td>  0.268144</td>\n",
       "      <td>  2.000000</td>\n",
       "      <td>  16.761364</td>\n",
       "    </tr>\n",
       "    <tr>\n",
       "      <th>50%</th>\n",
       "      <td> 13.000000</td>\n",
       "      <td>  0.413700</td>\n",
       "      <td>  0.380642</td>\n",
       "      <td>  4.000000</td>\n",
       "      <td>  31.666667</td>\n",
       "    </tr>\n",
       "    <tr>\n",
       "      <th>75%</th>\n",
       "      <td> 17.000000</td>\n",
       "      <td>  0.554661</td>\n",
       "      <td>  0.446816</td>\n",
       "      <td>  5.000000</td>\n",
       "      <td>  45.855615</td>\n",
       "    </tr>\n",
       "    <tr>\n",
       "      <th>max</th>\n",
       "      <td> 23.000000</td>\n",
       "      <td>  1.000000</td>\n",
       "      <td>  0.585422</td>\n",
       "      <td>  9.000000</td>\n",
       "      <td> 100.000000</td>\n",
       "    </tr>\n",
       "  </tbody>\n",
       "</table>\n",
       "</div>"
      ],
      "text/plain": [
       "       Number of Neighbors  Mean Correlation  Std Correlation  \\\n",
       "count            96.000000         96.000000        95.000000   \n",
       "mean             13.020833          0.452703         0.375028   \n",
       "std               4.881715          0.192370         0.110036   \n",
       "min               1.000000          0.029215         0.089952   \n",
       "25%               9.000000          0.330093         0.268144   \n",
       "50%              13.000000          0.413700         0.380642   \n",
       "75%              17.000000          0.554661         0.446816   \n",
       "max              23.000000          1.000000         0.585422   \n",
       "\n",
       "       Number of Neighbors that are Friends  \\\n",
       "count                             96.000000   \n",
       "mean                               3.958333   \n",
       "std                                2.495962   \n",
       "min                                1.000000   \n",
       "25%                                2.000000   \n",
       "50%                                4.000000   \n",
       "75%                                5.000000   \n",
       "max                                9.000000   \n",
       "\n",
       "       Percentage of Neighbors that are Friends  \n",
       "count                                 96.000000  \n",
       "mean                                  32.657700  \n",
       "std                                   19.823026  \n",
       "min                                    4.761905  \n",
       "25%                                   16.761364  \n",
       "50%                                   31.666667  \n",
       "75%                                   45.855615  \n",
       "max                                  100.000000  "
      ]
     },
     "execution_count": 19,
     "metadata": {},
     "output_type": "execute_result"
    }
   ],
   "source": [
    "neighbor_corr_sum = neighbor_correlation.describe()\n",
    "neighbor_corr_sum"
   ]
  },
  {
   "cell_type": "markdown",
   "metadata": {},
   "source": [
    "#### Like what you see? save the neighbor correlation file with the below code"
   ]
  },
  {
   "cell_type": "code",
   "execution_count": 20,
   "metadata": {
    "collapsed": false,
    "jupyter": {
     "outputs_hidden": false
    }
   },
   "outputs": [],
   "source": [
    "neighbor_correlation.to_csv(r'%s/neighbor_correlation.csv' %(folder))\n",
    "neighbor_corr_sum.to_csv(r'%s/neighbor_correlation_summary.csv' %(folder))"
   ]
  },
  {
   "cell_type": "markdown",
   "metadata": {},
   "source": [
    "# III. Resulting Plots"
   ]
  },
  {
   "cell_type": "markdown",
   "metadata": {},
   "source": [
    "## A. 2d Plots"
   ]
  },
  {
   "cell_type": "markdown",
   "metadata": {},
   "source": [
    "### - All Roi overlay with name calling"
   ]
  },
  {
   "cell_type": "markdown",
   "metadata": {},
   "source": [
    "For some reason, you have to click on the first cell twice. but be assured, it is working. set the object size with s. default is s = 6\n",
    "\n",
    "Save this plot from the pop up graph window."
   ]
  },
  {
   "cell_type": "code",
   "execution_count": 21,
   "metadata": {
    "collapsed": false,
    "jupyter": {
     "outputs_hidden": false
    }
   },
   "outputs": [
    {
     "name": "stdout",
     "output_type": "stream",
     "text": [
      "('Roi selected =', 'Roi221')\n",
      "('Roi selected =', 'Roi141')\n"
     ]
    }
   ],
   "source": [
    "all_roi_2d(roi_loc , im , s=100)"
   ]
  },
  {
   "cell_type": "markdown",
   "metadata": {},
   "source": [
    "### - Select Roi and Friends plot"
   ]
  },
  {
   "cell_type": "markdown",
   "metadata": {},
   "source": [
    "Call a 2d plot with each roi on it. Choose an roi by name (ex: 'Roi35') to see it's relationship to all other rois. The named roi will be in white. All other roi's will be colored by its r value. \n",
    "\n",
    "when just_friends = True, only friends who meet the r threshold will be shown and all others will be gray. when just_friends = False, all rois will be colored based on r value.\n",
    "\n",
    "Save this plot from the pop up graph window."
   ]
  },
  {
   "cell_type": "code",
   "execution_count": 22,
   "metadata": {
    "collapsed": false,
    "jupyter": {
     "outputs_hidden": false
    }
   },
   "outputs": [],
   "source": [
    "friend_roi_2d(data_corr , friend_names, roi_loc, r, d, roi = 'Roi221', just_friends = True, s = 25)"
   ]
  },
  {
   "cell_type": "markdown",
   "metadata": {},
   "source": [
    "## B. Line Plots"
   ]
  },
  {
   "cell_type": "markdown",
   "metadata": {},
   "source": [
    "All line plots are scaled the same: 0 to the maximum value in the entire dataframe."
   ]
  },
  {
   "cell_type": "markdown",
   "metadata": {},
   "source": [
    "### - Line Plots for all ROIs"
   ]
  },
  {
   "cell_type": "markdown",
   "metadata": {},
   "source": [
    "Use all_roi_line_pdfs to plot each ROI as its own pdf. Each plot is randomly assigned a color. You cannot disable this feature.\n",
    "\n",
    "you can easily consolidate all of these into a single pdf using adobe or another preview program."
   ]
  },
  {
   "cell_type": "code",
   "execution_count": 23,
   "metadata": {
    "collapsed": false,
    "jupyter": {
     "outputs_hidden": false
    }
   },
   "outputs": [],
   "source": [
    "all_roi_line_pdfs(data, num_rois = len(data.columns), ymin = 0, ymax=max(data.max()), events_x = events_x, events_y = events_y, folder = folder)"
   ]
  },
  {
   "cell_type": "markdown",
   "metadata": {},
   "source": [
    "### - Line Plot for only one ROI"
   ]
  },
  {
   "cell_type": "markdown",
   "metadata": {},
   "source": [
    "Use roi_line_plot to call an ROI and get its plot. It includes the overlay of the LCPro events"
   ]
  },
  {
   "cell_type": "code",
   "execution_count": 27,
   "metadata": {
    "collapsed": false,
    "jupyter": {
     "outputs_hidden": false
    }
   },
   "outputs": [
    {
     "ename": "KeyError",
     "evalue": "'Roi37'",
     "output_type": "error",
     "traceback": [
      "\u001b[1;31m---------------------------------------------------------------------------\u001b[0m\n\u001b[1;31mKeyError\u001b[0m                                  Traceback (most recent call last)",
      "\u001b[1;32m<ipython-input-27-f5523354de87>\u001b[0m in \u001b[0;36m<module>\u001b[1;34m()\u001b[0m\n\u001b[1;32m----> 1\u001b[1;33m \u001b[0mroi_line_plot\u001b[0m\u001b[1;33m(\u001b[0m\u001b[0mroi\u001b[0m \u001b[1;33m=\u001b[0m \u001b[1;34m'Roi37'\u001b[0m\u001b[1;33m,\u001b[0m \u001b[0mdataframe\u001b[0m \u001b[1;33m=\u001b[0m \u001b[0mdata\u001b[0m\u001b[1;33m,\u001b[0m \u001b[0mevents_x\u001b[0m \u001b[1;33m=\u001b[0m \u001b[0mevents_x\u001b[0m\u001b[1;33m,\u001b[0m \u001b[0mevents_y\u001b[0m\u001b[1;33m=\u001b[0m\u001b[0mevents_y\u001b[0m\u001b[1;33m,\u001b[0m \u001b[0mymin\u001b[0m \u001b[1;33m=\u001b[0m \u001b[1;36m0\u001b[0m\u001b[1;33m,\u001b[0m \u001b[0mymax\u001b[0m\u001b[1;33m=\u001b[0m\u001b[0mmax\u001b[0m\u001b[1;33m(\u001b[0m\u001b[0mdata\u001b[0m\u001b[1;33m.\u001b[0m\u001b[0mmax\u001b[0m\u001b[1;33m(\u001b[0m\u001b[1;33m)\u001b[0m\u001b[1;33m)\u001b[0m\u001b[1;33m)\u001b[0m\u001b[1;33m\u001b[0m\u001b[0m\n\u001b[0m",
      "\u001b[1;32m<ipython-input-1-747f4b8f0e0f>\u001b[0m in \u001b[0;36mroi_line_plot\u001b[1;34m(roi, dataframe, events_x, events_y, ymin, ymax)\u001b[0m\n\u001b[0;32m    275\u001b[0m     \u001b[0mplt\u001b[0m\u001b[1;33m.\u001b[0m\u001b[0mylim\u001b[0m\u001b[1;33m(\u001b[0m\u001b[0mymin\u001b[0m \u001b[1;33m=\u001b[0m \u001b[0mymin\u001b[0m\u001b[1;33m,\u001b[0m \u001b[0mymax\u001b[0m \u001b[1;33m=\u001b[0m \u001b[0mymax\u001b[0m\u001b[1;33m)\u001b[0m\u001b[1;33m\u001b[0m\u001b[0m\n\u001b[0;32m    276\u001b[0m     \u001b[0mplt\u001b[0m\u001b[1;33m.\u001b[0m\u001b[0mxlim\u001b[0m\u001b[1;33m(\u001b[0m\u001b[0mxmin\u001b[0m\u001b[1;33m=\u001b[0m \u001b[0mdataframe\u001b[0m\u001b[1;33m.\u001b[0m\u001b[0mindex\u001b[0m\u001b[1;33m[\u001b[0m\u001b[1;36m0\u001b[0m\u001b[1;33m]\u001b[0m\u001b[1;33m,\u001b[0m \u001b[0mxmax\u001b[0m \u001b[1;33m=\u001b[0m \u001b[0mdataframe\u001b[0m\u001b[1;33m.\u001b[0m\u001b[0mindex\u001b[0m\u001b[1;33m[\u001b[0m\u001b[1;33m-\u001b[0m\u001b[1;36m1\u001b[0m\u001b[1;33m]\u001b[0m\u001b[1;33m)\u001b[0m\u001b[1;33m\u001b[0m\u001b[0m\n\u001b[1;32m--> 277\u001b[1;33m     \u001b[0mplt\u001b[0m\u001b[1;33m.\u001b[0m\u001b[0mplot\u001b[0m\u001b[1;33m(\u001b[0m\u001b[0mdataframe\u001b[0m\u001b[1;33m.\u001b[0m\u001b[0mindex\u001b[0m\u001b[1;33m,\u001b[0m \u001b[0mdataframe\u001b[0m\u001b[1;33m.\u001b[0m\u001b[0mix\u001b[0m\u001b[1;33m[\u001b[0m\u001b[1;33m:\u001b[0m\u001b[1;33m,\u001b[0m\u001b[0mroi\u001b[0m\u001b[1;33m]\u001b[0m\u001b[1;33m,\u001b[0m \u001b[0mcolor\u001b[0m \u001b[1;33m=\u001b[0m \u001b[1;34m'k'\u001b[0m\u001b[1;33m)\u001b[0m\u001b[1;33m\u001b[0m\u001b[0m\n\u001b[0m\u001b[0;32m    278\u001b[0m     \u001b[0mplt\u001b[0m\u001b[1;33m.\u001b[0m\u001b[0mplot\u001b[0m\u001b[1;33m(\u001b[0m\u001b[0mevents_x\u001b[0m\u001b[1;33m[\u001b[0m\u001b[0mroi\u001b[0m\u001b[1;33m]\u001b[0m\u001b[1;33m,\u001b[0m \u001b[0mevents_y\u001b[0m\u001b[1;33m[\u001b[0m\u001b[0mroi\u001b[0m\u001b[1;33m]\u001b[0m\u001b[1;33m,\u001b[0m  \u001b[0mmarker\u001b[0m \u001b[1;33m=\u001b[0m \u001b[1;34m\"^\"\u001b[0m\u001b[1;33m,\u001b[0m \u001b[0mcolor\u001b[0m\u001b[1;33m=\u001b[0m\u001b[1;34m\"y\"\u001b[0m\u001b[1;33m,\u001b[0m \u001b[0mlinestyle\u001b[0m\u001b[1;33m=\u001b[0m \u001b[1;34m\"None\"\u001b[0m\u001b[1;33m)\u001b[0m\u001b[1;33m\u001b[0m\u001b[0m\n\u001b[0;32m    279\u001b[0m \u001b[1;33m\u001b[0m\u001b[0m\n",
      "\u001b[1;32mC:\\Users\\labuser\\AppData\\Local\\Enthought\\Canopy\\User\\lib\\site-packages\\pandas\\core\\indexing.pyc\u001b[0m in \u001b[0;36m__getitem__\u001b[1;34m(self, key)\u001b[0m\n\u001b[0;32m     66\u001b[0m                 \u001b[1;32mpass\u001b[0m\u001b[1;33m\u001b[0m\u001b[0m\n\u001b[0;32m     67\u001b[0m \u001b[1;33m\u001b[0m\u001b[0m\n\u001b[1;32m---> 68\u001b[1;33m             \u001b[1;32mreturn\u001b[0m \u001b[0mself\u001b[0m\u001b[1;33m.\u001b[0m\u001b[0m_getitem_tuple\u001b[0m\u001b[1;33m(\u001b[0m\u001b[0mkey\u001b[0m\u001b[1;33m)\u001b[0m\u001b[1;33m\u001b[0m\u001b[0m\n\u001b[0m\u001b[0;32m     69\u001b[0m         \u001b[1;32melse\u001b[0m\u001b[1;33m:\u001b[0m\u001b[1;33m\u001b[0m\u001b[0m\n\u001b[0;32m     70\u001b[0m             \u001b[1;32mreturn\u001b[0m \u001b[0mself\u001b[0m\u001b[1;33m.\u001b[0m\u001b[0m_getitem_axis\u001b[0m\u001b[1;33m(\u001b[0m\u001b[0mkey\u001b[0m\u001b[1;33m,\u001b[0m \u001b[0maxis\u001b[0m\u001b[1;33m=\u001b[0m\u001b[1;36m0\u001b[0m\u001b[1;33m)\u001b[0m\u001b[1;33m\u001b[0m\u001b[0m\n",
      "\u001b[1;32mC:\\Users\\labuser\\AppData\\Local\\Enthought\\Canopy\\User\\lib\\site-packages\\pandas\\core\\indexing.pyc\u001b[0m in \u001b[0;36m_getitem_tuple\u001b[1;34m(self, tup)\u001b[0m\n\u001b[0;32m    643\u001b[0m     \u001b[1;32mdef\u001b[0m \u001b[0m_getitem_tuple\u001b[0m\u001b[1;33m(\u001b[0m\u001b[0mself\u001b[0m\u001b[1;33m,\u001b[0m \u001b[0mtup\u001b[0m\u001b[1;33m)\u001b[0m\u001b[1;33m:\u001b[0m\u001b[1;33m\u001b[0m\u001b[0m\n\u001b[0;32m    644\u001b[0m         \u001b[1;32mtry\u001b[0m\u001b[1;33m:\u001b[0m\u001b[1;33m\u001b[0m\u001b[0m\n\u001b[1;32m--> 645\u001b[1;33m             \u001b[1;32mreturn\u001b[0m \u001b[0mself\u001b[0m\u001b[1;33m.\u001b[0m\u001b[0m_getitem_lowerdim\u001b[0m\u001b[1;33m(\u001b[0m\u001b[0mtup\u001b[0m\u001b[1;33m)\u001b[0m\u001b[1;33m\u001b[0m\u001b[0m\n\u001b[0m\u001b[0;32m    646\u001b[0m         \u001b[1;32mexcept\u001b[0m \u001b[0mIndexingError\u001b[0m\u001b[1;33m:\u001b[0m\u001b[1;33m\u001b[0m\u001b[0m\n\u001b[0;32m    647\u001b[0m             \u001b[1;32mpass\u001b[0m\u001b[1;33m\u001b[0m\u001b[0m\n",
      "\u001b[1;32mC:\\Users\\labuser\\AppData\\Local\\Enthought\\Canopy\\User\\lib\\site-packages\\pandas\\core\\indexing.pyc\u001b[0m in \u001b[0;36m_getitem_lowerdim\u001b[1;34m(self, tup)\u001b[0m\n\u001b[0;32m    768\u001b[0m         \u001b[1;32mfor\u001b[0m \u001b[0mi\u001b[0m\u001b[1;33m,\u001b[0m \u001b[0mkey\u001b[0m \u001b[1;32min\u001b[0m \u001b[0menumerate\u001b[0m\u001b[1;33m(\u001b[0m\u001b[0mtup\u001b[0m\u001b[1;33m)\u001b[0m\u001b[1;33m:\u001b[0m\u001b[1;33m\u001b[0m\u001b[0m\n\u001b[0;32m    769\u001b[0m             \u001b[1;32mif\u001b[0m \u001b[0m_is_label_like\u001b[0m\u001b[1;33m(\u001b[0m\u001b[0mkey\u001b[0m\u001b[1;33m)\u001b[0m \u001b[1;32mor\u001b[0m \u001b[0misinstance\u001b[0m\u001b[1;33m(\u001b[0m\u001b[0mkey\u001b[0m\u001b[1;33m,\u001b[0m \u001b[0mtuple\u001b[0m\u001b[1;33m)\u001b[0m\u001b[1;33m:\u001b[0m\u001b[1;33m\u001b[0m\u001b[0m\n\u001b[1;32m--> 770\u001b[1;33m                 \u001b[0msection\u001b[0m \u001b[1;33m=\u001b[0m \u001b[0mself\u001b[0m\u001b[1;33m.\u001b[0m\u001b[0m_getitem_axis\u001b[0m\u001b[1;33m(\u001b[0m\u001b[0mkey\u001b[0m\u001b[1;33m,\u001b[0m \u001b[0maxis\u001b[0m\u001b[1;33m=\u001b[0m\u001b[0mi\u001b[0m\u001b[1;33m)\u001b[0m\u001b[1;33m\u001b[0m\u001b[0m\n\u001b[0m\u001b[0;32m    771\u001b[0m \u001b[1;33m\u001b[0m\u001b[0m\n\u001b[0;32m    772\u001b[0m                 \u001b[1;31m# we have yielded a scalar ?\u001b[0m\u001b[1;33m\u001b[0m\u001b[1;33m\u001b[0m\u001b[0m\n",
      "\u001b[1;32mC:\\Users\\labuser\\AppData\\Local\\Enthought\\Canopy\\User\\lib\\site-packages\\pandas\\core\\indexing.pyc\u001b[0m in \u001b[0;36m_getitem_axis\u001b[1;34m(self, key, axis, validate_iterable)\u001b[0m\n\u001b[0;32m    863\u001b[0m                     \u001b[1;32mreturn\u001b[0m \u001b[0mself\u001b[0m\u001b[1;33m.\u001b[0m\u001b[0m_get_loc\u001b[0m\u001b[1;33m(\u001b[0m\u001b[0mkey\u001b[0m\u001b[1;33m,\u001b[0m \u001b[0maxis\u001b[0m\u001b[1;33m=\u001b[0m\u001b[0maxis\u001b[0m\u001b[1;33m)\u001b[0m\u001b[1;33m\u001b[0m\u001b[0m\n\u001b[0;32m    864\u001b[0m \u001b[1;33m\u001b[0m\u001b[0m\n\u001b[1;32m--> 865\u001b[1;33m             \u001b[1;32mreturn\u001b[0m \u001b[0mself\u001b[0m\u001b[1;33m.\u001b[0m\u001b[0m_get_label\u001b[0m\u001b[1;33m(\u001b[0m\u001b[0mkey\u001b[0m\u001b[1;33m,\u001b[0m \u001b[0maxis\u001b[0m\u001b[1;33m=\u001b[0m\u001b[0maxis\u001b[0m\u001b[1;33m)\u001b[0m\u001b[1;33m\u001b[0m\u001b[0m\n\u001b[0m\u001b[0;32m    866\u001b[0m \u001b[1;33m\u001b[0m\u001b[0m\n\u001b[0;32m    867\u001b[0m     \u001b[1;32mdef\u001b[0m \u001b[0m_getitem_iterable\u001b[0m\u001b[1;33m(\u001b[0m\u001b[0mself\u001b[0m\u001b[1;33m,\u001b[0m \u001b[0mkey\u001b[0m\u001b[1;33m,\u001b[0m \u001b[0maxis\u001b[0m\u001b[1;33m=\u001b[0m\u001b[1;36m0\u001b[0m\u001b[1;33m)\u001b[0m\u001b[1;33m:\u001b[0m\u001b[1;33m\u001b[0m\u001b[0m\n",
      "\u001b[1;32mC:\\Users\\labuser\\AppData\\Local\\Enthought\\Canopy\\User\\lib\\site-packages\\pandas\\core\\indexing.pyc\u001b[0m in \u001b[0;36m_get_label\u001b[1;34m(self, label, axis)\u001b[0m\n\u001b[0;32m     84\u001b[0m             \u001b[1;32mraise\u001b[0m \u001b[0mIndexingError\u001b[0m\u001b[1;33m(\u001b[0m\u001b[1;34m'no slices here, handle elsewhere'\u001b[0m\u001b[1;33m)\u001b[0m\u001b[1;33m\u001b[0m\u001b[0m\n\u001b[0;32m     85\u001b[0m \u001b[1;33m\u001b[0m\u001b[0m\n\u001b[1;32m---> 86\u001b[1;33m         \u001b[1;32mreturn\u001b[0m \u001b[0mself\u001b[0m\u001b[1;33m.\u001b[0m\u001b[0mobj\u001b[0m\u001b[1;33m.\u001b[0m\u001b[0m_xs\u001b[0m\u001b[1;33m(\u001b[0m\u001b[0mlabel\u001b[0m\u001b[1;33m,\u001b[0m \u001b[0maxis\u001b[0m\u001b[1;33m=\u001b[0m\u001b[0maxis\u001b[0m\u001b[1;33m)\u001b[0m\u001b[1;33m\u001b[0m\u001b[0m\n\u001b[0m\u001b[0;32m     87\u001b[0m \u001b[1;33m\u001b[0m\u001b[0m\n\u001b[0;32m     88\u001b[0m     \u001b[1;32mdef\u001b[0m \u001b[0m_get_loc\u001b[0m\u001b[1;33m(\u001b[0m\u001b[0mself\u001b[0m\u001b[1;33m,\u001b[0m \u001b[0mkey\u001b[0m\u001b[1;33m,\u001b[0m \u001b[0maxis\u001b[0m\u001b[1;33m=\u001b[0m\u001b[1;36m0\u001b[0m\u001b[1;33m)\u001b[0m\u001b[1;33m:\u001b[0m\u001b[1;33m\u001b[0m\u001b[0m\n",
      "\u001b[1;32mC:\\Users\\labuser\\AppData\\Local\\Enthought\\Canopy\\User\\lib\\site-packages\\pandas\\core\\generic.pyc\u001b[0m in \u001b[0;36mxs\u001b[1;34m(self, key, axis, level, copy, drop_level)\u001b[0m\n\u001b[0;32m   1338\u001b[0m \u001b[1;33m\u001b[0m\u001b[0m\n\u001b[0;32m   1339\u001b[0m         \u001b[1;32mif\u001b[0m \u001b[0maxis\u001b[0m \u001b[1;33m==\u001b[0m \u001b[1;36m1\u001b[0m\u001b[1;33m:\u001b[0m\u001b[1;33m\u001b[0m\u001b[0m\n\u001b[1;32m-> 1340\u001b[1;33m             \u001b[1;32mreturn\u001b[0m \u001b[0mself\u001b[0m\u001b[1;33m[\u001b[0m\u001b[0mkey\u001b[0m\u001b[1;33m]\u001b[0m\u001b[1;33m\u001b[0m\u001b[0m\n\u001b[0m\u001b[0;32m   1341\u001b[0m \u001b[1;33m\u001b[0m\u001b[0m\n\u001b[0;32m   1342\u001b[0m         \u001b[0mself\u001b[0m\u001b[1;33m.\u001b[0m\u001b[0m_consolidate_inplace\u001b[0m\u001b[1;33m(\u001b[0m\u001b[1;33m)\u001b[0m\u001b[1;33m\u001b[0m\u001b[0m\n",
      "\u001b[1;32mC:\\Users\\labuser\\AppData\\Local\\Enthought\\Canopy\\User\\lib\\site-packages\\pandas\\core\\frame.pyc\u001b[0m in \u001b[0;36m__getitem__\u001b[1;34m(self, key)\u001b[0m\n\u001b[0;32m   1682\u001b[0m             \u001b[1;32mreturn\u001b[0m \u001b[0mself\u001b[0m\u001b[1;33m.\u001b[0m\u001b[0m_getitem_multilevel\u001b[0m\u001b[1;33m(\u001b[0m\u001b[0mkey\u001b[0m\u001b[1;33m)\u001b[0m\u001b[1;33m\u001b[0m\u001b[0m\n\u001b[0;32m   1683\u001b[0m         \u001b[1;32melse\u001b[0m\u001b[1;33m:\u001b[0m\u001b[1;33m\u001b[0m\u001b[0m\n\u001b[1;32m-> 1684\u001b[1;33m             \u001b[1;32mreturn\u001b[0m \u001b[0mself\u001b[0m\u001b[1;33m.\u001b[0m\u001b[0m_getitem_column\u001b[0m\u001b[1;33m(\u001b[0m\u001b[0mkey\u001b[0m\u001b[1;33m)\u001b[0m\u001b[1;33m\u001b[0m\u001b[0m\n\u001b[0m\u001b[0;32m   1685\u001b[0m \u001b[1;33m\u001b[0m\u001b[0m\n\u001b[0;32m   1686\u001b[0m     \u001b[1;32mdef\u001b[0m \u001b[0m_getitem_column\u001b[0m\u001b[1;33m(\u001b[0m\u001b[0mself\u001b[0m\u001b[1;33m,\u001b[0m \u001b[0mkey\u001b[0m\u001b[1;33m)\u001b[0m\u001b[1;33m:\u001b[0m\u001b[1;33m\u001b[0m\u001b[0m\n",
      "\u001b[1;32mC:\\Users\\labuser\\AppData\\Local\\Enthought\\Canopy\\User\\lib\\site-packages\\pandas\\core\\frame.pyc\u001b[0m in \u001b[0;36m_getitem_column\u001b[1;34m(self, key)\u001b[0m\n\u001b[0;32m   1689\u001b[0m         \u001b[1;31m# get column\u001b[0m\u001b[1;33m\u001b[0m\u001b[1;33m\u001b[0m\u001b[0m\n\u001b[0;32m   1690\u001b[0m         \u001b[1;32mif\u001b[0m \u001b[0mself\u001b[0m\u001b[1;33m.\u001b[0m\u001b[0mcolumns\u001b[0m\u001b[1;33m.\u001b[0m\u001b[0mis_unique\u001b[0m\u001b[1;33m:\u001b[0m\u001b[1;33m\u001b[0m\u001b[0m\n\u001b[1;32m-> 1691\u001b[1;33m             \u001b[1;32mreturn\u001b[0m \u001b[0mself\u001b[0m\u001b[1;33m.\u001b[0m\u001b[0m_get_item_cache\u001b[0m\u001b[1;33m(\u001b[0m\u001b[0mkey\u001b[0m\u001b[1;33m)\u001b[0m\u001b[1;33m\u001b[0m\u001b[0m\n\u001b[0m\u001b[0;32m   1692\u001b[0m \u001b[1;33m\u001b[0m\u001b[0m\n\u001b[0;32m   1693\u001b[0m         \u001b[1;31m# duplicate columns & possible reduce dimensionaility\u001b[0m\u001b[1;33m\u001b[0m\u001b[1;33m\u001b[0m\u001b[0m\n",
      "\u001b[1;32mC:\\Users\\labuser\\AppData\\Local\\Enthought\\Canopy\\User\\lib\\site-packages\\pandas\\core\\generic.pyc\u001b[0m in \u001b[0;36m_get_item_cache\u001b[1;34m(self, item)\u001b[0m\n\u001b[0;32m   1050\u001b[0m         \u001b[0mres\u001b[0m \u001b[1;33m=\u001b[0m \u001b[0mcache\u001b[0m\u001b[1;33m.\u001b[0m\u001b[0mget\u001b[0m\u001b[1;33m(\u001b[0m\u001b[0mitem\u001b[0m\u001b[1;33m)\u001b[0m\u001b[1;33m\u001b[0m\u001b[0m\n\u001b[0;32m   1051\u001b[0m         \u001b[1;32mif\u001b[0m \u001b[0mres\u001b[0m \u001b[1;32mis\u001b[0m \u001b[0mNone\u001b[0m\u001b[1;33m:\u001b[0m\u001b[1;33m\u001b[0m\u001b[0m\n\u001b[1;32m-> 1052\u001b[1;33m             \u001b[0mvalues\u001b[0m \u001b[1;33m=\u001b[0m \u001b[0mself\u001b[0m\u001b[1;33m.\u001b[0m\u001b[0m_data\u001b[0m\u001b[1;33m.\u001b[0m\u001b[0mget\u001b[0m\u001b[1;33m(\u001b[0m\u001b[0mitem\u001b[0m\u001b[1;33m)\u001b[0m\u001b[1;33m\u001b[0m\u001b[0m\n\u001b[0m\u001b[0;32m   1053\u001b[0m             \u001b[0mres\u001b[0m \u001b[1;33m=\u001b[0m \u001b[0mself\u001b[0m\u001b[1;33m.\u001b[0m\u001b[0m_box_item_values\u001b[0m\u001b[1;33m(\u001b[0m\u001b[0mitem\u001b[0m\u001b[1;33m,\u001b[0m \u001b[0mvalues\u001b[0m\u001b[1;33m)\u001b[0m\u001b[1;33m\u001b[0m\u001b[0m\n\u001b[0;32m   1054\u001b[0m             \u001b[0mcache\u001b[0m\u001b[1;33m[\u001b[0m\u001b[0mitem\u001b[0m\u001b[1;33m]\u001b[0m \u001b[1;33m=\u001b[0m \u001b[0mres\u001b[0m\u001b[1;33m\u001b[0m\u001b[0m\n",
      "\u001b[1;32mC:\\Users\\labuser\\AppData\\Local\\Enthought\\Canopy\\User\\lib\\site-packages\\pandas\\core\\internals.pyc\u001b[0m in \u001b[0;36mget\u001b[1;34m(self, item)\u001b[0m\n\u001b[0;32m   2535\u001b[0m \u001b[1;33m\u001b[0m\u001b[0m\n\u001b[0;32m   2536\u001b[0m             \u001b[1;32mif\u001b[0m \u001b[1;32mnot\u001b[0m \u001b[0misnull\u001b[0m\u001b[1;33m(\u001b[0m\u001b[0mitem\u001b[0m\u001b[1;33m)\u001b[0m\u001b[1;33m:\u001b[0m\u001b[1;33m\u001b[0m\u001b[0m\n\u001b[1;32m-> 2537\u001b[1;33m                 \u001b[0mloc\u001b[0m \u001b[1;33m=\u001b[0m \u001b[0mself\u001b[0m\u001b[1;33m.\u001b[0m\u001b[0mitems\u001b[0m\u001b[1;33m.\u001b[0m\u001b[0mget_loc\u001b[0m\u001b[1;33m(\u001b[0m\u001b[0mitem\u001b[0m\u001b[1;33m)\u001b[0m\u001b[1;33m\u001b[0m\u001b[0m\n\u001b[0m\u001b[0;32m   2538\u001b[0m             \u001b[1;32melse\u001b[0m\u001b[1;33m:\u001b[0m\u001b[1;33m\u001b[0m\u001b[0m\n\u001b[0;32m   2539\u001b[0m                 \u001b[0mindexer\u001b[0m \u001b[1;33m=\u001b[0m \u001b[0mnp\u001b[0m\u001b[1;33m.\u001b[0m\u001b[0marange\u001b[0m\u001b[1;33m(\u001b[0m\u001b[0mlen\u001b[0m\u001b[1;33m(\u001b[0m\u001b[0mself\u001b[0m\u001b[1;33m.\u001b[0m\u001b[0mitems\u001b[0m\u001b[1;33m)\u001b[0m\u001b[1;33m)\u001b[0m\u001b[1;33m[\u001b[0m\u001b[0misnull\u001b[0m\u001b[1;33m(\u001b[0m\u001b[0mself\u001b[0m\u001b[1;33m.\u001b[0m\u001b[0mitems\u001b[0m\u001b[1;33m)\u001b[0m\u001b[1;33m]\u001b[0m\u001b[1;33m\u001b[0m\u001b[0m\n",
      "\u001b[1;32mC:\\Users\\labuser\\AppData\\Local\\Enthought\\Canopy\\User\\lib\\site-packages\\pandas\\core\\index.pyc\u001b[0m in \u001b[0;36mget_loc\u001b[1;34m(self, key)\u001b[0m\n\u001b[0;32m   1154\u001b[0m         \u001b[0mloc\u001b[0m \u001b[1;33m:\u001b[0m \u001b[0mint\u001b[0m \u001b[1;32mif\u001b[0m \u001b[0munique\u001b[0m \u001b[0mindex\u001b[0m\u001b[1;33m,\u001b[0m \u001b[0mpossibly\u001b[0m \u001b[0mslice\u001b[0m \u001b[1;32mor\u001b[0m \u001b[0mmask\u001b[0m \u001b[1;32mif\u001b[0m \u001b[1;32mnot\u001b[0m\u001b[1;33m\u001b[0m\u001b[0m\n\u001b[0;32m   1155\u001b[0m         \"\"\"\n\u001b[1;32m-> 1156\u001b[1;33m         \u001b[1;32mreturn\u001b[0m \u001b[0mself\u001b[0m\u001b[1;33m.\u001b[0m\u001b[0m_engine\u001b[0m\u001b[1;33m.\u001b[0m\u001b[0mget_loc\u001b[0m\u001b[1;33m(\u001b[0m\u001b[0m_values_from_object\u001b[0m\u001b[1;33m(\u001b[0m\u001b[0mkey\u001b[0m\u001b[1;33m)\u001b[0m\u001b[1;33m)\u001b[0m\u001b[1;33m\u001b[0m\u001b[0m\n\u001b[0m\u001b[0;32m   1157\u001b[0m \u001b[1;33m\u001b[0m\u001b[0m\n\u001b[0;32m   1158\u001b[0m     \u001b[1;32mdef\u001b[0m \u001b[0mget_value\u001b[0m\u001b[1;33m(\u001b[0m\u001b[0mself\u001b[0m\u001b[1;33m,\u001b[0m \u001b[0mseries\u001b[0m\u001b[1;33m,\u001b[0m \u001b[0mkey\u001b[0m\u001b[1;33m)\u001b[0m\u001b[1;33m:\u001b[0m\u001b[1;33m\u001b[0m\u001b[0m\n",
      "\u001b[1;32mC:\\Users\\labuser\\AppData\\Local\\Enthought\\Canopy\\User\\lib\\site-packages\\pandas\\index.pyd\u001b[0m in \u001b[0;36mpandas.index.IndexEngine.get_loc (pandas\\index.c:3353)\u001b[1;34m()\u001b[0m\n",
      "\u001b[1;32mC:\\Users\\labuser\\AppData\\Local\\Enthought\\Canopy\\User\\lib\\site-packages\\pandas\\index.pyd\u001b[0m in \u001b[0;36mpandas.index.IndexEngine.get_loc (pandas\\index.c:3233)\u001b[1;34m()\u001b[0m\n",
      "\u001b[1;32mC:\\Users\\labuser\\AppData\\Local\\Enthought\\Canopy\\User\\lib\\site-packages\\pandas\\hashtable.pyd\u001b[0m in \u001b[0;36mpandas.hashtable.PyObjectHashTable.get_item (pandas\\hashtable.c:11148)\u001b[1;34m()\u001b[0m\n",
      "\u001b[1;32mC:\\Users\\labuser\\AppData\\Local\\Enthought\\Canopy\\User\\lib\\site-packages\\pandas\\hashtable.pyd\u001b[0m in \u001b[0;36mpandas.hashtable.PyObjectHashTable.get_item (pandas\\hashtable.c:11101)\u001b[1;34m()\u001b[0m\n",
      "\u001b[1;31mKeyError\u001b[0m: 'Roi37'"
     ]
    }
   ],
   "source": [
    "roi_line_plot(roi = 'Roi221', dataframe = data, events_x = events_x, events_y=events_y, ymin = 0, ymax=max(data.max()))"
   ]
  },
  {
   "cell_type": "markdown",
   "metadata": {},
   "source": [
    "### - Stacked line plot of an ROI and its friends"
   ]
  },
  {
   "cell_type": "markdown",
   "metadata": {},
   "source": [
    "Call an roi by name (ex: 'Roi35') to get a line plot of it and its friends. Save this plot from the pop up graph window."
   ]
  },
  {
   "cell_type": "code",
   "execution_count": 24,
   "metadata": {
    "collapsed": false,
    "jupyter": {
     "outputs_hidden": false
    }
   },
   "outputs": [],
   "source": [
    "friend_roi_line(data, friend_names, roi = 'Roi221')"
   ]
  },
  {
   "cell_type": "markdown",
   "metadata": {},
   "source": [
    "### - Average line plot of an ROI and its friends"
   ]
  },
  {
   "cell_type": "markdown",
   "metadata": {},
   "source": [
    "Call an roi by name (ex: 'Roi35') to get a line plot of the average of it and its friends. the average standard error for each point is printed below once the plot is closed. Save this plot from the pop up graph window."
   ]
  },
  {
   "cell_type": "code",
   "execution_count": 31,
   "metadata": {
    "collapsed": false,
    "jupyter": {
     "outputs_hidden": false
    }
   },
   "outputs": [
    {
     "name": "stdout",
     "output_type": "stream",
     "text": [
      "the average of the std of each point is 0.0727 for Roi37 and its friends.\n"
     ]
    }
   ],
   "source": [
    "friend_roi_line_average(data, friend_names, roi = 'Roi37')"
   ]
  },
  {
   "cell_type": "markdown",
   "metadata": {},
   "source": [
    "### - Autocorrelation Plot"
   ]
  },
  {
   "cell_type": "code",
   "execution_count": 32,
   "metadata": {
    "collapsed": false,
    "jupyter": {
     "outputs_hidden": false
    }
   },
   "outputs": [],
   "source": [
    "roi = 'Roi37'\n",
    "\n",
    "autocorrelation_plot(data[roi])\n",
    "plt.title(roi)\n",
    "plt.show()"
   ]
  },
  {
   "cell_type": "markdown",
   "metadata": {},
   "source": [
    "## C. Box and Whister Plots"
   ]
  },
  {
   "cell_type": "markdown",
   "metadata": {},
   "source": [
    "Call an ROI and see the distribution of either its friends' correlations or neighbors' distances.\n",
    "\n",
    "Choose which metrc to use by changing flavor to either 'dist' or 'corr'"
   ]
  },
  {
   "cell_type": "code",
   "execution_count": 33,
   "metadata": {
    "collapsed": false,
    "jupyter": {
     "outputs_hidden": false
    }
   },
   "outputs": [],
   "source": [
    "boxandwhiskers(roi = 'Roi37', flavor = 'corr', data_corr = data_corr, roi_dist = roi_dist, r = r, d = d)"
   ]
  },
  {
   "cell_type": "markdown",
   "metadata": {},
   "source": [
    "# End"
   ]
  },
  {
   "cell_type": "markdown",
   "metadata": {},
   "source": [
    "# ............................................................................................................................................"
   ]
  },
  {
   "cell_type": "markdown",
   "metadata": {},
   "source": [
    "## [ Run the next cells of code if you want to randomize the dataset ]"
   ]
  },
  {
   "cell_type": "code",
   "execution_count": 34,
   "metadata": {
    "collapsed": false,
    "jupyter": {
     "outputs_hidden": false
    }
   },
   "outputs": [],
   "source": [
    "import random\n",
    "\n",
    "def shuffle(x):\n",
    "    random.shuffle(x)\n",
    "    return x\n",
    "\n",
    "for label, column in data.iteritems():\n",
    "    tempcol = data[label].tolist()\n",
    "    randcol = shuffle(tempcol)  #shuffle the list of values in the column\n",
    "    data[label] = randcol #write over the original list with randomized list"
   ]
  },
  {
   "cell_type": "markdown",
   "metadata": {},
   "source": [
    "### Check that the dataset set is indeed randomized! Compare this table to the table under the header \"(b) Load\""
   ]
  },
  {
   "cell_type": "code",
   "execution_count": 35,
   "metadata": {
    "collapsed": false,
    "jupyter": {
     "outputs_hidden": false
    }
   },
   "outputs": [
    {
     "data": {
      "text/html": [
       "<div style=\"max-height:1000px;max-width:1500px;overflow:auto;\">\n",
       "<table border=\"1\" class=\"dataframe\">\n",
       "  <thead>\n",
       "    <tr style=\"text-align: right;\">\n",
       "      <th></th>\n",
       "      <th>Roi16</th>\n",
       "      <th>Roi26</th>\n",
       "      <th>Roi27</th>\n",
       "      <th>Roi29</th>\n",
       "      <th>Roi32</th>\n",
       "      <th>Roi33</th>\n",
       "      <th>Roi35</th>\n",
       "      <th>Roi36</th>\n",
       "      <th>Roi37</th>\n",
       "      <th>Roi41</th>\n",
       "      <th>...</th>\n",
       "      <th>Roi53</th>\n",
       "      <th>Roi54</th>\n",
       "      <th>Roi61</th>\n",
       "      <th>Roi62</th>\n",
       "      <th>Roi66</th>\n",
       "      <th>Roi71</th>\n",
       "      <th>Roi72</th>\n",
       "      <th>Roi73</th>\n",
       "      <th>Roi74</th>\n",
       "      <th>Roi76</th>\n",
       "    </tr>\n",
       "    <tr>\n",
       "      <th>time(s)</th>\n",
       "      <th></th>\n",
       "      <th></th>\n",
       "      <th></th>\n",
       "      <th></th>\n",
       "      <th></th>\n",
       "      <th></th>\n",
       "      <th></th>\n",
       "      <th></th>\n",
       "      <th></th>\n",
       "      <th></th>\n",
       "      <th></th>\n",
       "      <th></th>\n",
       "      <th></th>\n",
       "      <th></th>\n",
       "      <th></th>\n",
       "      <th></th>\n",
       "      <th></th>\n",
       "      <th></th>\n",
       "      <th></th>\n",
       "      <th></th>\n",
       "      <th></th>\n",
       "    </tr>\n",
       "  </thead>\n",
       "  <tbody>\n",
       "    <tr>\n",
       "      <th>0.78125</th>\n",
       "      <td> 1.607642</td>\n",
       "      <td> 1.080892</td>\n",
       "      <td> 1.020448</td>\n",
       "      <td> 1.053762</td>\n",
       "      <td> 0.941500</td>\n",
       "      <td> 0.957506</td>\n",
       "      <td> 1.118078</td>\n",
       "      <td> 1.061659</td>\n",
       "      <td> 0.953561</td>\n",
       "      <td> 1.395612</td>\n",
       "      <td>...</td>\n",
       "      <td> 1.012658</td>\n",
       "      <td> 1.026843</td>\n",
       "      <td> 1.090384</td>\n",
       "      <td> 1.210970</td>\n",
       "      <td> 1.058431</td>\n",
       "      <td> 0.978613</td>\n",
       "      <td> 0.998858</td>\n",
       "      <td> 0.961801</td>\n",
       "      <td> 1.020476</td>\n",
       "      <td> 0.945394</td>\n",
       "    </tr>\n",
       "    <tr>\n",
       "      <th>1.56250</th>\n",
       "      <td> 1.553273</td>\n",
       "      <td> 1.031149</td>\n",
       "      <td> 0.998754</td>\n",
       "      <td> 0.962334</td>\n",
       "      <td> 0.969865</td>\n",
       "      <td> 1.014386</td>\n",
       "      <td> 0.939536</td>\n",
       "      <td> 0.967438</td>\n",
       "      <td> 0.957473</td>\n",
       "      <td> 1.061042</td>\n",
       "      <td>...</td>\n",
       "      <td> 0.994998</td>\n",
       "      <td> 0.920157</td>\n",
       "      <td> 1.178071</td>\n",
       "      <td> 1.074218</td>\n",
       "      <td> 0.942334</td>\n",
       "      <td> 1.072712</td>\n",
       "      <td> 0.899077</td>\n",
       "      <td> 1.215734</td>\n",
       "      <td> 1.029408</td>\n",
       "      <td> 0.931584</td>\n",
       "    </tr>\n",
       "    <tr>\n",
       "      <th>2.34375</th>\n",
       "      <td> 0.962505</td>\n",
       "      <td> 1.078617</td>\n",
       "      <td> 0.954115</td>\n",
       "      <td> 1.015816</td>\n",
       "      <td> 1.213816</td>\n",
       "      <td> 1.231693</td>\n",
       "      <td> 1.001482</td>\n",
       "      <td> 1.303174</td>\n",
       "      <td> 0.965297</td>\n",
       "      <td> 1.008439</td>\n",
       "      <td>...</td>\n",
       "      <td> 0.955814</td>\n",
       "      <td> 0.915933</td>\n",
       "      <td> 0.927909</td>\n",
       "      <td> 1.066917</td>\n",
       "      <td> 1.170222</td>\n",
       "      <td> 1.206210</td>\n",
       "      <td> 1.180306</td>\n",
       "      <td> 1.038254</td>\n",
       "      <td> 1.117227</td>\n",
       "      <td> 1.145272</td>\n",
       "    </tr>\n",
       "    <tr>\n",
       "      <th>3.12500</th>\n",
       "      <td> 0.959802</td>\n",
       "      <td> 1.032058</td>\n",
       "      <td> 0.991184</td>\n",
       "      <td> 0.959647</td>\n",
       "      <td> 0.937691</td>\n",
       "      <td> 0.999093</td>\n",
       "      <td> 0.977013</td>\n",
       "      <td> 0.971098</td>\n",
       "      <td> 0.910528</td>\n",
       "      <td> 0.813503</td>\n",
       "      <td>...</td>\n",
       "      <td> 0.925442</td>\n",
       "      <td> 1.090510</td>\n",
       "      <td> 1.389492</td>\n",
       "      <td> 1.025967</td>\n",
       "      <td> 0.992697</td>\n",
       "      <td> 1.069824</td>\n",
       "      <td> 0.969827</td>\n",
       "      <td> 0.909245</td>\n",
       "      <td> 0.981771</td>\n",
       "      <td> 1.001213</td>\n",
       "    </tr>\n",
       "    <tr>\n",
       "      <th>3.90625</th>\n",
       "      <td> 0.977164</td>\n",
       "      <td> 1.042051</td>\n",
       "      <td> 1.382365</td>\n",
       "      <td> 1.078552</td>\n",
       "      <td> 1.044406</td>\n",
       "      <td> 0.904864</td>\n",
       "      <td> 0.949430</td>\n",
       "      <td> 0.974289</td>\n",
       "      <td> 0.973606</td>\n",
       "      <td> 0.951778</td>\n",
       "      <td>...</td>\n",
       "      <td> 1.039493</td>\n",
       "      <td> 1.063521</td>\n",
       "      <td> 0.986382</td>\n",
       "      <td> 1.108594</td>\n",
       "      <td> 1.049821</td>\n",
       "      <td> 1.093856</td>\n",
       "      <td> 1.051493</td>\n",
       "      <td> 0.954309</td>\n",
       "      <td> 1.061396</td>\n",
       "      <td> 0.952597</td>\n",
       "    </tr>\n",
       "  </tbody>\n",
       "</table>\n",
       "<p>5 rows × 29 columns</p>\n",
       "</div>"
      ],
      "text/plain": [
       "            Roi16     Roi26     Roi27     Roi29     Roi32     Roi33     Roi35  \\\n",
       "time(s)                                                                         \n",
       "0.78125  1.607642  1.080892  1.020448  1.053762  0.941500  0.957506  1.118078   \n",
       "1.56250  1.553273  1.031149  0.998754  0.962334  0.969865  1.014386  0.939536   \n",
       "2.34375  0.962505  1.078617  0.954115  1.015816  1.213816  1.231693  1.001482   \n",
       "3.12500  0.959802  1.032058  0.991184  0.959647  0.937691  0.999093  0.977013   \n",
       "3.90625  0.977164  1.042051  1.382365  1.078552  1.044406  0.904864  0.949430   \n",
       "\n",
       "            Roi36     Roi37     Roi41    ...        Roi53     Roi54     Roi61  \\\n",
       "time(s)                                  ...                                    \n",
       "0.78125  1.061659  0.953561  1.395612    ...     1.012658  1.026843  1.090384   \n",
       "1.56250  0.967438  0.957473  1.061042    ...     0.994998  0.920157  1.178071   \n",
       "2.34375  1.303174  0.965297  1.008439    ...     0.955814  0.915933  0.927909   \n",
       "3.12500  0.971098  0.910528  0.813503    ...     0.925442  1.090510  1.389492   \n",
       "3.90625  0.974289  0.973606  0.951778    ...     1.039493  1.063521  0.986382   \n",
       "\n",
       "            Roi62     Roi66     Roi71     Roi72     Roi73     Roi74     Roi76  \n",
       "time(s)                                                                        \n",
       "0.78125  1.210970  1.058431  0.978613  0.998858  0.961801  1.020476  0.945394  \n",
       "1.56250  1.074218  0.942334  1.072712  0.899077  1.215734  1.029408  0.931584  \n",
       "2.34375  1.066917  1.170222  1.206210  1.180306  1.038254  1.117227  1.145272  \n",
       "3.12500  1.025967  0.992697  1.069824  0.969827  0.909245  0.981771  1.001213  \n",
       "3.90625  1.108594  1.049821  1.093856  1.051493  0.954309  1.061396  0.952597  \n",
       "\n",
       "[5 rows x 29 columns]"
      ]
     },
     "execution_count": 35,
     "metadata": {},
     "output_type": "execute_result"
    }
   ],
   "source": [
    "data.head()"
   ]
  },
  {
   "cell_type": "markdown",
   "metadata": {},
   "source": [
    "### Now, go to analysis and it will run the program with the randomized data. (SKIP I. User Input) "
   ]
  },
  {
   "cell_type": "markdown",
   "metadata": {},
   "source": [
    "# ............................................................................................................................................"
   ]
  }
 ],
 "metadata": {
  "kernelspec": {
   "display_name": "Python 3.8.5",
   "language": "python",
   "name": "s8"
  },
  "language_info": {
   "codemirror_mode": {
    "name": "ipython",
    "version": 2
   },
   "file_extension": ".py",
   "mimetype": "text/x-python",
   "name": "python",
   "nbconvert_exporter": "python",
   "pygments_lexer": "ipython2",
   "version": "2.7.18"
  }
 },
 "nbformat": 4,
 "nbformat_minor": 4
}
