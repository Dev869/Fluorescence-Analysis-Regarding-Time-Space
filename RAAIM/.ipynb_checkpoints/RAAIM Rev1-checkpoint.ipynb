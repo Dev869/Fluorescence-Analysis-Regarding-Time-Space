{
 "cells": [
  {
   "cell_type": "markdown",
   "metadata": {},
   "source": [
    "# ............................................................................................................................................"
   ]
  },
  {
   "cell_type": "markdown",
   "metadata": {},
   "source": [
    "# Welcome to the RAAIM"
   ]
  },
  {
   "cell_type": "markdown",
   "metadata": {},
   "source": [
    "Use shift + enter to run a code block or move to the next text block.\n",
    "\n",
    "Run the next block of code to intialize the program.\n",
    "\n",
    "* If you run into a \"C:\\Users\\labuser\\AppData\\Local\\Enthought\\Canopy\\User\\lib\\site-packages\\pandas\\io\\excel.py:626 error\", simply ignore it! The program will still be able to run."
   ]
  },
  {
   "cell_type": "code",
   "execution_count": 1,
   "metadata": {
    "collapsed": false,
    "jupyter": {
     "outputs_hidden": false
    }
   },
   "outputs": [
    {
     "name": "stdout",
     "output_type": "stream",
     "text": [
      "RAAIM Ready for Analysis\n"
     ]
    }
   ],
   "source": [
    "import numpy as np\n",
    "import scipy\n",
    "from scipy import spatial\n",
    "import pandas as pd\n",
    "import matplotlib.pyplot as plt\n",
    "from pandas import Series, DataFrame\n",
    "import time as t\n",
    "from PIL import Image\n",
    "import sys\n",
    "import os, errno\n",
    "import matplotlib.patches as patches\n",
    "from pandas.plotting import autocorrelation_plot\n",
    "\n",
    "def mkdir_p(path):\n",
    "    try:\n",
    "        os.makedirs(path)\n",
    "    except OSError as exc: # Python >2.5\n",
    "        if exc.errno == errno.EEXIST and os.path.isdir(path):\n",
    "            pass\n",
    "        else: raise\n",
    "\n",
    "def load_RAAIM(folder, original):\n",
    "    data = pd.read_csv(r'%s/ROI normalized.txt' %(folder), index_col= 'time(s)', sep='\\t')\n",
    "    print \"Loaded 'ROI normalized.txt'\"\n",
    "    \n",
    "    roi_param = pd.read_csv(r'%s/Parameter List_edited.txt' %(folder), index_col='ROI', sep='\\t')\n",
    "    print \"Loaded 'Parameter List_edited.txt'\"\n",
    "    \n",
    "    im = Image.open(r'%s/rgb.png' %(folder)) #MUST BE RGB\n",
    "    print \"Loaded 'rgb.png'\"\n",
    "    \n",
    "    del data['Unnamed: 0'] #lc_pro outputs a weird blank column named this everytime. I don't know why, but it does. this line deletes it safely.\n",
    "    roi_loc, roi_x, roi_y, data = lcpro_param_parse(roi_param, data , original = original)\n",
    "    print \"Configured Data\"\n",
    "    \n",
    "    events_x, events_y = get_events(data = data, roi_param = roi_param)\n",
    "    print \"LCPro events extracted\"\n",
    "    \n",
    "    path = folder +\"/plots\"\n",
    "    mkdir_p(path)\n",
    "    print \"Made plots folder\"\n",
    "    \n",
    "    return data, roi_param, im, roi_loc, roi_x, roi_y, events_x, events_y\n",
    "    \n",
    "def lcpro_param_parse(roi_param, data , original):\n",
    "    '''\n",
    "    This function takes the Dataframe created by opening the 'Parameter List.txt' from LC_Pro. \n",
    "    '''\n",
    "    roi_loc = roi_param[['X', 'Y']]\n",
    "    roi_loc.drop_duplicates(inplace= True)\n",
    "    roi_x = roi_loc['X'].tolist()\n",
    "    roi_y = roi_loc['Y'].tolist()\n",
    "    new_index = []\n",
    "    for i in np.arange(len(roi_loc.index)):\n",
    "        foo = int(roi_loc.index[i])\n",
    "        new_index.append('Roi'+str(foo))\n",
    "    roi_loc = DataFrame({'x':roi_x, 'y':roi_y}, index= new_index)\n",
    "    \n",
    "    if len(data.columns) != len(new_index) and original == True:\n",
    "        sys.exit(\"The number of ROIs in the data file is not equal to the number of ROIs in the parameter file. That doesn't seem right, so I quit the function for you. Make sure you are loading the correct files, please.\")\n",
    "    \n",
    "    if original == False:\n",
    "        data = data[roi_loc.index]\n",
    "    \n",
    "    truth = (data.columns == roi_loc.index).tolist()\n",
    "    \n",
    "    if truth.count(True) != len(data.columns):\n",
    "        sys.exit(\"The names on data and roi_loc are not identical. This will surely break everything later, so I shut down the program. Try loading these files again.\")\n",
    "    \n",
    "    return roi_loc, roi_x, roi_y, data\n",
    "\n",
    "def get_events(data, roi_param):\n",
    "    '''\n",
    "    extract the events from the roi_parameter list. It returns them as a pair of dictionaries.\n",
    "    '''\n",
    "    new_index = []\n",
    "    for i in np.arange(len(roi_param.index)):\n",
    "        new_index.append('Roi'+str(roi_param.index[i]))\n",
    "    roi_events = DataFrame(index= new_index)\n",
    "    roi_events_time = roi_param['Time(s)'].tolist()\n",
    "    roi_events_amp = roi_param['Amp(F/F0)'].tolist()\n",
    "    roi_events['Time'] = roi_events_time\n",
    "    roi_events['Amp'] = roi_events_amp\n",
    "    \n",
    "    events_x = {}\n",
    "    events_y = {}\n",
    "    for label in data.columns:\n",
    "        events_x[label] = []\n",
    "        events_y[label] = []\n",
    "\n",
    "    for i in np.arange(len(roi_events.index)):\n",
    "        key = roi_events.index[i]\n",
    "        events_x[key].append(roi_events.iloc[i,0])\n",
    "        events_y[key].append(roi_events.iloc[i,1])\n",
    "        \n",
    "    return events_x, events_y\n",
    "\n",
    "def cross_correlation(data, r):\n",
    "    '''\n",
    "    This function calculated the cross correlation between each ROI pair and returns a dataframe with NxN+1  values.\n",
    "    it also includes a column that contains the number of friends each ROI has.\n",
    "    lastly, it creates a dictionary where the keys are the roi names and names of each roi's friends are stored as a list. by defalut, each roi is at least friends with itself.\n",
    "    this file can be saved out as a CSV later.\n",
    "    '''\n",
    "    \n",
    "    data_corr = data.corr()\n",
    "    ls = (data_corr[data_corr>r].count())\n",
    "    data_corr['Number of Friends'] = ls\n",
    "    cols = data_corr.columns.tolist()\n",
    "    cols = cols[-1:] + cols[:-1]\n",
    "    data_corr = data_corr[cols]\n",
    "    \n",
    "    friend_names = {}\n",
    "    temp_cor = data.corr()\n",
    "    correlation_summary = DataFrame()\n",
    "    \n",
    "    for label, column in temp_cor.iteritems():\n",
    "        friend_names[label] = column[column>r].index.tolist()\n",
    "        friends = column[column>r]\n",
    "        summary = friends.describe()\n",
    "        correlation_summary[label] = np.round(summary, 3)\n",
    "\n",
    "    return data_corr, friend_names, correlation_summary\n",
    "\n",
    "def distance_matrix(roi_x, roi_y , roi_loc , d):\n",
    "    '''\n",
    "    This function calculates the euclidean distance between each ROI pair. It returns a dataframe with these distances.\n",
    "    it also includes a column that contains the number of neighbors each ROI has.\n",
    "    the files can be saved out as a CSV later.\n",
    "    It also returns the list of the (x,y) tuple for each roi.\n",
    "    '''\n",
    "    loc_tup = []\n",
    "    for i in np.arange(len(roi_x)):\n",
    "        loc_tup.append((roi_x[i], roi_y[i]))\n",
    "    \n",
    "    roi_dist = DataFrame(data = (scipy.spatial.distance.cdist(loc_tup, loc_tup, 'euclidean')), index = roi_loc.index, columns= roi_loc.index)\n",
    "    roi_dist_f = roi_dist\n",
    "    \n",
    "    neighbor_names = {}\n",
    "    distance_summary = DataFrame()\n",
    "    \n",
    "    for label, column in roi_dist.iteritems():\n",
    "        neighbor_names[label] = column[column<=d].index.tolist()\n",
    "        neighbors = column[column<=d]\n",
    "        summary = neighbors.describe()\n",
    "        distance_summary[label] = np.round(summary, 3)\n",
    "\n",
    "    ls = (roi_dist[roi_dist<=d].count())\n",
    "    roi_dist_f['Number of Neighbors'] = ls\n",
    "    cols = roi_dist_f.columns.tolist()\n",
    "    cols = cols[-1:] + cols[:-1]\n",
    "    roi_dist_f = roi_dist_f[cols]\n",
    "    \n",
    "    return roi_dist_f, loc_tup, neighbor_names, distance_summary\n",
    "\n",
    "def friend_dist(data_corr, roi_dist, friend_names, r, d):\n",
    "    '''\n",
    "    calculates distance information about each roi's friends.\n",
    "    returns a dataframe with Distance Sum, number of friends, and mean distance. mean dist = distance sum/number of fiends\n",
    "    '''\n",
    "    roi_friend_dist = DataFrame(index = data_corr.index)\n",
    "    #roi_friend_dist['Distance sum'] = (roi_dist[data_corr>r].sum())\n",
    "    roi_friend_dist['Number of Friends'] = (data_corr[data_corr>r].count())\n",
    "    roi_friend_dist['Mean Dist'] = (roi_dist[data_corr>r].mean())\n",
    "    roi_friend_dist['Std Dist'] = (roi_dist[data_corr>r].std())\n",
    "    \n",
    "    perc_friends_are_neighbors = Series(index = roi_dist.index) #empty series\n",
    "    for key in friend_names:\n",
    "        temp_series = roi_dist.loc[key, friend_names[key]]\n",
    "        count = temp_series[temp_series<=d].count()\n",
    "        perc_friends_are_neighbors[key] = count\n",
    "    roi_friend_dist['Number of Friends that are Neighbors'] = perc_friends_are_neighbors\n",
    "    roi_friend_dist['Percentage of Friends that are Neighbors'] = (roi_friend_dist['Number of Friends that are Neighbors']/roi_friend_dist['Number of Friends'])*100\n",
    "    \n",
    "    return roi_friend_dist\n",
    "\n",
    "def neighbor_corr(roi_dist, data_corr, neighbor_names, r, d):\n",
    "    '''\n",
    "    Calculates correlation information about each roi's neighbors.\n",
    "    returns dataframe with corr of neighbors, corr of neighbors that are friends, percent of neighbors that are friends\n",
    "    '''\n",
    "    \n",
    "    roi_neighbor_corr = DataFrame(index = roi_dist.index)\n",
    "    roi_neighbor_corr['Number of Neighbors'] = (roi_dist[roi_dist<=d].count())\n",
    "    roi_neighbor_corr['Mean Correlation'] = (data_corr[roi_dist<=d].mean())\n",
    "    roi_neighbor_corr['Std Correlation'] = (data_corr[roi_dist<=d].std())\n",
    "    \n",
    "    perc_neighbors_are_friends = Series(index = roi_dist.index)\n",
    "    for key in neighbor_names:\n",
    "        temp_series = data_corr.loc[key, neighbor_names[key]]\n",
    "        count = temp_series[temp_series>r].count()\n",
    "        perc_neighbors_are_friends[key] = count\n",
    "    roi_neighbor_corr['Number of Neighbors that are Friends'] = perc_neighbors_are_friends\n",
    "    roi_neighbor_corr['Percentage of Neighbors that are Friends'] = (roi_neighbor_corr['Number of Neighbors that are Friends']/roi_neighbor_corr['Number of Neighbors'])*100\n",
    "    \n",
    "    return roi_neighbor_corr\n",
    "\n",
    "def onpick(event):\n",
    "    '''\n",
    "    allows us to click on an roi and print in the notebook it's name.\n",
    "    '''\n",
    "    ind = event.ind\n",
    "    ind = ind[0]\n",
    "    print('Roi selected =', roi_loc.index[ind])\n",
    "    \n",
    "def all_roi_2d(roi_loc , im , s=6):\n",
    "    '''\n",
    "    makes a scatter plot of each roi overlayed on an uploaded image. when you click on an roi, it prints the name of the roi\n",
    "    for some reason, it takes two clicks to start printing. Not sure why\n",
    "    '''\n",
    "    fig, ax = plt.subplots()\n",
    "    col = ax.scatter(roi_loc.x, roi_loc.y, s=s, edgecolor = 'k', linewidth ='1',color = 'y', marker =\"o\", alpha = 0.75, picker = True)\n",
    "    fig.canvas.mpl_connect('pick_event', onpick)\n",
    "\n",
    "    width, height = im.size\n",
    "    plt.xlim(xmin=0, xmax=width)\n",
    "    plt.ylim(ymin = 0, ymax = height)\n",
    "    plt.title('All LC_Pro ROIs')\n",
    "    plt.imshow(im)\n",
    "    plt.show()\n",
    "    \n",
    "def friend_roi_2d(data_corr , friend_names, roi_loc, r, d, roi, just_friends, s = 6):\n",
    "    temp_series_list = data_corr[roi].tolist()\n",
    "    temp_series = data_corr[roi]\n",
    "    temp_ls = temp_series[friend_names[roi]]\n",
    "\n",
    "    fig, ax = plt.subplots()\n",
    "    if just_friends == False:\n",
    "        plt.scatter(roi_loc.x, roi_loc.y, s = s, label = 'other objects', edgecolor = 'k', linewidth ='1',c= temp_series_list,cmap=plt.cm.spectral , marker =\"o\", alpha = 1)\n",
    "        plt.colorbar()\n",
    "        plt.clim(-1,1)\n",
    "\n",
    "        \n",
    "    if just_friends == True:    \n",
    "        plt.scatter(roi_loc.x, roi_loc.y, s = s, label = 'other objects', edgecolor = 'k', linewidth ='1',color= 'w' , marker =\"o\", alpha = 0.25)\n",
    "        plt.scatter(roi_loc.x[friend_names[roi]], roi_loc.y[friend_names[roi]], label = 'Friends', s=s, edgecolor = 'k', linewidth ='1',c =temp_ls, cmap=plt.cm.spectral , marker =\"o\", alpha = 1)\n",
    "        plt.colorbar()\n",
    "        plt.clim(r,1)\n",
    "        \n",
    "    plt.scatter(roi_loc.x[roi], roi_loc.y[roi], label = roi, s=(s+25), edgecolor = 'k', marker =\"o\", alpha = 1, color = 'w')\n",
    "    neighborhood = patches.Circle(xy = (roi_loc.x[roi], roi_loc.y[roi]), radius=d, fill = False, color= 'w', lw = 1, ls = 'solid')\n",
    "    ax.add_artist(neighborhood)\n",
    "    \n",
    "    width, height = im.size\n",
    "    plt.xlim(xmin=0, xmax=width)\n",
    "    plt.ylim(ymin = 0, ymax = height)\n",
    "    plt.title(roi)\n",
    "    plt.imshow(im)\n",
    "    #plt.legend(loc = 'center left')\n",
    "\n",
    "    #plt.show()\n",
    "    plt.savefig(r'%s/friend_2d(r=%s)(d=%s).png' %(folder,r,d))\n",
    "    \n",
    "def all_roi_line_pdfs(dataframe, num_rois, ymin, ymax, events_x, events_y, folder):\n",
    "    \n",
    "    for r in np.arange(num_rois):\n",
    "        \n",
    "        plt.figure()\n",
    "        plt.xlabel('Time (s)')\n",
    "        plt.ylabel('Intensity')\n",
    "        plt.title(dataframe.columns[r])\n",
    "        plt.ylim(ymin = ymin, ymax = ymax)\n",
    "        plt.xlim(xmin= dataframe.index[0], xmax = dataframe.index[-1])\n",
    "        plt.plot(dataframe.index, dataframe.ix[:,r], color = [np.random.random(), np.random.random(), np.random.random()])\n",
    "        plt.plot(events_x[dataframe.columns[r]], events_y[dataframe.columns[r]],  marker = \"^\", color=\"y\", linestyle= \"None\")\n",
    "        \n",
    "        plt.savefig(r'%s/plots/%s.pdf' %(folder,dataframe.columns[r]))\n",
    "        plt.close()\n",
    "        \n",
    "def roi_line_plot(roi, dataframe, events_x, events_y, ymin, ymax):\n",
    "    \n",
    "    plt.figure()\n",
    "    plt.xlabel('Time (s)')\n",
    "    plt.ylabel('Intensity')\n",
    "    plt.title(roi)\n",
    "    plt.ylim(ymin = ymin, ymax = ymax)\n",
    "    plt.xlim(xmin= dataframe.index[0], xmax = dataframe.index[-1])\n",
    "    plt.plot(dataframe.index, dataframe.ix[:,roi], color = 'k')\n",
    "    plt.plot(events_x[roi], events_y[roi],  marker = \"^\", color=\"y\", linestyle= \"None\")\n",
    "\n",
    "    plt.show()\n",
    "    \n",
    "    \n",
    "def friend_roi_line(data, friend_names, roi, folder):\n",
    "    plt.figure()\n",
    "    plt.plot(data.index, data[friend_names[roi]], color = '#FF6600')\n",
    "    plt.plot(data.index, data[roi], color = 'k',)\n",
    "    plt.ylim(ymin = 0, ymax = max(data.max()))\n",
    "    plt.title(roi)\n",
    "\n",
    "    #plt.show()\n",
    "    plt.savefig(r'%s/friend_line(r=%s)(d=%s).png' %(folder,r,d))\n",
    "    \n",
    "def friend_roi_line_average(data, friend_names, roi):\n",
    "    roi_average = data[friend_names[roi]].mean(1)\n",
    "    roi_std = data[friend_names[roi]].std(1)\n",
    "    print \"the average of the std of each point is\", round(np.mean(roi_std),4), \"for\", roi, \"and its friends.\"\n",
    "\n",
    "    plt.figure()\n",
    "    plt.plot(data[friend_names[roi]].mean(1))\n",
    "    plt.ylim(ymin = 0, ymax = max(data.max()))\n",
    "    plt.title('Average of '+roi+' and its friends')\n",
    "    plt.show()\n",
    "\n",
    "def boxandwhiskers(roi, flavor,data_corr, roi_dist, r, d):\n",
    "    '''\n",
    "    Returns the box and whiskers plot of a named ROI's friends or neighbors.\n",
    "    \n",
    "    '''\n",
    "    if flavor == 'corr':\n",
    "        temp_series = data_corr[roi]\n",
    "        temp_series = temp_series[temp_series>r]\n",
    "        plt.boxplot(temp_series)\n",
    "        plt.ylim(ymin = r*0.85, ymax = 1.1)\n",
    "        plt.xticks(np.arange(1),roi)\n",
    "        plt.title(roi)\n",
    "        plt.text(0.55,r,temp_series.describe())\n",
    "        plt.ylabel('Correlation (r)')\n",
    "        plt.show()\n",
    "        \n",
    "    \n",
    "    elif flavor == 'dist':\n",
    "        temp_series = roi_dist[roi]\n",
    "        temp_series = temp_series[temp_series<=d]\n",
    "        plt.boxplot(temp_series)\n",
    "        plt.ylim(ymin = -3, ymax = d*1.25)\n",
    "        plt.xticks(np.arange(1),roi)\n",
    "        plt.title(roi)\n",
    "        plt.text(0.55,d*0.5,temp_series.describe())\n",
    "        plt.ylabel('Distance (pixels)')\n",
    "        plt.show()\n",
    "        \n",
    "        \n",
    "    else:\n",
    "        print \"ERROR: flavor must be set to either 'corr' or 'dist'.\"        \n",
    "        \n",
    "print \"RAAIM Ready for Analysis\""
   ]
  },
  {
   "cell_type": "markdown",
   "metadata": {},
   "source": [
    "# I. Begin User Input"
   ]
  },
  {
   "cell_type": "markdown",
   "metadata": {},
   "source": [
    "This whole notebook is especially formated for LC_pro outputs. This means that the load functions and wrappers expect that certain columns are in exactly the right locations and labels are formatted a certain way. This author does not expect other types of files to be handled properly (as in: will probably fail). "
   ]
  },
  {
   "cell_type": "markdown",
   "metadata": {},
   "source": [
    "## ------------------------------- An Important note about saving!  -------------------------------"
   ]
  },
  {
   "cell_type": "markdown",
   "metadata": {},
   "source": [
    "This notebook is brutal and will mercilessly **save over exsisting files of the same name without warning!**\n",
    "\n",
    "You can manually change the name of the saved file one way: \n",
    "\n",
    "Change part of the text portion of the VARIBLE.to_csv(r'%s/**OBJECT**.csv' %(folder)). you can change **OBJECT** to whatever you want. go nuts. \n",
    "\n",
    "Remember, only you can keep all your files organized and named properly. I'm just here to help. Use a naming convention that is simple and easy to understand/remember. You can totally move ALL of these files to anywhere once you've run this analysis. It won't break stuff."
   ]
  },
  {
   "cell_type": "markdown",
   "metadata": {},
   "source": [
    "## ------------------------------------------------------------------------------------------------------"
   ]
  },
  {
   "cell_type": "markdown",
   "metadata": {},
   "source": [
    "## A. Declare Your Folder"
   ]
  },
  {
   "cell_type": "markdown",
   "metadata": {},
   "source": [
    "Change the following string below to the location of the folder where your data is. You will also save all of your data in this folder. Must be full path name and not end in a /.\n",
    "\n",
    "**Example:**\n",
    "\n",
    "\"/Users/abigaildobyns/Desktop/RAAIM\""
   ]
  },
  {
   "cell_type": "code",
   "execution_count": 5,
   "metadata": {
    "collapsed": false,
    "jupyter": {
     "outputs_hidden": false
    }
   },
   "outputs": [
    {
     "name": "stdout",
     "output_type": "stream",
     "text": [
      "Loaded 'ROI normalized.txt'\n",
      "Loaded 'Parameter List_edited.txt'\n",
      "Loaded 'rgb.png'\n"
     ]
    },
    {
     "name": "stderr",
     "output_type": "stream",
     "text": [
      "C:\\Users\\labuser\\.conda\\envs\\RAIM\\lib\\site-packages\\ipykernel_launcher.py:50: SettingWithCopyWarning: \n",
      "A value is trying to be set on a copy of a slice from a DataFrame\n",
      "\n",
      "See the caveats in the documentation: http://pandas.pydata.org/pandas-docs/stable/indexing.html#indexing-view-versus-copy\n"
     ]
    },
    {
     "ename": "KeyError",
     "evalue": "\"['Roi69', 'Roi59'] not in index\"",
     "output_type": "error",
     "traceback": [
      "\u001b[1;31m---------------------------------------------------------------------------\u001b[0m",
      "\u001b[1;31mKeyError\u001b[0m                                  Traceback (most recent call last)",
      "\u001b[1;32m<ipython-input-5-38cf16cb5e9b>\u001b[0m in \u001b[0;36m<module>\u001b[1;34m()\u001b[0m\n\u001b[0;32m      1\u001b[0m \u001b[0mfolder\u001b[0m \u001b[1;33m=\u001b[0m \u001b[1;34mr'J:\\MCA-Rec-CMichelle\\c-d-r-30K_2020_06_02__13_32_15\\c-d-r-30K_2020_06_02__13_32_15.tif Output'\u001b[0m\u001b[1;33m\u001b[0m\u001b[0m\n\u001b[1;32m----> 2\u001b[1;33m \u001b[0mdata\u001b[0m\u001b[1;33m,\u001b[0m \u001b[0mroi_param\u001b[0m\u001b[1;33m,\u001b[0m \u001b[0mim\u001b[0m\u001b[1;33m,\u001b[0m \u001b[0mroi_loc\u001b[0m\u001b[1;33m,\u001b[0m \u001b[0mroi_x\u001b[0m\u001b[1;33m,\u001b[0m \u001b[0mroi_y\u001b[0m\u001b[1;33m,\u001b[0m \u001b[0mevents_x\u001b[0m\u001b[1;33m,\u001b[0m \u001b[0mevents_y\u001b[0m \u001b[1;33m=\u001b[0m \u001b[0mload_RAAIM\u001b[0m\u001b[1;33m(\u001b[0m\u001b[0mfolder\u001b[0m\u001b[1;33m=\u001b[0m\u001b[0mfolder\u001b[0m\u001b[1;33m,\u001b[0m \u001b[0moriginal\u001b[0m\u001b[1;33m=\u001b[0m\u001b[0mFalse\u001b[0m\u001b[1;33m)\u001b[0m\u001b[1;33m\u001b[0m\u001b[0m\n\u001b[0m\u001b[0;32m      3\u001b[0m \u001b[0mroi\u001b[0m \u001b[1;33m=\u001b[0m \u001b[1;34m'Roi20'\u001b[0m\u001b[1;33m\u001b[0m\u001b[0m\n\u001b[0;32m      4\u001b[0m \u001b[1;33m\u001b[0m\u001b[0m\n\u001b[0;32m      5\u001b[0m \u001b[0mr\u001b[0m \u001b[1;33m=\u001b[0m \u001b[1;36m.8\u001b[0m \u001b[1;31m#set r value, must be -1<= r <=1\u001b[0m\u001b[1;33m\u001b[0m\u001b[0m\n",
      "\u001b[1;32m<ipython-input-1-40bd48eef83d>\u001b[0m in \u001b[0;36mload_RAAIM\u001b[1;34m(folder, original)\u001b[0m\n\u001b[0;32m     31\u001b[0m \u001b[1;33m\u001b[0m\u001b[0m\n\u001b[0;32m     32\u001b[0m     \u001b[1;32mdel\u001b[0m \u001b[0mdata\u001b[0m\u001b[1;33m[\u001b[0m\u001b[1;34m'Unnamed: 0'\u001b[0m\u001b[1;33m]\u001b[0m \u001b[1;31m#lc_pro outputs a weird blank column named this everytime. I don't know why, but it does. this line deletes it safely.\u001b[0m\u001b[1;33m\u001b[0m\u001b[0m\n\u001b[1;32m---> 33\u001b[1;33m     \u001b[0mroi_loc\u001b[0m\u001b[1;33m,\u001b[0m \u001b[0mroi_x\u001b[0m\u001b[1;33m,\u001b[0m \u001b[0mroi_y\u001b[0m\u001b[1;33m,\u001b[0m \u001b[0mdata\u001b[0m \u001b[1;33m=\u001b[0m \u001b[0mlcpro_param_parse\u001b[0m\u001b[1;33m(\u001b[0m\u001b[0mroi_param\u001b[0m\u001b[1;33m,\u001b[0m \u001b[0mdata\u001b[0m \u001b[1;33m,\u001b[0m \u001b[0moriginal\u001b[0m \u001b[1;33m=\u001b[0m \u001b[0moriginal\u001b[0m\u001b[1;33m)\u001b[0m\u001b[1;33m\u001b[0m\u001b[0m\n\u001b[0m\u001b[0;32m     34\u001b[0m     \u001b[1;32mprint\u001b[0m \u001b[1;34m\"Configured Data\"\u001b[0m\u001b[1;33m\u001b[0m\u001b[0m\n\u001b[0;32m     35\u001b[0m \u001b[1;33m\u001b[0m\u001b[0m\n",
      "\u001b[1;32m<ipython-input-1-40bd48eef83d>\u001b[0m in \u001b[0;36mlcpro_param_parse\u001b[1;34m(roi_param, data, original)\u001b[0m\n\u001b[0;32m     61\u001b[0m \u001b[1;33m\u001b[0m\u001b[0m\n\u001b[0;32m     62\u001b[0m     \u001b[1;32mif\u001b[0m \u001b[0moriginal\u001b[0m \u001b[1;33m==\u001b[0m \u001b[0mFalse\u001b[0m\u001b[1;33m:\u001b[0m\u001b[1;33m\u001b[0m\u001b[0m\n\u001b[1;32m---> 63\u001b[1;33m         \u001b[0mdata\u001b[0m \u001b[1;33m=\u001b[0m \u001b[0mdata\u001b[0m\u001b[1;33m[\u001b[0m\u001b[0mroi_loc\u001b[0m\u001b[1;33m.\u001b[0m\u001b[0mindex\u001b[0m\u001b[1;33m]\u001b[0m\u001b[1;33m\u001b[0m\u001b[0m\n\u001b[0m\u001b[0;32m     64\u001b[0m \u001b[1;33m\u001b[0m\u001b[0m\n\u001b[0;32m     65\u001b[0m     \u001b[0mtruth\u001b[0m \u001b[1;33m=\u001b[0m \u001b[1;33m(\u001b[0m\u001b[0mdata\u001b[0m\u001b[1;33m.\u001b[0m\u001b[0mcolumns\u001b[0m \u001b[1;33m==\u001b[0m \u001b[0mroi_loc\u001b[0m\u001b[1;33m.\u001b[0m\u001b[0mindex\u001b[0m\u001b[1;33m)\u001b[0m\u001b[1;33m.\u001b[0m\u001b[0mtolist\u001b[0m\u001b[1;33m(\u001b[0m\u001b[1;33m)\u001b[0m\u001b[1;33m\u001b[0m\u001b[0m\n",
      "\u001b[1;32mC:\\Users\\labuser\\.conda\\envs\\RAIM\\lib\\site-packages\\pandas\\core\\frame.pyc\u001b[0m in \u001b[0;36m__getitem__\u001b[1;34m(self, key)\u001b[0m\n\u001b[0;32m   2932\u001b[0m                 \u001b[0mkey\u001b[0m \u001b[1;33m=\u001b[0m \u001b[0mlist\u001b[0m\u001b[1;33m(\u001b[0m\u001b[0mkey\u001b[0m\u001b[1;33m)\u001b[0m\u001b[1;33m\u001b[0m\u001b[0m\n\u001b[0;32m   2933\u001b[0m             indexer = self.loc._convert_to_indexer(key, axis=1,\n\u001b[1;32m-> 2934\u001b[1;33m                                                    raise_missing=True)\n\u001b[0m\u001b[0;32m   2935\u001b[0m \u001b[1;33m\u001b[0m\u001b[0m\n\u001b[0;32m   2936\u001b[0m         \u001b[1;31m# take() does not accept boolean indexers\u001b[0m\u001b[1;33m\u001b[0m\u001b[1;33m\u001b[0m\u001b[0m\n",
      "\u001b[1;32mC:\\Users\\labuser\\.conda\\envs\\RAIM\\lib\\site-packages\\pandas\\core\\indexing.pyc\u001b[0m in \u001b[0;36m_convert_to_indexer\u001b[1;34m(self, obj, axis, is_setter, raise_missing)\u001b[0m\n\u001b[0;32m   1352\u001b[0m                 kwargs = {'raise_missing': True if is_setter else\n\u001b[0;32m   1353\u001b[0m                           raise_missing}\n\u001b[1;32m-> 1354\u001b[1;33m                 \u001b[1;32mreturn\u001b[0m \u001b[0mself\u001b[0m\u001b[1;33m.\u001b[0m\u001b[0m_get_listlike_indexer\u001b[0m\u001b[1;33m(\u001b[0m\u001b[0mobj\u001b[0m\u001b[1;33m,\u001b[0m \u001b[0maxis\u001b[0m\u001b[1;33m,\u001b[0m \u001b[1;33m**\u001b[0m\u001b[0mkwargs\u001b[0m\u001b[1;33m)\u001b[0m\u001b[1;33m[\u001b[0m\u001b[1;36m1\u001b[0m\u001b[1;33m]\u001b[0m\u001b[1;33m\u001b[0m\u001b[0m\n\u001b[0m\u001b[0;32m   1355\u001b[0m         \u001b[1;32melse\u001b[0m\u001b[1;33m:\u001b[0m\u001b[1;33m\u001b[0m\u001b[0m\n\u001b[0;32m   1356\u001b[0m             \u001b[1;32mtry\u001b[0m\u001b[1;33m:\u001b[0m\u001b[1;33m\u001b[0m\u001b[0m\n",
      "\u001b[1;32mC:\\Users\\labuser\\.conda\\envs\\RAIM\\lib\\site-packages\\pandas\\core\\indexing.pyc\u001b[0m in \u001b[0;36m_get_listlike_indexer\u001b[1;34m(self, key, axis, raise_missing)\u001b[0m\n\u001b[0;32m   1159\u001b[0m         self._validate_read_indexer(keyarr, indexer,\n\u001b[0;32m   1160\u001b[0m                                     \u001b[0mo\u001b[0m\u001b[1;33m.\u001b[0m\u001b[0m_get_axis_number\u001b[0m\u001b[1;33m(\u001b[0m\u001b[0maxis\u001b[0m\u001b[1;33m)\u001b[0m\u001b[1;33m,\u001b[0m\u001b[1;33m\u001b[0m\u001b[0m\n\u001b[1;32m-> 1161\u001b[1;33m                                     raise_missing=raise_missing)\n\u001b[0m\u001b[0;32m   1162\u001b[0m         \u001b[1;32mreturn\u001b[0m \u001b[0mkeyarr\u001b[0m\u001b[1;33m,\u001b[0m \u001b[0mindexer\u001b[0m\u001b[1;33m\u001b[0m\u001b[0m\n\u001b[0;32m   1163\u001b[0m \u001b[1;33m\u001b[0m\u001b[0m\n",
      "\u001b[1;32mC:\\Users\\labuser\\.conda\\envs\\RAIM\\lib\\site-packages\\pandas\\core\\indexing.pyc\u001b[0m in \u001b[0;36m_validate_read_indexer\u001b[1;34m(self, key, indexer, axis, raise_missing)\u001b[0m\n\u001b[0;32m   1250\u001b[0m             \u001b[1;32mif\u001b[0m \u001b[1;32mnot\u001b[0m\u001b[1;33m(\u001b[0m\u001b[0mself\u001b[0m\u001b[1;33m.\u001b[0m\u001b[0mname\u001b[0m \u001b[1;33m==\u001b[0m \u001b[1;34m'loc'\u001b[0m \u001b[1;32mand\u001b[0m \u001b[1;32mnot\u001b[0m \u001b[0mraise_missing\u001b[0m\u001b[1;33m)\u001b[0m\u001b[1;33m:\u001b[0m\u001b[1;33m\u001b[0m\u001b[0m\n\u001b[0;32m   1251\u001b[0m                 \u001b[0mnot_found\u001b[0m \u001b[1;33m=\u001b[0m \u001b[0mlist\u001b[0m\u001b[1;33m(\u001b[0m\u001b[0mset\u001b[0m\u001b[1;33m(\u001b[0m\u001b[0mkey\u001b[0m\u001b[1;33m)\u001b[0m \u001b[1;33m-\u001b[0m \u001b[0mset\u001b[0m\u001b[1;33m(\u001b[0m\u001b[0max\u001b[0m\u001b[1;33m)\u001b[0m\u001b[1;33m)\u001b[0m\u001b[1;33m\u001b[0m\u001b[0m\n\u001b[1;32m-> 1252\u001b[1;33m                 \u001b[1;32mraise\u001b[0m \u001b[0mKeyError\u001b[0m\u001b[1;33m(\u001b[0m\u001b[1;34m\"{} not in index\"\u001b[0m\u001b[1;33m.\u001b[0m\u001b[0mformat\u001b[0m\u001b[1;33m(\u001b[0m\u001b[0mnot_found\u001b[0m\u001b[1;33m)\u001b[0m\u001b[1;33m)\u001b[0m\u001b[1;33m\u001b[0m\u001b[0m\n\u001b[0m\u001b[0;32m   1253\u001b[0m \u001b[1;33m\u001b[0m\u001b[0m\n\u001b[0;32m   1254\u001b[0m             \u001b[1;31m# we skip the warning on Categorical/Interval\u001b[0m\u001b[1;33m\u001b[0m\u001b[1;33m\u001b[0m\u001b[0m\n",
      "\u001b[1;31mKeyError\u001b[0m: \"['Roi69', 'Roi59'] not in index\""
     ]
    }
   ],
   "source": [
    "folder = r'J:\\MCA-Rec-CMichelle\\c-d-r-30K_2020_06_02__13_32_15\\c-d-r-30K_2020_06_02__13_32_15.tif Output'\n",
    "data, roi_param, im, roi_loc, roi_x, roi_y, events_x, events_y = load_RAAIM(folder=folder, original=False)\n",
    "roi = 'Roi20'\n",
    "\n",
    "r = .8 #set r value, must be -1<= r <=1\n",
    "d = 100 # set the maximum distance from an ROI that is the threshold for neighborhood\n",
    "data_corr, friend_names, correlation_summary = cross_correlation(data, r)\n",
    "data_corr.to_csv(r'%s/xcor(r=%s)(d=%s).csv' %(folder,r,d))\n",
    "correlation_summary.to_csv(r'%s/xcor_summary(r=%s)(d=%s).csv'%(folder,r,d))\n",
    "roi_dist, loc_tup, neighbor_names, distance_summary = distance_matrix(roi_x, roi_y , roi_loc , d)\n",
    "roi_dist.to_csv(r'%s/dist_matrix(r=%s)(d=%s).csv' %(folder,r,d))\n",
    "distance_summary.to_csv(r'%s/dist_summary(r=%s)(d=%s).csv' %(folder,r,d))\n",
    "friend_distances = friend_dist(data_corr, roi_dist, friend_names, r, d)\n",
    "friend_dist_sum = friend_distances.describe()\n",
    "friend_distances.to_csv(r'%s/friend_distances(r=%s)(d=%s).csv' %(folder,r,d))\n",
    "friend_dist_sum.to_csv(r'%s/friend_distances_summary(r=%s)(d=%s).csv' %(folder,r,d))\n",
    "neighbor_correlation = neighbor_corr(roi_dist, data_corr, neighbor_names, r, d)\n",
    "neighbor_corr_sum = neighbor_correlation.describe()\n",
    "neighbor_correlation.to_csv(r'%s/neighbor_correlation(r=%s)(d=%s).csv' %(folder,r,d))\n",
    "neighbor_corr_sum.to_csv(r'%s/neighbor_correlation_summary(r=%s)(d=%s).csv' %(folder,r,d))\n",
    "\n",
    "friend_roi_line(data, friend_names, roi = roi, folder = folder)\n",
    "#fig1.savefig(r'%s/friend_line.png' %(folder))\n",
    "#friend_roi_2d(data_corr , friend_names, roi_loc, r, d, roi = roi, just_friends = True, s = 100)\n",
    "#fig2.savefig(r'%s/friend_2d.png' %(folder))\n",
    "\n",
    "#friend_roi_line.to_png(r'%s/line_plot_with_friends.png' %(folder))\n",
    "\n",
    "#all_roi_line_pdfs(data, num_rois = len(data.columns), ymin = 0, ymax=max(data.max()), events_x = events_x, events_y = events_y, folder = folder)\n",
    "\n",
    "friend_dist_sum[['Number of Friends', 'Mean Dist', 'Percentage of Friends that are Neighbors']]\n",
    "\n",
    "#neighbor_corr_sum[['Number of Neighbors', 'Percentage of Neighbors that are Friends']]"
   ]
  },
  {
   "cell_type": "markdown",
   "metadata": {},
   "source": [
    "## B. Load"
   ]
  },
  {
   "cell_type": "markdown",
   "metadata": {},
   "source": [
    "Use the following block below to load your data. There should be three files in this folder:\n",
    "\n",
    "1. 'ROI normalized.txt'\n",
    "\n",
    "2. 'Parameter List_edit.txt'\n",
    "\n",
    "3. 'rbg.png'\n",
    "\n",
    "There should be no headers (other than column names) in the text files. the text files can be either .txt or .csv. if you have problems loading them, make sure that the data is not corrupted, it is in the correct file type, the delimiter is correct, and the file path is correct. \n",
    "\n",
    "the image still can be just a random frame or the averaged or compressed stack. it must be convered to RGB and saved as .png."
   ]
  },
  {
   "cell_type": "markdown",
   "metadata": {},
   "source": [
    "###### if you get a *SettingWithCopyWarning*,  **Don't worry, that's normal**. I know that you are setting with a copy. It's on purpose"
   ]
  },
  {
   "cell_type": "code",
   "execution_count": 86,
   "metadata": {
    "collapsed": false,
    "jupyter": {
     "outputs_hidden": false
    }
   },
   "outputs": [
    {
     "name": "stdout",
     "output_type": "stream",
     "text": [
      "Loaded 'ROI normalized.txt'\n",
      "Loaded 'Parameter List.txt'\n",
      "Loaded 'rgb.png'\n"
     ]
    },
    {
     "name": "stderr",
     "output_type": "stream",
     "text": [
      "C:\\Users\\labuser\\.conda\\envs\\RAIM\\lib\\site-packages\\ipykernel_launcher.py:50: SettingWithCopyWarning: \n",
      "A value is trying to be set on a copy of a slice from a DataFrame\n",
      "\n",
      "See the caveats in the documentation: http://pandas.pydata.org/pandas-docs/stable/indexing.html#indexing-view-versus-copy\n"
     ]
    },
    {
     "ename": "KeyError",
     "evalue": "\"['Roi69', 'Roi59'] not in index\"",
     "output_type": "error",
     "traceback": [
      "\u001b[1;31m---------------------------------------------------------------------------\u001b[0m",
      "\u001b[1;31mKeyError\u001b[0m                                  Traceback (most recent call last)",
      "\u001b[1;32m<ipython-input-86-2422a6bb40e2>\u001b[0m in \u001b[0;36m<module>\u001b[1;34m()\u001b[0m\n\u001b[1;32m----> 1\u001b[1;33m \u001b[0mdata\u001b[0m\u001b[1;33m,\u001b[0m \u001b[0mroi_param\u001b[0m\u001b[1;33m,\u001b[0m \u001b[0mim\u001b[0m\u001b[1;33m,\u001b[0m \u001b[0mroi_loc\u001b[0m\u001b[1;33m,\u001b[0m \u001b[0mroi_x\u001b[0m\u001b[1;33m,\u001b[0m \u001b[0mroi_y\u001b[0m\u001b[1;33m,\u001b[0m \u001b[0mevents_x\u001b[0m\u001b[1;33m,\u001b[0m \u001b[0mevents_y\u001b[0m \u001b[1;33m=\u001b[0m \u001b[0mload_RAAIM\u001b[0m\u001b[1;33m(\u001b[0m\u001b[0mfolder\u001b[0m\u001b[1;33m=\u001b[0m\u001b[0mfolder\u001b[0m\u001b[1;33m,\u001b[0m \u001b[0moriginal\u001b[0m\u001b[1;33m=\u001b[0m\u001b[0mFalse\u001b[0m\u001b[1;33m)\u001b[0m\u001b[1;33m\u001b[0m\u001b[0m\n\u001b[0m",
      "\u001b[1;32m<ipython-input-81-c0d20b843cbe>\u001b[0m in \u001b[0;36mload_RAAIM\u001b[1;34m(folder, original)\u001b[0m\n\u001b[0;32m     31\u001b[0m \u001b[1;33m\u001b[0m\u001b[0m\n\u001b[0;32m     32\u001b[0m     \u001b[1;32mdel\u001b[0m \u001b[0mdata\u001b[0m\u001b[1;33m[\u001b[0m\u001b[1;34m'Unnamed: 0'\u001b[0m\u001b[1;33m]\u001b[0m \u001b[1;31m#lc_pro outputs a weird blank column named this everytime. I don't know why, but it does. this line deletes it safely.\u001b[0m\u001b[1;33m\u001b[0m\u001b[0m\n\u001b[1;32m---> 33\u001b[1;33m     \u001b[0mroi_loc\u001b[0m\u001b[1;33m,\u001b[0m \u001b[0mroi_x\u001b[0m\u001b[1;33m,\u001b[0m \u001b[0mroi_y\u001b[0m\u001b[1;33m,\u001b[0m \u001b[0mdata\u001b[0m \u001b[1;33m=\u001b[0m \u001b[0mlcpro_param_parse\u001b[0m\u001b[1;33m(\u001b[0m\u001b[0mroi_param\u001b[0m\u001b[1;33m,\u001b[0m \u001b[0mdata\u001b[0m \u001b[1;33m,\u001b[0m \u001b[0moriginal\u001b[0m \u001b[1;33m=\u001b[0m \u001b[0moriginal\u001b[0m\u001b[1;33m)\u001b[0m\u001b[1;33m\u001b[0m\u001b[0m\n\u001b[0m\u001b[0;32m     34\u001b[0m     \u001b[1;32mprint\u001b[0m \u001b[1;34m\"Configured Data\"\u001b[0m\u001b[1;33m\u001b[0m\u001b[0m\n\u001b[0;32m     35\u001b[0m \u001b[1;33m\u001b[0m\u001b[0m\n",
      "\u001b[1;32m<ipython-input-81-c0d20b843cbe>\u001b[0m in \u001b[0;36mlcpro_param_parse\u001b[1;34m(roi_param, data, original)\u001b[0m\n\u001b[0;32m     61\u001b[0m \u001b[1;33m\u001b[0m\u001b[0m\n\u001b[0;32m     62\u001b[0m     \u001b[1;32mif\u001b[0m \u001b[0moriginal\u001b[0m \u001b[1;33m==\u001b[0m \u001b[0mFalse\u001b[0m\u001b[1;33m:\u001b[0m\u001b[1;33m\u001b[0m\u001b[0m\n\u001b[1;32m---> 63\u001b[1;33m         \u001b[0mdata\u001b[0m \u001b[1;33m=\u001b[0m \u001b[0mdata\u001b[0m\u001b[1;33m[\u001b[0m\u001b[0mroi_loc\u001b[0m\u001b[1;33m.\u001b[0m\u001b[0mindex\u001b[0m\u001b[1;33m]\u001b[0m\u001b[1;33m\u001b[0m\u001b[0m\n\u001b[0m\u001b[0;32m     64\u001b[0m \u001b[1;33m\u001b[0m\u001b[0m\n\u001b[0;32m     65\u001b[0m     \u001b[0mtruth\u001b[0m \u001b[1;33m=\u001b[0m \u001b[1;33m(\u001b[0m\u001b[0mdata\u001b[0m\u001b[1;33m.\u001b[0m\u001b[0mcolumns\u001b[0m \u001b[1;33m==\u001b[0m \u001b[0mroi_loc\u001b[0m\u001b[1;33m.\u001b[0m\u001b[0mindex\u001b[0m\u001b[1;33m)\u001b[0m\u001b[1;33m.\u001b[0m\u001b[0mtolist\u001b[0m\u001b[1;33m(\u001b[0m\u001b[1;33m)\u001b[0m\u001b[1;33m\u001b[0m\u001b[0m\n",
      "\u001b[1;32mC:\\Users\\labuser\\.conda\\envs\\RAIM\\lib\\site-packages\\pandas\\core\\frame.pyc\u001b[0m in \u001b[0;36m__getitem__\u001b[1;34m(self, key)\u001b[0m\n\u001b[0;32m   2932\u001b[0m                 \u001b[0mkey\u001b[0m \u001b[1;33m=\u001b[0m \u001b[0mlist\u001b[0m\u001b[1;33m(\u001b[0m\u001b[0mkey\u001b[0m\u001b[1;33m)\u001b[0m\u001b[1;33m\u001b[0m\u001b[0m\n\u001b[0;32m   2933\u001b[0m             indexer = self.loc._convert_to_indexer(key, axis=1,\n\u001b[1;32m-> 2934\u001b[1;33m                                                    raise_missing=True)\n\u001b[0m\u001b[0;32m   2935\u001b[0m \u001b[1;33m\u001b[0m\u001b[0m\n\u001b[0;32m   2936\u001b[0m         \u001b[1;31m# take() does not accept boolean indexers\u001b[0m\u001b[1;33m\u001b[0m\u001b[1;33m\u001b[0m\u001b[0m\n",
      "\u001b[1;32mC:\\Users\\labuser\\.conda\\envs\\RAIM\\lib\\site-packages\\pandas\\core\\indexing.pyc\u001b[0m in \u001b[0;36m_convert_to_indexer\u001b[1;34m(self, obj, axis, is_setter, raise_missing)\u001b[0m\n\u001b[0;32m   1352\u001b[0m                 kwargs = {'raise_missing': True if is_setter else\n\u001b[0;32m   1353\u001b[0m                           raise_missing}\n\u001b[1;32m-> 1354\u001b[1;33m                 \u001b[1;32mreturn\u001b[0m \u001b[0mself\u001b[0m\u001b[1;33m.\u001b[0m\u001b[0m_get_listlike_indexer\u001b[0m\u001b[1;33m(\u001b[0m\u001b[0mobj\u001b[0m\u001b[1;33m,\u001b[0m \u001b[0maxis\u001b[0m\u001b[1;33m,\u001b[0m \u001b[1;33m**\u001b[0m\u001b[0mkwargs\u001b[0m\u001b[1;33m)\u001b[0m\u001b[1;33m[\u001b[0m\u001b[1;36m1\u001b[0m\u001b[1;33m]\u001b[0m\u001b[1;33m\u001b[0m\u001b[0m\n\u001b[0m\u001b[0;32m   1355\u001b[0m         \u001b[1;32melse\u001b[0m\u001b[1;33m:\u001b[0m\u001b[1;33m\u001b[0m\u001b[0m\n\u001b[0;32m   1356\u001b[0m             \u001b[1;32mtry\u001b[0m\u001b[1;33m:\u001b[0m\u001b[1;33m\u001b[0m\u001b[0m\n",
      "\u001b[1;32mC:\\Users\\labuser\\.conda\\envs\\RAIM\\lib\\site-packages\\pandas\\core\\indexing.pyc\u001b[0m in \u001b[0;36m_get_listlike_indexer\u001b[1;34m(self, key, axis, raise_missing)\u001b[0m\n\u001b[0;32m   1159\u001b[0m         self._validate_read_indexer(keyarr, indexer,\n\u001b[0;32m   1160\u001b[0m                                     \u001b[0mo\u001b[0m\u001b[1;33m.\u001b[0m\u001b[0m_get_axis_number\u001b[0m\u001b[1;33m(\u001b[0m\u001b[0maxis\u001b[0m\u001b[1;33m)\u001b[0m\u001b[1;33m,\u001b[0m\u001b[1;33m\u001b[0m\u001b[0m\n\u001b[1;32m-> 1161\u001b[1;33m                                     raise_missing=raise_missing)\n\u001b[0m\u001b[0;32m   1162\u001b[0m         \u001b[1;32mreturn\u001b[0m \u001b[0mkeyarr\u001b[0m\u001b[1;33m,\u001b[0m \u001b[0mindexer\u001b[0m\u001b[1;33m\u001b[0m\u001b[0m\n\u001b[0;32m   1163\u001b[0m \u001b[1;33m\u001b[0m\u001b[0m\n",
      "\u001b[1;32mC:\\Users\\labuser\\.conda\\envs\\RAIM\\lib\\site-packages\\pandas\\core\\indexing.pyc\u001b[0m in \u001b[0;36m_validate_read_indexer\u001b[1;34m(self, key, indexer, axis, raise_missing)\u001b[0m\n\u001b[0;32m   1250\u001b[0m             \u001b[1;32mif\u001b[0m \u001b[1;32mnot\u001b[0m\u001b[1;33m(\u001b[0m\u001b[0mself\u001b[0m\u001b[1;33m.\u001b[0m\u001b[0mname\u001b[0m \u001b[1;33m==\u001b[0m \u001b[1;34m'loc'\u001b[0m \u001b[1;32mand\u001b[0m \u001b[1;32mnot\u001b[0m \u001b[0mraise_missing\u001b[0m\u001b[1;33m)\u001b[0m\u001b[1;33m:\u001b[0m\u001b[1;33m\u001b[0m\u001b[0m\n\u001b[0;32m   1251\u001b[0m                 \u001b[0mnot_found\u001b[0m \u001b[1;33m=\u001b[0m \u001b[0mlist\u001b[0m\u001b[1;33m(\u001b[0m\u001b[0mset\u001b[0m\u001b[1;33m(\u001b[0m\u001b[0mkey\u001b[0m\u001b[1;33m)\u001b[0m \u001b[1;33m-\u001b[0m \u001b[0mset\u001b[0m\u001b[1;33m(\u001b[0m\u001b[0max\u001b[0m\u001b[1;33m)\u001b[0m\u001b[1;33m)\u001b[0m\u001b[1;33m\u001b[0m\u001b[0m\n\u001b[1;32m-> 1252\u001b[1;33m                 \u001b[1;32mraise\u001b[0m \u001b[0mKeyError\u001b[0m\u001b[1;33m(\u001b[0m\u001b[1;34m\"{} not in index\"\u001b[0m\u001b[1;33m.\u001b[0m\u001b[0mformat\u001b[0m\u001b[1;33m(\u001b[0m\u001b[0mnot_found\u001b[0m\u001b[1;33m)\u001b[0m\u001b[1;33m)\u001b[0m\u001b[1;33m\u001b[0m\u001b[0m\n\u001b[0m\u001b[0;32m   1253\u001b[0m \u001b[1;33m\u001b[0m\u001b[0m\n\u001b[0;32m   1254\u001b[0m             \u001b[1;31m# we skip the warning on Categorical/Interval\u001b[0m\u001b[1;33m\u001b[0m\u001b[1;33m\u001b[0m\u001b[0m\n",
      "\u001b[1;31mKeyError\u001b[0m: \"['Roi69', 'Roi59'] not in index\""
     ]
    }
   ],
   "source": [
    "data, roi_param, im, roi_loc, roi_x, roi_y, events_x, events_y = load_RAAIM(folder=folder, original=False)"
   ]
  },
  {
   "cell_type": "markdown",
   "metadata": {},
   "source": [
    "###### Use the two cells below to check that the data and roi_loc dataframes look as expected."
   ]
  },
  {
   "cell_type": "code",
   "execution_count": 49,
   "metadata": {
    "collapsed": false,
    "jupyter": {
     "outputs_hidden": false
    }
   },
   "outputs": [
    {
     "data": {
      "text/html": [
       "<div>\n",
       "<style scoped>\n",
       "    .dataframe tbody tr th:only-of-type {\n",
       "        vertical-align: middle;\n",
       "    }\n",
       "\n",
       "    .dataframe tbody tr th {\n",
       "        vertical-align: top;\n",
       "    }\n",
       "\n",
       "    .dataframe thead th {\n",
       "        text-align: right;\n",
       "    }\n",
       "</style>\n",
       "<table border=\"1\" class=\"dataframe\">\n",
       "  <thead>\n",
       "    <tr style=\"text-align: right;\">\n",
       "      <th></th>\n",
       "      <th>Roi103</th>\n",
       "      <th>Roi155</th>\n",
       "      <th>Roi163</th>\n",
       "      <th>Roi182</th>\n",
       "      <th>Roi183</th>\n",
       "      <th>Roi262</th>\n",
       "      <th>Roi263</th>\n",
       "    </tr>\n",
       "    <tr>\n",
       "      <th>time(s)</th>\n",
       "      <th></th>\n",
       "      <th></th>\n",
       "      <th></th>\n",
       "      <th></th>\n",
       "      <th></th>\n",
       "      <th></th>\n",
       "      <th></th>\n",
       "    </tr>\n",
       "  </thead>\n",
       "  <tbody>\n",
       "    <tr>\n",
       "      <th>0.78125</th>\n",
       "      <td>1.466788</td>\n",
       "      <td>1.335666</td>\n",
       "      <td>1.184334</td>\n",
       "      <td>0.750954</td>\n",
       "      <td>0.652299</td>\n",
       "      <td>1.123929</td>\n",
       "      <td>1.268294</td>\n",
       "    </tr>\n",
       "    <tr>\n",
       "      <th>1.56250</th>\n",
       "      <td>1.518609</td>\n",
       "      <td>1.333545</td>\n",
       "      <td>1.224057</td>\n",
       "      <td>0.804359</td>\n",
       "      <td>0.753337</td>\n",
       "      <td>1.128478</td>\n",
       "      <td>1.240587</td>\n",
       "    </tr>\n",
       "    <tr>\n",
       "      <th>2.34375</th>\n",
       "      <td>1.471419</td>\n",
       "      <td>1.307122</td>\n",
       "      <td>1.250976</td>\n",
       "      <td>0.890541</td>\n",
       "      <td>0.773398</td>\n",
       "      <td>1.104293</td>\n",
       "      <td>1.169988</td>\n",
       "    </tr>\n",
       "    <tr>\n",
       "      <th>3.12500</th>\n",
       "      <td>1.586433</td>\n",
       "      <td>1.297145</td>\n",
       "      <td>1.221896</td>\n",
       "      <td>0.931873</td>\n",
       "      <td>0.796346</td>\n",
       "      <td>1.135997</td>\n",
       "      <td>1.229332</td>\n",
       "    </tr>\n",
       "    <tr>\n",
       "      <th>3.90625</th>\n",
       "      <td>1.524844</td>\n",
       "      <td>1.349051</td>\n",
       "      <td>1.205697</td>\n",
       "      <td>0.803915</td>\n",
       "      <td>0.744371</td>\n",
       "      <td>1.133380</td>\n",
       "      <td>1.214649</td>\n",
       "    </tr>\n",
       "  </tbody>\n",
       "</table>\n",
       "</div>"
      ],
      "text/plain": [
       "           Roi103    Roi155    Roi163    Roi182    Roi183    Roi262    Roi263\n",
       "time(s)                                                                      \n",
       "0.78125  1.466788  1.335666  1.184334  0.750954  0.652299  1.123929  1.268294\n",
       "1.56250  1.518609  1.333545  1.224057  0.804359  0.753337  1.128478  1.240587\n",
       "2.34375  1.471419  1.307122  1.250976  0.890541  0.773398  1.104293  1.169988\n",
       "3.12500  1.586433  1.297145  1.221896  0.931873  0.796346  1.135997  1.229332\n",
       "3.90625  1.524844  1.349051  1.205697  0.803915  0.744371  1.133380  1.214649"
      ]
     },
     "execution_count": 49,
     "metadata": {},
     "output_type": "execute_result"
    }
   ],
   "source": [
    "data.head()"
   ]
  },
  {
   "cell_type": "code",
   "execution_count": 50,
   "metadata": {
    "collapsed": false,
    "jupyter": {
     "outputs_hidden": false
    }
   },
   "outputs": [
    {
     "data": {
      "text/html": [
       "<div>\n",
       "<style scoped>\n",
       "    .dataframe tbody tr th:only-of-type {\n",
       "        vertical-align: middle;\n",
       "    }\n",
       "\n",
       "    .dataframe tbody tr th {\n",
       "        vertical-align: top;\n",
       "    }\n",
       "\n",
       "    .dataframe thead th {\n",
       "        text-align: right;\n",
       "    }\n",
       "</style>\n",
       "<table border=\"1\" class=\"dataframe\">\n",
       "  <thead>\n",
       "    <tr style=\"text-align: right;\">\n",
       "      <th></th>\n",
       "      <th>x</th>\n",
       "      <th>y</th>\n",
       "    </tr>\n",
       "  </thead>\n",
       "  <tbody>\n",
       "    <tr>\n",
       "      <th>Roi103</th>\n",
       "      <td>59</td>\n",
       "      <td>384</td>\n",
       "    </tr>\n",
       "    <tr>\n",
       "      <th>Roi155</th>\n",
       "      <td>162</td>\n",
       "      <td>258</td>\n",
       "    </tr>\n",
       "    <tr>\n",
       "      <th>Roi163</th>\n",
       "      <td>331</td>\n",
       "      <td>167</td>\n",
       "    </tr>\n",
       "    <tr>\n",
       "      <th>Roi182</th>\n",
       "      <td>399</td>\n",
       "      <td>93</td>\n",
       "    </tr>\n",
       "    <tr>\n",
       "      <th>Roi183</th>\n",
       "      <td>392</td>\n",
       "      <td>85</td>\n",
       "    </tr>\n",
       "  </tbody>\n",
       "</table>\n",
       "</div>"
      ],
      "text/plain": [
       "          x    y\n",
       "Roi103   59  384\n",
       "Roi155  162  258\n",
       "Roi163  331  167\n",
       "Roi182  399   93\n",
       "Roi183  392   85"
      ]
     },
     "execution_count": 50,
     "metadata": {},
     "output_type": "execute_result"
    }
   ],
   "source": [
    "roi_loc.head()"
   ]
  },
  {
   "cell_type": "markdown",
   "metadata": {},
   "source": [
    "# II. Analysis"
   ]
  },
  {
   "cell_type": "markdown",
   "metadata": {},
   "source": [
    "## A. Cross Correlation Matrix (friends)"
   ]
  },
  {
   "cell_type": "markdown",
   "metadata": {},
   "source": [
    "Set your r value to your threshold for significant cross correlation. This value will be used is all later calculation. If you change it, you must rerun ALL cells following to update the change."
   ]
  },
  {
   "cell_type": "code",
   "execution_count": 51,
   "metadata": {
    "collapsed": false,
    "jupyter": {
     "outputs_hidden": false
    }
   },
   "outputs": [],
   "source": [
    "r = 0.8 #set r value, must be -1<= r <=1"
   ]
  },
  {
   "cell_type": "code",
   "execution_count": 52,
   "metadata": {
    "collapsed": false,
    "jupyter": {
     "outputs_hidden": false
    }
   },
   "outputs": [
    {
     "data": {
      "text/html": [
       "<div>\n",
       "<style scoped>\n",
       "    .dataframe tbody tr th:only-of-type {\n",
       "        vertical-align: middle;\n",
       "    }\n",
       "\n",
       "    .dataframe tbody tr th {\n",
       "        vertical-align: top;\n",
       "    }\n",
       "\n",
       "    .dataframe thead th {\n",
       "        text-align: right;\n",
       "    }\n",
       "</style>\n",
       "<table border=\"1\" class=\"dataframe\">\n",
       "  <thead>\n",
       "    <tr style=\"text-align: right;\">\n",
       "      <th></th>\n",
       "      <th>Number of Friends</th>\n",
       "      <th>Roi103</th>\n",
       "      <th>Roi155</th>\n",
       "      <th>Roi163</th>\n",
       "      <th>Roi182</th>\n",
       "      <th>Roi183</th>\n",
       "      <th>Roi262</th>\n",
       "      <th>Roi263</th>\n",
       "    </tr>\n",
       "  </thead>\n",
       "  <tbody>\n",
       "    <tr>\n",
       "      <th>Roi103</th>\n",
       "      <td>3</td>\n",
       "      <td>1.000000</td>\n",
       "      <td>0.938096</td>\n",
       "      <td>0.873637</td>\n",
       "      <td>0.118653</td>\n",
       "      <td>0.108009</td>\n",
       "      <td>0.786483</td>\n",
       "      <td>0.764119</td>\n",
       "    </tr>\n",
       "    <tr>\n",
       "      <th>Roi155</th>\n",
       "      <td>5</td>\n",
       "      <td>0.938096</td>\n",
       "      <td>1.000000</td>\n",
       "      <td>0.904341</td>\n",
       "      <td>0.183552</td>\n",
       "      <td>0.188822</td>\n",
       "      <td>0.870588</td>\n",
       "      <td>0.805268</td>\n",
       "    </tr>\n",
       "    <tr>\n",
       "      <th>Roi163</th>\n",
       "      <td>3</td>\n",
       "      <td>0.873637</td>\n",
       "      <td>0.904341</td>\n",
       "      <td>1.000000</td>\n",
       "      <td>-0.024142</td>\n",
       "      <td>-0.013425</td>\n",
       "      <td>0.770105</td>\n",
       "      <td>0.743019</td>\n",
       "    </tr>\n",
       "    <tr>\n",
       "      <th>Roi182</th>\n",
       "      <td>2</td>\n",
       "      <td>0.118653</td>\n",
       "      <td>0.183552</td>\n",
       "      <td>-0.024142</td>\n",
       "      <td>1.000000</td>\n",
       "      <td>0.963260</td>\n",
       "      <td>0.152082</td>\n",
       "      <td>0.172454</td>\n",
       "    </tr>\n",
       "    <tr>\n",
       "      <th>Roi183</th>\n",
       "      <td>2</td>\n",
       "      <td>0.108009</td>\n",
       "      <td>0.188822</td>\n",
       "      <td>-0.013425</td>\n",
       "      <td>0.963260</td>\n",
       "      <td>1.000000</td>\n",
       "      <td>0.181579</td>\n",
       "      <td>0.197100</td>\n",
       "    </tr>\n",
       "  </tbody>\n",
       "</table>\n",
       "</div>"
      ],
      "text/plain": [
       "        Number of Friends    Roi103    Roi155    Roi163    Roi182    Roi183  \\\n",
       "Roi103                  3  1.000000  0.938096  0.873637  0.118653  0.108009   \n",
       "Roi155                  5  0.938096  1.000000  0.904341  0.183552  0.188822   \n",
       "Roi163                  3  0.873637  0.904341  1.000000 -0.024142 -0.013425   \n",
       "Roi182                  2  0.118653  0.183552 -0.024142  1.000000  0.963260   \n",
       "Roi183                  2  0.108009  0.188822 -0.013425  0.963260  1.000000   \n",
       "\n",
       "          Roi262    Roi263  \n",
       "Roi103  0.786483  0.764119  \n",
       "Roi155  0.870588  0.805268  \n",
       "Roi163  0.770105  0.743019  \n",
       "Roi182  0.152082  0.172454  \n",
       "Roi183  0.181579  0.197100  "
      ]
     },
     "execution_count": 52,
     "metadata": {},
     "output_type": "execute_result"
    }
   ],
   "source": [
    "data_corr, friend_names, correlation_summary = cross_correlation(data, r)\n",
    "data_corr.head()"
   ]
  },
  {
   "cell_type": "markdown",
   "metadata": {},
   "source": [
    "### - Cross Correlation Matrix Summary"
   ]
  },
  {
   "cell_type": "code",
   "execution_count": 53,
   "metadata": {
    "collapsed": false,
    "jupyter": {
     "outputs_hidden": false
    }
   },
   "outputs": [
    {
     "data": {
      "text/html": [
       "<div>\n",
       "<style scoped>\n",
       "    .dataframe tbody tr th:only-of-type {\n",
       "        vertical-align: middle;\n",
       "    }\n",
       "\n",
       "    .dataframe tbody tr th {\n",
       "        vertical-align: top;\n",
       "    }\n",
       "\n",
       "    .dataframe thead th {\n",
       "        text-align: right;\n",
       "    }\n",
       "</style>\n",
       "<table border=\"1\" class=\"dataframe\">\n",
       "  <thead>\n",
       "    <tr style=\"text-align: right;\">\n",
       "      <th></th>\n",
       "      <th>Roi103</th>\n",
       "      <th>Roi155</th>\n",
       "      <th>Roi163</th>\n",
       "      <th>Roi182</th>\n",
       "      <th>Roi183</th>\n",
       "      <th>Roi262</th>\n",
       "      <th>Roi263</th>\n",
       "    </tr>\n",
       "  </thead>\n",
       "  <tbody>\n",
       "    <tr>\n",
       "      <th>count</th>\n",
       "      <td>3.000</td>\n",
       "      <td>5.000</td>\n",
       "      <td>3.000</td>\n",
       "      <td>2.000</td>\n",
       "      <td>2.000</td>\n",
       "      <td>3.000</td>\n",
       "      <td>3.000</td>\n",
       "    </tr>\n",
       "    <tr>\n",
       "      <th>mean</th>\n",
       "      <td>0.937</td>\n",
       "      <td>0.904</td>\n",
       "      <td>0.926</td>\n",
       "      <td>0.982</td>\n",
       "      <td>0.982</td>\n",
       "      <td>0.898</td>\n",
       "      <td>0.877</td>\n",
       "    </tr>\n",
       "    <tr>\n",
       "      <th>std</th>\n",
       "      <td>0.063</td>\n",
       "      <td>0.073</td>\n",
       "      <td>0.066</td>\n",
       "      <td>0.026</td>\n",
       "      <td>0.026</td>\n",
       "      <td>0.091</td>\n",
       "      <td>0.107</td>\n",
       "    </tr>\n",
       "    <tr>\n",
       "      <th>min</th>\n",
       "      <td>0.874</td>\n",
       "      <td>0.805</td>\n",
       "      <td>0.874</td>\n",
       "      <td>0.963</td>\n",
       "      <td>0.963</td>\n",
       "      <td>0.824</td>\n",
       "      <td>0.805</td>\n",
       "    </tr>\n",
       "    <tr>\n",
       "      <th>25%</th>\n",
       "      <td>0.906</td>\n",
       "      <td>0.871</td>\n",
       "      <td>0.889</td>\n",
       "      <td>0.972</td>\n",
       "      <td>0.972</td>\n",
       "      <td>0.847</td>\n",
       "      <td>0.815</td>\n",
       "    </tr>\n",
       "    <tr>\n",
       "      <th>50%</th>\n",
       "      <td>0.938</td>\n",
       "      <td>0.904</td>\n",
       "      <td>0.904</td>\n",
       "      <td>0.982</td>\n",
       "      <td>0.982</td>\n",
       "      <td>0.871</td>\n",
       "      <td>0.824</td>\n",
       "    </tr>\n",
       "    <tr>\n",
       "      <th>75%</th>\n",
       "      <td>0.969</td>\n",
       "      <td>0.938</td>\n",
       "      <td>0.952</td>\n",
       "      <td>0.991</td>\n",
       "      <td>0.991</td>\n",
       "      <td>0.935</td>\n",
       "      <td>0.912</td>\n",
       "    </tr>\n",
       "    <tr>\n",
       "      <th>max</th>\n",
       "      <td>1.000</td>\n",
       "      <td>1.000</td>\n",
       "      <td>1.000</td>\n",
       "      <td>1.000</td>\n",
       "      <td>1.000</td>\n",
       "      <td>1.000</td>\n",
       "      <td>1.000</td>\n",
       "    </tr>\n",
       "  </tbody>\n",
       "</table>\n",
       "</div>"
      ],
      "text/plain": [
       "       Roi103  Roi155  Roi163  Roi182  Roi183  Roi262  Roi263\n",
       "count   3.000   5.000   3.000   2.000   2.000   3.000   3.000\n",
       "mean    0.937   0.904   0.926   0.982   0.982   0.898   0.877\n",
       "std     0.063   0.073   0.066   0.026   0.026   0.091   0.107\n",
       "min     0.874   0.805   0.874   0.963   0.963   0.824   0.805\n",
       "25%     0.906   0.871   0.889   0.972   0.972   0.847   0.815\n",
       "50%     0.938   0.904   0.904   0.982   0.982   0.871   0.824\n",
       "75%     0.969   0.938   0.952   0.991   0.991   0.935   0.912\n",
       "max     1.000   1.000   1.000   1.000   1.000   1.000   1.000"
      ]
     },
     "execution_count": 53,
     "metadata": {},
     "output_type": "execute_result"
    }
   ],
   "source": [
    "correlation_summary"
   ]
  },
  {
   "cell_type": "markdown",
   "metadata": {},
   "source": [
    "#### Like what you see? save the cross correlation file with the below code"
   ]
  },
  {
   "cell_type": "code",
   "execution_count": 54,
   "metadata": {
    "collapsed": false,
    "jupyter": {
     "outputs_hidden": false
    }
   },
   "outputs": [],
   "source": [
    "data_corr.to_csv(r'%s/xcor.csv' %(folder))\n",
    "correlation_summary.to_csv(r'%s/xcor_summary.csv'%(folder))"
   ]
  },
  {
   "cell_type": "markdown",
   "metadata": {},
   "source": [
    "## B. Distance Matrix (neighbors)"
   ]
  },
  {
   "cell_type": "markdown",
   "metadata": {},
   "source": [
    "Set your d value to your threshold for significant distance. This value will be used is all later calculation. If you change it, you must rerun ALL cells following to update the change."
   ]
  },
  {
   "cell_type": "code",
   "execution_count": 55,
   "metadata": {
    "collapsed": false,
    "jupyter": {
     "outputs_hidden": false
    }
   },
   "outputs": [],
   "source": [
    "d = 100 # set the maximum distance from an ROI that is the threshold for neighborhood"
   ]
  },
  {
   "cell_type": "code",
   "execution_count": 56,
   "metadata": {
    "collapsed": false,
    "jupyter": {
     "outputs_hidden": false
    }
   },
   "outputs": [
    {
     "data": {
      "text/html": [
       "<div>\n",
       "<style scoped>\n",
       "    .dataframe tbody tr th:only-of-type {\n",
       "        vertical-align: middle;\n",
       "    }\n",
       "\n",
       "    .dataframe tbody tr th {\n",
       "        vertical-align: top;\n",
       "    }\n",
       "\n",
       "    .dataframe thead th {\n",
       "        text-align: right;\n",
       "    }\n",
       "</style>\n",
       "<table border=\"1\" class=\"dataframe\">\n",
       "  <thead>\n",
       "    <tr style=\"text-align: right;\">\n",
       "      <th></th>\n",
       "      <th>Number of Neighbors</th>\n",
       "      <th>Roi103</th>\n",
       "      <th>Roi155</th>\n",
       "      <th>Roi163</th>\n",
       "      <th>Roi182</th>\n",
       "      <th>Roi183</th>\n",
       "      <th>Roi262</th>\n",
       "      <th>Roi263</th>\n",
       "    </tr>\n",
       "  </thead>\n",
       "  <tbody>\n",
       "    <tr>\n",
       "      <th>Roi103</th>\n",
       "      <td>2</td>\n",
       "      <td>0.000000</td>\n",
       "      <td>162.742127</td>\n",
       "      <td>347.955457</td>\n",
       "      <td>447.527653</td>\n",
       "      <td>447.537708</td>\n",
       "      <td>65.115282</td>\n",
       "      <td>190.924069</td>\n",
       "    </tr>\n",
       "    <tr>\n",
       "      <th>Roi155</th>\n",
       "      <td>2</td>\n",
       "      <td>162.742127</td>\n",
       "      <td>0.000000</td>\n",
       "      <td>191.942700</td>\n",
       "      <td>288.780193</td>\n",
       "      <td>287.800278</td>\n",
       "      <td>183.730781</td>\n",
       "      <td>32.572995</td>\n",
       "    </tr>\n",
       "    <tr>\n",
       "      <th>Roi163</th>\n",
       "      <td>1</td>\n",
       "      <td>347.955457</td>\n",
       "      <td>191.942700</td>\n",
       "      <td>0.000000</td>\n",
       "      <td>100.498756</td>\n",
       "      <td>102.200783</td>\n",
       "      <td>349.584039</td>\n",
       "      <td>160.015624</td>\n",
       "    </tr>\n",
       "    <tr>\n",
       "      <th>Roi182</th>\n",
       "      <td>2</td>\n",
       "      <td>447.527653</td>\n",
       "      <td>288.780193</td>\n",
       "      <td>100.498756</td>\n",
       "      <td>0.000000</td>\n",
       "      <td>10.630146</td>\n",
       "      <td>450.041109</td>\n",
       "      <td>257.800310</td>\n",
       "    </tr>\n",
       "    <tr>\n",
       "      <th>Roi183</th>\n",
       "      <td>2</td>\n",
       "      <td>447.537708</td>\n",
       "      <td>287.800278</td>\n",
       "      <td>102.200783</td>\n",
       "      <td>10.630146</td>\n",
       "      <td>0.000000</td>\n",
       "      <td>451.586094</td>\n",
       "      <td>257.235301</td>\n",
       "    </tr>\n",
       "  </tbody>\n",
       "</table>\n",
       "</div>"
      ],
      "text/plain": [
       "        Number of Neighbors      Roi103      Roi155      Roi163      Roi182  \\\n",
       "Roi103                    2    0.000000  162.742127  347.955457  447.527653   \n",
       "Roi155                    2  162.742127    0.000000  191.942700  288.780193   \n",
       "Roi163                    1  347.955457  191.942700    0.000000  100.498756   \n",
       "Roi182                    2  447.527653  288.780193  100.498756    0.000000   \n",
       "Roi183                    2  447.537708  287.800278  102.200783   10.630146   \n",
       "\n",
       "            Roi183      Roi262      Roi263  \n",
       "Roi103  447.537708   65.115282  190.924069  \n",
       "Roi155  287.800278  183.730781   32.572995  \n",
       "Roi163  102.200783  349.584039  160.015624  \n",
       "Roi182   10.630146  450.041109  257.800310  \n",
       "Roi183    0.000000  451.586094  257.235301  "
      ]
     },
     "execution_count": 56,
     "metadata": {},
     "output_type": "execute_result"
    }
   ],
   "source": [
    "roi_dist, loc_tup, neighbor_names, distance_summary = distance_matrix(roi_x, roi_y , roi_loc , d)\n",
    "roi_dist.head()"
   ]
  },
  {
   "cell_type": "markdown",
   "metadata": {},
   "source": [
    "### - Distance Matrix Summary"
   ]
  },
  {
   "cell_type": "code",
   "execution_count": 57,
   "metadata": {
    "collapsed": false,
    "jupyter": {
     "outputs_hidden": false
    }
   },
   "outputs": [
    {
     "data": {
      "text/html": [
       "<div>\n",
       "<style scoped>\n",
       "    .dataframe tbody tr th:only-of-type {\n",
       "        vertical-align: middle;\n",
       "    }\n",
       "\n",
       "    .dataframe tbody tr th {\n",
       "        vertical-align: top;\n",
       "    }\n",
       "\n",
       "    .dataframe thead th {\n",
       "        text-align: right;\n",
       "    }\n",
       "</style>\n",
       "<table border=\"1\" class=\"dataframe\">\n",
       "  <thead>\n",
       "    <tr style=\"text-align: right;\">\n",
       "      <th></th>\n",
       "      <th>Roi103</th>\n",
       "      <th>Roi155</th>\n",
       "      <th>Roi163</th>\n",
       "      <th>Roi182</th>\n",
       "      <th>Roi183</th>\n",
       "      <th>Roi262</th>\n",
       "      <th>Roi263</th>\n",
       "    </tr>\n",
       "  </thead>\n",
       "  <tbody>\n",
       "    <tr>\n",
       "      <th>count</th>\n",
       "      <td>2.000</td>\n",
       "      <td>2.000</td>\n",
       "      <td>1.0</td>\n",
       "      <td>2.000</td>\n",
       "      <td>2.000</td>\n",
       "      <td>2.000</td>\n",
       "      <td>2.000</td>\n",
       "    </tr>\n",
       "    <tr>\n",
       "      <th>mean</th>\n",
       "      <td>32.558</td>\n",
       "      <td>16.286</td>\n",
       "      <td>0.0</td>\n",
       "      <td>5.315</td>\n",
       "      <td>5.315</td>\n",
       "      <td>32.558</td>\n",
       "      <td>16.286</td>\n",
       "    </tr>\n",
       "    <tr>\n",
       "      <th>std</th>\n",
       "      <td>46.043</td>\n",
       "      <td>23.033</td>\n",
       "      <td>NaN</td>\n",
       "      <td>7.517</td>\n",
       "      <td>7.517</td>\n",
       "      <td>46.043</td>\n",
       "      <td>23.033</td>\n",
       "    </tr>\n",
       "    <tr>\n",
       "      <th>min</th>\n",
       "      <td>0.000</td>\n",
       "      <td>0.000</td>\n",
       "      <td>0.0</td>\n",
       "      <td>0.000</td>\n",
       "      <td>0.000</td>\n",
       "      <td>0.000</td>\n",
       "      <td>0.000</td>\n",
       "    </tr>\n",
       "    <tr>\n",
       "      <th>25%</th>\n",
       "      <td>16.279</td>\n",
       "      <td>8.143</td>\n",
       "      <td>0.0</td>\n",
       "      <td>2.658</td>\n",
       "      <td>2.658</td>\n",
       "      <td>16.279</td>\n",
       "      <td>8.143</td>\n",
       "    </tr>\n",
       "    <tr>\n",
       "      <th>50%</th>\n",
       "      <td>32.558</td>\n",
       "      <td>16.286</td>\n",
       "      <td>0.0</td>\n",
       "      <td>5.315</td>\n",
       "      <td>5.315</td>\n",
       "      <td>32.558</td>\n",
       "      <td>16.286</td>\n",
       "    </tr>\n",
       "    <tr>\n",
       "      <th>75%</th>\n",
       "      <td>48.836</td>\n",
       "      <td>24.430</td>\n",
       "      <td>0.0</td>\n",
       "      <td>7.973</td>\n",
       "      <td>7.973</td>\n",
       "      <td>48.836</td>\n",
       "      <td>24.430</td>\n",
       "    </tr>\n",
       "    <tr>\n",
       "      <th>max</th>\n",
       "      <td>65.115</td>\n",
       "      <td>32.573</td>\n",
       "      <td>0.0</td>\n",
       "      <td>10.630</td>\n",
       "      <td>10.630</td>\n",
       "      <td>65.115</td>\n",
       "      <td>32.573</td>\n",
       "    </tr>\n",
       "  </tbody>\n",
       "</table>\n",
       "</div>"
      ],
      "text/plain": [
       "       Roi103  Roi155  Roi163  Roi182  Roi183  Roi262  Roi263\n",
       "count   2.000   2.000     1.0   2.000   2.000   2.000   2.000\n",
       "mean   32.558  16.286     0.0   5.315   5.315  32.558  16.286\n",
       "std    46.043  23.033     NaN   7.517   7.517  46.043  23.033\n",
       "min     0.000   0.000     0.0   0.000   0.000   0.000   0.000\n",
       "25%    16.279   8.143     0.0   2.658   2.658  16.279   8.143\n",
       "50%    32.558  16.286     0.0   5.315   5.315  32.558  16.286\n",
       "75%    48.836  24.430     0.0   7.973   7.973  48.836  24.430\n",
       "max    65.115  32.573     0.0  10.630  10.630  65.115  32.573"
      ]
     },
     "execution_count": 57,
     "metadata": {},
     "output_type": "execute_result"
    }
   ],
   "source": [
    "distance_summary"
   ]
  },
  {
   "cell_type": "markdown",
   "metadata": {},
   "source": [
    "#### Like what you see? save the distance matrix file with the below code"
   ]
  },
  {
   "cell_type": "code",
   "execution_count": 58,
   "metadata": {
    "collapsed": false,
    "jupyter": {
     "outputs_hidden": false
    }
   },
   "outputs": [],
   "source": [
    "roi_dist.to_csv(r'%s/dist_matrix.csv' %(folder))\n",
    "distance_summary.to_csv(r'%s/dist_summary.csv' %(folder))"
   ]
  },
  {
   "cell_type": "markdown",
   "metadata": {},
   "source": [
    "## C. Friends in terms of Neighbors"
   ]
  },
  {
   "cell_type": "markdown",
   "metadata": {},
   "source": [
    "the following function returns a table of the following values:\n",
    "\n",
    "**Distance Sum**: the sum of the distances from each roi to its friends\n",
    "\n",
    "**Friend Number**: the number of friends that each roi has (not including itself)\n",
    "\n",
    "**Rel Dist**: The cummulative distance / number of friends"
   ]
  },
  {
   "cell_type": "code",
   "execution_count": 59,
   "metadata": {
    "collapsed": false,
    "jupyter": {
     "outputs_hidden": false
    }
   },
   "outputs": [
    {
     "data": {
      "text/html": [
       "<div>\n",
       "<style scoped>\n",
       "    .dataframe tbody tr th:only-of-type {\n",
       "        vertical-align: middle;\n",
       "    }\n",
       "\n",
       "    .dataframe tbody tr th {\n",
       "        vertical-align: top;\n",
       "    }\n",
       "\n",
       "    .dataframe thead th {\n",
       "        text-align: right;\n",
       "    }\n",
       "</style>\n",
       "<table border=\"1\" class=\"dataframe\">\n",
       "  <thead>\n",
       "    <tr style=\"text-align: right;\">\n",
       "      <th></th>\n",
       "      <th>Number of Friends</th>\n",
       "      <th>Mean Dist</th>\n",
       "      <th>Std Dist</th>\n",
       "      <th>Number of Friends that are Neighbors</th>\n",
       "      <th>Percentage of Friends that are Neighbors</th>\n",
       "    </tr>\n",
       "  </thead>\n",
       "  <tbody>\n",
       "    <tr>\n",
       "      <th>Roi103</th>\n",
       "      <td>3</td>\n",
       "      <td>170.232528</td>\n",
       "      <td>174.098620</td>\n",
       "      <td>1.0</td>\n",
       "      <td>33.333333</td>\n",
       "    </tr>\n",
       "    <tr>\n",
       "      <th>Roi155</th>\n",
       "      <td>5</td>\n",
       "      <td>114.197721</td>\n",
       "      <td>90.746078</td>\n",
       "      <td>2.0</td>\n",
       "      <td>40.000000</td>\n",
       "    </tr>\n",
       "    <tr>\n",
       "      <th>Roi163</th>\n",
       "      <td>3</td>\n",
       "      <td>179.966052</td>\n",
       "      <td>174.286632</td>\n",
       "      <td>1.0</td>\n",
       "      <td>33.333333</td>\n",
       "    </tr>\n",
       "    <tr>\n",
       "      <th>Roi182</th>\n",
       "      <td>2</td>\n",
       "      <td>5.315073</td>\n",
       "      <td>7.516648</td>\n",
       "      <td>2.0</td>\n",
       "      <td>100.000000</td>\n",
       "    </tr>\n",
       "    <tr>\n",
       "      <th>Roi183</th>\n",
       "      <td>2</td>\n",
       "      <td>5.315073</td>\n",
       "      <td>7.516648</td>\n",
       "      <td>2.0</td>\n",
       "      <td>100.000000</td>\n",
       "    </tr>\n",
       "  </tbody>\n",
       "</table>\n",
       "</div>"
      ],
      "text/plain": [
       "        Number of Friends   Mean Dist    Std Dist  \\\n",
       "Roi103                  3  170.232528  174.098620   \n",
       "Roi155                  5  114.197721   90.746078   \n",
       "Roi163                  3  179.966052  174.286632   \n",
       "Roi182                  2    5.315073    7.516648   \n",
       "Roi183                  2    5.315073    7.516648   \n",
       "\n",
       "        Number of Friends that are Neighbors  \\\n",
       "Roi103                                   1.0   \n",
       "Roi155                                   2.0   \n",
       "Roi163                                   1.0   \n",
       "Roi182                                   2.0   \n",
       "Roi183                                   2.0   \n",
       "\n",
       "        Percentage of Friends that are Neighbors  \n",
       "Roi103                                 33.333333  \n",
       "Roi155                                 40.000000  \n",
       "Roi163                                 33.333333  \n",
       "Roi182                                100.000000  \n",
       "Roi183                                100.000000  "
      ]
     },
     "execution_count": 59,
     "metadata": {},
     "output_type": "execute_result"
    }
   ],
   "source": [
    "friend_distances = friend_dist(data_corr, roi_dist, friend_names, r, d)\n",
    "friend_distances.head()"
   ]
  },
  {
   "cell_type": "markdown",
   "metadata": {},
   "source": [
    "### - Friends in terms of Neighbors Summary"
   ]
  },
  {
   "cell_type": "code",
   "execution_count": 60,
   "metadata": {
    "collapsed": false,
    "jupyter": {
     "outputs_hidden": false
    }
   },
   "outputs": [
    {
     "data": {
      "text/html": [
       "<div>\n",
       "<style scoped>\n",
       "    .dataframe tbody tr th:only-of-type {\n",
       "        vertical-align: middle;\n",
       "    }\n",
       "\n",
       "    .dataframe tbody tr th {\n",
       "        vertical-align: top;\n",
       "    }\n",
       "\n",
       "    .dataframe thead th {\n",
       "        text-align: right;\n",
       "    }\n",
       "</style>\n",
       "<table border=\"1\" class=\"dataframe\">\n",
       "  <thead>\n",
       "    <tr style=\"text-align: right;\">\n",
       "      <th></th>\n",
       "      <th>Number of Friends</th>\n",
       "      <th>Mean Dist</th>\n",
       "      <th>Std Dist</th>\n",
       "      <th>Number of Friends that are Neighbors</th>\n",
       "      <th>Percentage of Friends that are Neighbors</th>\n",
       "    </tr>\n",
       "  </thead>\n",
       "  <tbody>\n",
       "    <tr>\n",
       "      <th>count</th>\n",
       "      <td>7.0</td>\n",
       "      <td>7.000000</td>\n",
       "      <td>7.000000</td>\n",
       "      <td>7.000000</td>\n",
       "      <td>7.000000</td>\n",
       "    </tr>\n",
       "    <tr>\n",
       "      <th>mean</th>\n",
       "      <td>3.0</td>\n",
       "      <td>97.668876</td>\n",
       "      <td>96.699459</td>\n",
       "      <td>1.571429</td>\n",
       "      <td>58.095238</td>\n",
       "    </tr>\n",
       "    <tr>\n",
       "      <th>std</th>\n",
       "      <td>1.0</td>\n",
       "      <td>71.563510</td>\n",
       "      <td>68.782944</td>\n",
       "      <td>0.534522</td>\n",
       "      <td>30.963368</td>\n",
       "    </tr>\n",
       "    <tr>\n",
       "      <th>min</th>\n",
       "      <td>2.0</td>\n",
       "      <td>5.315073</td>\n",
       "      <td>7.516648</td>\n",
       "      <td>1.000000</td>\n",
       "      <td>33.333333</td>\n",
       "    </tr>\n",
       "    <tr>\n",
       "      <th>25%</th>\n",
       "      <td>2.5</td>\n",
       "      <td>42.224975</td>\n",
       "      <td>49.131363</td>\n",
       "      <td>1.000000</td>\n",
       "      <td>33.333333</td>\n",
       "    </tr>\n",
       "    <tr>\n",
       "      <th>50%</th>\n",
       "      <td>3.0</td>\n",
       "      <td>114.197721</td>\n",
       "      <td>110.068191</td>\n",
       "      <td>2.000000</td>\n",
       "      <td>40.000000</td>\n",
       "    </tr>\n",
       "    <tr>\n",
       "      <th>75%</th>\n",
       "      <td>3.0</td>\n",
       "      <td>149.876667</td>\n",
       "      <td>143.381009</td>\n",
       "      <td>2.000000</td>\n",
       "      <td>83.333333</td>\n",
       "    </tr>\n",
       "    <tr>\n",
       "      <th>max</th>\n",
       "      <td>5.0</td>\n",
       "      <td>179.966052</td>\n",
       "      <td>174.286632</td>\n",
       "      <td>2.000000</td>\n",
       "      <td>100.000000</td>\n",
       "    </tr>\n",
       "  </tbody>\n",
       "</table>\n",
       "</div>"
      ],
      "text/plain": [
       "       Number of Friends   Mean Dist    Std Dist  \\\n",
       "count                7.0    7.000000    7.000000   \n",
       "mean                 3.0   97.668876   96.699459   \n",
       "std                  1.0   71.563510   68.782944   \n",
       "min                  2.0    5.315073    7.516648   \n",
       "25%                  2.5   42.224975   49.131363   \n",
       "50%                  3.0  114.197721  110.068191   \n",
       "75%                  3.0  149.876667  143.381009   \n",
       "max                  5.0  179.966052  174.286632   \n",
       "\n",
       "       Number of Friends that are Neighbors  \\\n",
       "count                              7.000000   \n",
       "mean                               1.571429   \n",
       "std                                0.534522   \n",
       "min                                1.000000   \n",
       "25%                                1.000000   \n",
       "50%                                2.000000   \n",
       "75%                                2.000000   \n",
       "max                                2.000000   \n",
       "\n",
       "       Percentage of Friends that are Neighbors  \n",
       "count                                  7.000000  \n",
       "mean                                  58.095238  \n",
       "std                                   30.963368  \n",
       "min                                   33.333333  \n",
       "25%                                   33.333333  \n",
       "50%                                   40.000000  \n",
       "75%                                   83.333333  \n",
       "max                                  100.000000  "
      ]
     },
     "execution_count": 60,
     "metadata": {},
     "output_type": "execute_result"
    }
   ],
   "source": [
    "friend_dist_sum = friend_distances.describe()\n",
    "friend_dist_sum"
   ]
  },
  {
   "cell_type": "markdown",
   "metadata": {},
   "source": [
    "#### Like what you see? save the friend distances file with the below code"
   ]
  },
  {
   "cell_type": "code",
   "execution_count": 61,
   "metadata": {
    "collapsed": false,
    "jupyter": {
     "outputs_hidden": false
    }
   },
   "outputs": [],
   "source": [
    "friend_distances.to_csv(r'%s/friend_distances.csv' %(folder))\n",
    "friend_dist_sum.to_csv(r'%s/friend_distances_summary.csv' %(folder))"
   ]
  },
  {
   "cell_type": "markdown",
   "metadata": {},
   "source": [
    "## D. Neighbors in terms of Friends"
   ]
  },
  {
   "cell_type": "markdown",
   "metadata": {},
   "source": [
    "This section has yet to be built. Will talk with Sean Wilson about values that make the most sense. here. perhaps number of neightbors and average r value?"
   ]
  },
  {
   "cell_type": "code",
   "execution_count": 62,
   "metadata": {
    "collapsed": false,
    "jupyter": {
     "outputs_hidden": false
    }
   },
   "outputs": [
    {
     "data": {
      "text/html": [
       "<div>\n",
       "<style scoped>\n",
       "    .dataframe tbody tr th:only-of-type {\n",
       "        vertical-align: middle;\n",
       "    }\n",
       "\n",
       "    .dataframe tbody tr th {\n",
       "        vertical-align: top;\n",
       "    }\n",
       "\n",
       "    .dataframe thead th {\n",
       "        text-align: right;\n",
       "    }\n",
       "</style>\n",
       "<table border=\"1\" class=\"dataframe\">\n",
       "  <thead>\n",
       "    <tr style=\"text-align: right;\">\n",
       "      <th></th>\n",
       "      <th>Number of Neighbors</th>\n",
       "      <th>Mean Correlation</th>\n",
       "      <th>Std Correlation</th>\n",
       "      <th>Number of Neighbors that are Friends</th>\n",
       "      <th>Percentage of Neighbors that are Friends</th>\n",
       "    </tr>\n",
       "  </thead>\n",
       "  <tbody>\n",
       "    <tr>\n",
       "      <th>Roi103</th>\n",
       "      <td>2</td>\n",
       "      <td>0.893242</td>\n",
       "      <td>0.150979</td>\n",
       "      <td>1.0</td>\n",
       "      <td>50.0</td>\n",
       "    </tr>\n",
       "    <tr>\n",
       "      <th>Roi155</th>\n",
       "      <td>2</td>\n",
       "      <td>0.902634</td>\n",
       "      <td>0.137696</td>\n",
       "      <td>2.0</td>\n",
       "      <td>100.0</td>\n",
       "    </tr>\n",
       "    <tr>\n",
       "      <th>Roi163</th>\n",
       "      <td>1</td>\n",
       "      <td>1.000000</td>\n",
       "      <td>NaN</td>\n",
       "      <td>1.0</td>\n",
       "      <td>100.0</td>\n",
       "    </tr>\n",
       "    <tr>\n",
       "      <th>Roi182</th>\n",
       "      <td>2</td>\n",
       "      <td>0.981630</td>\n",
       "      <td>0.025979</td>\n",
       "      <td>2.0</td>\n",
       "      <td>100.0</td>\n",
       "    </tr>\n",
       "    <tr>\n",
       "      <th>Roi183</th>\n",
       "      <td>2</td>\n",
       "      <td>0.981630</td>\n",
       "      <td>0.025979</td>\n",
       "      <td>2.0</td>\n",
       "      <td>100.0</td>\n",
       "    </tr>\n",
       "  </tbody>\n",
       "</table>\n",
       "</div>"
      ],
      "text/plain": [
       "        Number of Neighbors  Mean Correlation  Std Correlation  \\\n",
       "Roi103                    2          0.893242         0.150979   \n",
       "Roi155                    2          0.902634         0.137696   \n",
       "Roi163                    1          1.000000              NaN   \n",
       "Roi182                    2          0.981630         0.025979   \n",
       "Roi183                    2          0.981630         0.025979   \n",
       "\n",
       "        Number of Neighbors that are Friends  \\\n",
       "Roi103                                   1.0   \n",
       "Roi155                                   2.0   \n",
       "Roi163                                   1.0   \n",
       "Roi182                                   2.0   \n",
       "Roi183                                   2.0   \n",
       "\n",
       "        Percentage of Neighbors that are Friends  \n",
       "Roi103                                      50.0  \n",
       "Roi155                                     100.0  \n",
       "Roi163                                     100.0  \n",
       "Roi182                                     100.0  \n",
       "Roi183                                     100.0  "
      ]
     },
     "execution_count": 62,
     "metadata": {},
     "output_type": "execute_result"
    }
   ],
   "source": [
    "neighbor_correlation = neighbor_corr(roi_dist, data_corr, neighbor_names, r, d)\n",
    "neighbor_correlation.head()"
   ]
  },
  {
   "cell_type": "markdown",
   "metadata": {},
   "source": [
    "### - Neighbors in terms of Friends Summary"
   ]
  },
  {
   "cell_type": "code",
   "execution_count": 63,
   "metadata": {
    "collapsed": false,
    "jupyter": {
     "outputs_hidden": false
    }
   },
   "outputs": [
    {
     "data": {
      "text/html": [
       "<div>\n",
       "<style scoped>\n",
       "    .dataframe tbody tr th:only-of-type {\n",
       "        vertical-align: middle;\n",
       "    }\n",
       "\n",
       "    .dataframe tbody tr th {\n",
       "        vertical-align: top;\n",
       "    }\n",
       "\n",
       "    .dataframe thead th {\n",
       "        text-align: right;\n",
       "    }\n",
       "</style>\n",
       "<table border=\"1\" class=\"dataframe\">\n",
       "  <thead>\n",
       "    <tr style=\"text-align: right;\">\n",
       "      <th></th>\n",
       "      <th>Number of Neighbors</th>\n",
       "      <th>Mean Correlation</th>\n",
       "      <th>Std Correlation</th>\n",
       "      <th>Number of Neighbors that are Friends</th>\n",
       "      <th>Percentage of Neighbors that are Friends</th>\n",
       "    </tr>\n",
       "  </thead>\n",
       "  <tbody>\n",
       "    <tr>\n",
       "      <th>count</th>\n",
       "      <td>7.000000</td>\n",
       "      <td>7.000000</td>\n",
       "      <td>6.000000</td>\n",
       "      <td>7.000000</td>\n",
       "      <td>7.000000</td>\n",
       "    </tr>\n",
       "    <tr>\n",
       "      <th>mean</th>\n",
       "      <td>1.857143</td>\n",
       "      <td>0.936430</td>\n",
       "      <td>0.104885</td>\n",
       "      <td>1.571429</td>\n",
       "      <td>85.714286</td>\n",
       "    </tr>\n",
       "    <tr>\n",
       "      <th>std</th>\n",
       "      <td>0.377964</td>\n",
       "      <td>0.048549</td>\n",
       "      <td>0.061408</td>\n",
       "      <td>0.534522</td>\n",
       "      <td>24.397502</td>\n",
       "    </tr>\n",
       "    <tr>\n",
       "      <th>min</th>\n",
       "      <td>1.000000</td>\n",
       "      <td>0.893242</td>\n",
       "      <td>0.025979</td>\n",
       "      <td>1.000000</td>\n",
       "      <td>50.000000</td>\n",
       "    </tr>\n",
       "    <tr>\n",
       "      <th>25%</th>\n",
       "      <td>2.000000</td>\n",
       "      <td>0.897938</td>\n",
       "      <td>0.053909</td>\n",
       "      <td>1.000000</td>\n",
       "      <td>75.000000</td>\n",
       "    </tr>\n",
       "    <tr>\n",
       "      <th>50%</th>\n",
       "      <td>2.000000</td>\n",
       "      <td>0.902634</td>\n",
       "      <td>0.137696</td>\n",
       "      <td>2.000000</td>\n",
       "      <td>100.000000</td>\n",
       "    </tr>\n",
       "    <tr>\n",
       "      <th>75%</th>\n",
       "      <td>2.000000</td>\n",
       "      <td>0.981630</td>\n",
       "      <td>0.147658</td>\n",
       "      <td>2.000000</td>\n",
       "      <td>100.000000</td>\n",
       "    </tr>\n",
       "    <tr>\n",
       "      <th>max</th>\n",
       "      <td>2.000000</td>\n",
       "      <td>1.000000</td>\n",
       "      <td>0.150979</td>\n",
       "      <td>2.000000</td>\n",
       "      <td>100.000000</td>\n",
       "    </tr>\n",
       "  </tbody>\n",
       "</table>\n",
       "</div>"
      ],
      "text/plain": [
       "       Number of Neighbors  Mean Correlation  Std Correlation  \\\n",
       "count             7.000000          7.000000         6.000000   \n",
       "mean              1.857143          0.936430         0.104885   \n",
       "std               0.377964          0.048549         0.061408   \n",
       "min               1.000000          0.893242         0.025979   \n",
       "25%               2.000000          0.897938         0.053909   \n",
       "50%               2.000000          0.902634         0.137696   \n",
       "75%               2.000000          0.981630         0.147658   \n",
       "max               2.000000          1.000000         0.150979   \n",
       "\n",
       "       Number of Neighbors that are Friends  \\\n",
       "count                              7.000000   \n",
       "mean                               1.571429   \n",
       "std                                0.534522   \n",
       "min                                1.000000   \n",
       "25%                                1.000000   \n",
       "50%                                2.000000   \n",
       "75%                                2.000000   \n",
       "max                                2.000000   \n",
       "\n",
       "       Percentage of Neighbors that are Friends  \n",
       "count                                  7.000000  \n",
       "mean                                  85.714286  \n",
       "std                                   24.397502  \n",
       "min                                   50.000000  \n",
       "25%                                   75.000000  \n",
       "50%                                  100.000000  \n",
       "75%                                  100.000000  \n",
       "max                                  100.000000  "
      ]
     },
     "execution_count": 63,
     "metadata": {},
     "output_type": "execute_result"
    }
   ],
   "source": [
    "neighbor_corr_sum = neighbor_correlation.describe()\n",
    "neighbor_corr_sum"
   ]
  },
  {
   "cell_type": "markdown",
   "metadata": {},
   "source": [
    "#### Like what you see? save the neighbor correlation file with the below code"
   ]
  },
  {
   "cell_type": "code",
   "execution_count": 64,
   "metadata": {
    "collapsed": false,
    "jupyter": {
     "outputs_hidden": false
    }
   },
   "outputs": [],
   "source": [
    "neighbor_correlation.to_csv(r'%s/neighbor_correlation.csv' %(folder))\n",
    "neighbor_corr_sum.to_csv(r'%s/neighbor_correlation_summary.csv' %(folder))"
   ]
  },
  {
   "cell_type": "markdown",
   "metadata": {},
   "source": [
    "# III. Resulting Plots"
   ]
  },
  {
   "cell_type": "markdown",
   "metadata": {},
   "source": [
    "## A. 2d Plots"
   ]
  },
  {
   "cell_type": "markdown",
   "metadata": {},
   "source": [
    "### - All Roi overlay with name calling"
   ]
  },
  {
   "cell_type": "markdown",
   "metadata": {},
   "source": [
    "For some reason, you have to click on the first cell twice. but be assured, it is working. set the object size with s. default is s = 6\n",
    "\n",
    "Save this plot from the pop up graph window."
   ]
  },
  {
   "cell_type": "code",
   "execution_count": 65,
   "metadata": {
    "collapsed": false,
    "jupyter": {
     "outputs_hidden": false
    }
   },
   "outputs": [
    {
     "data": {
      "image/png": "[encoded data removed]",
      "text/plain": [
       "<Figure size 432x288 with 1 Axes>"
      ]
     },
     "metadata": {
      "needs_background": "light"
     },
     "output_type": "display_data"
    }
   ],
   "source": [
    "all_roi_2d(roi_loc , im , s=100)"
   ]
  },
  {
   "cell_type": "markdown",
   "metadata": {},
   "source": [
    "### - Select Roi and Friends plot"
   ]
  },
  {
   "cell_type": "markdown",
   "metadata": {},
   "source": [
    "Call a 2d plot with each roi on it. Choose an roi by name (ex: 'Roi35') to see it's relationship to all other rois. The named roi will be in white. All other roi's will be colored by its r value. \n",
    "\n",
    "when just_friends = True, only friends who meet the r threshold will be shown and all others will be gray. when just_friends = False, all rois will be colored based on r value.\n",
    "\n",
    "Save this plot from the pop up graph window."
   ]
  },
  {
   "cell_type": "code",
   "execution_count": 78,
   "metadata": {
    "collapsed": false,
    "jupyter": {
     "outputs_hidden": false
    }
   },
   "outputs": [
    {
     "ename": "TypeError",
     "evalue": "You must first set_array for mappable",
     "output_type": "error",
     "traceback": [
      "\u001b[1;31m---------------------------------------------------------------------------\u001b[0m",
      "\u001b[1;31mTypeError\u001b[0m                                 Traceback (most recent call last)",
      "\u001b[1;32m<ipython-input-78-5ea56c71e55b>\u001b[0m in \u001b[0;36m<module>\u001b[1;34m()\u001b[0m\n\u001b[0;32m     19\u001b[0m \u001b[1;33m\u001b[0m\u001b[0m\n\u001b[0;32m     20\u001b[0m \u001b[1;31m# Assuming you call the function with appropriate arguments\u001b[0m\u001b[1;33m\u001b[0m\u001b[1;33m\u001b[0m\u001b[0m\n\u001b[1;32m---> 21\u001b[1;33m \u001b[0mfriend_roi_2d\u001b[0m\u001b[1;33m(\u001b[0m\u001b[0mdata_corr\u001b[0m\u001b[1;33m,\u001b[0m \u001b[0mfriend_names\u001b[0m\u001b[1;33m,\u001b[0m \u001b[0mroi_loc\u001b[0m\u001b[1;33m,\u001b[0m \u001b[0mr\u001b[0m\u001b[1;33m,\u001b[0m \u001b[0md\u001b[0m\u001b[1;33m,\u001b[0m \u001b[0mroi\u001b[0m\u001b[1;33m=\u001b[0m\u001b[1;34m'Roi103'\u001b[0m\u001b[1;33m,\u001b[0m \u001b[0mjust_friends\u001b[0m\u001b[1;33m=\u001b[0m\u001b[0mTrue\u001b[0m\u001b[1;33m,\u001b[0m \u001b[0ms\u001b[0m\u001b[1;33m=\u001b[0m\u001b[1;36m100\u001b[0m\u001b[1;33m)\u001b[0m\u001b[1;33m\u001b[0m\u001b[0m\n\u001b[0m",
      "\u001b[1;32m<ipython-input-78-5ea56c71e55b>\u001b[0m in \u001b[0;36mfriend_roi_2d\u001b[1;34m(data_corr, friend_names, roi_loc, r, d, roi, just_friends, s)\u001b[0m\n\u001b[0;32m     11\u001b[0m \u001b[1;33m\u001b[0m\u001b[0m\n\u001b[0;32m     12\u001b[0m     \u001b[1;31m# Create colorbar\u001b[0m\u001b[1;33m\u001b[0m\u001b[1;33m\u001b[0m\u001b[0m\n\u001b[1;32m---> 13\u001b[1;33m     \u001b[0mcbar\u001b[0m \u001b[1;33m=\u001b[0m \u001b[0mplt\u001b[0m\u001b[1;33m.\u001b[0m\u001b[0mcolorbar\u001b[0m\u001b[1;33m(\u001b[0m\u001b[0mscatter\u001b[0m\u001b[1;33m.\u001b[0m\u001b[0mcollections\u001b[0m\u001b[1;33m[\u001b[0m\u001b[1;36m0\u001b[0m\u001b[1;33m]\u001b[0m\u001b[1;33m,\u001b[0m \u001b[0max\u001b[0m\u001b[1;33m=\u001b[0m\u001b[0mscatter\u001b[0m\u001b[1;33m.\u001b[0m\u001b[0maxes\u001b[0m\u001b[1;33m)\u001b[0m\u001b[1;33m\u001b[0m\u001b[0m\n\u001b[0m\u001b[0;32m     14\u001b[0m     \u001b[0mcbar\u001b[0m\u001b[1;33m.\u001b[0m\u001b[0mset_label\u001b[0m\u001b[1;33m(\u001b[0m\u001b[1;34m'Friend Index'\u001b[0m\u001b[1;33m)\u001b[0m\u001b[1;33m\u001b[0m\u001b[0m\n\u001b[0;32m     15\u001b[0m \u001b[1;33m\u001b[0m\u001b[0m\n",
      "\u001b[1;32mC:\\Users\\labuser\\.conda\\envs\\RAIM\\lib\\site-packages\\matplotlib\\pyplot.pyc\u001b[0m in \u001b[0;36mcolorbar\u001b[1;34m(mappable, cax, ax, **kw)\u001b[0m\n\u001b[0;32m   2318\u001b[0m         \u001b[0max\u001b[0m \u001b[1;33m=\u001b[0m \u001b[0mgca\u001b[0m\u001b[1;33m(\u001b[0m\u001b[1;33m)\u001b[0m\u001b[1;33m\u001b[0m\u001b[0m\n\u001b[0;32m   2319\u001b[0m \u001b[1;33m\u001b[0m\u001b[0m\n\u001b[1;32m-> 2320\u001b[1;33m     \u001b[0mret\u001b[0m \u001b[1;33m=\u001b[0m \u001b[0mgcf\u001b[0m\u001b[1;33m(\u001b[0m\u001b[1;33m)\u001b[0m\u001b[1;33m.\u001b[0m\u001b[0mcolorbar\u001b[0m\u001b[1;33m(\u001b[0m\u001b[0mmappable\u001b[0m\u001b[1;33m,\u001b[0m \u001b[0mcax\u001b[0m \u001b[1;33m=\u001b[0m \u001b[0mcax\u001b[0m\u001b[1;33m,\u001b[0m \u001b[0max\u001b[0m\u001b[1;33m=\u001b[0m\u001b[0max\u001b[0m\u001b[1;33m,\u001b[0m \u001b[1;33m**\u001b[0m\u001b[0mkw\u001b[0m\u001b[1;33m)\u001b[0m\u001b[1;33m\u001b[0m\u001b[0m\n\u001b[0m\u001b[0;32m   2321\u001b[0m     \u001b[1;32mreturn\u001b[0m \u001b[0mret\u001b[0m\u001b[1;33m\u001b[0m\u001b[0m\n\u001b[0;32m   2322\u001b[0m \u001b[0mcolorbar\u001b[0m\u001b[1;33m.\u001b[0m\u001b[0m__doc__\u001b[0m \u001b[1;33m=\u001b[0m \u001b[0mmatplotlib\u001b[0m\u001b[1;33m.\u001b[0m\u001b[0mcolorbar\u001b[0m\u001b[1;33m.\u001b[0m\u001b[0mcolorbar_doc\u001b[0m\u001b[1;33m\u001b[0m\u001b[0m\n",
      "\u001b[1;32mC:\\Users\\labuser\\.conda\\envs\\RAIM\\lib\\site-packages\\matplotlib\\figure.pyc\u001b[0m in \u001b[0;36mcolorbar\u001b[1;34m(self, mappable, cax, ax, use_gridspec, **kw)\u001b[0m\n\u001b[0;32m   2096\u001b[0m                              'panchor']\n\u001b[0;32m   2097\u001b[0m         \u001b[0mcb_kw\u001b[0m \u001b[1;33m=\u001b[0m \u001b[1;33m{\u001b[0m\u001b[0mk\u001b[0m\u001b[1;33m:\u001b[0m \u001b[0mv\u001b[0m \u001b[1;32mfor\u001b[0m \u001b[0mk\u001b[0m\u001b[1;33m,\u001b[0m \u001b[0mv\u001b[0m \u001b[1;32min\u001b[0m \u001b[0mkw\u001b[0m\u001b[1;33m.\u001b[0m\u001b[0mitems\u001b[0m\u001b[1;33m(\u001b[0m\u001b[1;33m)\u001b[0m \u001b[1;32mif\u001b[0m \u001b[0mk\u001b[0m \u001b[1;32mnot\u001b[0m \u001b[1;32min\u001b[0m \u001b[0mNON_COLORBAR_KEYS\u001b[0m\u001b[1;33m}\u001b[0m\u001b[1;33m\u001b[0m\u001b[0m\n\u001b[1;32m-> 2098\u001b[1;33m         \u001b[0mcb\u001b[0m \u001b[1;33m=\u001b[0m \u001b[0mcbar\u001b[0m\u001b[1;33m.\u001b[0m\u001b[0mcolorbar_factory\u001b[0m\u001b[1;33m(\u001b[0m\u001b[0mcax\u001b[0m\u001b[1;33m,\u001b[0m \u001b[0mmappable\u001b[0m\u001b[1;33m,\u001b[0m \u001b[1;33m**\u001b[0m\u001b[0mcb_kw\u001b[0m\u001b[1;33m)\u001b[0m\u001b[1;33m\u001b[0m\u001b[0m\n\u001b[0m\u001b[0;32m   2099\u001b[0m \u001b[1;33m\u001b[0m\u001b[0m\n\u001b[0;32m   2100\u001b[0m         \u001b[0mself\u001b[0m\u001b[1;33m.\u001b[0m\u001b[0msca\u001b[0m\u001b[1;33m(\u001b[0m\u001b[0mcurrent_ax\u001b[0m\u001b[1;33m)\u001b[0m\u001b[1;33m\u001b[0m\u001b[0m\n",
      "\u001b[1;32mC:\\Users\\labuser\\.conda\\envs\\RAIM\\lib\\site-packages\\matplotlib\\colorbar.pyc\u001b[0m in \u001b[0;36mcolorbar_factory\u001b[1;34m(cax, mappable, **kwargs)\u001b[0m\n\u001b[0;32m   1397\u001b[0m         \u001b[0mcb\u001b[0m \u001b[1;33m=\u001b[0m \u001b[0mColorbarPatch\u001b[0m\u001b[1;33m(\u001b[0m\u001b[0mcax\u001b[0m\u001b[1;33m,\u001b[0m \u001b[0mmappable\u001b[0m\u001b[1;33m,\u001b[0m \u001b[1;33m**\u001b[0m\u001b[0mkwargs\u001b[0m\u001b[1;33m)\u001b[0m\u001b[1;33m\u001b[0m\u001b[0m\n\u001b[0;32m   1398\u001b[0m     \u001b[1;32melse\u001b[0m\u001b[1;33m:\u001b[0m\u001b[1;33m\u001b[0m\u001b[0m\n\u001b[1;32m-> 1399\u001b[1;33m         \u001b[0mcb\u001b[0m \u001b[1;33m=\u001b[0m \u001b[0mColorbar\u001b[0m\u001b[1;33m(\u001b[0m\u001b[0mcax\u001b[0m\u001b[1;33m,\u001b[0m \u001b[0mmappable\u001b[0m\u001b[1;33m,\u001b[0m \u001b[1;33m**\u001b[0m\u001b[0mkwargs\u001b[0m\u001b[1;33m)\u001b[0m\u001b[1;33m\u001b[0m\u001b[0m\n\u001b[0m\u001b[0;32m   1400\u001b[0m \u001b[1;33m\u001b[0m\u001b[0m\n\u001b[0;32m   1401\u001b[0m     \u001b[0mcid\u001b[0m \u001b[1;33m=\u001b[0m \u001b[0mmappable\u001b[0m\u001b[1;33m.\u001b[0m\u001b[0mcallbacksSM\u001b[0m\u001b[1;33m.\u001b[0m\u001b[0mconnect\u001b[0m\u001b[1;33m(\u001b[0m\u001b[1;34m'changed'\u001b[0m\u001b[1;33m,\u001b[0m \u001b[0mcb\u001b[0m\u001b[1;33m.\u001b[0m\u001b[0mon_mappable_changed\u001b[0m\u001b[1;33m)\u001b[0m\u001b[1;33m\u001b[0m\u001b[0m\n",
      "\u001b[1;32mC:\\Users\\labuser\\.conda\\envs\\RAIM\\lib\\site-packages\\matplotlib\\colorbar.pyc\u001b[0m in \u001b[0;36m__init__\u001b[1;34m(self, ax, mappable, **kw)\u001b[0m\n\u001b[0;32m    918\u001b[0m         \u001b[1;31m# Ensure the given mappable's norm has appropriate vmin and vmax set\u001b[0m\u001b[1;33m\u001b[0m\u001b[1;33m\u001b[0m\u001b[0m\n\u001b[0;32m    919\u001b[0m         \u001b[1;31m# even if mappable.draw has not yet been called.\u001b[0m\u001b[1;33m\u001b[0m\u001b[1;33m\u001b[0m\u001b[0m\n\u001b[1;32m--> 920\u001b[1;33m         \u001b[0mmappable\u001b[0m\u001b[1;33m.\u001b[0m\u001b[0mautoscale_None\u001b[0m\u001b[1;33m(\u001b[0m\u001b[1;33m)\u001b[0m\u001b[1;33m\u001b[0m\u001b[0m\n\u001b[0m\u001b[0;32m    921\u001b[0m \u001b[1;33m\u001b[0m\u001b[0m\n\u001b[0;32m    922\u001b[0m         \u001b[0mself\u001b[0m\u001b[1;33m.\u001b[0m\u001b[0mmappable\u001b[0m \u001b[1;33m=\u001b[0m \u001b[0mmappable\u001b[0m\u001b[1;33m\u001b[0m\u001b[0m\n",
      "\u001b[1;32mC:\\Users\\labuser\\.conda\\envs\\RAIM\\lib\\site-packages\\matplotlib\\cm.pyc\u001b[0m in \u001b[0;36mautoscale_None\u001b[1;34m(self)\u001b[0m\n\u001b[0;32m    360\u001b[0m         \"\"\"\n\u001b[0;32m    361\u001b[0m         \u001b[1;32mif\u001b[0m \u001b[0mself\u001b[0m\u001b[1;33m.\u001b[0m\u001b[0m_A\u001b[0m \u001b[1;32mis\u001b[0m \u001b[0mNone\u001b[0m\u001b[1;33m:\u001b[0m\u001b[1;33m\u001b[0m\u001b[0m\n\u001b[1;32m--> 362\u001b[1;33m             \u001b[1;32mraise\u001b[0m \u001b[0mTypeError\u001b[0m\u001b[1;33m(\u001b[0m\u001b[1;34m'You must first set_array for mappable'\u001b[0m\u001b[1;33m)\u001b[0m\u001b[1;33m\u001b[0m\u001b[0m\n\u001b[0m\u001b[0;32m    363\u001b[0m         \u001b[0mself\u001b[0m\u001b[1;33m.\u001b[0m\u001b[0mnorm\u001b[0m\u001b[1;33m.\u001b[0m\u001b[0mautoscale_None\u001b[0m\u001b[1;33m(\u001b[0m\u001b[0mself\u001b[0m\u001b[1;33m.\u001b[0m\u001b[0m_A\u001b[0m\u001b[1;33m)\u001b[0m\u001b[1;33m\u001b[0m\u001b[0m\n\u001b[0;32m    364\u001b[0m         \u001b[0mself\u001b[0m\u001b[1;33m.\u001b[0m\u001b[0mchanged\u001b[0m\u001b[1;33m(\u001b[0m\u001b[1;33m)\u001b[0m\u001b[1;33m\u001b[0m\u001b[0m\n",
      "\u001b[1;31mTypeError\u001b[0m: You must first set_array for mappable"
     ]
    },
    {
     "data": {
      "image/png": "[encoded data removed]",
      "text/plain": [
       "<Figure size 432x288 with 2 Axes>"
      ]
     },
     "metadata": {
      "needs_background": "light"
     },
     "output_type": "display_data"
    }
   ],
   "source": [
    "import seaborn as sns\n",
    "import matplotlib.pyplot as plt\n",
    "\n",
    "def friend_roi_2d(data_corr, friend_names, roi_loc, r, d, roi='Roi103', just_friends=True, s=100):\n",
    "    # Create scatter plots\n",
    "    sns.scatterplot(x=roi_loc.x, y=roi_loc.y, label='other objects', s=s, color='w', edgecolor='k', alpha=0.25)\n",
    "    scatter = sns.scatterplot(x=roi_loc.x[friend_names[roi]], y=roi_loc.y[friend_names[roi]], s=s, hue=friend_names[roi], palette='Spectral', edgecolor='k', alpha=1)\n",
    "    \n",
    "    # Remove legend\n",
    "    scatter.legend_.remove()\n",
    "    \n",
    "    # Create colorbar\n",
    "    cbar = plt.colorbar(scatter.collections[0], ax=scatter.axes)\n",
    "    cbar.set_label('Friend Index')\n",
    "    \n",
    "    # Show plot\n",
    "    sns.despine()\n",
    "    plt.show()\n",
    "\n",
    "# Assuming you call the function with appropriate arguments\n",
    "friend_roi_2d(data_corr, friend_names, roi_loc, r, d, roi='Roi103', just_friends=True, s=100)\n"
   ]
  },
  {
   "cell_type": "markdown",
   "metadata": {},
   "source": [
    "## B. Line Plots"
   ]
  },
  {
   "cell_type": "markdown",
   "metadata": {},
   "source": [
    "All line plots are scaled the same: 0 to the maximum value in the entire dataframe."
   ]
  },
  {
   "cell_type": "markdown",
   "metadata": {},
   "source": [
    "### - Line Plots for all ROIs"
   ]
  },
  {
   "cell_type": "markdown",
   "metadata": {},
   "source": [
    "Use all_roi_line_pdfs to plot each ROI as its own pdf. Each plot is randomly assigned a color. You cannot disable this feature.\n",
    "\n",
    "you can easily consolidate all of these into a single pdf using adobe or another preview program."
   ]
  },
  {
   "cell_type": "code",
   "execution_count": 67,
   "metadata": {
    "collapsed": false,
    "jupyter": {
     "outputs_hidden": false
    }
   },
   "outputs": [
    {
     "name": "stderr",
     "output_type": "stream",
     "text": [
      "C:\\Users\\labuser\\.conda\\envs\\RAIM\\lib\\site-packages\\ipykernel_launcher.py:264: DeprecationWarning: \n",
      ".ix is deprecated. Please use\n",
      ".loc for label based indexing or\n",
      ".iloc for positional indexing\n",
      "\n",
      "See the documentation here:\n",
      "http://pandas.pydata.org/pandas-docs/stable/indexing.html#ix-indexer-is-deprecated\n"
     ]
    }
   ],
   "source": [
    "all_roi_line_pdfs(data, num_rois = len(data.columns), ymin = 0, ymax=max(data.max()), events_x = events_x, events_y = events_y, folder = folder)"
   ]
  },
  {
   "cell_type": "markdown",
   "metadata": {},
   "source": [
    "### - Line Plot for only one ROI"
   ]
  },
  {
   "cell_type": "markdown",
   "metadata": {},
   "source": [
    "Use roi_line_plot to call an ROI and get its plot. It includes the overlay of the LCPro events"
   ]
  },
  {
   "cell_type": "code",
   "execution_count": 71,
   "metadata": {
    "collapsed": false,
    "jupyter": {
     "outputs_hidden": false
    }
   },
   "outputs": [
    {
     "name": "stderr",
     "output_type": "stream",
     "text": [
      "C:\\Users\\labuser\\.conda\\envs\\RAIM\\lib\\site-packages\\ipykernel_launcher.py:278: DeprecationWarning: \n",
      ".ix is deprecated. Please use\n",
      ".loc for label based indexing or\n",
      ".iloc for positional indexing\n",
      "\n",
      "See the documentation here:\n",
      "http://pandas.pydata.org/pandas-docs/stable/indexing.html#ix-indexer-is-deprecated\n"
     ]
    },
    {
     "data": {
      "image/png": "[encoded data removed]",
      "text/plain": [
       "<Figure size 432x288 with 1 Axes>"
      ]
     },
     "metadata": {
      "needs_background": "light"
     },
     "output_type": "display_data"
    }
   ],
   "source": [
    "roi_line_plot(roi = 'Roi103', dataframe = data, events_x = events_x, events_y=events_y, ymin = 0, ymax=max(data.max()))"
   ]
  },
  {
   "cell_type": "markdown",
   "metadata": {},
   "source": [
    "### - Stacked line plot of an ROI and its friends"
   ]
  },
  {
   "cell_type": "markdown",
   "metadata": {},
   "source": [
    "Call an roi by name (ex: 'Roi35') to get a line plot of it and its friends. Save this plot from the pop up graph window."
   ]
  },
  {
   "cell_type": "code",
   "execution_count": 73,
   "metadata": {
    "collapsed": false,
    "jupyter": {
     "outputs_hidden": false
    }
   },
   "outputs": [
    {
     "data": {
      "image/png": "[encoded data removed]",
      "text/plain": [
       "<Figure size 432x288 with 1 Axes>"
      ]
     },
     "metadata": {
      "needs_background": "light"
     },
     "output_type": "display_data"
    }
   ],
   "source": [
    "friend_roi_line(data, friend_names, roi = 'Roi103', folder = folder)"
   ]
  },
  {
   "cell_type": "markdown",
   "metadata": {},
   "source": [
    "### - Average line plot of an ROI and its friends"
   ]
  },
  {
   "cell_type": "markdown",
   "metadata": {},
   "source": [
    "Call an roi by name (ex: 'Roi35') to get a line plot of the average of it and its friends. the average standard error for each point is printed below once the plot is closed. Save this plot from the pop up graph window."
   ]
  },
  {
   "cell_type": "code",
   "execution_count": 74,
   "metadata": {
    "collapsed": false,
    "jupyter": {
     "outputs_hidden": false
    }
   },
   "outputs": [
    {
     "name": "stdout",
     "output_type": "stream",
     "text": [
      "the average of the std of each point is 0.0988 for Roi103 and its friends.\n"
     ]
    },
    {
     "data": {
      "image/png": "[encoded data removed]",
      "text/plain": [
       "<Figure size 432x288 with 1 Axes>"
      ]
     },
     "metadata": {
      "needs_background": "light"
     },
     "output_type": "display_data"
    }
   ],
   "source": [
    "friend_roi_line_average(data, friend_names, roi = 'Roi103')"
   ]
  },
  {
   "cell_type": "markdown",
   "metadata": {},
   "source": [
    "### - Autocorrelation Plot"
   ]
  },
  {
   "cell_type": "code",
   "execution_count": 75,
   "metadata": {
    "collapsed": false,
    "jupyter": {
     "outputs_hidden": false
    }
   },
   "outputs": [
    {
     "data": {
      "image/png": "[encoded data removed]",
      "text/plain": [
       "<Figure size 432x288 with 1 Axes>"
      ]
     },
     "metadata": {
      "needs_background": "light"
     },
     "output_type": "display_data"
    }
   ],
   "source": [
    "roi = 'Roi103'\n",
    "\n",
    "autocorrelation_plot(data[roi])\n",
    "plt.title(roi)\n",
    "plt.show()"
   ]
  },
  {
   "cell_type": "markdown",
   "metadata": {},
   "source": [
    "## C. Box and Whister Plots"
   ]
  },
  {
   "cell_type": "markdown",
   "metadata": {},
   "source": [
    "Call an ROI and see the distribution of either its friends' correlations or neighbors' distances.\n",
    "\n",
    "Choose which metrc to use by changing flavor to either 'dist' or 'corr'"
   ]
  },
  {
   "cell_type": "code",
   "execution_count": 76,
   "metadata": {
    "collapsed": false,
    "jupyter": {
     "outputs_hidden": false
    }
   },
   "outputs": [
    {
     "data": {
      "image/png": "[encoded data removed]",
      "text/plain": [
       "<Figure size 432x288 with 1 Axes>"
      ]
     },
     "metadata": {
      "needs_background": "light"
     },
     "output_type": "display_data"
    }
   ],
   "source": [
    "boxandwhiskers(roi = 'Roi103', flavor = 'corr', data_corr = data_corr, roi_dist = roi_dist, r = r, d = d)"
   ]
  },
  {
   "cell_type": "markdown",
   "metadata": {},
   "source": [
    "# End"
   ]
  },
  {
   "cell_type": "markdown",
   "metadata": {},
   "source": [
    "# ............................................................................................................................................"
   ]
  },
  {
   "cell_type": "markdown",
   "metadata": {},
   "source": [
    "## [ Run the next cells of code if you want to randomize the dataset ]"
   ]
  },
  {
   "cell_type": "code",
   "execution_count": null,
   "metadata": {
    "collapsed": false,
    "jupyter": {
     "outputs_hidden": false
    }
   },
   "outputs": [],
   "source": [
    "import random\n",
    "\n",
    "def shuffle(x):\n",
    "    random.shuffle(x)\n",
    "    return x\n",
    "\n",
    "for label, column in data.iteritems():\n",
    "    tempcol = data[label].tolist()\n",
    "    randcol = shuffle(tempcol)  #shuffle the list of values in the column\n",
    "    data[label] = randcol #write over the original list with randomized list"
   ]
  },
  {
   "cell_type": "markdown",
   "metadata": {},
   "source": [
    "### Check that the dataset set is indeed randomized! Compare this table to the table under the header \"(b) Load\""
   ]
  },
  {
   "cell_type": "code",
   "execution_count": null,
   "metadata": {
    "collapsed": false,
    "jupyter": {
     "outputs_hidden": false
    }
   },
   "outputs": [],
   "source": [
    "data.head()"
   ]
  },
  {
   "cell_type": "markdown",
   "metadata": {},
   "source": [
    "### Now, go to analysis and it will run the program with the randomized data. (SKIP I. User Input) "
   ]
  },
  {
   "cell_type": "markdown",
   "metadata": {},
   "source": [
    "# ............................................................................................................................................"
   ]
  },
  {
   "cell_type": "code",
   "execution_count": null,
   "metadata": {},
   "outputs": [],
   "source": []
  },
  {
   "cell_type": "code",
   "execution_count": null,
   "metadata": {},
   "outputs": [],
   "source": []
  }
 ],
 "metadata": {
  "celltoolbar": "Edit Metadata",
  "kernelspec": {
   "display_name": "Python 2.7",
   "language": "python",
   "name": "raim"
  },
  "language_info": {
   "codemirror_mode": {
    "name": "ipython",
    "version": 2
   },
   "file_extension": ".py",
   "mimetype": "text/x-python",
   "name": "python",
   "nbconvert_exporter": "python",
   "pygments_lexer": "ipython2",
   "version": "2.7.18"
  }
 },
 "nbformat": 4,
 "nbformat_minor": 5
}
