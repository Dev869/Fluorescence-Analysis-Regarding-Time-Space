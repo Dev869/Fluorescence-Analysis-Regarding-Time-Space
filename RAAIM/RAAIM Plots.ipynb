{
 "cells": [
  {
   "cell_type": "markdown",
   "id": "c7c5b7f0",
   "metadata": {},
   "source": [
    "# ............................................................................................................................................"
   ]
  },
  {
   "cell_type": "markdown",
   "id": "8fb35c93",
   "metadata": {},
   "source": [
    "# Welcome to the RAAIM"
   ]
  },
  {
   "cell_type": "markdown",
   "id": "514dd40f",
   "metadata": {},
   "source": [
    "Use shift + enter to run a code block or move to the next text block.\n",
    "\n",
    "Run the next block of code to intialize the program.\n",
    "\n",
    "* If you run into a \"C:\\Users\\labuser\\AppData\\Local\\Enthought\\Canopy\\User\\lib\\site-packages\\pandas\\io\\excel.py:626 error\", simply ignore it! The program will still be able to run."
   ]
  },
  {
   "cell_type": "code",
   "execution_count": 1,
   "id": "33618543",
   "metadata": {
    "collapsed": false,
    "jupyter": {
     "outputs_hidden": false
    }
   },
   "outputs": [
    {
     "ename": "ImportError",
     "evalue": "No module named tools.plotting",
     "output_type": "error",
     "traceback": [
      "\u001b[1;31m---------------------------------------------------------------------------\u001b[0m",
      "\u001b[1;31mImportError\u001b[0m                               Traceback (most recent call last)",
      "\u001b[1;32m<ipython-input-1-e6406479b27c>\u001b[0m in \u001b[0;36m<module>\u001b[1;34m()\u001b[0m\n\u001b[0;32m     10\u001b[0m \u001b[1;32mimport\u001b[0m \u001b[0mos\u001b[0m\u001b[1;33m,\u001b[0m \u001b[0merrno\u001b[0m\u001b[1;33m\u001b[0m\u001b[0m\n\u001b[0;32m     11\u001b[0m \u001b[1;32mimport\u001b[0m \u001b[0mmatplotlib\u001b[0m\u001b[1;33m.\u001b[0m\u001b[0mpatches\u001b[0m \u001b[1;32mas\u001b[0m \u001b[0mpatches\u001b[0m\u001b[1;33m\u001b[0m\u001b[0m\n\u001b[1;32m---> 12\u001b[1;33m \u001b[1;32mfrom\u001b[0m \u001b[0mpandas\u001b[0m\u001b[1;33m.\u001b[0m\u001b[0mtools\u001b[0m\u001b[1;33m.\u001b[0m\u001b[0mplotting\u001b[0m \u001b[1;32mimport\u001b[0m \u001b[0mautocorrelation_plot\u001b[0m\u001b[1;33m\u001b[0m\u001b[0m\n\u001b[0m\u001b[0;32m     13\u001b[0m \u001b[1;33m\u001b[0m\u001b[0m\n\u001b[0;32m     14\u001b[0m \u001b[1;32mdef\u001b[0m \u001b[0mmkdir_p\u001b[0m\u001b[1;33m(\u001b[0m\u001b[0mpath\u001b[0m\u001b[1;33m)\u001b[0m\u001b[1;33m:\u001b[0m\u001b[1;33m\u001b[0m\u001b[0m\n",
      "\u001b[1;31mImportError\u001b[0m: No module named tools.plotting"
     ]
    }
   ],
   "source": [
    "import numpy as np\n",
    "import scipy\n",
    "from scipy import spatial\n",
    "import pandas as pd\n",
    "import matplotlib.pyplot as plt\n",
    "from pandas import Series, DataFrame\n",
    "import time as t\n",
    "from PIL import Image\n",
    "import sys\n",
    "import os, errno\n",
    "import matplotlib.patches as patches\n",
    "from pandas.tools.plotting import autocorrelation_plot\n",
    "\n",
    "def mkdir_p(path):\n",
    "    try:\n",
    "        os.makedirs(path)\n",
    "    except OSError as exc: # Python >2.5\n",
    "        if exc.errno == errno.EEXIST and os.path.isdir(path):\n",
    "            pass\n",
    "        else: raise\n",
    "\n",
    "def load_RAAIM(folder, original):\n",
    "    data = pd.read_csv(r'%s/ROI normalized.txt' %(folder), index_col= 'time(s)', sep='\\t')\n",
    "    print \"Loaded 'ROI normalized.txt'\"\n",
    "    \n",
    "    roi_param = pd.read_csv(r'%s/Parameter List_edit.txt' %(folder), index_col='ROI', sep='\\t')\n",
    "    print \"Loaded 'Parameter List_edit.txt'\"\n",
    "    \n",
    "    im = Image.open(r'%s/rgb.png' %(folder)) #MUST BE RGB\n",
    "    print \"Loaded 'rgb.png'\"\n",
    "    \n",
    "    del data['Unnamed: 0'] #lc_pro outputs a weird blank column named this everytime. I don't know why, but it does. this line deletes it safely.\n",
    "    roi_loc, roi_x, roi_y, data = lcpro_param_parse(roi_param, data , original = original)\n",
    "    print \"Configured Data\"\n",
    "    \n",
    "    events_x, events_y = get_events(data = data, roi_param = roi_param)\n",
    "    print \"LCPro events extracted\"\n",
    "    \n",
    "    path = folder +\"/plots\"\n",
    "    mkdir_p(path)\n",
    "    print \"Made plots folder\"\n",
    "    \n",
    "    return data, roi_param, im, roi_loc, roi_x, roi_y, events_x, events_y\n",
    "    \n",
    "def lcpro_param_parse(roi_param, data , original):\n",
    "    '''\n",
    "    This function takes the Dataframe created by opening the 'Parameter List.txt' from LC_Pro. \n",
    "    '''\n",
    "    roi_loc = roi_param[['X', 'Y']]\n",
    "    roi_loc.drop_duplicates(inplace= True)\n",
    "    roi_x = roi_loc['X'].tolist()\n",
    "    roi_y = roi_loc['Y'].tolist()\n",
    "    new_index = []\n",
    "    for i in np.arange(len(roi_loc.index)):\n",
    "        foo = int(roi_loc.index[i])\n",
    "        new_index.append('Roi'+str(foo))\n",
    "    roi_loc = DataFrame({'x':roi_x, 'y':roi_y}, index= new_index)\n",
    "    \n",
    "    if len(data.columns) != len(new_index) and original == True:\n",
    "        sys.exit(\"The number of ROIs in the data file is not equal to the number of ROIs in the parameter file. That doesn't seem right, so I quit the function for you. Make sure you are loading the correct files, please.\")\n",
    "    \n",
    "    if original == False:\n",
    "        data = data[roi_loc.index]\n",
    "    \n",
    "    truth = (data.columns == roi_loc.index).tolist()\n",
    "    \n",
    "    if truth.count(True) != len(data.columns):\n",
    "        sys.exit(\"The names on data and roi_loc are not identical. This will surely break everything later, so I shut down the program. Try loading these files again.\")\n",
    "    \n",
    "    return roi_loc, roi_x, roi_y, data\n",
    "\n",
    "def get_events(data, roi_param):\n",
    "    '''\n",
    "    extract the events from the roi_parameter list. It returns them as a pair of dictionaries.\n",
    "    '''\n",
    "    new_index = []\n",
    "    for i in np.arange(len(roi_param.index)):\n",
    "        new_index.append('Roi'+str(roi_param.index[i]))\n",
    "    roi_events = DataFrame(index= new_index)\n",
    "    roi_events_time = roi_param['Time(s)'].tolist()\n",
    "    roi_events_amp = roi_param['Amp(F/F0)'].tolist()\n",
    "    roi_events['Time'] = roi_events_time\n",
    "    roi_events['Amp'] = roi_events_amp\n",
    "    \n",
    "    events_x = {}\n",
    "    events_y = {}\n",
    "    for label in data.columns:\n",
    "        events_x[label] = []\n",
    "        events_y[label] = []\n",
    "\n",
    "    for i in np.arange(len(roi_events.index)):\n",
    "        key = roi_events.index[i]\n",
    "        events_x[key].append(roi_events.iloc[i,0])\n",
    "        events_y[key].append(roi_events.iloc[i,1])\n",
    "        \n",
    "    return events_x, events_y\n",
    "\n",
    "def cross_correlation(data, r):\n",
    "    '''\n",
    "    This function calculated the cross correlation between each ROI pair and returns a dataframe with NxN+1  values.\n",
    "    it also includes a column that contains the number of friends each ROI has.\n",
    "    lastly, it creates a dictionary where the keys are the roi names and names of each roi's friends are stored as a list. by defalut, each roi is at least friends with itself.\n",
    "    this file can be saved out as a CSV later.\n",
    "    '''\n",
    "    \n",
    "    data_corr = data.corr()\n",
    "    ls = (data_corr[data_corr>r].count())\n",
    "    data_corr['Number of Friends'] = ls\n",
    "    cols = data_corr.columns.tolist()\n",
    "    cols = cols[-1:] + cols[:-1]\n",
    "    data_corr = data_corr[cols]\n",
    "    \n",
    "    friend_names = {}\n",
    "    temp_cor = data.corr()\n",
    "    correlation_summary = DataFrame()\n",
    "    \n",
    "    for label, column in temp_cor.iteritems():\n",
    "        friend_names[label] = column[column>r].index.tolist()\n",
    "        friends = column[column>r]\n",
    "        summary = friends.describe()\n",
    "        correlation_summary[label] = np.round(summary, 3)\n",
    "\n",
    "    return data_corr, friend_names, correlation_summary\n",
    "\n",
    "def distance_matrix(roi_x, roi_y , roi_loc , d):\n",
    "    '''\n",
    "    This function calculates the euclidean distance between each ROI pair. It returns a dataframe with these distances.\n",
    "    it also includes a column that contains the number of neighbors each ROI has.\n",
    "    the files can be saved out as a CSV later.\n",
    "    It also returns the list of the (x,y) tuple for each roi.\n",
    "    '''\n",
    "    loc_tup = []\n",
    "    for i in np.arange(len(roi_x)):\n",
    "        loc_tup.append((roi_x[i], roi_y[i]))\n",
    "    \n",
    "    roi_dist = DataFrame(data = (scipy.spatial.distance.cdist(loc_tup, loc_tup, 'euclidean')), index = roi_loc.index, columns= roi_loc.index)\n",
    "    roi_dist_f = roi_dist\n",
    "    \n",
    "    neighbor_names = {}\n",
    "    distance_summary = DataFrame()\n",
    "    \n",
    "    for label, column in roi_dist.iteritems():\n",
    "        neighbor_names[label] = column[column<=d].index.tolist()\n",
    "        neighbors = column[column<=d]\n",
    "        summary = neighbors.describe()\n",
    "        distance_summary[label] = np.round(summary, 3)\n",
    "\n",
    "    ls = (roi_dist[roi_dist<=d].count())\n",
    "    roi_dist_f['Number of Neighbors'] = ls\n",
    "    cols = roi_dist_f.columns.tolist()\n",
    "    cols = cols[-1:] + cols[:-1]\n",
    "    roi_dist_f = roi_dist_f[cols]\n",
    "    \n",
    "    return roi_dist_f, loc_tup, neighbor_names, distance_summary\n",
    "\n",
    "def friend_dist(data_corr, roi_dist, friend_names, r, d):\n",
    "    '''\n",
    "    calculates distance information about each roi's friends.\n",
    "    returns a dataframe with Distance Sum, number of friends, and mean distance. mean dist = distance sum/number of fiends\n",
    "    '''\n",
    "    roi_friend_dist = DataFrame(index = data_corr.index)\n",
    "    #roi_friend_dist['Distance sum'] = (roi_dist[data_corr>r].sum())\n",
    "    roi_friend_dist['Number of Friends'] = (data_corr[data_corr>r].count())\n",
    "    roi_friend_dist['Mean Dist'] = (roi_dist[data_corr>r].mean())\n",
    "    roi_friend_dist['Std Dist'] = (roi_dist[data_corr>r].std())\n",
    "    \n",
    "    perc_friends_are_neighbors = Series(index = roi_dist.index) #empty series\n",
    "    for key in friend_names:\n",
    "        temp_series = roi_dist.loc[key, friend_names[key]]\n",
    "        count = temp_series[temp_series<=d].count()\n",
    "        perc_friends_are_neighbors[key] = count\n",
    "    roi_friend_dist['Number of Friends that are Neighbors'] = perc_friends_are_neighbors\n",
    "    roi_friend_dist['Percentage of Friends that are Neighbors'] = (roi_friend_dist['Number of Friends that are Neighbors']/roi_friend_dist['Number of Friends'])*100\n",
    "    \n",
    "    return roi_friend_dist\n",
    "\n",
    "def neighbor_corr(roi_dist, data_corr, neighbor_names, r, d):\n",
    "    '''\n",
    "    Calculates correlation information about each roi's neighbors.\n",
    "    returns dataframe with corr of neighbors, corr of neighbors that are friends, percent of neighbors that are friends\n",
    "    '''\n",
    "    \n",
    "    roi_neighbor_corr = DataFrame(index = roi_dist.index)\n",
    "    roi_neighbor_corr['Number of Neighbors'] = (roi_dist[roi_dist<=d].count())\n",
    "    roi_neighbor_corr['Mean Correlation'] = (data_corr[roi_dist<=d].mean())\n",
    "    roi_neighbor_corr['Std Correlation'] = (data_corr[roi_dist<=d].std())\n",
    "    \n",
    "    perc_neighbors_are_friends = Series(index = roi_dist.index)\n",
    "    for key in neighbor_names:\n",
    "        temp_series = data_corr.loc[key, neighbor_names[key]]\n",
    "        count = temp_series[temp_series>r].count()\n",
    "        perc_neighbors_are_friends[key] = count\n",
    "    roi_neighbor_corr['Number of Neighbors that are Friends'] = perc_neighbors_are_friends\n",
    "    roi_neighbor_corr['Percentage of Neighbors that are Friends'] = (roi_neighbor_corr['Number of Neighbors that are Friends']/roi_neighbor_corr['Number of Neighbors'])*100\n",
    "    \n",
    "    return roi_neighbor_corr\n",
    "\n",
    "def onpick(event):\n",
    "    '''\n",
    "    allows us to click on an roi and print in the notebook it's name.\n",
    "    '''\n",
    "    ind = event.ind\n",
    "    ind = ind[0]\n",
    "    print('Roi selected =', roi_loc.index[ind])\n",
    "    \n",
    "def all_roi_2d(roi_loc , im , s=6):\n",
    "    '''\n",
    "    makes a scatter plot of each roi overlayed on an uploaded image. when you click on an roi, it prints the name of the roi\n",
    "    for some reason, it takes two clicks to start printing. Not sure why\n",
    "    '''\n",
    "    fig, ax = plt.subplots()\n",
    "    col = ax.scatter(roi_loc.x, roi_loc.y, s=s, edgecolor = 'k', linewidth ='1',color = 'y', marker =\"o\", alpha = 0.75, picker = True)\n",
    "    fig.canvas.mpl_connect('pick_event', onpick)\n",
    "\n",
    "    width, height = im.size\n",
    "    plt.xlim(xmin=0, xmax=width)\n",
    "    plt.ylim(ymin = 0, ymax = height)\n",
    "    plt.title('All LC_Pro ROIs')\n",
    "    plt.imshow(im)\n",
    "    plt.show()\n",
    "    \n",
    "def friend_roi_2d(data_corr , friend_names, roi_loc, r, d, roi, just_friends, s = 6):\n",
    "    temp_series_list = data_corr[roi].tolist()\n",
    "    temp_series = data_corr[roi]\n",
    "    temp_ls = temp_series[friend_names[roi]]\n",
    "\n",
    "    fig, ax = plt.subplots()\n",
    "    if just_friends == False:\n",
    "        plt.scatter(roi_loc.x, roi_loc.y, s = s, label = 'other objects', edgecolor = 'k', linewidth ='1',c= temp_series_list,cmap=plt.cm.spectral , marker =\"o\", alpha = 1)\n",
    "        plt.colorbar()\n",
    "        plt.clim(-1,1)\n",
    "\n",
    "        \n",
    "    if just_friends == True:    \n",
    "        plt.scatter(roi_loc.x, roi_loc.y, s = s, label = 'other objects', edgecolor = 'k', linewidth ='1',color= 'w' , marker =\"o\", alpha = 0.25)\n",
    "        plt.scatter(roi_loc.x[friend_names[roi]], roi_loc.y[friend_names[roi]], label = 'Friends', s=s, edgecolor = 'k', linewidth ='1',c =temp_ls, cmap=plt.cm.spectral , marker =\"o\", alpha = 1)\n",
    "        plt.colorbar()\n",
    "        plt.clim(r,1)\n",
    "        \n",
    "    plt.scatter(roi_loc.x[roi], roi_loc.y[roi], label = roi, s=(s+25), edgecolor = 'k', marker =\"o\", alpha = 1, color = 'w')\n",
    "    neighborhood = patches.Circle(xy = (roi_loc.x[roi], roi_loc.y[roi]), radius=d, fill = False, color= 'w', lw = 1, ls = 'solid')\n",
    "    ax.add_artist(neighborhood)\n",
    "    \n",
    "    width, height = im.size\n",
    "    plt.xlim(xmin=0, xmax=width)\n",
    "    plt.ylim(ymin = 0, ymax = height)\n",
    "    plt.title(roi)\n",
    "    plt.imshow(im)\n",
    "    #plt.legend(loc = 'center left')\n",
    "\n",
    "    #plt.show()\n",
    "    plt.savefig(r'%s/friend_2d(r=%s)(d=%s).png' %(folder,r,d))\n",
    "    \n",
    "def all_roi_line_pdfs(dataframe, num_rois, ymin, ymax, events_x, events_y, folder):\n",
    "    \n",
    "    for r in np.arange(num_rois):\n",
    "        \n",
    "        plt.figure()\n",
    "        plt.xlabel('Time (s)')\n",
    "        plt.ylabel('Intensity')\n",
    "        plt.title(dataframe.columns[r])\n",
    "        plt.ylim(ymin = ymin, ymax = ymax)\n",
    "        plt.xlim(xmin= dataframe.index[0], xmax = dataframe.index[-1])\n",
    "        plt.plot(dataframe.index, dataframe.ix[:,r], color = [np.random.random(), np.random.random(), np.random.random()])\n",
    "        plt.plot(events_x[dataframe.columns[r]], events_y[dataframe.columns[r]],  marker = \"^\", color=\"y\", linestyle= \"None\")\n",
    "        \n",
    "        plt.savefig(r'%s/plots/%s.pdf' %(folder,dataframe.columns[r]))\n",
    "        plt.close()\n",
    "        \n",
    "def roi_line_plot(roi, dataframe, events_x, events_y, ymin, ymax):\n",
    "    \n",
    "    plt.figure()\n",
    "    plt.xlabel('Time (s)')\n",
    "    plt.ylabel('Intensity')\n",
    "    plt.title(roi)\n",
    "    plt.ylim(ymin = ymin, ymax = ymax)\n",
    "    plt.xlim(xmin= dataframe.index[0], xmax = dataframe.index[-1])\n",
    "    plt.plot(dataframe.index, dataframe.ix[:,roi], color = 'k')\n",
    "    plt.plot(events_x[roi], events_y[roi],  marker = \"^\", color=\"y\", linestyle= \"None\")\n",
    "\n",
    "    plt.show()\n",
    "    \n",
    "    \n",
    "def friend_roi_line(data, friend_names, roi, folder):\n",
    "    plt.figure()\n",
    "    plt.plot(data.index, data[friend_names[roi]], color = '#FF6600')\n",
    "    plt.plot(data.index, data[roi], color = 'k',)\n",
    "    plt.ylim(ymin = 0, ymax = max(data.max()))\n",
    "    plt.title(roi)\n",
    "\n",
    "    #plt.show()\n",
    "    plt.savefig(r'%s/friend_line(r=%s)(d=%s).png' %(folder,r,d))\n",
    "    \n",
    "def friend_roi_line_average(data, friend_names, roi):\n",
    "    roi_average = data[friend_names[roi]].mean(1)\n",
    "    roi_std = data[friend_names[roi]].std(1)\n",
    "    print \"the average of the std of each point is\", round(np.mean(roi_std),4), \"for\", roi, \"and its friends.\"\n",
    "\n",
    "    plt.figure()\n",
    "    plt.plot(data[friend_names[roi]].mean(1))\n",
    "    plt.ylim(ymin = 0, ymax = max(data.max()))\n",
    "    plt.title('Average of '+roi+' and its friends')\n",
    "    plt.show()\n",
    "\n",
    "def boxandwhiskers(roi, flavor,data_corr, roi_dist, r, d):\n",
    "    '''\n",
    "    Returns the box and whiskers plot of a named ROI's friends or neighbors.\n",
    "    \n",
    "    '''\n",
    "    if flavor == 'corr':\n",
    "        temp_series = data_corr[roi]\n",
    "        temp_series = temp_series[temp_series>r]\n",
    "        plt.boxplot(temp_series)\n",
    "        plt.ylim(ymin = r*0.85, ymax = 1.1)\n",
    "        plt.xticks(np.arange(1),roi)\n",
    "        plt.title(roi)\n",
    "        plt.text(0.55,r,temp_series.describe())\n",
    "        plt.ylabel('Correlation (r)')\n",
    "        plt.show()\n",
    "        \n",
    "    \n",
    "    elif flavor == 'dist':\n",
    "        temp_series = roi_dist[roi]\n",
    "        temp_series = temp_series[temp_series<=d]\n",
    "        plt.boxplot(temp_series)\n",
    "        plt.ylim(ymin = -3, ymax = d*1.25)\n",
    "        plt.xticks(np.arange(1),roi)\n",
    "        plt.title(roi)\n",
    "        plt.text(0.55,d*0.5,temp_series.describe())\n",
    "        plt.ylabel('Distance (pixels)')\n",
    "        plt.show()\n",
    "        \n",
    "        \n",
    "    else:\n",
    "        print \"ERROR: flavor must be set to either 'corr' or 'dist'.\"        \n",
    "        \n",
    "print \"RAAIM Ready for Analysis\""
   ]
  },
  {
   "cell_type": "markdown",
   "id": "4fa04133",
   "metadata": {},
   "source": [
    "# I. Begin User Input"
   ]
  },
  {
   "cell_type": "markdown",
   "id": "969a4480",
   "metadata": {},
   "source": [
    "This whole notebook is especially formated for LC_pro outputs. This means that the load functions and wrappers expect that certain columns are in exactly the right locations and labels are formatted a certain way. This author does not expect other types of files to be handled properly (as in: will probably fail). "
   ]
  },
  {
   "cell_type": "markdown",
   "id": "1e3b638c",
   "metadata": {},
   "source": [
    "## ------------------------------- An Important note about saving!  -------------------------------"
   ]
  },
  {
   "cell_type": "markdown",
   "id": "32c041c5",
   "metadata": {},
   "source": [
    "This notebook is brutal and will mercilessly **save over exsisting files of the same name without warning!**\n",
    "\n",
    "You can manually change the name of the saved file one way: \n",
    "\n",
    "Change part of the text portion of the VARIBLE.to_csv(r'%s/**OBJECT**.csv' %(folder)). you can change **OBJECT** to whatever you want. go nuts. \n",
    "\n",
    "Remember, only you can keep all your files organized and named properly. I'm just here to help. Use a naming convention that is simple and easy to understand/remember. You can totally move ALL of these files to anywhere once you've run this analysis. It won't break stuff."
   ]
  },
  {
   "cell_type": "markdown",
   "id": "3ff870fd",
   "metadata": {},
   "source": [
    "## ------------------------------------------------------------------------------------------------------"
   ]
  },
  {
   "cell_type": "markdown",
   "id": "6f0e0201",
   "metadata": {},
   "source": [
    "## A. Declare Your Folder"
   ]
  },
  {
   "cell_type": "markdown",
   "id": "f9f5199d",
   "metadata": {},
   "source": [
    "Change the following string below to the location of the folder where your data is. You will also save all of your data in this folder. Must be full path name and not end in a /.\n",
    "\n",
    "**Example:**\n",
    "\n",
    "\"/Users/abigaildobyns/Desktop/RAAIM\""
   ]
  },
  {
   "cell_type": "code",
   "execution_count": 2,
   "id": "69820b60",
   "metadata": {
    "collapsed": false,
    "jupyter": {
     "outputs_hidden": false
    }
   },
   "outputs": [
    {
     "ename": "NameError",
     "evalue": "name 'load_RAAIM' is not defined",
     "output_type": "error",
     "traceback": [
      "\u001b[1;31m---------------------------------------------------------------------------\u001b[0m",
      "\u001b[1;31mNameError\u001b[0m                                 Traceback (most recent call last)",
      "\u001b[1;32m<ipython-input-2-d3b20b9a8d46>\u001b[0m in \u001b[0;36m<module>\u001b[1;34m()\u001b[0m\n\u001b[0;32m      1\u001b[0m \u001b[0mfolder\u001b[0m \u001b[1;33m=\u001b[0m \u001b[1;34m\"C:\\Users\\labuser\\Desktop\\Scott 2014\\Lab Data\\AN_Tiff\\AN_Control_2012_03_12__14_19_30.tif Output\"\u001b[0m\u001b[1;33m\u001b[0m\u001b[0m\n\u001b[1;32m----> 2\u001b[1;33m \u001b[0mdata\u001b[0m\u001b[1;33m,\u001b[0m \u001b[0mroi_param\u001b[0m\u001b[1;33m,\u001b[0m \u001b[0mim\u001b[0m\u001b[1;33m,\u001b[0m \u001b[0mroi_loc\u001b[0m\u001b[1;33m,\u001b[0m \u001b[0mroi_x\u001b[0m\u001b[1;33m,\u001b[0m \u001b[0mroi_y\u001b[0m\u001b[1;33m,\u001b[0m \u001b[0mevents_x\u001b[0m\u001b[1;33m,\u001b[0m \u001b[0mevents_y\u001b[0m \u001b[1;33m=\u001b[0m \u001b[0mload_RAAIM\u001b[0m\u001b[1;33m(\u001b[0m\u001b[0mfolder\u001b[0m\u001b[1;33m=\u001b[0m\u001b[0mfolder\u001b[0m\u001b[1;33m,\u001b[0m \u001b[0moriginal\u001b[0m\u001b[1;33m=\u001b[0m\u001b[0mFalse\u001b[0m\u001b[1;33m)\u001b[0m\u001b[1;33m\u001b[0m\u001b[0m\n\u001b[0m\u001b[0;32m      3\u001b[0m \u001b[1;31m#roi = 'Roi30'\u001b[0m\u001b[1;33m\u001b[0m\u001b[1;33m\u001b[0m\u001b[0m\n\u001b[0;32m      4\u001b[0m \u001b[1;33m\u001b[0m\u001b[0m\n\u001b[0;32m      5\u001b[0m \u001b[0mr\u001b[0m \u001b[1;33m=\u001b[0m \u001b[1;36m.8\u001b[0m \u001b[1;31m#set r value, must be -1<= r <=1\u001b[0m\u001b[1;33m\u001b[0m\u001b[0m\n",
      "\u001b[1;31mNameError\u001b[0m: name 'load_RAAIM' is not defined"
     ]
    },
    {
     "name": "stderr",
     "output_type": "stream",
     "text": [
      "C:\\Users\\labuser\\AppData\\Local\\Enthought\\Canopy\\User\\lib\\site-packages\\pandas\\util\\decorators.py:60: SettingWithCopyWarning: A value is trying to be set on a copy of a slice from a DataFrame\n",
      "  return func(*args, **kwargs)\n"
     ]
    }
   ],
   "source": [
    "folder = \"C:\\Users\\labuser\\Desktop\\Scott 2014\\Lab Data\\AN_Tiff\\AN_Control_2012_03_12__14_19_30.tif Output\"\n",
    "data, roi_param, im, roi_loc, roi_x, roi_y, events_x, events_y = load_RAAIM(folder=folder, original=False)\n",
    "#roi = 'Roi30'\n",
    "\n",
    "r = .8 #set r value, must be -1<= r <=1\n",
    "d = 100 # set the maximum distance from an ROI that is the threshold for neighborhood\n",
    "#data_corr, friend_names, correlation_summary = cross_correlation(data, r)\n",
    "#data_corr.to_csv(r'%s/xcor(r=%s)(d=%s).csv' %(folder,r,d))\n",
    "#correlation_summary.to_csv(r'%s/xcor_summary(r=%s)(d=%s).csv'%(folder,r,d))\n",
    "#roi_dist, loc_tup, neighbor_names, distance_summary = distance_matrix(roi_x, roi_y , roi_loc , d)\n",
    "#roi_dist.to_csv(r'%s/dist_matrix(r=%s)(d=%s).csv' %(folder,r,d))\n",
    "#distance_summary.to_csv(r'%s/dist_summary(r=%s)(d=%s).csv' %(folder,r,d))\n",
    "#friend_distances = friend_dist(data_corr, roi_dist, friend_names, r, d)\n",
    "#friend_dist_sum = friend_distances.describe()\n",
    "#friend_distances.to_csv(r'%s/friend_distances(r=%s)(d=%s).csv' %(folder,r,d))\n",
    "#friend_dist_sum.to_csv(r'%s/friend_distances_summary(r=%s)(d=%s).csv' %(folder,r,d))\n",
    "#neighbor_correlation = neighbor_corr(roi_dist, data_corr, neighbor_names, r, d)\n",
    "#neighbor_corr_sum = neighbor_correlation.describe()\n",
    "#neighbor_correlation.to_csv(r'%s/neighbor_correlation(r=%s)(d=%s).csv' %(folder,r,d))\n",
    "#neighbor_corr_sum.to_csv(r'%s/neighbor_correlation_summary(r=%s)(d=%s).csv' %(folder,r,d))\n",
    "\n",
    "#friend_roi_line(data, friend_names, roi = roi, folder = folder)\n",
    "#fig1.savefig(r'%s/friend_line.png' %(folder))\n",
    "#friend_roi_2d(data_corr , friend_names, roi_loc, r, d, roi = roi, just_friends = True, s = 100)\n",
    "#fig2.savefig(r'%s/friend_2d.png' %(folder))\n",
    "\n",
    "#friend_roi_line.to_png(r'%s/line_plot_with_friends.png' %(folder))\n",
    "\n",
    "all_roi_line_pdfs(data, num_rois = len(data.columns), ymin = 0, ymax=max(data.max()), events_x = events_x, events_y = events_y, folder = folder)\n",
    "\n",
    "#friend_dist_sum[['Number of Friends', 'Mean Dist', 'Percentage of Friends that are Neighbors']]\n",
    "\n",
    "#neighbor_corr_sum[['Number of Neighbors', 'Percentage of Neighbors that are Friends']]"
   ]
  },
  {
   "cell_type": "markdown",
   "id": "5dca3632",
   "metadata": {},
   "source": [
    "## B. Load"
   ]
  },
  {
   "cell_type": "markdown",
   "id": "9a2a6cfd",
   "metadata": {},
   "source": [
    "Use the following block below to load your data. There should be three files in this folder:\n",
    "\n",
    "1. 'ROI normalized.txt'\n",
    "\n",
    "2. 'Parameter List_edit.txt'\n",
    "\n",
    "3. 'rbg.png'\n",
    "\n",
    "There should be no headers (other than column names) in the text files. the text files can be either .txt or .csv. if you have problems loading them, make sure that the data is not corrupted, it is in the correct file type, the delimiter is correct, and the file path is correct. \n",
    "\n",
    "the image still can be just a random frame or the averaged or compressed stack. it must be convered to RGB and saved as .png."
   ]
  },
  {
   "cell_type": "markdown",
   "id": "fa8a286a",
   "metadata": {},
   "source": [
    "###### if you get a *SettingWithCopyWarning*,  **Don't worry, that's normal**. I know that you are setting with a copy. It's on purpose"
   ]
  },
  {
   "cell_type": "code",
   "execution_count": 3,
   "id": "c388cc98",
   "metadata": {
    "collapsed": false,
    "jupyter": {
     "outputs_hidden": false
    }
   },
   "outputs": [
    {
     "ename": "NameError",
     "evalue": "name 'load_RAAIM' is not defined",
     "output_type": "error",
     "traceback": [
      "\u001b[1;31m---------------------------------------------------------------------------\u001b[0m",
      "\u001b[1;31mNameError\u001b[0m                                 Traceback (most recent call last)",
      "\u001b[1;32m<ipython-input-3-2422a6bb40e2>\u001b[0m in \u001b[0;36m<module>\u001b[1;34m()\u001b[0m\n\u001b[1;32m----> 1\u001b[1;33m \u001b[0mdata\u001b[0m\u001b[1;33m,\u001b[0m \u001b[0mroi_param\u001b[0m\u001b[1;33m,\u001b[0m \u001b[0mim\u001b[0m\u001b[1;33m,\u001b[0m \u001b[0mroi_loc\u001b[0m\u001b[1;33m,\u001b[0m \u001b[0mroi_x\u001b[0m\u001b[1;33m,\u001b[0m \u001b[0mroi_y\u001b[0m\u001b[1;33m,\u001b[0m \u001b[0mevents_x\u001b[0m\u001b[1;33m,\u001b[0m \u001b[0mevents_y\u001b[0m \u001b[1;33m=\u001b[0m \u001b[0mload_RAAIM\u001b[0m\u001b[1;33m(\u001b[0m\u001b[0mfolder\u001b[0m\u001b[1;33m=\u001b[0m\u001b[0mfolder\u001b[0m\u001b[1;33m,\u001b[0m \u001b[0moriginal\u001b[0m\u001b[1;33m=\u001b[0m\u001b[0mFalse\u001b[0m\u001b[1;33m)\u001b[0m\u001b[1;33m\u001b[0m\u001b[0m\n\u001b[0m",
      "\u001b[1;31mNameError\u001b[0m: name 'load_RAAIM' is not defined"
     ]
    },
    {
     "name": "stdout",
     "output_type": "stream",
     "text": [
      "\n",
      "Made plots folder\n"
     ]
    }
   ],
   "source": [
    "data, roi_param, im, roi_loc, roi_x, roi_y, events_x, events_y = load_RAAIM(folder=folder, original=False)"
   ]
  },
  {
   "cell_type": "markdown",
   "id": "eb432169",
   "metadata": {},
   "source": [
    "###### Use the two cells below to check that the data and roi_loc dataframes look as expected."
   ]
  },
  {
   "cell_type": "code",
   "execution_count": 4,
   "id": "d7c2c9c2",
   "metadata": {
    "collapsed": false,
    "jupyter": {
     "outputs_hidden": false
    }
   },
   "outputs": [
    {
     "ename": "NameError",
     "evalue": "name 'data' is not defined",
     "output_type": "error",
     "traceback": [
      "\u001b[1;31m---------------------------------------------------------------------------\u001b[0m",
      "\u001b[1;31mNameError\u001b[0m                                 Traceback (most recent call last)",
      "\u001b[1;32m<ipython-input-4-304fa4ce4ebd>\u001b[0m in \u001b[0;36m<module>\u001b[1;34m()\u001b[0m\n\u001b[1;32m----> 1\u001b[1;33m \u001b[0mdata\u001b[0m\u001b[1;33m.\u001b[0m\u001b[0mhead\u001b[0m\u001b[1;33m(\u001b[0m\u001b[1;33m)\u001b[0m\u001b[1;33m\u001b[0m\u001b[0m\n\u001b[0m",
      "\u001b[1;31mNameError\u001b[0m: name 'data' is not defined"
     ]
    }
   ],
   "source": [
    "data.head()"
   ]
  },
  {
   "cell_type": "code",
   "execution_count": 5,
   "id": "6e74a5cd",
   "metadata": {
    "collapsed": false,
    "jupyter": {
     "outputs_hidden": false
    }
   },
   "outputs": [
    {
     "ename": "NameError",
     "evalue": "name 'roi_loc' is not defined",
     "output_type": "error",
     "traceback": [
      "\u001b[1;31m---------------------------------------------------------------------------\u001b[0m",
      "\u001b[1;31mNameError\u001b[0m                                 Traceback (most recent call last)",
      "\u001b[1;32m<ipython-input-5-cb8e28717e33>\u001b[0m in \u001b[0;36m<module>\u001b[1;34m()\u001b[0m\n\u001b[1;32m----> 1\u001b[1;33m \u001b[0mroi_loc\u001b[0m\u001b[1;33m.\u001b[0m\u001b[0mhead\u001b[0m\u001b[1;33m(\u001b[0m\u001b[1;33m)\u001b[0m\u001b[1;33m\u001b[0m\u001b[0m\n\u001b[0m",
      "\u001b[1;31mNameError\u001b[0m: name 'roi_loc' is not defined"
     ]
    }
   ],
   "source": [
    "roi_loc.head()"
   ]
  },
  {
   "cell_type": "markdown",
   "id": "c4a9efba",
   "metadata": {},
   "source": [
    "# II. Analysis"
   ]
  },
  {
   "cell_type": "markdown",
   "id": "991f2058",
   "metadata": {},
   "source": [
    "## A. Cross Correlation Matrix (friends)"
   ]
  },
  {
   "cell_type": "markdown",
   "id": "a331fd1f",
   "metadata": {},
   "source": [
    "Set your r value to your threshold for significant cross correlation. This value will be used is all later calculation. If you change it, you must rerun ALL cells following to update the change."
   ]
  },
  {
   "cell_type": "code",
   "execution_count": 6,
   "id": "80dc8b92",
   "metadata": {
    "collapsed": false,
    "jupyter": {
     "outputs_hidden": false
    }
   },
   "outputs": [],
   "source": [
    "r = -0.99 #set r value, must be -1<= r <=1"
   ]
  },
  {
   "cell_type": "code",
   "execution_count": 7,
   "id": "71c477f8",
   "metadata": {
    "collapsed": false,
    "jupyter": {
     "outputs_hidden": false
    }
   },
   "outputs": [
    {
     "ename": "NameError",
     "evalue": "name 'cross_correlation' is not defined",
     "output_type": "error",
     "traceback": [
      "\u001b[1;31m---------------------------------------------------------------------------\u001b[0m",
      "\u001b[1;31mNameError\u001b[0m                                 Traceback (most recent call last)",
      "\u001b[1;32m<ipython-input-7-bf2aa43e1944>\u001b[0m in \u001b[0;36m<module>\u001b[1;34m()\u001b[0m\n\u001b[1;32m----> 1\u001b[1;33m \u001b[0mdata_corr\u001b[0m\u001b[1;33m,\u001b[0m \u001b[0mfriend_names\u001b[0m\u001b[1;33m,\u001b[0m \u001b[0mcorrelation_summary\u001b[0m \u001b[1;33m=\u001b[0m \u001b[0mcross_correlation\u001b[0m\u001b[1;33m(\u001b[0m\u001b[0mdata\u001b[0m\u001b[1;33m,\u001b[0m \u001b[0mr\u001b[0m\u001b[1;33m)\u001b[0m\u001b[1;33m\u001b[0m\u001b[0m\n\u001b[0m\u001b[0;32m      2\u001b[0m \u001b[0mdata_corr\u001b[0m\u001b[1;33m.\u001b[0m\u001b[0mhead\u001b[0m\u001b[1;33m(\u001b[0m\u001b[1;33m)\u001b[0m\u001b[1;33m\u001b[0m\u001b[0m\n",
      "\u001b[1;31mNameError\u001b[0m: name 'cross_correlation' is not defined"
     ]
    }
   ],
   "source": [
    "data_corr, friend_names, correlation_summary = cross_correlation(data, r)\n",
    "data_corr.head()"
   ]
  },
  {
   "cell_type": "markdown",
   "id": "a07557a2",
   "metadata": {},
   "source": [
    "### - Cross Correlation Matrix Summary"
   ]
  },
  {
   "cell_type": "code",
   "execution_count": 8,
   "id": "af27e3b6",
   "metadata": {
    "collapsed": false,
    "jupyter": {
     "outputs_hidden": false
    }
   },
   "outputs": [
    {
     "ename": "NameError",
     "evalue": "name 'correlation_summary' is not defined",
     "output_type": "error",
     "traceback": [
      "\u001b[1;31m---------------------------------------------------------------------------\u001b[0m",
      "\u001b[1;31mNameError\u001b[0m                                 Traceback (most recent call last)",
      "\u001b[1;32m<ipython-input-8-6fa701a64a3f>\u001b[0m in \u001b[0;36m<module>\u001b[1;34m()\u001b[0m\n\u001b[1;32m----> 1\u001b[1;33m \u001b[0mcorrelation_summary\u001b[0m\u001b[1;33m\u001b[0m\u001b[0m\n\u001b[0m",
      "\u001b[1;31mNameError\u001b[0m: name 'correlation_summary' is not defined"
     ]
    }
   ],
   "source": [
    "correlation_summary"
   ]
  },
  {
   "cell_type": "markdown",
   "id": "1440a574",
   "metadata": {},
   "source": [
    "#### Like what you see? save the cross correlation file with the below code"
   ]
  },
  {
   "cell_type": "code",
   "execution_count": 9,
   "id": "e4539d2f",
   "metadata": {
    "collapsed": false,
    "jupyter": {
     "outputs_hidden": false
    }
   },
   "outputs": [
    {
     "ename": "NameError",
     "evalue": "name 'data_corr' is not defined",
     "output_type": "error",
     "traceback": [
      "\u001b[1;31m---------------------------------------------------------------------------\u001b[0m",
      "\u001b[1;31mNameError\u001b[0m                                 Traceback (most recent call last)",
      "\u001b[1;32m<ipython-input-9-75c591e69742>\u001b[0m in \u001b[0;36m<module>\u001b[1;34m()\u001b[0m\n\u001b[1;32m----> 1\u001b[1;33m \u001b[0mdata_corr\u001b[0m\u001b[1;33m.\u001b[0m\u001b[0mto_csv\u001b[0m\u001b[1;33m(\u001b[0m\u001b[1;34mr'%s/xcor.csv'\u001b[0m \u001b[1;33m%\u001b[0m\u001b[1;33m(\u001b[0m\u001b[0mfolder\u001b[0m\u001b[1;33m)\u001b[0m\u001b[1;33m)\u001b[0m\u001b[1;33m\u001b[0m\u001b[0m\n\u001b[0m\u001b[0;32m      2\u001b[0m \u001b[0mcorrelation_summary\u001b[0m\u001b[1;33m.\u001b[0m\u001b[0mto_csv\u001b[0m\u001b[1;33m(\u001b[0m\u001b[1;34mr'%s/xcor_summary.csv'\u001b[0m\u001b[1;33m%\u001b[0m\u001b[1;33m(\u001b[0m\u001b[0mfolder\u001b[0m\u001b[1;33m)\u001b[0m\u001b[1;33m)\u001b[0m\u001b[1;33m\u001b[0m\u001b[0m\n",
      "\u001b[1;31mNameError\u001b[0m: name 'data_corr' is not defined"
     ]
    }
   ],
   "source": [
    "data_corr.to_csv(r'%s/xcor.csv' %(folder))\n",
    "correlation_summary.to_csv(r'%s/xcor_summary.csv'%(folder))"
   ]
  },
  {
   "cell_type": "markdown",
   "id": "4e79db0f",
   "metadata": {},
   "source": [
    "## B. Distance Matrix (neighbors)"
   ]
  },
  {
   "cell_type": "markdown",
   "id": "4e13e2e8",
   "metadata": {},
   "source": [
    "Set your d value to your threshold for significant distance. This value will be used is all later calculation. If you change it, you must rerun ALL cells following to update the change."
   ]
  },
  {
   "cell_type": "code",
   "execution_count": 13,
   "id": "0e4b3ecd",
   "metadata": {
    "collapsed": false,
    "jupyter": {
     "outputs_hidden": false
    }
   },
   "outputs": [],
   "source": [
    "d = 100 # set the maximum distance from an ROI that is the threshold for neighborhood"
   ]
  },
  {
   "cell_type": "code",
   "execution_count": 14,
   "id": "1f36c8b5",
   "metadata": {
    "collapsed": false,
    "jupyter": {
     "outputs_hidden": false
    }
   },
   "outputs": [
    {
     "data": {
      "text/html": [
       "<div style=\"max-height:1000px;max-width:1500px;overflow:auto;\">\n",
       "<table border=\"1\" class=\"dataframe\">\n",
       "  <thead>\n",
       "    <tr style=\"text-align: right;\">\n",
       "      <th></th>\n",
       "      <th>Number of Neighbors</th>\n",
       "      <th>Roi17</th>\n",
       "      <th>Roi18</th>\n",
       "      <th>Roi22</th>\n",
       "      <th>Roi34</th>\n",
       "      <th>Roi43</th>\n",
       "      <th>Roi52</th>\n",
       "      <th>Roi53</th>\n",
       "      <th>Roi55</th>\n",
       "      <th>Roi56</th>\n",
       "      <th>...</th>\n",
       "      <th>Roi182</th>\n",
       "      <th>Roi185</th>\n",
       "      <th>Roi186</th>\n",
       "      <th>Roi188</th>\n",
       "      <th>Roi189</th>\n",
       "      <th>Roi193</th>\n",
       "      <th>Roi194</th>\n",
       "      <th>Roi195</th>\n",
       "      <th>Roi197</th>\n",
       "      <th>Roi198</th>\n",
       "    </tr>\n",
       "  </thead>\n",
       "  <tbody>\n",
       "    <tr>\n",
       "      <th>Roi17</th>\n",
       "      <td> 13</td>\n",
       "      <td>   0.000000</td>\n",
       "      <td>  32.015621</td>\n",
       "      <td> 285.259531</td>\n",
       "      <td> 205.380135</td>\n",
       "      <td> 294.159821</td>\n",
       "      <td> 174.269906</td>\n",
       "      <td> 201.556444</td>\n",
       "      <td> 203.194488</td>\n",
       "      <td> 156.108936</td>\n",
       "      <td>...</td>\n",
       "      <td> 348.323126</td>\n",
       "      <td> 351.159508</td>\n",
       "      <td> 227.727908</td>\n",
       "      <td> 315.057138</td>\n",
       "      <td>  41.484937</td>\n",
       "      <td> 118.330047</td>\n",
       "      <td> 343.633526</td>\n",
       "      <td> 370.623798</td>\n",
       "      <td> 324.376325</td>\n",
       "      <td> 185.396872</td>\n",
       "    </tr>\n",
       "    <tr>\n",
       "      <th>Roi18</th>\n",
       "      <td> 17</td>\n",
       "      <td>  32.015621</td>\n",
       "      <td>   0.000000</td>\n",
       "      <td> 253.428491</td>\n",
       "      <td> 194.139125</td>\n",
       "      <td> 262.345192</td>\n",
       "      <td> 142.593829</td>\n",
       "      <td> 187.856328</td>\n",
       "      <td> 171.572142</td>\n",
       "      <td> 124.149104</td>\n",
       "      <td>...</td>\n",
       "      <td> 317.833290</td>\n",
       "      <td> 319.390044</td>\n",
       "      <td> 198.295234</td>\n",
       "      <td> 287.252502</td>\n",
       "      <td>   9.486833</td>\n",
       "      <td>  86.539009</td>\n",
       "      <td> 317.907219</td>\n",
       "      <td> 344.280409</td>\n",
       "      <td> 295.893562</td>\n",
       "      <td> 172.513768</td>\n",
       "    </tr>\n",
       "    <tr>\n",
       "      <th>Roi22</th>\n",
       "      <td> 22</td>\n",
       "      <td> 285.259531</td>\n",
       "      <td> 253.428491</td>\n",
       "      <td>   0.000000</td>\n",
       "      <td> 252.800316</td>\n",
       "      <td>   9.000000</td>\n",
       "      <td> 111.198022</td>\n",
       "      <td> 235.601358</td>\n",
       "      <td>  82.710338</td>\n",
       "      <td> 129.556937</td>\n",
       "      <td>...</td>\n",
       "      <td>  87.863531</td>\n",
       "      <td>  66.121101</td>\n",
       "      <td>  90.426766</td>\n",
       "      <td> 120.415946</td>\n",
       "      <td> 244.106534</td>\n",
       "      <td> 171.011696</td>\n",
       "      <td> 167.836230</td>\n",
       "      <td> 176.082367</td>\n",
       "      <td> 112.893755</td>\n",
       "      <td> 237.438413</td>\n",
       "    </tr>\n",
       "    <tr>\n",
       "      <th>Roi34</th>\n",
       "      <td> 21</td>\n",
       "      <td> 205.380135</td>\n",
       "      <td> 194.139125</td>\n",
       "      <td> 252.800316</td>\n",
       "      <td>   0.000000</td>\n",
       "      <td> 258.311827</td>\n",
       "      <td> 185.064853</td>\n",
       "      <td>  17.204651</td>\n",
       "      <td> 194.794764</td>\n",
       "      <td> 191.387042</td>\n",
       "      <td>...</td>\n",
       "      <td> 261.266148</td>\n",
       "      <td> 299.933326</td>\n",
       "      <td> 162.409975</td>\n",
       "      <td> 195.017948</td>\n",
       "      <td> 192.353841</td>\n",
       "      <td> 200.900473</td>\n",
       "      <td> 195.920902</td>\n",
       "      <td> 224.590739</td>\n",
       "      <td> 210.639502</td>\n",
       "      <td>  23.345235</td>\n",
       "    </tr>\n",
       "    <tr>\n",
       "      <th>Roi43</th>\n",
       "      <td> 22</td>\n",
       "      <td> 294.159821</td>\n",
       "      <td> 262.345192</td>\n",
       "      <td>   9.000000</td>\n",
       "      <td> 258.311827</td>\n",
       "      <td>   0.000000</td>\n",
       "      <td> 120.033329</td>\n",
       "      <td> 241.132744</td>\n",
       "      <td>  91.443972</td>\n",
       "      <td> 138.520757</td>\n",
       "      <td>...</td>\n",
       "      <td>  81.320354</td>\n",
       "      <td>  57.140179</td>\n",
       "      <td>  96.260064</td>\n",
       "      <td> 118.949569</td>\n",
       "      <td> 253.031619</td>\n",
       "      <td> 180.011111</td>\n",
       "      <td> 165.921668</td>\n",
       "      <td> 172.754161</td>\n",
       "      <td> 110.353976</td>\n",
       "      <td> 243.446093</td>\n",
       "    </tr>\n",
       "  </tbody>\n",
       "</table>\n",
       "<p>5 rows × 99 columns</p>\n",
       "</div>"
      ],
      "text/plain": [
       "       Number of Neighbors       Roi17       Roi18       Roi22       Roi34  \\\n",
       "Roi17                   13    0.000000   32.015621  285.259531  205.380135   \n",
       "Roi18                   17   32.015621    0.000000  253.428491  194.139125   \n",
       "Roi22                   22  285.259531  253.428491    0.000000  252.800316   \n",
       "Roi34                   21  205.380135  194.139125  252.800316    0.000000   \n",
       "Roi43                   22  294.159821  262.345192    9.000000  258.311827   \n",
       "\n",
       "            Roi43       Roi52       Roi53       Roi55       Roi56     ...      \\\n",
       "Roi17  294.159821  174.269906  201.556444  203.194488  156.108936     ...       \n",
       "Roi18  262.345192  142.593829  187.856328  171.572142  124.149104     ...       \n",
       "Roi22    9.000000  111.198022  235.601358   82.710338  129.556937     ...       \n",
       "Roi34  258.311827  185.064853   17.204651  194.794764  191.387042     ...       \n",
       "Roi43    0.000000  120.033329  241.132744   91.443972  138.520757     ...       \n",
       "\n",
       "           Roi182      Roi185      Roi186      Roi188      Roi189      Roi193  \\\n",
       "Roi17  348.323126  351.159508  227.727908  315.057138   41.484937  118.330047   \n",
       "Roi18  317.833290  319.390044  198.295234  287.252502    9.486833   86.539009   \n",
       "Roi22   87.863531   66.121101   90.426766  120.415946  244.106534  171.011696   \n",
       "Roi34  261.266148  299.933326  162.409975  195.017948  192.353841  200.900473   \n",
       "Roi43   81.320354   57.140179   96.260064  118.949569  253.031619  180.011111   \n",
       "\n",
       "           Roi194      Roi195      Roi197      Roi198  \n",
       "Roi17  343.633526  370.623798  324.376325  185.396872  \n",
       "Roi18  317.907219  344.280409  295.893562  172.513768  \n",
       "Roi22  167.836230  176.082367  112.893755  237.438413  \n",
       "Roi34  195.920902  224.590739  210.639502   23.345235  \n",
       "Roi43  165.921668  172.754161  110.353976  243.446093  \n",
       "\n",
       "[5 rows x 99 columns]"
      ]
     },
     "execution_count": 14,
     "metadata": {},
     "output_type": "execute_result"
    }
   ],
   "source": [
    "roi_dist, loc_tup, neighbor_names, distance_summary = distance_matrix(roi_x, roi_y , roi_loc , d)\n",
    "roi_dist.head()"
   ]
  },
  {
   "cell_type": "markdown",
   "id": "db5b36ba",
   "metadata": {},
   "source": [
    "### - Distance Matrix Summary"
   ]
  },
  {
   "cell_type": "code",
   "execution_count": 15,
   "id": "2c09aa49",
   "metadata": {
    "collapsed": false,
    "jupyter": {
     "outputs_hidden": false
    }
   },
   "outputs": [
    {
     "data": {
      "text/html": [
       "<div style=\"max-height:1000px;max-width:1500px;overflow:auto;\">\n",
       "<table border=\"1\" class=\"dataframe\">\n",
       "  <thead>\n",
       "    <tr style=\"text-align: right;\">\n",
       "      <th></th>\n",
       "      <th>Roi17</th>\n",
       "      <th>Roi18</th>\n",
       "      <th>Roi22</th>\n",
       "      <th>Roi34</th>\n",
       "      <th>Roi43</th>\n",
       "      <th>Roi52</th>\n",
       "      <th>Roi53</th>\n",
       "      <th>Roi55</th>\n",
       "      <th>Roi56</th>\n",
       "      <th>Roi58</th>\n",
       "      <th>...</th>\n",
       "      <th>Roi182</th>\n",
       "      <th>Roi185</th>\n",
       "      <th>Roi186</th>\n",
       "      <th>Roi188</th>\n",
       "      <th>Roi189</th>\n",
       "      <th>Roi193</th>\n",
       "      <th>Roi194</th>\n",
       "      <th>Roi195</th>\n",
       "      <th>Roi197</th>\n",
       "      <th>Roi198</th>\n",
       "    </tr>\n",
       "  </thead>\n",
       "  <tbody>\n",
       "    <tr>\n",
       "      <th>count</th>\n",
       "      <td> 13.000</td>\n",
       "      <td> 17.000</td>\n",
       "      <td> 22.000</td>\n",
       "      <td> 21.000</td>\n",
       "      <td> 22.000</td>\n",
       "      <td> 26.000</td>\n",
       "      <td> 22.000</td>\n",
       "      <td> 31.000</td>\n",
       "      <td>  27.000</td>\n",
       "      <td> 25.000</td>\n",
       "      <td>...</td>\n",
       "      <td> 23.000</td>\n",
       "      <td> 13.000</td>\n",
       "      <td> 31.000</td>\n",
       "      <td> 25.000</td>\n",
       "      <td> 20.000</td>\n",
       "      <td> 26.000</td>\n",
       "      <td> 17.000</td>\n",
       "      <td> 13.000</td>\n",
       "      <td> 25.000</td>\n",
       "      <td> 21.000</td>\n",
       "    </tr>\n",
       "    <tr>\n",
       "      <th>mean</th>\n",
       "      <td> 44.686</td>\n",
       "      <td> 51.962</td>\n",
       "      <td> 61.068</td>\n",
       "      <td> 50.115</td>\n",
       "      <td> 61.846</td>\n",
       "      <td> 58.274</td>\n",
       "      <td> 48.582</td>\n",
       "      <td> 66.785</td>\n",
       "      <td>  58.053</td>\n",
       "      <td> 53.566</td>\n",
       "      <td>...</td>\n",
       "      <td> 66.221</td>\n",
       "      <td> 56.707</td>\n",
       "      <td> 64.100</td>\n",
       "      <td> 55.345</td>\n",
       "      <td> 58.195</td>\n",
       "      <td> 54.554</td>\n",
       "      <td> 62.564</td>\n",
       "      <td> 64.333</td>\n",
       "      <td> 57.137</td>\n",
       "      <td> 51.260</td>\n",
       "    </tr>\n",
       "    <tr>\n",
       "      <th>std</th>\n",
       "      <td> 23.574</td>\n",
       "      <td> 29.564</td>\n",
       "      <td> 29.541</td>\n",
       "      <td> 26.780</td>\n",
       "      <td> 29.163</td>\n",
       "      <td> 24.159</td>\n",
       "      <td> 26.517</td>\n",
       "      <td> 24.102</td>\n",
       "      <td>  29.798</td>\n",
       "      <td> 29.148</td>\n",
       "      <td>...</td>\n",
       "      <td> 26.687</td>\n",
       "      <td> 31.170</td>\n",
       "      <td> 27.843</td>\n",
       "      <td> 26.830</td>\n",
       "      <td> 31.457</td>\n",
       "      <td> 27.493</td>\n",
       "      <td> 25.980</td>\n",
       "      <td> 28.671</td>\n",
       "      <td> 27.270</td>\n",
       "      <td> 30.112</td>\n",
       "    </tr>\n",
       "    <tr>\n",
       "      <th>min</th>\n",
       "      <td>  0.000</td>\n",
       "      <td>  0.000</td>\n",
       "      <td>  0.000</td>\n",
       "      <td>  0.000</td>\n",
       "      <td>  0.000</td>\n",
       "      <td>  0.000</td>\n",
       "      <td>  0.000</td>\n",
       "      <td>  0.000</td>\n",
       "      <td>   0.000</td>\n",
       "      <td>  0.000</td>\n",
       "      <td>...</td>\n",
       "      <td>  0.000</td>\n",
       "      <td>  0.000</td>\n",
       "      <td>  0.000</td>\n",
       "      <td>  0.000</td>\n",
       "      <td>  0.000</td>\n",
       "      <td>  0.000</td>\n",
       "      <td>  0.000</td>\n",
       "      <td>  0.000</td>\n",
       "      <td>  0.000</td>\n",
       "      <td>  0.000</td>\n",
       "    </tr>\n",
       "    <tr>\n",
       "      <th>25%</th>\n",
       "      <td> 35.805</td>\n",
       "      <td> 32.016</td>\n",
       "      <td> 47.576</td>\n",
       "      <td> 27.295</td>\n",
       "      <td> 52.335</td>\n",
       "      <td> 43.607</td>\n",
       "      <td> 25.237</td>\n",
       "      <td> 52.641</td>\n",
       "      <td>  39.308</td>\n",
       "      <td> 34.059</td>\n",
       "      <td>...</td>\n",
       "      <td> 59.802</td>\n",
       "      <td> 45.100</td>\n",
       "      <td> 55.610</td>\n",
       "      <td> 34.132</td>\n",
       "      <td> 37.650</td>\n",
       "      <td> 36.141</td>\n",
       "      <td> 47.760</td>\n",
       "      <td> 53.907</td>\n",
       "      <td> 46.690</td>\n",
       "      <td> 23.345</td>\n",
       "    </tr>\n",
       "    <tr>\n",
       "      <th>50%</th>\n",
       "      <td> 41.485</td>\n",
       "      <td> 52.839</td>\n",
       "      <td> 66.784</td>\n",
       "      <td> 49.041</td>\n",
       "      <td> 67.208</td>\n",
       "      <td> 65.181</td>\n",
       "      <td> 51.391</td>\n",
       "      <td> 70.093</td>\n",
       "      <td>  50.606</td>\n",
       "      <td> 45.277</td>\n",
       "      <td>...</td>\n",
       "      <td> 70.661</td>\n",
       "      <td> 62.097</td>\n",
       "      <td> 67.417</td>\n",
       "      <td> 60.008</td>\n",
       "      <td> 64.815</td>\n",
       "      <td> 55.637</td>\n",
       "      <td> 65.803</td>\n",
       "      <td> 64.140</td>\n",
       "      <td> 59.808</td>\n",
       "      <td> 57.689</td>\n",
       "    </tr>\n",
       "    <tr>\n",
       "      <th>75%</th>\n",
       "      <td> 56.886</td>\n",
       "      <td> 77.162</td>\n",
       "      <td> 85.182</td>\n",
       "      <td> 65.863</td>\n",
       "      <td> 84.848</td>\n",
       "      <td> 71.244</td>\n",
       "      <td> 69.787</td>\n",
       "      <td> 87.842</td>\n",
       "      <td>  84.592</td>\n",
       "      <td> 80.324</td>\n",
       "      <td>...</td>\n",
       "      <td> 83.766</td>\n",
       "      <td> 78.058</td>\n",
       "      <td> 87.833</td>\n",
       "      <td> 77.524</td>\n",
       "      <td> 82.889</td>\n",
       "      <td> 77.717</td>\n",
       "      <td> 75.604</td>\n",
       "      <td> 85.604</td>\n",
       "      <td> 74.947</td>\n",
       "      <td> 70.831</td>\n",
       "    </tr>\n",
       "    <tr>\n",
       "      <th>max</th>\n",
       "      <td> 79.158</td>\n",
       "      <td> 91.706</td>\n",
       "      <td> 99.298</td>\n",
       "      <td> 98.489</td>\n",
       "      <td> 96.260</td>\n",
       "      <td> 99.690</td>\n",
       "      <td> 87.281</td>\n",
       "      <td> 97.046</td>\n",
       "      <td> 100.000</td>\n",
       "      <td> 92.892</td>\n",
       "      <td>...</td>\n",
       "      <td> 97.801</td>\n",
       "      <td> 94.048</td>\n",
       "      <td> 98.793</td>\n",
       "      <td> 93.477</td>\n",
       "      <td> 98.270</td>\n",
       "      <td> 94.530</td>\n",
       "      <td> 99.725</td>\n",
       "      <td> 99.730</td>\n",
       "      <td> 98.793</td>\n",
       "      <td> 98.656</td>\n",
       "    </tr>\n",
       "  </tbody>\n",
       "</table>\n",
       "<p>8 rows × 98 columns</p>\n",
       "</div>"
      ],
      "text/plain": [
       "        Roi17   Roi18   Roi22   Roi34   Roi43   Roi52   Roi53   Roi55  \\\n",
       "count  13.000  17.000  22.000  21.000  22.000  26.000  22.000  31.000   \n",
       "mean   44.686  51.962  61.068  50.115  61.846  58.274  48.582  66.785   \n",
       "std    23.574  29.564  29.541  26.780  29.163  24.159  26.517  24.102   \n",
       "min     0.000   0.000   0.000   0.000   0.000   0.000   0.000   0.000   \n",
       "25%    35.805  32.016  47.576  27.295  52.335  43.607  25.237  52.641   \n",
       "50%    41.485  52.839  66.784  49.041  67.208  65.181  51.391  70.093   \n",
       "75%    56.886  77.162  85.182  65.863  84.848  71.244  69.787  87.842   \n",
       "max    79.158  91.706  99.298  98.489  96.260  99.690  87.281  97.046   \n",
       "\n",
       "         Roi56   Roi58   ...    Roi182  Roi185  Roi186  Roi188  Roi189  \\\n",
       "count   27.000  25.000   ...    23.000  13.000  31.000  25.000  20.000   \n",
       "mean    58.053  53.566   ...    66.221  56.707  64.100  55.345  58.195   \n",
       "std     29.798  29.148   ...    26.687  31.170  27.843  26.830  31.457   \n",
       "min      0.000   0.000   ...     0.000   0.000   0.000   0.000   0.000   \n",
       "25%     39.308  34.059   ...    59.802  45.100  55.610  34.132  37.650   \n",
       "50%     50.606  45.277   ...    70.661  62.097  67.417  60.008  64.815   \n",
       "75%     84.592  80.324   ...    83.766  78.058  87.833  77.524  82.889   \n",
       "max    100.000  92.892   ...    97.801  94.048  98.793  93.477  98.270   \n",
       "\n",
       "       Roi193  Roi194  Roi195  Roi197  Roi198  \n",
       "count  26.000  17.000  13.000  25.000  21.000  \n",
       "mean   54.554  62.564  64.333  57.137  51.260  \n",
       "std    27.493  25.980  28.671  27.270  30.112  \n",
       "min     0.000   0.000   0.000   0.000   0.000  \n",
       "25%    36.141  47.760  53.907  46.690  23.345  \n",
       "50%    55.637  65.803  64.140  59.808  57.689  \n",
       "75%    77.717  75.604  85.604  74.947  70.831  \n",
       "max    94.530  99.725  99.730  98.793  98.656  \n",
       "\n",
       "[8 rows x 98 columns]"
      ]
     },
     "execution_count": 15,
     "metadata": {},
     "output_type": "execute_result"
    }
   ],
   "source": [
    "distance_summary"
   ]
  },
  {
   "cell_type": "markdown",
   "id": "9f081dfb",
   "metadata": {},
   "source": [
    "#### Like what you see? save the distance matrix file with the below code"
   ]
  },
  {
   "cell_type": "code",
   "execution_count": 16,
   "id": "3e480c0f",
   "metadata": {
    "collapsed": false,
    "jupyter": {
     "outputs_hidden": false
    }
   },
   "outputs": [],
   "source": [
    "roi_dist.to_csv(r'%s/dist_matrix.csv' %(folder))\n",
    "distance_summary.to_csv(r'%s/dist_summary.csv' %(folder))"
   ]
  },
  {
   "cell_type": "markdown",
   "id": "f9128b4b",
   "metadata": {},
   "source": [
    "## C. Friends in terms of Neighbors"
   ]
  },
  {
   "cell_type": "markdown",
   "id": "23ca67ac",
   "metadata": {},
   "source": [
    "the following function returns a table of the following values:\n",
    "\n",
    "**Distance Sum**: the sum of the distances from each roi to its friends\n",
    "\n",
    "**Friend Number**: the number of friends that each roi has (not including itself)\n",
    "\n",
    "**Rel Dist**: The cummulative distance / number of friends"
   ]
  },
  {
   "cell_type": "code",
   "execution_count": 17,
   "id": "a1f09622",
   "metadata": {
    "collapsed": false,
    "jupyter": {
     "outputs_hidden": false
    }
   },
   "outputs": [
    {
     "data": {
      "text/html": [
       "<div style=\"max-height:1000px;max-width:1500px;overflow:auto;\">\n",
       "<table border=\"1\" class=\"dataframe\">\n",
       "  <thead>\n",
       "    <tr style=\"text-align: right;\">\n",
       "      <th></th>\n",
       "      <th>Number of Friends</th>\n",
       "      <th>Mean Dist</th>\n",
       "      <th>Std Dist</th>\n",
       "      <th>Number of Friends that are Neighbors</th>\n",
       "      <th>Percentage of Friends that are Neighbors</th>\n",
       "    </tr>\n",
       "  </thead>\n",
       "  <tbody>\n",
       "    <tr>\n",
       "      <th>Roi17</th>\n",
       "      <td> 98</td>\n",
       "      <td> 209.580441</td>\n",
       "      <td> 94.503793</td>\n",
       "      <td> 13</td>\n",
       "      <td> 13.265306</td>\n",
       "    </tr>\n",
       "    <tr>\n",
       "      <th>Roi18</th>\n",
       "      <td> 98</td>\n",
       "      <td> 188.549529</td>\n",
       "      <td> 88.430727</td>\n",
       "      <td> 17</td>\n",
       "      <td> 17.346939</td>\n",
       "    </tr>\n",
       "    <tr>\n",
       "      <th>Roi22</th>\n",
       "      <td> 98</td>\n",
       "      <td> 173.154914</td>\n",
       "      <td> 85.717880</td>\n",
       "      <td> 22</td>\n",
       "      <td> 22.448980</td>\n",
       "    </tr>\n",
       "    <tr>\n",
       "      <th>Roi34</th>\n",
       "      <td> 98</td>\n",
       "      <td> 184.960542</td>\n",
       "      <td> 88.456092</td>\n",
       "      <td> 21</td>\n",
       "      <td> 21.428571</td>\n",
       "    </tr>\n",
       "    <tr>\n",
       "      <th>Roi43</th>\n",
       "      <td> 98</td>\n",
       "      <td> 177.662536</td>\n",
       "      <td> 88.156975</td>\n",
       "      <td> 22</td>\n",
       "      <td> 22.448980</td>\n",
       "    </tr>\n",
       "  </tbody>\n",
       "</table>\n",
       "</div>"
      ],
      "text/plain": [
       "       Number of Friends   Mean Dist   Std Dist  \\\n",
       "Roi17                 98  209.580441  94.503793   \n",
       "Roi18                 98  188.549529  88.430727   \n",
       "Roi22                 98  173.154914  85.717880   \n",
       "Roi34                 98  184.960542  88.456092   \n",
       "Roi43                 98  177.662536  88.156975   \n",
       "\n",
       "       Number of Friends that are Neighbors  \\\n",
       "Roi17                                    13   \n",
       "Roi18                                    17   \n",
       "Roi22                                    22   \n",
       "Roi34                                    21   \n",
       "Roi43                                    22   \n",
       "\n",
       "       Percentage of Friends that are Neighbors  \n",
       "Roi17                                 13.265306  \n",
       "Roi18                                 17.346939  \n",
       "Roi22                                 22.448980  \n",
       "Roi34                                 21.428571  \n",
       "Roi43                                 22.448980  "
      ]
     },
     "execution_count": 17,
     "metadata": {},
     "output_type": "execute_result"
    }
   ],
   "source": [
    "friend_distances = friend_dist(data_corr, roi_dist, friend_names, r, d)\n",
    "friend_distances.head()"
   ]
  },
  {
   "cell_type": "markdown",
   "id": "4b99c768",
   "metadata": {},
   "source": [
    "### - Friends in terms of Neighbors Summary"
   ]
  },
  {
   "cell_type": "code",
   "execution_count": 18,
   "id": "1e0a4eaf",
   "metadata": {
    "collapsed": false,
    "jupyter": {
     "outputs_hidden": false
    }
   },
   "outputs": [
    {
     "data": {
      "text/html": [
       "<div style=\"max-height:1000px;max-width:1500px;overflow:auto;\">\n",
       "<table border=\"1\" class=\"dataframe\">\n",
       "  <thead>\n",
       "    <tr style=\"text-align: right;\">\n",
       "      <th></th>\n",
       "      <th>Number of Friends</th>\n",
       "      <th>Mean Dist</th>\n",
       "      <th>Std Dist</th>\n",
       "      <th>Number of Friends that are Neighbors</th>\n",
       "      <th>Percentage of Friends that are Neighbors</th>\n",
       "    </tr>\n",
       "  </thead>\n",
       "  <tbody>\n",
       "    <tr>\n",
       "      <th>count</th>\n",
       "      <td> 98</td>\n",
       "      <td>  98.000000</td>\n",
       "      <td>  98.000000</td>\n",
       "      <td> 98.000000</td>\n",
       "      <td> 98.000000</td>\n",
       "    </tr>\n",
       "    <tr>\n",
       "      <th>mean</th>\n",
       "      <td> 98</td>\n",
       "      <td> 183.407613</td>\n",
       "      <td>  88.491599</td>\n",
       "      <td> 21.224490</td>\n",
       "      <td> 21.657643</td>\n",
       "    </tr>\n",
       "    <tr>\n",
       "      <th>std</th>\n",
       "      <td>  0</td>\n",
       "      <td>  37.169674</td>\n",
       "      <td>  14.559027</td>\n",
       "      <td>  7.248933</td>\n",
       "      <td>  7.396870</td>\n",
       "    </tr>\n",
       "    <tr>\n",
       "      <th>min</th>\n",
       "      <td> 98</td>\n",
       "      <td> 134.907600</td>\n",
       "      <td>  56.304905</td>\n",
       "      <td>  1.000000</td>\n",
       "      <td>  1.020408</td>\n",
       "    </tr>\n",
       "    <tr>\n",
       "      <th>25%</th>\n",
       "      <td> 98</td>\n",
       "      <td> 156.615980</td>\n",
       "      <td>  78.177676</td>\n",
       "      <td> 17.000000</td>\n",
       "      <td> 17.346939</td>\n",
       "    </tr>\n",
       "    <tr>\n",
       "      <th>50%</th>\n",
       "      <td> 98</td>\n",
       "      <td> 173.118632</td>\n",
       "      <td>  89.073788</td>\n",
       "      <td> 22.000000</td>\n",
       "      <td> 22.448980</td>\n",
       "    </tr>\n",
       "    <tr>\n",
       "      <th>75%</th>\n",
       "      <td> 98</td>\n",
       "      <td> 204.532521</td>\n",
       "      <td>  99.320734</td>\n",
       "      <td> 26.000000</td>\n",
       "      <td> 26.530612</td>\n",
       "    </tr>\n",
       "    <tr>\n",
       "      <th>max</th>\n",
       "      <td> 98</td>\n",
       "      <td> 310.422528</td>\n",
       "      <td> 116.694530</td>\n",
       "      <td> 34.000000</td>\n",
       "      <td> 34.693878</td>\n",
       "    </tr>\n",
       "  </tbody>\n",
       "</table>\n",
       "</div>"
      ],
      "text/plain": [
       "       Number of Friends   Mean Dist    Std Dist  \\\n",
       "count                 98   98.000000   98.000000   \n",
       "mean                  98  183.407613   88.491599   \n",
       "std                    0   37.169674   14.559027   \n",
       "min                   98  134.907600   56.304905   \n",
       "25%                   98  156.615980   78.177676   \n",
       "50%                   98  173.118632   89.073788   \n",
       "75%                   98  204.532521   99.320734   \n",
       "max                   98  310.422528  116.694530   \n",
       "\n",
       "       Number of Friends that are Neighbors  \\\n",
       "count                             98.000000   \n",
       "mean                              21.224490   \n",
       "std                                7.248933   \n",
       "min                                1.000000   \n",
       "25%                               17.000000   \n",
       "50%                               22.000000   \n",
       "75%                               26.000000   \n",
       "max                               34.000000   \n",
       "\n",
       "       Percentage of Friends that are Neighbors  \n",
       "count                                 98.000000  \n",
       "mean                                  21.657643  \n",
       "std                                    7.396870  \n",
       "min                                    1.020408  \n",
       "25%                                   17.346939  \n",
       "50%                                   22.448980  \n",
       "75%                                   26.530612  \n",
       "max                                   34.693878  "
      ]
     },
     "execution_count": 18,
     "metadata": {},
     "output_type": "execute_result"
    }
   ],
   "source": [
    "friend_dist_sum = friend_distances.describe()\n",
    "friend_dist_sum"
   ]
  },
  {
   "cell_type": "markdown",
   "id": "35962dd5",
   "metadata": {},
   "source": [
    "#### Like what you see? save the friend distances file with the below code"
   ]
  },
  {
   "cell_type": "code",
   "execution_count": 19,
   "id": "b667151e",
   "metadata": {
    "collapsed": false,
    "jupyter": {
     "outputs_hidden": false
    }
   },
   "outputs": [],
   "source": [
    "friend_distances.to_csv(r'%s/friend_distances.csv' %(folder))\n",
    "friend_dist_sum.to_csv(r'%s/friend_distances_summary.csv' %(folder))"
   ]
  },
  {
   "cell_type": "markdown",
   "id": "dfdc0f99",
   "metadata": {},
   "source": [
    "## D. Neighbors in terms of Friends"
   ]
  },
  {
   "cell_type": "markdown",
   "id": "5bed1761",
   "metadata": {},
   "source": [
    "This section has yet to be built. Will talk with Sean Wilson about values that make the most sense. here. perhaps number of neightbors and average r value?"
   ]
  },
  {
   "cell_type": "code",
   "execution_count": 20,
   "id": "172f4f6e",
   "metadata": {
    "collapsed": false,
    "jupyter": {
     "outputs_hidden": false
    }
   },
   "outputs": [
    {
     "data": {
      "text/html": [
       "<div style=\"max-height:1000px;max-width:1500px;overflow:auto;\">\n",
       "<table border=\"1\" class=\"dataframe\">\n",
       "  <thead>\n",
       "    <tr style=\"text-align: right;\">\n",
       "      <th></th>\n",
       "      <th>Number of Neighbors</th>\n",
       "      <th>Mean Correlation</th>\n",
       "      <th>Std Correlation</th>\n",
       "      <th>Number of Neighbors that are Friends</th>\n",
       "      <th>Percentage of Neighbors that are Friends</th>\n",
       "    </tr>\n",
       "  </thead>\n",
       "  <tbody>\n",
       "    <tr>\n",
       "      <th>Roi17</th>\n",
       "      <td> 13</td>\n",
       "      <td> 0.301327</td>\n",
       "      <td> 0.516659</td>\n",
       "      <td> 13</td>\n",
       "      <td> 100</td>\n",
       "    </tr>\n",
       "    <tr>\n",
       "      <th>Roi18</th>\n",
       "      <td> 17</td>\n",
       "      <td> 0.254530</td>\n",
       "      <td> 0.444006</td>\n",
       "      <td> 17</td>\n",
       "      <td> 100</td>\n",
       "    </tr>\n",
       "    <tr>\n",
       "      <th>Roi22</th>\n",
       "      <td> 22</td>\n",
       "      <td> 0.743534</td>\n",
       "      <td> 0.339476</td>\n",
       "      <td> 22</td>\n",
       "      <td> 100</td>\n",
       "    </tr>\n",
       "    <tr>\n",
       "      <th>Roi34</th>\n",
       "      <td> 21</td>\n",
       "      <td> 0.195455</td>\n",
       "      <td> 0.364404</td>\n",
       "      <td> 21</td>\n",
       "      <td> 100</td>\n",
       "    </tr>\n",
       "    <tr>\n",
       "      <th>Roi43</th>\n",
       "      <td> 22</td>\n",
       "      <td> 0.751660</td>\n",
       "      <td> 0.333884</td>\n",
       "      <td> 22</td>\n",
       "      <td> 100</td>\n",
       "    </tr>\n",
       "  </tbody>\n",
       "</table>\n",
       "</div>"
      ],
      "text/plain": [
       "       Number of Neighbors  Mean Correlation  Std Correlation  \\\n",
       "Roi17                   13          0.301327         0.516659   \n",
       "Roi18                   17          0.254530         0.444006   \n",
       "Roi22                   22          0.743534         0.339476   \n",
       "Roi34                   21          0.195455         0.364404   \n",
       "Roi43                   22          0.751660         0.333884   \n",
       "\n",
       "       Number of Neighbors that are Friends  \\\n",
       "Roi17                                    13   \n",
       "Roi18                                    17   \n",
       "Roi22                                    22   \n",
       "Roi34                                    21   \n",
       "Roi43                                    22   \n",
       "\n",
       "       Percentage of Neighbors that are Friends  \n",
       "Roi17                                       100  \n",
       "Roi18                                       100  \n",
       "Roi22                                       100  \n",
       "Roi34                                       100  \n",
       "Roi43                                       100  "
      ]
     },
     "execution_count": 20,
     "metadata": {},
     "output_type": "execute_result"
    }
   ],
   "source": [
    "neighbor_correlation = neighbor_corr(roi_dist, data_corr, neighbor_names, r, d)\n",
    "neighbor_correlation.head()"
   ]
  },
  {
   "cell_type": "markdown",
   "id": "5897a28f",
   "metadata": {},
   "source": [
    "### - Neighbors in terms of Friends Summary"
   ]
  },
  {
   "cell_type": "code",
   "execution_count": 21,
   "id": "55eabd46",
   "metadata": {
    "collapsed": false,
    "jupyter": {
     "outputs_hidden": false
    }
   },
   "outputs": [
    {
     "data": {
      "text/html": [
       "<div style=\"max-height:1000px;max-width:1500px;overflow:auto;\">\n",
       "<table border=\"1\" class=\"dataframe\">\n",
       "  <thead>\n",
       "    <tr style=\"text-align: right;\">\n",
       "      <th></th>\n",
       "      <th>Number of Neighbors</th>\n",
       "      <th>Mean Correlation</th>\n",
       "      <th>Std Correlation</th>\n",
       "      <th>Number of Neighbors that are Friends</th>\n",
       "      <th>Percentage of Neighbors that are Friends</th>\n",
       "    </tr>\n",
       "  </thead>\n",
       "  <tbody>\n",
       "    <tr>\n",
       "      <th>count</th>\n",
       "      <td> 98.000000</td>\n",
       "      <td> 98.000000</td>\n",
       "      <td> 97.000000</td>\n",
       "      <td> 98.000000</td>\n",
       "      <td>  98</td>\n",
       "    </tr>\n",
       "    <tr>\n",
       "      <th>mean</th>\n",
       "      <td> 21.224490</td>\n",
       "      <td>  0.336288</td>\n",
       "      <td>  0.405078</td>\n",
       "      <td> 21.224490</td>\n",
       "      <td> 100</td>\n",
       "    </tr>\n",
       "    <tr>\n",
       "      <th>std</th>\n",
       "      <td>  7.248933</td>\n",
       "      <td>  0.194531</td>\n",
       "      <td>  0.087254</td>\n",
       "      <td>  7.248933</td>\n",
       "      <td>   0</td>\n",
       "    </tr>\n",
       "    <tr>\n",
       "      <th>min</th>\n",
       "      <td>  1.000000</td>\n",
       "      <td> -0.122374</td>\n",
       "      <td>  0.163855</td>\n",
       "      <td>  1.000000</td>\n",
       "      <td> 100</td>\n",
       "    </tr>\n",
       "    <tr>\n",
       "      <th>25%</th>\n",
       "      <td> 17.000000</td>\n",
       "      <td>  0.217800</td>\n",
       "      <td>  0.352300</td>\n",
       "      <td> 17.000000</td>\n",
       "      <td> 100</td>\n",
       "    </tr>\n",
       "    <tr>\n",
       "      <th>50%</th>\n",
       "      <td> 22.000000</td>\n",
       "      <td>  0.299228</td>\n",
       "      <td>  0.397314</td>\n",
       "      <td> 22.000000</td>\n",
       "      <td> 100</td>\n",
       "    </tr>\n",
       "    <tr>\n",
       "      <th>75%</th>\n",
       "      <td> 26.000000</td>\n",
       "      <td>  0.408480</td>\n",
       "      <td>  0.470517</td>\n",
       "      <td> 26.000000</td>\n",
       "      <td> 100</td>\n",
       "    </tr>\n",
       "    <tr>\n",
       "      <th>max</th>\n",
       "      <td> 34.000000</td>\n",
       "      <td>  1.000000</td>\n",
       "      <td>  0.562863</td>\n",
       "      <td> 34.000000</td>\n",
       "      <td> 100</td>\n",
       "    </tr>\n",
       "  </tbody>\n",
       "</table>\n",
       "</div>"
      ],
      "text/plain": [
       "       Number of Neighbors  Mean Correlation  Std Correlation  \\\n",
       "count            98.000000         98.000000        97.000000   \n",
       "mean             21.224490          0.336288         0.405078   \n",
       "std               7.248933          0.194531         0.087254   \n",
       "min               1.000000         -0.122374         0.163855   \n",
       "25%              17.000000          0.217800         0.352300   \n",
       "50%              22.000000          0.299228         0.397314   \n",
       "75%              26.000000          0.408480         0.470517   \n",
       "max              34.000000          1.000000         0.562863   \n",
       "\n",
       "       Number of Neighbors that are Friends  \\\n",
       "count                             98.000000   \n",
       "mean                              21.224490   \n",
       "std                                7.248933   \n",
       "min                                1.000000   \n",
       "25%                               17.000000   \n",
       "50%                               22.000000   \n",
       "75%                               26.000000   \n",
       "max                               34.000000   \n",
       "\n",
       "       Percentage of Neighbors that are Friends  \n",
       "count                                        98  \n",
       "mean                                        100  \n",
       "std                                           0  \n",
       "min                                         100  \n",
       "25%                                         100  \n",
       "50%                                         100  \n",
       "75%                                         100  \n",
       "max                                         100  "
      ]
     },
     "execution_count": 21,
     "metadata": {},
     "output_type": "execute_result"
    }
   ],
   "source": [
    "neighbor_corr_sum = neighbor_correlation.describe()\n",
    "neighbor_corr_sum"
   ]
  },
  {
   "cell_type": "markdown",
   "id": "017f9b18",
   "metadata": {},
   "source": [
    "#### Like what you see? save the neighbor correlation file with the below code"
   ]
  },
  {
   "cell_type": "code",
   "execution_count": 22,
   "id": "958f601a",
   "metadata": {
    "collapsed": false,
    "jupyter": {
     "outputs_hidden": false
    }
   },
   "outputs": [],
   "source": [
    "neighbor_correlation.to_csv(r'%s/neighbor_correlation.csv' %(folder))\n",
    "neighbor_corr_sum.to_csv(r'%s/neighbor_correlation_summary.csv' %(folder))"
   ]
  },
  {
   "cell_type": "markdown",
   "id": "9f611561",
   "metadata": {},
   "source": [
    "# III. Resulting Plots"
   ]
  },
  {
   "cell_type": "markdown",
   "id": "16157e8d",
   "metadata": {},
   "source": [
    "## A. 2d Plots"
   ]
  },
  {
   "cell_type": "markdown",
   "id": "bca05810",
   "metadata": {},
   "source": [
    "### - All Roi overlay with name calling"
   ]
  },
  {
   "cell_type": "markdown",
   "id": "e87bb9d9",
   "metadata": {},
   "source": [
    "For some reason, you have to click on the first cell twice. but be assured, it is working. set the object size with s. default is s = 6\n",
    "\n",
    "Save this plot from the pop up graph window."
   ]
  },
  {
   "cell_type": "code",
   "execution_count": 28,
   "id": "0af9931a",
   "metadata": {
    "collapsed": false,
    "jupyter": {
     "outputs_hidden": false
    }
   },
   "outputs": [
    {
     "ename": "NameError",
     "evalue": "name 'roi_loc' is not defined",
     "output_type": "error",
     "traceback": [
      "\u001b[1;31m---------------------------------------------------------------------------\u001b[0m\n\u001b[1;31mNameError\u001b[0m                                 Traceback (most recent call last)",
      "\u001b[1;32m<ipython-input-28-1faa43d5ce57>\u001b[0m in \u001b[0;36m<module>\u001b[1;34m()\u001b[0m\n\u001b[1;32m----> 1\u001b[1;33m \u001b[0mall_roi_2d\u001b[0m\u001b[1;33m(\u001b[0m\u001b[0mroi_loc\u001b[0m \u001b[1;33m,\u001b[0m \u001b[0mim\u001b[0m \u001b[1;33m,\u001b[0m \u001b[0ms\u001b[0m\u001b[1;33m=\u001b[0m\u001b[1;36m100\u001b[0m\u001b[1;33m)\u001b[0m\u001b[1;33m\u001b[0m\u001b[0m\n\u001b[0m",
      "\u001b[1;31mNameError\u001b[0m: name 'roi_loc' is not defined"
     ]
    }
   ],
   "source": [
    "all_roi_2d(roi_loc , im , s=100)"
   ]
  },
  {
   "cell_type": "markdown",
   "id": "7802d4ed",
   "metadata": {},
   "source": [
    "### - Select Roi and Friends plot"
   ]
  },
  {
   "cell_type": "markdown",
   "id": "df06d377",
   "metadata": {},
   "source": [
    "Call a 2d plot with each roi on it. Choose an roi by name (ex: 'Roi35') to see it's relationship to all other rois. The named roi will be in white. All other roi's will be colored by its r value. \n",
    "\n",
    "when just_friends = True, only friends who meet the r threshold will be shown and all others will be gray. when just_friends = False, all rois will be colored based on r value.\n",
    "\n",
    "Save this plot from the pop up graph window."
   ]
  },
  {
   "cell_type": "code",
   "execution_count": 29,
   "id": "8f5b41bc",
   "metadata": {
    "collapsed": false,
    "jupyter": {
     "outputs_hidden": false
    }
   },
   "outputs": [
    {
     "ename": "NameError",
     "evalue": "name 'data_corr' is not defined",
     "output_type": "error",
     "traceback": [
      "\u001b[1;31m---------------------------------------------------------------------------\u001b[0m\n\u001b[1;31mNameError\u001b[0m                                 Traceback (most recent call last)",
      "\u001b[1;32m<ipython-input-29-34b0a1cfb7bc>\u001b[0m in \u001b[0;36m<module>\u001b[1;34m()\u001b[0m\n\u001b[1;32m----> 1\u001b[1;33m \u001b[0mfriend_roi_2d\u001b[0m\u001b[1;33m(\u001b[0m\u001b[0mdata_corr\u001b[0m \u001b[1;33m,\u001b[0m \u001b[0mfriend_names\u001b[0m\u001b[1;33m,\u001b[0m \u001b[0mroi_loc\u001b[0m\u001b[1;33m,\u001b[0m \u001b[0mr\u001b[0m\u001b[1;33m,\u001b[0m \u001b[0md\u001b[0m\u001b[1;33m,\u001b[0m \u001b[0mroi\u001b[0m \u001b[1;33m=\u001b[0m \u001b[1;34m'Roi110'\u001b[0m\u001b[1;33m,\u001b[0m \u001b[0mjust_friends\u001b[0m \u001b[1;33m=\u001b[0m \u001b[0mTrue\u001b[0m\u001b[1;33m,\u001b[0m \u001b[0ms\u001b[0m \u001b[1;33m=\u001b[0m \u001b[1;36m100\u001b[0m\u001b[1;33m)\u001b[0m\u001b[1;33m\u001b[0m\u001b[0m\n\u001b[0m",
      "\u001b[1;31mNameError\u001b[0m: name 'data_corr' is not defined"
     ]
    }
   ],
   "source": [
    "friend_roi_2d(data_corr , friend_names, roi_loc, r, d, roi = 'Roi110', just_friends = True, s = 100)"
   ]
  },
  {
   "cell_type": "markdown",
   "id": "7dbf3183",
   "metadata": {},
   "source": [
    "## B. Line Plots"
   ]
  },
  {
   "cell_type": "markdown",
   "id": "72a0bc9b",
   "metadata": {},
   "source": [
    "All line plots are scaled the same: 0 to the maximum value in the entire dataframe."
   ]
  },
  {
   "cell_type": "markdown",
   "id": "eca5050a",
   "metadata": {},
   "source": [
    "### - Line Plots for all ROIs"
   ]
  },
  {
   "cell_type": "markdown",
   "id": "3253423e",
   "metadata": {},
   "source": [
    "Use all_roi_line_pdfs to plot each ROI as its own pdf. Each plot is randomly assigned a color. You cannot disable this feature.\n",
    "\n",
    "you can easily consolidate all of these into a single pdf using adobe or another preview program."
   ]
  },
  {
   "cell_type": "code",
   "execution_count": 30,
   "id": "f548fb2b",
   "metadata": {
    "collapsed": false,
    "jupyter": {
     "outputs_hidden": false
    }
   },
   "outputs": [
    {
     "ename": "NameError",
     "evalue": "name 'data' is not defined",
     "output_type": "error",
     "traceback": [
      "\u001b[1;31m---------------------------------------------------------------------------\u001b[0m\n\u001b[1;31mNameError\u001b[0m                                 Traceback (most recent call last)",
      "\u001b[1;32m<ipython-input-30-72f129ab8b64>\u001b[0m in \u001b[0;36m<module>\u001b[1;34m()\u001b[0m\n\u001b[1;32m----> 1\u001b[1;33m \u001b[0mall_roi_line_pdfs\u001b[0m\u001b[1;33m(\u001b[0m\u001b[0mdata\u001b[0m\u001b[1;33m,\u001b[0m \u001b[0mnum_rois\u001b[0m \u001b[1;33m=\u001b[0m \u001b[0mlen\u001b[0m\u001b[1;33m(\u001b[0m\u001b[0mdata\u001b[0m\u001b[1;33m.\u001b[0m\u001b[0mcolumns\u001b[0m\u001b[1;33m)\u001b[0m\u001b[1;33m,\u001b[0m \u001b[0mymin\u001b[0m \u001b[1;33m=\u001b[0m \u001b[1;36m0\u001b[0m\u001b[1;33m,\u001b[0m \u001b[0mymax\u001b[0m\u001b[1;33m=\u001b[0m\u001b[0mmax\u001b[0m\u001b[1;33m(\u001b[0m\u001b[0mdata\u001b[0m\u001b[1;33m.\u001b[0m\u001b[0mmax\u001b[0m\u001b[1;33m(\u001b[0m\u001b[1;33m)\u001b[0m\u001b[1;33m)\u001b[0m\u001b[1;33m,\u001b[0m \u001b[0mevents_x\u001b[0m \u001b[1;33m=\u001b[0m \u001b[0mevents_x\u001b[0m\u001b[1;33m,\u001b[0m \u001b[0mevents_y\u001b[0m \u001b[1;33m=\u001b[0m \u001b[0mevents_y\u001b[0m\u001b[1;33m,\u001b[0m \u001b[0mfolder\u001b[0m \u001b[1;33m=\u001b[0m \u001b[0mfolder\u001b[0m\u001b[1;33m)\u001b[0m\u001b[1;33m\u001b[0m\u001b[0m\n\u001b[0m",
      "\u001b[1;31mNameError\u001b[0m: name 'data' is not defined"
     ]
    }
   ],
   "source": [
    "all_roi_line_pdfs(data, num_rois = len(data.columns), ymin = 0, ymax=max(data.max()), events_x = events_x, events_y = events_y, folder = folder)"
   ]
  },
  {
   "cell_type": "markdown",
   "id": "fccbdd74",
   "metadata": {},
   "source": [
    "### - Line Plot for only one ROI"
   ]
  },
  {
   "cell_type": "markdown",
   "id": "f0ca25e9",
   "metadata": {},
   "source": [
    "Use roi_line_plot to call an ROI and get its plot. It includes the overlay of the LCPro events"
   ]
  },
  {
   "cell_type": "code",
   "execution_count": 31,
   "id": "37d4aa47",
   "metadata": {
    "collapsed": false,
    "jupyter": {
     "outputs_hidden": false
    }
   },
   "outputs": [
    {
     "ename": "NameError",
     "evalue": "name 'data' is not defined",
     "output_type": "error",
     "traceback": [
      "\u001b[1;31m---------------------------------------------------------------------------\u001b[0m\n\u001b[1;31mNameError\u001b[0m                                 Traceback (most recent call last)",
      "\u001b[1;32m<ipython-input-31-5e473b6fc5a9>\u001b[0m in \u001b[0;36m<module>\u001b[1;34m()\u001b[0m\n\u001b[1;32m----> 1\u001b[1;33m \u001b[0mroi_line_plot\u001b[0m\u001b[1;33m(\u001b[0m\u001b[0mroi\u001b[0m \u001b[1;33m=\u001b[0m \u001b[1;34m'Roi89'\u001b[0m\u001b[1;33m,\u001b[0m \u001b[0mdataframe\u001b[0m \u001b[1;33m=\u001b[0m \u001b[0mdata\u001b[0m\u001b[1;33m,\u001b[0m \u001b[0mevents_x\u001b[0m \u001b[1;33m=\u001b[0m \u001b[0mevents_x\u001b[0m\u001b[1;33m,\u001b[0m \u001b[0mevents_y\u001b[0m\u001b[1;33m=\u001b[0m\u001b[0mevents_y\u001b[0m\u001b[1;33m,\u001b[0m \u001b[0mymin\u001b[0m \u001b[1;33m=\u001b[0m \u001b[1;36m0\u001b[0m\u001b[1;33m,\u001b[0m \u001b[0mymax\u001b[0m\u001b[1;33m=\u001b[0m\u001b[0mmax\u001b[0m\u001b[1;33m(\u001b[0m\u001b[0mdata\u001b[0m\u001b[1;33m.\u001b[0m\u001b[0mmax\u001b[0m\u001b[1;33m(\u001b[0m\u001b[1;33m)\u001b[0m\u001b[1;33m)\u001b[0m\u001b[1;33m)\u001b[0m\u001b[1;33m\u001b[0m\u001b[0m\n\u001b[0m",
      "\u001b[1;31mNameError\u001b[0m: name 'data' is not defined"
     ]
    }
   ],
   "source": [
    "roi_line_plot(roi = 'Roi89', dataframe = data, events_x = events_x, events_y=events_y, ymin = 0, ymax=max(data.max()))"
   ]
  },
  {
   "cell_type": "markdown",
   "id": "78867db6",
   "metadata": {},
   "source": [
    "### - Stacked line plot of an ROI and its friends"
   ]
  },
  {
   "cell_type": "markdown",
   "id": "df851aa9",
   "metadata": {},
   "source": [
    "Call an roi by name (ex: 'Roi35') to get a line plot of it and its friends. Save this plot from the pop up graph window."
   ]
  },
  {
   "cell_type": "code",
   "execution_count": 32,
   "id": "5a038d0c",
   "metadata": {
    "collapsed": false,
    "jupyter": {
     "outputs_hidden": false
    }
   },
   "outputs": [
    {
     "ename": "NameError",
     "evalue": "name 'data' is not defined",
     "output_type": "error",
     "traceback": [
      "\u001b[1;31m---------------------------------------------------------------------------\u001b[0m\n\u001b[1;31mNameError\u001b[0m                                 Traceback (most recent call last)",
      "\u001b[1;32m<ipython-input-32-5109650e63b0>\u001b[0m in \u001b[0;36m<module>\u001b[1;34m()\u001b[0m\n\u001b[1;32m----> 1\u001b[1;33m \u001b[0mfriend_roi_line\u001b[0m\u001b[1;33m(\u001b[0m\u001b[0mdata\u001b[0m\u001b[1;33m,\u001b[0m \u001b[0mfriend_names\u001b[0m\u001b[1;33m,\u001b[0m \u001b[0mroi\u001b[0m \u001b[1;33m=\u001b[0m \u001b[1;34m'Roi68'\u001b[0m\u001b[1;33m)\u001b[0m\u001b[1;33m\u001b[0m\u001b[0m\n\u001b[0m",
      "\u001b[1;31mNameError\u001b[0m: name 'data' is not defined"
     ]
    }
   ],
   "source": [
    "friend_roi_line(data, friend_names, roi = 'Roi68')"
   ]
  },
  {
   "cell_type": "markdown",
   "id": "b8e9a4ff",
   "metadata": {},
   "source": [
    "### - Average line plot of an ROI and its friends"
   ]
  },
  {
   "cell_type": "markdown",
   "id": "c5d43778",
   "metadata": {},
   "source": [
    "Call an roi by name (ex: 'Roi35') to get a line plot of the average of it and its friends. the average standard error for each point is printed below once the plot is closed. Save this plot from the pop up graph window."
   ]
  },
  {
   "cell_type": "code",
   "execution_count": 33,
   "id": "b0915b4e",
   "metadata": {
    "collapsed": false,
    "jupyter": {
     "outputs_hidden": false
    }
   },
   "outputs": [
    {
     "ename": "NameError",
     "evalue": "name 'data' is not defined",
     "output_type": "error",
     "traceback": [
      "\u001b[1;31m---------------------------------------------------------------------------\u001b[0m\n\u001b[1;31mNameError\u001b[0m                                 Traceback (most recent call last)",
      "\u001b[1;32m<ipython-input-33-08ad5e0b89a5>\u001b[0m in \u001b[0;36m<module>\u001b[1;34m()\u001b[0m\n\u001b[1;32m----> 1\u001b[1;33m \u001b[0mfriend_roi_line_average\u001b[0m\u001b[1;33m(\u001b[0m\u001b[0mdata\u001b[0m\u001b[1;33m,\u001b[0m \u001b[0mfriend_names\u001b[0m\u001b[1;33m,\u001b[0m \u001b[0mroi\u001b[0m \u001b[1;33m=\u001b[0m \u001b[1;34m'Roi215'\u001b[0m\u001b[1;33m)\u001b[0m\u001b[1;33m\u001b[0m\u001b[0m\n\u001b[0m",
      "\u001b[1;31mNameError\u001b[0m: name 'data' is not defined"
     ]
    }
   ],
   "source": [
    "friend_roi_line_average(data, friend_names, roi = 'Roi215')"
   ]
  },
  {
   "cell_type": "markdown",
   "id": "b692bc07",
   "metadata": {},
   "source": [
    "### - Autocorrelation Plot"
   ]
  },
  {
   "cell_type": "code",
   "execution_count": 34,
   "id": "f7a99417",
   "metadata": {
    "collapsed": false,
    "jupyter": {
     "outputs_hidden": false
    }
   },
   "outputs": [
    {
     "ename": "NameError",
     "evalue": "name 'data' is not defined",
     "output_type": "error",
     "traceback": [
      "\u001b[1;31m---------------------------------------------------------------------------\u001b[0m\n\u001b[1;31mNameError\u001b[0m                                 Traceback (most recent call last)",
      "\u001b[1;32m<ipython-input-34-6cf16339cd40>\u001b[0m in \u001b[0;36m<module>\u001b[1;34m()\u001b[0m\n\u001b[0;32m      1\u001b[0m \u001b[0mroi\u001b[0m \u001b[1;33m=\u001b[0m \u001b[1;34m'Roi68'\u001b[0m\u001b[1;33m\u001b[0m\u001b[0m\n\u001b[0;32m      2\u001b[0m \u001b[1;33m\u001b[0m\u001b[0m\n\u001b[1;32m----> 3\u001b[1;33m \u001b[0mautocorrelation_plot\u001b[0m\u001b[1;33m(\u001b[0m\u001b[0mdata\u001b[0m\u001b[1;33m[\u001b[0m\u001b[0mroi\u001b[0m\u001b[1;33m]\u001b[0m\u001b[1;33m)\u001b[0m\u001b[1;33m\u001b[0m\u001b[0m\n\u001b[0m\u001b[0;32m      4\u001b[0m \u001b[0mplt\u001b[0m\u001b[1;33m.\u001b[0m\u001b[0mtitle\u001b[0m\u001b[1;33m(\u001b[0m\u001b[0mroi\u001b[0m\u001b[1;33m)\u001b[0m\u001b[1;33m\u001b[0m\u001b[0m\n\u001b[0;32m      5\u001b[0m \u001b[0mplt\u001b[0m\u001b[1;33m.\u001b[0m\u001b[0mshow\u001b[0m\u001b[1;33m(\u001b[0m\u001b[1;33m)\u001b[0m\u001b[1;33m\u001b[0m\u001b[0m\n",
      "\u001b[1;31mNameError\u001b[0m: name 'data' is not defined"
     ]
    }
   ],
   "source": [
    "roi = 'Roi68'\n",
    "\n",
    "autocorrelation_plot(data[roi])\n",
    "plt.title(roi)\n",
    "plt.show()"
   ]
  },
  {
   "cell_type": "markdown",
   "id": "3e8dc62f",
   "metadata": {},
   "source": [
    "## C. Box and Whister Plots"
   ]
  },
  {
   "cell_type": "markdown",
   "id": "aa85b3df",
   "metadata": {},
   "source": [
    "Call an ROI and see the distribution of either its friends' correlations or neighbors' distances.\n",
    "\n",
    "Choose which metrc to use by changing flavor to either 'dist' or 'corr'"
   ]
  },
  {
   "cell_type": "code",
   "execution_count": 35,
   "id": "e798ec2b",
   "metadata": {
    "collapsed": false,
    "jupyter": {
     "outputs_hidden": false
    }
   },
   "outputs": [
    {
     "ename": "NameError",
     "evalue": "name 'data_corr' is not defined",
     "output_type": "error",
     "traceback": [
      "\u001b[1;31m---------------------------------------------------------------------------\u001b[0m\n\u001b[1;31mNameError\u001b[0m                                 Traceback (most recent call last)",
      "\u001b[1;32m<ipython-input-35-0308cedbf540>\u001b[0m in \u001b[0;36m<module>\u001b[1;34m()\u001b[0m\n\u001b[1;32m----> 1\u001b[1;33m \u001b[0mboxandwhiskers\u001b[0m\u001b[1;33m(\u001b[0m\u001b[0mroi\u001b[0m \u001b[1;33m=\u001b[0m \u001b[1;34m'Roi98'\u001b[0m\u001b[1;33m,\u001b[0m \u001b[0mflavor\u001b[0m \u001b[1;33m=\u001b[0m \u001b[1;34m'corr'\u001b[0m\u001b[1;33m,\u001b[0m \u001b[0mdata_corr\u001b[0m \u001b[1;33m=\u001b[0m \u001b[0mdata_corr\u001b[0m\u001b[1;33m,\u001b[0m \u001b[0mroi_dist\u001b[0m \u001b[1;33m=\u001b[0m \u001b[0mroi_dist\u001b[0m\u001b[1;33m,\u001b[0m \u001b[0mr\u001b[0m \u001b[1;33m=\u001b[0m \u001b[0mr\u001b[0m\u001b[1;33m,\u001b[0m \u001b[0md\u001b[0m \u001b[1;33m=\u001b[0m \u001b[0md\u001b[0m\u001b[1;33m)\u001b[0m\u001b[1;33m\u001b[0m\u001b[0m\n\u001b[0m",
      "\u001b[1;31mNameError\u001b[0m: name 'data_corr' is not defined"
     ]
    }
   ],
   "source": [
    "boxandwhiskers(roi = 'Roi98', flavor = 'corr', data_corr = data_corr, roi_dist = roi_dist, r = r, d = d)"
   ]
  },
  {
   "cell_type": "markdown",
   "id": "dab2f353",
   "metadata": {},
   "source": [
    "# End"
   ]
  },
  {
   "cell_type": "markdown",
   "id": "2270b1f1",
   "metadata": {},
   "source": [
    "# ............................................................................................................................................"
   ]
  },
  {
   "cell_type": "markdown",
   "id": "480bb6f5",
   "metadata": {},
   "source": [
    "## [ Run the next cells of code if you want to randomize the dataset ]"
   ]
  },
  {
   "cell_type": "code",
   "execution_count": 36,
   "id": "70f041ab",
   "metadata": {
    "collapsed": false,
    "jupyter": {
     "outputs_hidden": false
    }
   },
   "outputs": [
    {
     "ename": "NameError",
     "evalue": "name 'data' is not defined",
     "output_type": "error",
     "traceback": [
      "\u001b[1;31m---------------------------------------------------------------------------\u001b[0m\n\u001b[1;31mNameError\u001b[0m                                 Traceback (most recent call last)",
      "\u001b[1;32m<ipython-input-36-023be6e0a23e>\u001b[0m in \u001b[0;36m<module>\u001b[1;34m()\u001b[0m\n\u001b[0;32m      5\u001b[0m     \u001b[1;32mreturn\u001b[0m \u001b[0mx\u001b[0m\u001b[1;33m\u001b[0m\u001b[0m\n\u001b[0;32m      6\u001b[0m \u001b[1;33m\u001b[0m\u001b[0m\n\u001b[1;32m----> 7\u001b[1;33m \u001b[1;32mfor\u001b[0m \u001b[0mlabel\u001b[0m\u001b[1;33m,\u001b[0m \u001b[0mcolumn\u001b[0m \u001b[1;32min\u001b[0m \u001b[0mdata\u001b[0m\u001b[1;33m.\u001b[0m\u001b[0miteritems\u001b[0m\u001b[1;33m(\u001b[0m\u001b[1;33m)\u001b[0m\u001b[1;33m:\u001b[0m\u001b[1;33m\u001b[0m\u001b[0m\n\u001b[0m\u001b[0;32m      8\u001b[0m     \u001b[0mtempcol\u001b[0m \u001b[1;33m=\u001b[0m \u001b[0mdata\u001b[0m\u001b[1;33m[\u001b[0m\u001b[0mlabel\u001b[0m\u001b[1;33m]\u001b[0m\u001b[1;33m.\u001b[0m\u001b[0mtolist\u001b[0m\u001b[1;33m(\u001b[0m\u001b[1;33m)\u001b[0m\u001b[1;33m\u001b[0m\u001b[0m\n\u001b[0;32m      9\u001b[0m     \u001b[0mrandcol\u001b[0m \u001b[1;33m=\u001b[0m \u001b[0mshuffle\u001b[0m\u001b[1;33m(\u001b[0m\u001b[0mtempcol\u001b[0m\u001b[1;33m)\u001b[0m  \u001b[1;31m#shuffle the list of values in the column\u001b[0m\u001b[1;33m\u001b[0m\u001b[0m\n",
      "\u001b[1;31mNameError\u001b[0m: name 'data' is not defined"
     ]
    }
   ],
   "source": [
    "import random\n",
    "\n",
    "def shuffle(x):\n",
    "    random.shuffle(x)\n",
    "    return x\n",
    "\n",
    "for label, column in data.iteritems():\n",
    "    tempcol = data[label].tolist()\n",
    "    randcol = shuffle(tempcol)  #shuffle the list of values in the column\n",
    "    data[label] = randcol #write over the original list with randomized list"
   ]
  },
  {
   "cell_type": "markdown",
   "id": "b94a56af",
   "metadata": {},
   "source": [
    "### Check that the dataset set is indeed randomized! Compare this table to the table under the header \"(b) Load\""
   ]
  },
  {
   "cell_type": "code",
   "execution_count": 37,
   "id": "c19d8970",
   "metadata": {
    "collapsed": false,
    "jupyter": {
     "outputs_hidden": false
    }
   },
   "outputs": [
    {
     "ename": "NameError",
     "evalue": "name 'data' is not defined",
     "output_type": "error",
     "traceback": [
      "\u001b[1;31m---------------------------------------------------------------------------\u001b[0m\n\u001b[1;31mNameError\u001b[0m                                 Traceback (most recent call last)",
      "\u001b[1;32m<ipython-input-37-199065406915>\u001b[0m in \u001b[0;36m<module>\u001b[1;34m()\u001b[0m\n\u001b[1;32m----> 1\u001b[1;33m \u001b[0mdata\u001b[0m\u001b[1;33m.\u001b[0m\u001b[0mhead\u001b[0m\u001b[1;33m(\u001b[0m\u001b[1;33m)\u001b[0m\u001b[1;33m\u001b[0m\u001b[0m\n\u001b[0m",
      "\u001b[1;31mNameError\u001b[0m: name 'data' is not defined"
     ]
    }
   ],
   "source": [
    "data.head()"
   ]
  },
  {
   "cell_type": "markdown",
   "id": "deacd2a5",
   "metadata": {},
   "source": [
    "### Now, go to analysis and it will run the program with the randomized data. (SKIP I. User Input) "
   ]
  },
  {
   "cell_type": "markdown",
   "id": "31bf4fb1",
   "metadata": {},
   "source": [
    "# ............................................................................................................................................"
   ]
  },
  {
   "cell_type": "code",
   "execution_count": 37,
   "id": "81ab83be",
   "metadata": {
    "collapsed": false,
    "jupyter": {
     "outputs_hidden": false
    }
   },
   "outputs": [],
   "source": []
  },
  {
   "cell_type": "code",
   "execution_count": null,
   "id": "d4b23b78",
   "metadata": {
    "collapsed": false,
    "jupyter": {
     "outputs_hidden": false
    }
   },
   "outputs": [],
   "source": []
  }
 ],
 "metadata": {
  "celltoolbar": "Edit Metadata",
  "kernelspec": {
   "display_name": "myenv2.7",
   "language": "python",
   "name": "myenv2.7"
  },
  "language_info": {
   "codemirror_mode": {
    "name": "ipython",
    "version": 2
   },
   "file_extension": ".py",
   "mimetype": "text/x-python",
   "name": "python",
   "nbconvert_exporter": "python",
   "pygments_lexer": "ipython2",
   "version": "2.7.18"
  }
 },
 "nbformat": 4,
 "nbformat_minor": 5
}
